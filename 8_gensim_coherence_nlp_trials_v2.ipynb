{
 "cells": [
  {
   "cell_type": "markdown",
   "metadata": {},
   "source": [
    "<a id=\"nlp-trials-using-gensim-for-selecting-number-of-topics\"></a>\n",
    "\n",
    "# [NLP Trials using Gensim for selecting number of topics](#nlp-trials-using-gensim-for-selecting-number-of-topics)"
   ]
  },
  {
   "cell_type": "code",
   "execution_count": null,
   "metadata": {},
   "outputs": [],
   "source": [
    "%load_ext lab_black\n",
    "%load_ext autoreload\n",
    "%autoreload 2"
   ]
  },
  {
   "cell_type": "code",
   "execution_count": null,
   "metadata": {},
   "outputs": [],
   "source": [
    "!python -m spacy download en_core_web_md"
   ]
  },
  {
   "cell_type": "code",
   "execution_count": null,
   "metadata": {},
   "outputs": [],
   "source": [
    "import os\n",
    "from azure.storage.blob import BlobServiceClient\n",
    "from glob import glob\n",
    "from io import StringIO\n",
    "from operator import itemgetter\n",
    "\n",
    "import altair as alt\n",
    "import matplotlib.ticker as mtick\n",
    "import numpy as np\n",
    "import pandas as pd\n",
    "import spacy\n",
    "from gensim.corpora.dictionary import Dictionary\n",
    "from joblib import dump, load\n",
    "from scipy import stats\n",
    "from sklearn.decomposition import NMF\n",
    "from sklearn.feature_extraction.text import TfidfVectorizer\n",
    "from sklearn.metrics.pairwise import cosine_similarity\n",
    "from sklearn.pipeline import Pipeline\n",
    "import matplotlib.pyplot as plt\n",
    "import seaborn as sns"
   ]
  },
  {
   "cell_type": "code",
   "execution_count": null,
   "metadata": {},
   "outputs": [],
   "source": [
    "%aimport src.data_helpers\n",
    "from src.data_helpers import load_data\n",
    "\n",
    "%aimport src.extraction_helpers\n",
    "from src.extraction_helpers import get_top_n_most_freq_words\n",
    "\n",
    "%aimport src.hybrid_helpers\n",
    "from src.hybrid_helpers import get_nmf_coherence_scores\n",
    "\n",
    "%aimport src.processing_helpers\n",
    "from src.processing_helpers import (\n",
    "    do_tokenize,\n",
    "    expand_contractions,\n",
    "    expand_match,\n",
    "    process_text,\n",
    ")\n",
    "\n",
    "%aimport src.visualization_helpers\n",
    "from src.visualization_helpers import (\n",
    "    altair_boxplot_sorted,\n",
    "    altair_datetime_heatmap,\n",
    "    altair_plot_bar_chart_value_counts,\n",
    "    altair_plot_grid_by_column,\n",
    "    altair_plot_horiz_bar_chart,\n",
    "    altair_plot_line_chart,\n",
    "    altair_plot_histogram_grid_by_column,\n",
    "    altair_plot_triangular_heatmap,\n",
    "    boxplot_sorted,\n",
    ")"
   ]
  },
  {
   "cell_type": "markdown",
   "metadata": {},
   "source": [
    "<a id=\"toc\"></a>\n",
    "\n",
    "## [Table of Contents](#table-of-contents)\n",
    "0. [About](#about)\n",
    "1. [User Inputs](#user-inputs)\n",
    "2. [Load Data, Concatenate and Filter](#load-data-concatenate-and-filter)\n",
    "3. 3. [Topic modeling using Gensim NMF with Topic coherence to find best number of topics](#topic-modeling-using-gensim-nmf-with-topic-coherence-to-find-best-number-of-topics)\n",
    "   - 3.1. [Pre-Processing for Gensim NMF, Tokenization, Stemming, etc.](#pre-processing-for-gensim-nmf,-tokenization,-stemming-etc.)\n",
    "   - 3.2. [Use Gensim to perform Bag-of-Words transformation](#use-gensim-to-perform-bag-of-words-transformation)\n",
    "   - 3.3. [Use Gensim NMF and Topic coherence to find number of topics](#use-gensim-nmf-and-topic-coherence-to-find-number-of-topics)\n",
    "4. [Topic modeling using TFIDF vectorization and NMF](#topic-modeling-using-tfidf-vectorization-and-nmf)\n",
    "   - 4.1. [Pre-processing for NMF](#pre-processing-for-nmf)\n",
    "   - 4.2. [NMF](#nmf)\n",
    "   - 4.3. [Merging with the original data](#merging-with-the-source-data)\n",
    "   - 4.4. [Coherence Residual by Topic](#coherence-residual-by-topic)\n",
    "   - 4.5. [Assign Names to 15 Topics](#assign-names-to-15-topics)\n",
    "   - 4.6. [Comparison to Word Vectors](#comparison-to-word-vectors)\n",
    "5. [Exploring topics combined with source data and 15 topics](#exploring-topics-combined-with-source-data-and-15-topics)\n",
    "6. [Exploring articles with 35 topics](#exploring-articles-with-35-topics)\n",
    "   - 6.1. [Coherence Residual by Topic](#coherence-residual-by-topic)\n",
    "   - 6.2. [Assign Names to 35 Topics](#assign-names-to-35-topics)\n",
    "7. [Exploring topics combined with source data and 35 topics](#exploring-topics-combined-with-source-data-and-35-topics) \n",
    "   - 7.1. [Years Featured](#years-featured)\n",
    "   - 7.2. [Most Popular Topic by Year](#most-popular-topic-by-year)\n",
    "   - 7.3. [All Topics by Year](#all-topics-by-year)\n",
    "   - 7.4. [Examining Infrequently Occurring Topics](#examining-infrequently-occurring-topics)\n",
    "   - 7.5. [Terms by Topic](#terms-by-topic)\n",
    "     - 7.5.1. [Philae](#philae)\n",
    "     - 7.5.2. [SpaceX](#spacex)\n",
    "     - 7.5.3. [Discovery of Gravitational Waves](#discovery-of-gravitational-waves)\n",
    "     - 7.5.4. [MIR Space Spation Funding](#mir-space-station-funding)\n",
    "     - 7.5.5. [Reporting on Pluto](#reporting-on-pluto)\n",
    "8. [Extracting Topics from Unseen Data](#extracting-topics-from-unseen-data)\n",
    "   - 8.1. [Comparison to Word Vectors for Unseen Data](#comparison-to-word-vectors-for-unseen-data)\n",
    "9. [Conclusion](#conclusion)\n",
    "10. [Looking Forward](#looking-forward)"
   ]
  },
  {
   "cell_type": "markdown",
   "metadata": {},
   "source": [
    "<a id=\"about\"></a>\n",
    "\n",
    "## 0. [About](#about)"
   ]
  },
  {
   "cell_type": "markdown",
   "metadata": {},
   "source": [
    "In this notebook, we will go through a second experiment with [topic coherence](https://en.wikipedia.org/wiki/Coherence_(linguistics)) approaches using Gensim to find an optimal number of topics from the Guardian's Space news listings data in `data/processed/*_processed.csv`. Following previous work ([1](https://github.com/robsalgado/personal_data_science_projects/blob/master/topic_modeling_nmf/topic_modeling_cnn.ipynb)), this will be done using [`sklearn`](https://en.wikipedia.org/wiki/Scikit-learn)'s [`NMF` model](https://en.wikipedia.org/wiki/Non-negative_matrix_factorization#Text_mining) with [TFIDF vectorization](https://en.wikipedia.org/wiki/Tf%E2%80%93idf), after determining the optimal number of topics using [Gensim](https://en.wikipedia.org/wiki/Gensim)'s topic coherence pipeline to evaluate the topics determined by Gensim's `NMF`."
   ]
  },
  {
   "cell_type": "markdown",
   "metadata": {},
   "source": [
    "<a id=\"user-inputs\"></a>\n",
    "\n",
    "## 1. [User Inputs](#user-inputs)"
   ]
  },
  {
   "cell_type": "markdown",
   "metadata": {},
   "source": [
    "We'll define below the variables that are to be used throughout the code."
   ]
  },
  {
   "cell_type": "code",
   "execution_count": null,
   "metadata": {},
   "outputs": [],
   "source": [
    "PROJ_ROOT_DIR = os.getcwd()\n",
    "data_dir = os.path.join(PROJ_ROOT_DIR, \"data\", \"raw\")\n",
    "processed_data_dir = os.path.join(PROJ_ROOT_DIR, \"data\", \"processed\")"
   ]
  },
  {
   "cell_type": "code",
   "execution_count": null,
   "metadata": {},
   "outputs": [],
   "source": [
    "# General inputs\n",
    "cloud_data = True\n",
    "\n",
    "# Topic naming\n",
    "topic_nums = list(range(10, 45 + 5, 5))\n",
    "n_top_words = 10\n",
    "\n",
    "unwanted_guardian_cols = [\n",
    "    \"webTitle\",\n",
    "    \"id\",\n",
    "    \"sectionId\",\n",
    "    \"sectionName\",\n",
    "    \"type\",\n",
    "    \"isHosted\",\n",
    "    \"pillarId\",\n",
    "    \"pillarName\",\n",
    "    \"page\",\n",
    "    \"document_type\",\n",
    "    \"apiUrl\",\n",
    "    \"publication\",\n",
    "    \"year\",\n",
    "    \"month\",\n",
    "    \"day\",\n",
    "    \"dayofweek\",\n",
    "    \"dayofyear\",\n",
    "    \"weekofyear\",\n",
    "    \"quarter\",\n",
    "]\n",
    "\n",
    "# SpaCy preference\n",
    "run_spacy_medium_model = False"
   ]
  },
  {
   "cell_type": "code",
   "execution_count": null,
   "metadata": {},
   "outputs": [],
   "source": [
    "def shaprio_wilk_is_normal(g):\n",
    "    \"\"\"\n",
    "    Use Shapiro Wilk test to check if data is normally distributed\n",
    "    SOURCE\n",
    "    ------\n",
    "    https://docs.scipy.org/doc/scipy/reference/generated/scipy.stats.shapiro\n",
    "    .html\n",
    "    \"\"\"\n",
    "    sw_statistic, p_value = stats.shapiro(g)\n",
    "    if len(g) > 5000:  # W-stat is more accurate for larger sample sizes\n",
    "        if sw_statistic < 0.05:\n",
    "            return False\n",
    "    if p_value < 0.05:\n",
    "        return False\n",
    "    return True\n",
    "\n",
    "\n",
    "def levene_has_equal_variance(g1, g2):\n",
    "    \"\"\"\n",
    "    Use Levene test to Check homnoscedasticity (equal variance)\n",
    "    SOURCE\n",
    "    ------\n",
    "    https://docs.scipy.org/doc/scipy-0.14.0/reference/generated/scipy.stats.\n",
    "    levene.html\n",
    "    \"\"\"\n",
    "    _, p_value = stats.levene(g1, g2)\n",
    "    if p_value < 0.05:\n",
    "        return False\n",
    "    else:\n",
    "        return True\n",
    "\n",
    "\n",
    "def ttest_or_manwhitu(g1, g2):\n",
    "    \"\"\"\n",
    "    Use T-test (if normal and homoskedastic) or Mann Whitney U test to\n",
    "    calculate test statistic between two groups\n",
    "    SOURCES\n",
    "    -------\n",
    "    1. Mann Whitney U test\n",
    "       - https://docs.scipy.org/doc/scipy/reference/generated/scipy.stats.\n",
    "         mannwhitneyu.html\n",
    "    2. T-test (without, by default, and with equal variance)\n",
    "       - use parameter `equal_var` to indicate if variances are equal or not\n",
    "       - https://docs.scipy.org/doc/scipy/reference/generated/scipy.stats.\n",
    "         ttest_ind.html\n",
    "    \"\"\"\n",
    "    if shaprio_wilk_is_normal(g1) and shaprio_wilk_is_normal(g2):\n",
    "        if levene_has_equal_variance(g1, g2):\n",
    "            test_type = \"T-Test\"\n",
    "            return stats.ttest_ind(g1, g2)\n",
    "        else:\n",
    "            test_type = \"T-Test with unequal variance\"\n",
    "            return stats.ttest_ind(g1, g2, equal_var=False)\n",
    "    test_type = \"U-Test\"\n",
    "    print(f\"Performing {test_type} ...\")\n",
    "    return [stats.mannwhitneyu(g1, g2), test_type]"
   ]
  },
  {
   "cell_type": "code",
   "execution_count": null,
   "metadata": {},
   "outputs": [],
   "source": [
    "# General inputs\n",
    "az_storage_container_name = \"myconedesx7\"\n",
    "\n",
    "# Guardian Filenames\n",
    "# # Cloud-based files\n",
    "guardian_inputs = {\n",
    "    \"blobedesz21\": \"urls\",\n",
    "    \"blobedesz19\": \"text1\",\n",
    "    \"blobedesz20\": \"text2\",\n",
    "}"
   ]
  },
  {
   "cell_type": "code",
   "execution_count": null,
   "metadata": {},
   "outputs": [],
   "source": [
    "alt.data_transformers.disable_max_rows()"
   ]
  },
  {
   "cell_type": "markdown",
   "metadata": {},
   "source": [
    "The SpaCy pipeline steps in the pre-trained model downloaded and used here are\n",
    "- part-of-speech tagger\n",
    "- dependency parser\n",
    "- named entity recognizer\n",
    "\n",
    "and will be used when comparing to the word vectors-based approach."
   ]
  },
  {
   "cell_type": "code",
   "execution_count": null,
   "metadata": {},
   "outputs": [],
   "source": [
    "# nlp = spacy.load(\"en_core_web_sm\")  # does not include (multi-dimension.) word vectors (DO NOT USE)\n",
    "nlp = spacy.load(\"en_core_web_md\")\n",
    "print(nlp.pipe_names)"
   ]
  },
  {
   "cell_type": "markdown",
   "metadata": {},
   "source": [
    "The medium sized model is required since `_sm` (small sized models) don't include word vectors (see the [**Important note**](https://spacy.io/usage/vectors-similarity))."
   ]
  },
  {
   "cell_type": "code",
   "execution_count": null,
   "metadata": {},
   "outputs": [],
   "source": [
    "conn_str = (\n",
    "    \"DefaultEndpointsProtocol=https;\"\n",
    "    f\"AccountName={os.getenv('AZURE_STORAGE_ACCOUNT')};\"\n",
    "    f\"AccountKey={os.getenv('AZURE_STORAGE_KEY')};\"\n",
    "    f\"EndpointSuffix={os.getenv('ENDPOINT_SUFFIX')}\"\n",
    ")\n",
    "blob_service_client = BlobServiceClient.from_connection_string(conn_str=conn_str)"
   ]
  },
  {
   "cell_type": "markdown",
   "metadata": {},
   "source": [
    "<a id=\"load-data-concatenate-and-filter\"></a>\n",
    "\n",
    "## 2. [Load Data, Concatenate and Filter](#load-data-concatenate-and-filter)"
   ]
  },
  {
   "cell_type": "markdown",
   "metadata": {},
   "source": [
    "We'll start by loading the data and drop the news articles that are 500 characters or shorter in length"
   ]
  },
  {
   "cell_type": "code",
   "execution_count": null,
   "metadata": {},
   "outputs": [],
   "source": [
    "%%time\n",
    "df_guardian = load_data(\n",
    "    cloud_data,\n",
    "    data_dir,\n",
    "    \"\",\n",
    "    \"\",\n",
    "    guardian_inputs,\n",
    "    blob_service_client,\n",
    "    az_storage_container_name,\n",
    "    unwanted_guardian_cols,\n",
    ")\n",
    "df_guardian[\"year\"] = pd.to_datetime(df_guardian[\"publication_date\"]).dt.year\n",
    "df_guardian[\"article_chars\"] = df_guardian[\"text\"].str.split().str.len()"
   ]
  },
  {
   "cell_type": "markdown",
   "metadata": {},
   "source": [
    "Next, we will show a bar chart of the number of article characters by year"
   ]
  },
  {
   "cell_type": "code",
   "execution_count": null,
   "metadata": {},
   "outputs": [],
   "source": [
    "# boxplot_sorted(\n",
    "#     df_guardian[[\"article_chars\", \"year\"]],\n",
    "#     [\"year\"],\n",
    "#     \"article_chars\",\n",
    "#     \"Article Characters by Year\",\n",
    "#     \"center\",\n",
    "#     12,\n",
    "#     45,\n",
    "#     False,\n",
    "#     (12, 6),\n",
    "# )\n",
    "\n",
    "altair_boxplot_sorted(\n",
    "    df_guardian[[\"article_chars\", \"year\"]],\n",
    "    \"year\",\n",
    "    \"article_chars\",\n",
    "    \"\",\n",
    "    \"Article Characters by Year\",\n",
    "    14,\n",
    "    14,\n",
    "    16,\n",
    "    dx=50,\n",
    "    offset=-5,\n",
    "    x_tick_label_angle=-45,\n",
    "    horiz_bar_chart=False,\n",
    "    axis_range=[0, 8_000],\n",
    "    fig_size=(700, 300),\n",
    ")"
   ]
  },
  {
   "cell_type": "markdown",
   "metadata": {},
   "source": [
    "Most of the articles are 1,000 characters in length. For those (outliers, circles) that are longer than this, they extend upto approx. 4,000 characters with only a very small number of articles being longer than this."
   ]
  },
  {
   "cell_type": "markdown",
   "metadata": {},
   "source": [
    "The number of articles per year is shown below"
   ]
  },
  {
   "cell_type": "code",
   "execution_count": null,
   "metadata": {},
   "outputs": [],
   "source": [
    "altair_plot_bar_chart_value_counts(\n",
    "    df_guardian[\"year\"].value_counts().sort_index().reset_index(),\n",
    "    \"Number of articles by Year\",\n",
    "    \"index:N\",\n",
    "    \"year:Q\",\n",
    "    labelFontSize=12,\n",
    "    titleFontSize=12,\n",
    "    plot_titleFontSize=16,\n",
    "    dx=30,\n",
    "    offset=-5,\n",
    "    x_tick_label_angle=-45,\n",
    "    horiz_bar_chart=False,\n",
    "    fig_size=(700, 250),\n",
    ")"
   ]
  },
  {
   "cell_type": "markdown",
   "metadata": {},
   "source": [
    "Prior to 1999, very few **Space** articles were published by the Guardian. There was also a drop from the years 2006 to 2010, likely coinciding to the [Great Recession](https://www.investopedia.com/terms/g/great-recession.asp). Since 2011, article length increased until 2015 and has been dropping since then.\n",
    "\n",
    "The big events in British space news in 2003-2005 were the launch of and search for the missing Beagle 2 Mars rover. It was found in 2015. See the timeline [here](https://www.itv.com/news/2015-01-16/the-timeline-of-events-surrounding-the-beagle-2). In 2015, there was big news about the search for the ESA mission's Philae lander (as part of the Rosetta mission to the comet 67P). the lander was declared lost in 2016. The mission timeline is available [here](http://www.esa.int/Education/Teach_with_Rosetta/Rosetta_timeline/). These could account for the increased number of the newspaper's online publications during these year."
   ]
  },
  {
   "cell_type": "markdown",
   "metadata": {},
   "source": [
    "<a id=\"topic-modeling-using-gensim-nmf-with-topic-coherence-to-find-best-number-of-topics\"></a>\n",
    "\n",
    "## 3. [Topic modeling using Gensim NMF with Topic coherence to find best number of topics](#topic-modeling-using-gensim-nmf-with-topic-coherence-to-find-best-number-of-topics)"
   ]
  },
  {
   "cell_type": "markdown",
   "metadata": {},
   "source": [
    "<a id=\"pre-processing-for-gensim-nmf,-tokenization,-stemming-etc.\"></a>\n",
    "\n",
    "### 3.1. [Pre-Processing for Gensim NMF, Tokenization, Stemming, etc.](#pre-processing-for-gensim-nmf,-tokenization,-stemming-etc.)"
   ]
  },
  {
   "cell_type": "markdown",
   "metadata": {},
   "source": [
    "Now, we'll perform the following processing actions on each news article's text\n",
    "- [tokenize](https://en.wikipedia.org/wiki/Lexical_analysis#Tokenization) the text of the article, using the [NLTK package's `TweetTokenizer`](https://www.nltk.org/api/nltk.tokenize.html#module-nltk.tokenize.casual)\n",
    "- clean the text of the articles\n",
    "  - convert to lowercase\n",
    "  - remove numbers\n",
    "  - [expand contractions](https://www.kdnuggets.com/2018/08/practitioners-guide-processing-understanding-text-2.html) ([code](https://grammar.yourdictionary.com/style-and-usage/using-contractions.html))\n",
    "  - ([snowball](https://en.wikipedia.org/wiki/Snowball_(programming_language))) [stemming](https://en.wikipedia.org/wiki/Stemming)\n",
    "  - remove [punctuation](https://docs.python.org/3/library/string.html#string.punctuation)\n",
    "  - remove [stopwords](https://en.wikipedia.org/wiki/Stop_word)\n",
    "  - remove any standalone single character\n",
    "  - remove [whitespaces](https://en.wikipedia.org/wiki/Whitespace_character)"
   ]
  },
  {
   "cell_type": "code",
   "execution_count": null,
   "metadata": {},
   "outputs": [],
   "source": [
    "%%time\n",
    "texts = df_guardian[\"text\"].apply(process_text)"
   ]
  },
  {
   "cell_type": "markdown",
   "metadata": {},
   "source": [
    "The tokenized texts are made up of nearly 67,000 unique words, as shown below"
   ]
  },
  {
   "cell_type": "code",
   "execution_count": null,
   "metadata": {},
   "outputs": [],
   "source": [
    "%%time\n",
    "len(set(pd.DataFrame(texts.tolist()).to_numpy().flatten()))"
   ]
  },
  {
   "cell_type": "markdown",
   "metadata": {},
   "source": [
    "After processing them, the most common tokens (expressed as a percentage) by year are shown below, for a subset of years from the data. This is done using a helper function that returns an integer representing the number of times a given token appears in the article's text. The helper function is shown below and is followed by the code to use it for getting the most common tokens by year"
   ]
  },
  {
   "cell_type": "code",
   "execution_count": null,
   "metadata": {},
   "outputs": [],
   "source": [
    "with open(\"src/extraction_helpers.py\", \"r\") as f:\n",
    "    for k, line in enumerate(f):\n",
    "        if k >= 4:\n",
    "            print(str(k) + \" \" + line.strip(\"\\n\"))"
   ]
  },
  {
   "cell_type": "code",
   "execution_count": null,
   "metadata": {},
   "outputs": [],
   "source": [
    "%%time\n",
    "ywc = [\n",
    "    1957,\n",
    "    1986,\n",
    "    2000,\n",
    "    2001,\n",
    "    2003,\n",
    "    2004,\n",
    "    2007,\n",
    "    2011,\n",
    "    2012,\n",
    "    2014,\n",
    "    2015,\n",
    "    2016,\n",
    "    2017,\n",
    "    2018,\n",
    "    2019,\n",
    "]\n",
    "top_n_words = 10\n",
    "\n",
    "# Get most popular token by year\n",
    "tokens_by_year = pd.concat([df_guardian[\"year\"], texts], axis=1)\n",
    "df_mpy = tokens_by_year.groupby(\"year\").apply(lambda x: get_top_n_most_freq_words(x, top_n_words, True)).to_frame()\n",
    "\n",
    "# Sanity check for first year (1957)\n",
    "assert pd.DataFrame(\n",
    "    get_top_n_most_freq_words(\n",
    "        tokens_by_year[tokens_by_year[\"year\"] == 1957], top_n_words, True\n",
    "    )\n",
    ").equals(pd.DataFrame(df_mpy.loc[1957].iloc[0]))\n",
    "\n",
    "# Put into DataFrame for plotting\n",
    "df_ywcs = []\n",
    "for y in ywc:\n",
    "    df_ywc = (\n",
    "        pd.DataFrame.from_dict(df_mpy.loc[y][0], orient=\"index\")\n",
    "        .T.rename(columns={0: \"count\"})\n",
    "        .rename_axis(\"word\")\n",
    "        .assign(year=y)\n",
    "        .reset_index()\n",
    "    )\n",
    "    df_ywcs.append(df_ywc)\n",
    "df_ywc = pd.concat(df_ywcs)\n",
    "# display(df_ywc)\n",
    "altair_plot_grid_by_column(\n",
    "    df_ywc, xvar=\"count\", yvar=\"word\", col2grid=\"year\", fig_size=(100, 200)\n",
    ")"
   ]
  },
  {
   "cell_type": "markdown",
   "metadata": {},
   "source": [
    "The token `space` is the universally the most commonly occurring one in Guardian **Space** articles from the Science section. Though, it wasn't used much in the early days of publishing in this section of the newspaper.\n",
    "\n",
    "In 1986, the space shuttle Challenger's explosion was mentioned in a lot of articles. However, the Columbia shuttle crash in 2003 did not get mentioned by name. Even the token `shuttle` wasn't as frequent in 2003 as it was after the Challenger shuttle crash in 1986. Other topics such as the launch of the twin Mars rovers, later [during the same year](https://www.nasa.gov/directorates/somd/reports/2003/table1.html), shared the spotlight with the shuttle crash and were mentioned in a lot of news articles in this section."
   ]
  },
  {
   "cell_type": "markdown",
   "metadata": {},
   "source": [
    "<a id=\"use-gensim-to-perform-bag-of-words-transformation\"></a>\n",
    "\n",
    "### 3.2. [Use Gensim to perform Bag-of-Words transformation](#use-gensim-to-perform-bag-of-words-transformation)"
   ]
  },
  {
   "cell_type": "markdown",
   "metadata": {},
   "source": [
    "Now, we'll create a corpus comprising an assigned ID and corresponding count frequency of words from the tokens created above. This is Gensim's document conversion into a [bag-of-words](https://en.wikipedia.org/wiki/Bag-of-words_model) format. It returns a list of tuples comprising token identifier and the corresponding count (frequency)."
   ]
  },
  {
   "cell_type": "code",
   "execution_count": null,
   "metadata": {},
   "outputs": [],
   "source": [
    "%%time\n",
    "# Create Dictionary\n",
    "dictionary = Dictionary(texts)\n",
    "\n",
    "# Remove extreme values\n",
    "dictionary.filter_extremes(\n",
    "    no_below=3,  # default = 5\n",
    "    no_above=0.85,  # default is 0.5\n",
    "    keep_n=5_000,  # default is 100_000\n",
    ")\n",
    "\n",
    "# Term Document Frequency for corpus\n",
    "corpus = [dictionary.doc2bow(text) for text in texts]"
   ]
  },
  {
   "cell_type": "markdown",
   "metadata": {},
   "source": [
    "<a id=\"use-gensim-nmf-and-topic-coherence-to-find-number-of-topics\"></a>\n",
    "\n",
    "### 3.3. [Use Gensim NMF and Topic coherence to find number of topics](#use-gensim-nmf-and-topic-coherence-to-find-number-of-topics)"
   ]
  },
  {
   "cell_type": "markdown",
   "metadata": {},
   "source": [
    "Next, we'll compute the coherence score for our specified list of number of topics to be compared. A [topic coherence `Class`](https://radimrehurek.com/gensim/models/coherencemodel.html), from the [Gensim library](https://pypi.org/project/gensim/), is used to evaluate topics found using an [NMF](https://en.wikipedia.org/wiki/Non-negative_matrix_factorization) model. A helper function is used for this and is shown below"
   ]
  },
  {
   "cell_type": "code",
   "execution_count": null,
   "metadata": {},
   "outputs": [],
   "source": [
    "with open(\"src/hybrid_helpers.py\", \"r\") as f:\n",
    "    for k, line in enumerate(f):\n",
    "        if k >= 4:\n",
    "            print(str(k) + \" \" + line.strip(\"\\n\"))"
   ]
  },
  {
   "cell_type": "code",
   "execution_count": null,
   "metadata": {},
   "outputs": [],
   "source": [
    "!pygmentize src/hybrid_helpers.py"
   ]
  },
  {
   "cell_type": "markdown",
   "metadata": {},
   "source": [
    "The coherence model's reported coherence score will be computed as the number of topics used to train an NMF model is varied. The higher the coherence for the selected number of topics the better. This way, we can select the number of topics in an NMF model that returns the highest coherence score."
   ]
  },
  {
   "cell_type": "code",
   "execution_count": null,
   "metadata": {},
   "outputs": [],
   "source": [
    "%%time\n",
    "# For each specified number of topics, run NMF and calculate topic coherence\n",
    "topic_coherence_scores = [\n",
    "    get_nmf_coherence_scores(corpus, texts, n, dictionary)\n",
    "    for n in topic_nums\n",
    "]\n",
    "\n",
    "# Extract coherence score for each number of topics tried\n",
    "df_coherence_scores = (\n",
    "    pd.DataFrame.from_dict(dict(zip(topic_nums, topic_coherence_scores)), orient=\"index\")\n",
    "    .reset_index()\n",
    "    .rename(columns={\"index\": \"num_topics\", 0: \"coherence\"})\n",
    "    .set_index(\"num_topics\")\n",
    ")"
   ]
  },
  {
   "cell_type": "markdown",
   "metadata": {},
   "source": [
    "We'll now plot the coherence scores by the number of topics"
   ]
  },
  {
   "cell_type": "code",
   "execution_count": null,
   "metadata": {},
   "outputs": [],
   "source": [
    "altair_plot_line_chart(\n",
    "    df_coherence_scores.reset_index(),\n",
    "    \"num_topics\",\n",
    "    \"coherence\",\n",
    "    \"Topic Coherence versus Number of Topics\",\n",
    "    labelFontSize=12,\n",
    "    titleFontSize=14,\n",
    "    plot_titleFontSize=16,\n",
    "    linewidth=3,\n",
    "    dx=35,\n",
    "    offset=-5,\n",
    "    x_tick_label_angle=0,\n",
    "    marker_size=150,\n",
    "    y_axis_range=[0.44, 0.5],\n",
    "    fig_size=(700, 250),\n",
    ")"
   ]
  },
  {
   "cell_type": "markdown",
   "metadata": {},
   "source": [
    "Over a range of 15 to 45 topics, we can see that there isn't much of a change in the coherence score and there is little evidence of a trend. For the above choices of pre-processing and coherence-modeling, the choice of 35 topics gives the maximum coherence score but the difference between scores for 15 and 35 topics is less than 10%. That's quite a large range of topics but only a small improvement."
   ]
  },
  {
   "cell_type": "markdown",
   "metadata": {},
   "source": [
    "For now, we'll move forward with 15 topics"
   ]
  },
  {
   "cell_type": "code",
   "execution_count": null,
   "metadata": {},
   "outputs": [],
   "source": [
    "n_topics_wanted = 15"
   ]
  },
  {
   "cell_type": "markdown",
   "metadata": {},
   "source": [
    "<a id=\"topic-modeling-using-tfidf-vectorization-and-nmf\"></a>\n",
    "\n",
    "## 4. [Topic modeling using TFIDF vectorization and NMF](#topic-modeling-using-tfidf-vectorization-and-nmf)"
   ]
  },
  {
   "cell_type": "markdown",
   "metadata": {},
   "source": [
    "We'll now train an ML model with the best number of topics.\n",
    "\n",
    "**TFIDF Overview**\n",
    "\n",
    "First, we'll convert the documents (news articles) into vector representations that will allow numeric ML techniques to be applied. This is [feature extraction or word vectorization](https://en.wikipedia.org/wiki/Word_embedding), since it maps single or multiple words from a vocabulary of words to a corresponding real-numbered vector.\n",
    "\n",
    "Here, we'll use a [TFIDF](https://en.wikipedia.org/wiki/Tf%E2%80%93idf) vectorizer as a preliminary step before the NMF model, as opposed to NLTK's `TweetTokenizer` which was used when selecting the optimal number of topics. So, for this part, `scikit-learn` will be used instead of Gensim.\n",
    "\n",
    "**NMF Overview**\n",
    "\n",
    "The ML model will be [Non-Negative Matrix Factorization, or NMF](https://en.wikipedia.org/wiki/Non-negative_matrix_factorization). At a high level, NMF approximates a given matrix using a [low-rank matrix approximation](https://en.wikipedia.org/wiki/Low-rank_approximation). It decomposes an input matrix into two lower dimensionality matrices (a weighted sum of some number of [basis vectors](https://en.wikipedia.org/wiki/Basis_(linear_algebra)))\n",
    "- a matrix of basis vectors\n",
    "- a matrix of associated basis weights\n",
    "\n",
    "The matrix product of these two is an approximation (but not a perfect match) to the original matrix. How good is this approximation? One approach to estimating the goodness of this approximation is by computing the [Frobenius norm](https://en.wikipedia.org/wiki/Matrix_norm#Frobenius_norm) between the original and approximated data.\n",
    "\n",
    "For NLP tasks, NMF takes a [document-term matrix](https://en.wikipedia.org/wiki/Document-term_matrix) of TFIDF features (output of the vectorizer) and creates an approximate representation of weighted combinations of the document terms that go together across the corpus. The combinations are of basis documents (topics) and their weights indicate how to add the contributions of each topic to approximately re-assemble an orginal document. In other words, these topics represent sets of terms that occur simultaneously in different documents."
   ]
  },
  {
   "cell_type": "markdown",
   "metadata": {},
   "source": [
    "<a id=\"pre-processing-for-nmf\"></a>\n",
    "\n",
    "### 4.1. [Pre-processing for NMF](#pre-processing-for-nmf)"
   ]
  },
  {
   "cell_type": "markdown",
   "metadata": {},
   "source": [
    "First, a two-step pipeline, of TFIDF vectorization (convert processed text to numerical vectors) followed by NMF, is instantiated."
   ]
  },
  {
   "cell_type": "markdown",
   "metadata": {},
   "source": [
    "The TFIDF vectorization hyper-parameters are set as follows (and can be tuned if necessary)\n",
    "- uni- and bi-grams will be extracted (`ngram_range = (1,2)`)\n",
    "- pre-processing is not done, since the processed tokens are being used\n",
    "- text is already converted to lowercase before tokenization, so nothing new will be done here\n",
    "- of the nearly 67,000 unique words in the corpus, use only the top `max_features = 5000` terms, by term frequency, when building vectors\n",
    "  - the default is to use all the terms\n",
    "  - this level of feature reduction can be adjusted by varying the `max_features` hyper-parameter\n",
    "- the default token pattern is used\n",
    "  - tokens are comprised of 2 or more alphanumeric characters (removes any standalone single character)\n",
    "    - this won't be done here since the processed tokens are already filtered\n",
    "- instead, `min_df` and `max_df` is used to eliminate words based on terms by frequency across the text corpus (collection of documents).i.e. ignore any terms that are found in\n",
    "    - more than 85% (`max_df = 0.85`)\n",
    "    - less than three (`min_df = 3`)\n",
    "    \n",
    "  of the processed texts in the corpus\n",
    "- no stopwords are used\n",
    "  - these were aleady removed earlier, so this does not need to be done here"
   ]
  },
  {
   "cell_type": "code",
   "execution_count": null,
   "metadata": {},
   "outputs": [],
   "source": [
    "vectorizer = TfidfVectorizer(\n",
    "    tokenizer=None,  # default is None\n",
    "    stop_words=None,  # default is None\n",
    "    lowercase=True,  # default is True\n",
    "    ngram_range=(1, 2),  # default is (1, 2)\n",
    "    max_df=0.85,  # default is 1.0\n",
    "    min_df=3,  # default is 1\n",
    "    max_features=5000,  # default is None\n",
    "    preprocessor=\" \".join,  # default is None\n",
    "    binary=False,  # default is False\n",
    "    strip_accents=None,  # default is None\n",
    "    # token_pattern='(?u)\\\\b\\\\w\\\\w+\\\\b',  # default is '(?u)\\\\b\\\\w\\\\w+\\\\b'\n",
    ")"
   ]
  },
  {
   "cell_type": "markdown",
   "metadata": {},
   "source": [
    "Next, the NMF step is defined, again with hyper-parameter choices that can be tuned later as required"
   ]
  },
  {
   "cell_type": "code",
   "execution_count": null,
   "metadata": {},
   "outputs": [],
   "source": [
    "sk_nmf = NMF(\n",
    "    n_components=n_topics_wanted,\n",
    "    solver=\"cd\",  # default is \"cd\"\n",
    "    init=\"nndsvd\",  # default is None, \"nnsvd\" = Nonnegative Double Singular Value Decomposition\n",
    "    max_iter=500,  # default is 200\n",
    "    l1_ratio=0.0,  # default is 0.0\n",
    "    alpha=0.0,  # default is 0.0\n",
    "    tol=0.0001,  # default is 0.0001\n",
    "    random_state=42,\n",
    ")\n",
    "pipe = Pipeline([(\"vectorizer\", vectorizer), (\"nmf\", sk_nmf)])"
   ]
  },
  {
   "cell_type": "markdown",
   "metadata": {},
   "source": [
    "**Note**\n",
    "1. When randomly initialized, NMF results are not deterministic. This stability can be improved if [NMF is initialized using SVD](https://arxiv.org/abs/1702.07186) and so this has been done here."
   ]
  },
  {
   "cell_type": "markdown",
   "metadata": {},
   "source": [
    "<a id=\"nmf\"></a>\n",
    "\n",
    "### 4.2. [NMF](#nmf)"
   ]
  },
  {
   "cell_type": "markdown",
   "metadata": {},
   "source": [
    "The pipeline is now trained on the data, giving the document-term matrix `W`"
   ]
  },
  {
   "cell_type": "code",
   "execution_count": null,
   "metadata": {},
   "outputs": [],
   "source": [
    "%%time\n",
    "doc_topic = pipe.fit_transform(texts)"
   ]
  },
  {
   "cell_type": "markdown",
   "metadata": {
    "execution": {
     "iopub.execute_input": "2020-12-18T16:26:14.507553Z",
     "iopub.status.busy": "2020-12-18T16:26:14.507413Z",
     "iopub.status.idle": "2020-12-18T16:26:14.535326Z",
     "shell.execute_reply": "2020-12-18T16:26:14.534892Z",
     "shell.execute_reply.started": "2020-12-18T16:26:14.507539Z"
    }
   },
   "source": [
    "First, we'll show the Document-Term Matrix produced by TFIDF vectorization."
   ]
  },
  {
   "cell_type": "code",
   "execution_count": null,
   "metadata": {},
   "outputs": [],
   "source": [
    "pd.DataFrame(pipe.named_steps[\"vectorizer\"].transform(texts).toarray())"
   ]
  },
  {
   "cell_type": "markdown",
   "metadata": {},
   "source": [
    "This is the TFIDF-weighted frequency of terms across the corpus. So, each row corresponds to a single document and the each column corresponds to a single term. This is the matrix of TFIDF features."
   ]
  },
  {
   "cell_type": "markdown",
   "metadata": {},
   "source": [
    "The extracted topics and their top ten most important terms (using basis weights, from the NMF transformation) are shown below (these are the sets of corpus-wide coexisting terms mentioned [earlier](#topic-modeling-using-tfidf-vectorization-and-nmf) and they come from the factorization matrix `H`, where rows represent topics and columns represent the input data features)"
   ]
  },
  {
   "cell_type": "code",
   "execution_count": null,
   "metadata": {},
   "outputs": [],
   "source": [
    "def get_top_words_per_topic(row, n_top_words=5):\n",
    "    return row.nlargest(n_top_words).index.tolist()"
   ]
  },
  {
   "cell_type": "code",
   "execution_count": null,
   "metadata": {},
   "outputs": [],
   "source": [
    "# Factorization matrix, of weights\n",
    "H = pipe.named_steps[\"nmf\"].components_\n",
    "topic_words = pd.DataFrame(\n",
    "    H,\n",
    "    index=[str(k) for k in range(n_topics_wanted)],\n",
    "    columns=pipe.named_steps[\"vectorizer\"].get_feature_names(),\n",
    ")\n",
    "# display(topic_words)\n",
    "\n",
    "# Get row-wise (topic-wise) top 10 weights\n",
    "topic_df = (\n",
    "    pd.DataFrame(\n",
    "        topic_words.apply(\n",
    "            lambda x: get_top_words_per_topic(x, n_top_words), axis=1\n",
    "        ).tolist(),\n",
    "        index=topic_words.index,\n",
    "    )\n",
    "    .reset_index()\n",
    "    .rename(columns={\"index\": \"topic\"})\n",
    "    # .assign(topic_num=range(1, n_topics_wanted + 1))\n",
    "    .assign(topic_num=range(n_topics_wanted))\n",
    ")\n",
    "# Sanity check on first row\n",
    "assert (\n",
    "    topic_words.iloc[0].nlargest(n_top_words).index.tolist()\n",
    "    == topic_df.iloc[0, 1:-1].tolist()\n",
    ")\n",
    "for k, v in topic_df.iterrows():\n",
    "    print(k, \",\".join(v[1:-1]))\n",
    "# display(topic_df)"
   ]
  },
  {
   "cell_type": "code",
   "execution_count": null,
   "metadata": {},
   "outputs": [],
   "source": [
    "# print(np.sort(df_temp[\"topic_num\"].unique()), topic_df[\"topic_num\"].unique())\n",
    "# print(df_temp.shape[0], len(df_temp), df_guardian[\"url\"].nunique())\n",
    "# print(df_temp.merge(topic_df, on=\"topic_num\", how=\"left\").assign(\n",
    "#     url=df_guardian[\"url\"].tolist()\n",
    "# )[\"url\"].nunique())"
   ]
  },
  {
   "cell_type": "markdown",
   "metadata": {},
   "source": [
    "<a id=\"merging-with-the-source-data\"></a>\n",
    "\n",
    "### 4.3. [Merging with the original data](#merging-with-the-source-data)"
   ]
  },
  {
   "cell_type": "markdown",
   "metadata": {},
   "source": [
    "Next, we'll start combining the original news article data with the NMF model output (document-topic matrix `W`) which is shown below"
   ]
  },
  {
   "cell_type": "code",
   "execution_count": null,
   "metadata": {},
   "outputs": [],
   "source": [
    "pd.DataFrame(doc_topic)"
   ]
  },
  {
   "cell_type": "markdown",
   "metadata": {},
   "source": [
    "The document-topic matrix (`W`) is the transformed data produced by NMF. Here, each row is a unique document vector in the topic space - here, there are 15 elements per vector since 15 topics were used.\n",
    "\n",
    "Each element of a single such vector is NMF's learned weight of each of the specified number of topics - 15 topics, so 15 columns. This weight is translated into the importance of that topic. Since we have a single vector for each document, we have the importance of each topic for each document.\n",
    "\n",
    "There are two things we could do with this document-topic matrix\n",
    "- the topic with the highest importance (weight) is the topic that most strongly reconstructs the combination of terms for a particular document\n",
    "  - we'll be doing this here\n",
    "- if we were to add up all the contributions from the different topics then we could reassemble the combination of terms for a particular document in the corpus"
   ]
  },
  {
   "cell_type": "markdown",
   "metadata": {},
   "source": [
    "First, the most popular topic for each article (highest topic weight) is found by taking the row-wise maximum of the document-topic matrix."
   ]
  },
  {
   "cell_type": "code",
   "execution_count": null,
   "metadata": {},
   "outputs": [],
   "source": [
    "# df_temp = pd.DataFrame({\"topic_num\": doc_topic.argmax(axis=1)})\n",
    "df_temp = pd.DataFrame(doc_topic).idxmax(axis=1).rename(\"topic_num\").to_frame()\n",
    "print(f\"Number of rows = {df_temp.shape[0]}\")\n",
    "display(df_temp.head())"
   ]
  },
  {
   "cell_type": "code",
   "execution_count": null,
   "metadata": {},
   "outputs": [],
   "source": [
    "df_temp[\"topic_num\"].min(), df_temp[\"topic_num\"].max()"
   ]
  },
  {
   "cell_type": "markdown",
   "metadata": {},
   "source": [
    "This gives the (most popular) topic number for each document - the topic numbers start at 0 and end at 14.\n",
    "\n",
    "Earlier, we got the most important terms for each topic. So, now, we'll merge those with this most popular topic, on the topic number column.\n",
    "\n",
    "Since we ultimately want to merge these results back with the original news article data (including the metadata columns), we'll also append a column of the news article URL."
   ]
  },
  {
   "cell_type": "code",
   "execution_count": null,
   "metadata": {},
   "outputs": [],
   "source": [
    "merged_topic = df_temp.merge(topic_df, on=\"topic_num\", how=\"left\").assign(\n",
    "    url=df_guardian[\"url\"].tolist()\n",
    ")\n",
    "print(f\"Number of rows = {merged_topic.shape[0]}\")\n",
    "display(merged_topic.head())"
   ]
  },
  {
   "cell_type": "markdown",
   "metadata": {},
   "source": [
    "We now merge this result with the original data, to get access all the metadata columns, this time on the common `URL` columns which are aligned for both of these data structures"
   ]
  },
  {
   "cell_type": "code",
   "execution_count": null,
   "metadata": {},
   "outputs": [],
   "source": [
    "df_topics = df_guardian.merge(merged_topic, on=\"url\", how=\"left\").astype(\n",
    "    {\"topic_num\": int}\n",
    ")\n",
    "print(f\"Number of rows = {df_topics.shape[0]}\")\n",
    "display(df_topics.head())"
   ]
  },
  {
   "cell_type": "markdown",
   "metadata": {},
   "source": [
    "The NMF factorization matrix is shown below, with scores (matrix product of topics and weights) for all features (terms, in the column names) and for each component (topic, along the rows)\n",
    "- for brevity, a random selelction of 10 columns (terms) is shown"
   ]
  },
  {
   "cell_type": "code",
   "execution_count": null,
   "metadata": {},
   "outputs": [],
   "source": [
    "topic_word = pd.DataFrame(\n",
    "    pipe.named_steps[\"nmf\"].components_.round(3),\n",
    "    index=[k for k in range(n_topics_wanted)],\n",
    "    columns=pipe.named_steps[\"vectorizer\"].get_feature_names(),\n",
    ")\n",
    "print(f\"Number of rows = {topic_word.shape[0]}\")\n",
    "display(topic_word.sample(10, axis=1))"
   ]
  },
  {
   "cell_type": "markdown",
   "metadata": {},
   "source": [
    "From the NMF factorization matrix, we'll get the top 10 terms by weight for each topic"
   ]
  },
  {
   "cell_type": "code",
   "execution_count": null,
   "metadata": {},
   "outputs": [],
   "source": [
    "%%time\n",
    "df_topic_word_factors = (\n",
    "    topic_word.groupby(topic_word.index)\n",
    "    .apply(lambda x: x.iloc[0].nlargest(n_top_words))\n",
    "    .reset_index()\n",
    "    .rename(columns={\"level_0\": \"topic_num\", \"level_1\": \"term\", 0: \"weight\"})\n",
    ")\n",
    "display(df_topic_word_factors.head())"
   ]
  },
  {
   "cell_type": "markdown",
   "metadata": {},
   "source": [
    "We'll also get the 10 most common words by topic"
   ]
  },
  {
   "cell_type": "code",
   "execution_count": null,
   "metadata": {},
   "outputs": [],
   "source": [
    "%%time\n",
    "tokens_by_topic = tokens_by_year[[\"text\"]].assign(\n",
    "    topic_num=df_topics[\"topic_num\"].tolist()\n",
    ")\n",
    "df_mpt = (\n",
    "    tokens_by_topic.groupby(\"topic_num\")\n",
    "    .apply(lambda x: get_top_n_most_freq_words(x, top_n_words, True))\n",
    "    .to_frame()\n",
    ")\n",
    "df_twcs = []\n",
    "for t in np.sort(tokens_by_topic[\"topic_num\"].unique()):\n",
    "    df_twc = (\n",
    "        pd.DataFrame.from_dict(df_mpt.loc[t][0], orient=\"index\")\n",
    "        .T.rename(columns={0: \"count\"})\n",
    "        .rename_axis(\"word\")\n",
    "        .assign(topic_num=t)\n",
    "        .reset_index()\n",
    "    )\n",
    "    df_twcs.append(df_twc)\n",
    "df_twc = pd.concat(df_twcs)\n",
    "display(df_twc.head())"
   ]
  },
  {
   "cell_type": "markdown",
   "metadata": {},
   "source": [
    "**Notes**\n",
    "1. Each term may be associated with more than a single topic."
   ]
  },
  {
   "cell_type": "markdown",
   "metadata": {},
   "source": [
    "<a id=\"coherence-residual-by-topic\"></a>\n",
    "\n",
    "### 4.4. [Coherence Residual by Topic](#coherence-residual-by-topic)"
   ]
  },
  {
   "cell_type": "markdown",
   "metadata": {},
   "source": [
    "Here, we'll use the [Frobenius Norm](https://numpy.org/doc/stable/reference/generated/numpy.linalg.norm.html#numpy.linalg.norm) to examine how well the topics found represent the news article text - this will be a residual between the modeled and true document-term matrix."
   ]
  },
  {
   "cell_type": "markdown",
   "metadata": {},
   "source": [
    "To get the Frobenius norm, from TFIDF, we're interested in\n",
    "- `A`\n",
    "  - the TF-IDF normalised document-term matrix\n",
    "  - comes from the `.transform()` method ([1](https://scikit-learn.org/stable/modules/generated/sklearn.feature_extraction.text.TfidfVectorizer.html#sklearn.feature_extraction.text.TfidfVectorizer.transform)) of a trained `TfidfVectorizer()` object\n",
    "    - shape is `len_corpus` (or number of news articles) X `num_most_frequent_words`\n",
    "    - this is a [sparse matrix](https://docs.scipy.org/doc/scipy/reference/sparse.html), so to get its shape, we'll call the `.to_array()` method ([1](https://docs.scipy.org/doc/scipy/reference/generated/scipy.sparse.csr_matrix.toarray.html))\n",
    "\n",
    "NMF produces two factor matrices as its output and we need both to calculate the Frobenius norm\n",
    "- `W`\n",
    "  - Factorization matrix, sometimes called *dictionary*\n",
    "  - comes from the `.components_` attribute ([1](https://scikit-learn.org/stable/modules/generated/sklearn.decomposition.NMF.html#sklearn.decomposition.NMF)) of a trained `NMF()` object\n",
    "    - shape is `num_topics` X `num_most_frequent_words`\n",
    "    - we've set `num_topics` to 15 and `num_most_frequent_words` is `max_features`, which was set to 5,000\n",
    "  - W factor contains the document membership weights relative to each of the k topics. Each row corresponds to a single document, and each column correspond to a topic.\n",
    "- `H`\n",
    "  - transformed data\n",
    "  - comes from the `.transform()` method ([1](https://scikit-learn.org/stable/modules/generated/sklearn.decomposition.NMF.html#sklearn.decomposition.NMF.transform)) of a trained `NMF()` object\n",
    "    - again, per the `sklearn` docs, shape is `len_corpus` (or number of news articles) X `num_topics`\n",
    "    - we know we have a corpus with a length of approx. 4,000 and, as above, we've indicated to use 15 topics\n",
    "  -  H factor contains the term weights relative to each of the k topics. In this case, each row corresponds to a topic, and each column corresponds to a unique term in the corpus vocabulary."
   ]
  },
  {
   "cell_type": "markdown",
   "metadata": {},
   "source": [
    "For the current dataset, we'll compute these three matrices"
   ]
  },
  {
   "cell_type": "code",
   "execution_count": null,
   "metadata": {},
   "outputs": [],
   "source": [
    "%%time\n",
    "A = pipe.named_steps[\"vectorizer\"].transform(texts)\n",
    "W = pipe.named_steps[\"nmf\"].components_\n",
    "H = pipe.named_steps[\"nmf\"].transform(A)"
   ]
  },
  {
   "cell_type": "markdown",
   "metadata": {},
   "source": [
    "We'll now show the shapes of each of the three matrices above"
   ]
  },
  {
   "cell_type": "code",
   "execution_count": null,
   "metadata": {},
   "outputs": [],
   "source": [
    "f\"A={A.toarray().shape}, W={W.shape}, H={H.shape}\""
   ]
  },
  {
   "cell_type": "markdown",
   "metadata": {},
   "source": [
    "We'll now compute the residual (Frobenius norm) for the text (row) of each news article in our dataset. This is the difference between the true text and the NMF approximations"
   ]
  },
  {
   "cell_type": "code",
   "execution_count": null,
   "metadata": {},
   "outputs": [],
   "source": [
    "r = np.zeros(A.shape[0])\n",
    "for row in range(A.shape[0]):\n",
    "    r[row] = np.linalg.norm(A[row, :] - H[row, :].dot(W), \"fro\")\n",
    "df_topics[\"resid\"] = r\n",
    "display(df_topics.head())"
   ]
  },
  {
   "cell_type": "markdown",
   "metadata": {},
   "source": [
    "We'll show a boxplot of these topic residuals"
   ]
  },
  {
   "cell_type": "code",
   "execution_count": null,
   "metadata": {},
   "outputs": [],
   "source": [
    "# boxplot_sorted(\n",
    "#     df_topics[[\"topic_num\", \"resid\"]],\n",
    "#     [\"topic_num\"],\n",
    "#     \"resid\",\n",
    "#     \"Topic Residual (sorted by median)\",\n",
    "#     \"center\",\n",
    "#     14,\n",
    "#     sort_by_median=True,\n",
    "#     fig_size=(12, 6),\n",
    "# )\n",
    "\n",
    "altair_boxplot_sorted(\n",
    "    df_topics[[\"topic_num\", \"resid\"]],\n",
    "    \"topic_num\",\n",
    "    \"resid\",\n",
    "    \"median(resid)\",\n",
    "    \"Topic Residual (sorted by median)\",\n",
    "    14,\n",
    "    14,\n",
    "    16,\n",
    "    dx=30,\n",
    "    offset=-5,\n",
    "    x_tick_label_angle=0,\n",
    "    horiz_bar_chart=False,\n",
    "    axis_range=[0.5, 1],\n",
    "    fig_size=(450, 250),\n",
    ")"
   ]
  },
  {
   "cell_type": "markdown",
   "metadata": {},
   "source": [
    "This plot summarizes how the texts in each topic actually fit into that topic. A smaller value on the vertical axis (the residual) indicates a better fit between the news articles in this topic found by the NMF model. Outliers are shown by circles. The topics (horizontal axis) are sorted by the median residual, so the best-performing topic appears on the far left and the worst-scoring one is shown on the far right."
   ]
  },
  {
   "cell_type": "markdown",
   "metadata": {},
   "source": [
    "**Observations**\n",
    "1. None of the topics now have a median residual below 0.80.\n",
    "2. Only three of the 15 topics have the first quantile of their residuals falling below 0.80.\n",
    "3. The residuals scale from 0.0 to 1.0. The median residual values are above 0.8 and there is a considerable range."
   ]
  },
  {
   "cell_type": "markdown",
   "metadata": {},
   "source": [
    "We're now ready to start reading the articles and assessing the quality of the topics."
   ]
  },
  {
   "cell_type": "markdown",
   "metadata": {},
   "source": [
    "<a id=\"topic-4\"></a>\n",
    "\n",
    "#### 4.4.1. [Topic 4](#topic-4)"
   ]
  },
  {
   "cell_type": "markdown",
   "metadata": {},
   "source": [
    "The five best texts that fit into the best topic (by residual), topic number 4, are shown below"
   ]
  },
  {
   "cell_type": "code",
   "execution_count": null,
   "metadata": {},
   "outputs": [],
   "source": [
    "df_topics[df_topics[\"topic_num\"] == 4].nsmallest(5, \"resid\")[\"url\"].tolist()"
   ]
  },
  {
   "cell_type": "markdown",
   "metadata": {},
   "source": [
    "**Observations**\n",
    "1. This is a very coherent sub-grouping of comet-related articles, where the focus is on mission operations related to the [Rosetta spacecraft mission to comet 67P](https://en.wikipedia.org/wiki/Rosetta_(spacecraft))."
   ]
  },
  {
   "cell_type": "markdown",
   "metadata": {},
   "source": [
    "The five worst texts that fit into the best topic (by residual) are shown below"
   ]
  },
  {
   "cell_type": "code",
   "execution_count": null,
   "metadata": {},
   "outputs": [],
   "source": [
    "df_topics[df_topics[\"topic_num\"] == 4].nlargest(5, \"resid\")[\"url\"].tolist()"
   ]
  },
  {
   "cell_type": "markdown",
   "metadata": {},
   "source": [
    "**Observations**\n",
    "1. While in some way related to reporting on comets, these aren't connected to the Rosetta mission specifically, or to comet-related missions in general. The topics of these articles are listed below\n",
    "   - [reports on a theory about comet dust containing diamonds](https://www.theguardian.com/science/2002/jul/18/technology)\n",
    "   - [end of the Deep Space 1 spacecraft mission which involved studying other comets and asteroids](https://www.theguardian.com/science/2001/dec/20/technology)\n",
    "   - [obituary for a researcher involved with the advocating for *in situ* analyses on the Philae lander that accompanied Rosetta](https://www.theguardian.com/science/2014/dec/21/colin-pillinger-remembered-monica-grady-observer-obituaries-2014-open-university)\n",
    "   - [inappropriate attire by one of the scientists providing an update on the mission](https://www.theguardian.com/science/2014/nov/14/rosetta-comet-dr-matt-taylor-apology-sexist-shirt)\n",
    "   - [related to the Tempel 1 comet](https://www.theguardian.com/science/2005/jul/07/thisweekssciencequestions2)\n",
    "\n",
    "Although related to comets, the five worst articles aren't directly reporting on Rosetta mission operations or even indirectly in some cases."
   ]
  },
  {
   "cell_type": "markdown",
   "metadata": {},
   "source": [
    "<a id=\"topic-6\"></a>\n",
    "\n",
    "#### 4.4.2. [Topic 6](#topic-6)"
   ]
  },
  {
   "cell_type": "markdown",
   "metadata": {},
   "source": [
    "The five best texts that fit into topic number 6 are shown below"
   ]
  },
  {
   "cell_type": "code",
   "execution_count": null,
   "metadata": {},
   "outputs": [],
   "source": [
    "df_topics[df_topics[\"topic_num\"] == 6].nsmallest(5, \"resid\")[\"url\"].tolist()"
   ]
  },
  {
   "cell_type": "markdown",
   "metadata": {},
   "source": [
    "**Observations**\n",
    "1. The topics of these articles are listed below and are related to the lundar landings, missions or planned/cancelled missions\n",
    "   - [Recapping the 1969 Moon Landing, as part of the Apollo Mission](https://www.theguardian.com/science/2009/jun/21/apollo-fallen-dream)\n",
    "   - [Chinese plans for manned moon mission](https://www.theguardian.com/science/2011/dec/30/china-manned-moon-mission-lunar)\n",
    "   - [Written in 2019 (as 50th anniversary of Apollo 11 approached), discusses new interest in Moon exploration](https://www.theguardian.com/science/2019/jul/06/everyones-going-to-the-moon-again-apollo-11-50th-aniversary)\n",
    "   - [written in 2010, reports on Chinese leading the way to a return to the moon](https://www.theguardian.com/science/2010/feb/02/lunar-us-china-race-moon) after [NASA abandons Moon orbit mission](https://www.nbcnews.com/id/wbna35209628)\n",
    "   - [Written in 1999, references complete absence of moon landings for a period of](https://www.theguardian.com/science/1999/jul/19/spaceexploration.g2) 27 years ([1](https://www.history.com/news/us-moon-landings-apollo))"
   ]
  },
  {
   "cell_type": "markdown",
   "metadata": {},
   "source": [
    "The five worst texts that fit into this topic are shown below and, while related to the moon, don't necessarily involve missions"
   ]
  },
  {
   "cell_type": "code",
   "execution_count": null,
   "metadata": {},
   "outputs": [],
   "source": [
    "df_topics[df_topics[\"topic_num\"] == 6].nlargest(5, \"resid\")[\"url\"].tolist()"
   ]
  },
  {
   "cell_type": "markdown",
   "metadata": {},
   "source": [
    "**Observations**\n",
    "1. The topics of these articles are listed below\n",
    "   - [talks about imprisoned peace activist receiving a photograph of Earth from the 1969 Apollo 11 mission's moon landing](https://www.theguardian.com/science/2018/oct/18/a-surprise-package-from-a-spaceman-for-a-prisoner-on-earth)\n",
    "   - [Death of US astronaut John Glenn](https://www.theguardian.com/science/2016/dec/08/john-glenn-us-astronaut-dies), who was [connected to the Apollo space program](https://web.archive.org/web/20161210225701/http://www.jsc.nasa.gov/Bios/htmlbios/glenn-j.html)\n",
    "   - [talks about a song played as Apollo 14 pproached the moon](https://www.theguardian.com/science/2017/oct/09/apollo-14-song-a-hymn-to-god-or-to-the-nazis)\n",
    "   - [reports on auction of limousine used by Apollo 11 astronauts](https://www.theguardian.com/world/2011/aug/04/limousine-pope-neil-armstrong-auction)\n",
    "   - [Moon tourism](https://www.theguardian.com/science/1999/sep/22/spaceexploration.business)"
   ]
  },
  {
   "cell_type": "markdown",
   "metadata": {},
   "source": [
    "<a id=\"topic-12\"></a>\n",
    "\n",
    "#### 4.4.3. [Topic 12](#topic-12)"
   ]
  },
  {
   "cell_type": "markdown",
   "metadata": {},
   "source": [
    "The five best texts that fit into topic number 12 are shown below"
   ]
  },
  {
   "cell_type": "code",
   "execution_count": null,
   "metadata": {},
   "outputs": [],
   "source": [
    "df_topics[df_topics[\"topic_num\"] == 12].nsmallest(5, \"resid\")[\"url\"].tolist()"
   ]
  },
  {
   "cell_type": "markdown",
   "metadata": {},
   "source": [
    "**Observations**\n",
    "1. The topics of these articles are listed below\n",
    "   - [discovery of Higgs boson](https://www.theguardian.com/science/2012/jul/04/higgs-boson-discovery-real-work)\n",
    "   - [explaining fundamental concepts behind science researched at LHC (and CERN, in general) related to th eHiggs boson](https://www.theguardian.com/science/2008/jun/30/cern.particle.physics1)\n",
    "   - [anticipating the LHC coming online](https://www.theguardian.com/science/2007/may/27/particlephysics.observermagazine)\n",
    "   - [days away from starting LHC operations](https://www.theguardian.com/science/2011/feb/28/large-hadron-collider-higgs-boson)\n",
    "   - [getting close to detecting the Higgs boson](https://www.theguardian.com/science/2011/dec/13/scientists-higgs-boson-god-particle)"
   ]
  },
  {
   "cell_type": "markdown",
   "metadata": {},
   "source": [
    "The five worst texts that fit into this topic are shown below"
   ]
  },
  {
   "cell_type": "code",
   "execution_count": null,
   "metadata": {},
   "outputs": [],
   "source": [
    "df_topics[df_topics[\"topic_num\"] == 12].nlargest(5, \"resid\")[\"url\"].tolist()"
   ]
  },
  {
   "cell_type": "markdown",
   "metadata": {},
   "source": [
    "**Observations**\n",
    "1. The topics of these articles are listed below, are focused on elements of the periodic table\n",
    "   - [all about the element niobium](https://www.theguardian.com/science/punctuated-equilibrium/2011/dec/09/1)\n",
    "   - [element Xenon](https://www.theguardian.com/science/grrlscientist/2012/mar/16/1)\n",
    "   - [element tellurium](https://www.theguardian.com/science/grrlscientist/2012/mar/02/1)\n",
    "   - [element calcium](https://www.theguardian.com/science/punctuated-equilibrium/2011/jul/08/1)\n",
    "   - [mentions how the element gold is created when neutron stars collide with each other](https://www.theguardian.com/science/life-and-physics/2016/feb/02/the-cosmic-gift-of-neutron-stars)\n",
    "\n",
    "These aren't related to the search for the Higgs Boson and likely only appears here since they mention components listed on the periodic table (particles like neutrons, protons, etc.) that are also mentioned in news articles about the Higgs boson. Either these should be incorporated into a sepate topic or this hybrid topic should be named to account for all elementary particles and not just the Higgs boson."
   ]
  },
  {
   "cell_type": "markdown",
   "metadata": {},
   "source": [
    "<a id=\"topic-10\"></a>\n",
    "\n",
    "#### 4.4.4. [Topic 10](#topic-10)"
   ]
  },
  {
   "cell_type": "markdown",
   "metadata": {},
   "source": [
    "The five best texts that fit into topic number 10 are shown below"
   ]
  },
  {
   "cell_type": "code",
   "execution_count": null,
   "metadata": {},
   "outputs": [],
   "source": [
    "df_topics[df_topics[\"topic_num\"] == 10].nsmallest(5, \"resid\")[\"url\"].tolist()"
   ]
  },
  {
   "cell_type": "markdown",
   "metadata": {},
   "source": [
    "**Observations**\n",
    "1. The topics of these articles are listed below\n",
    "   - approaching end of Cassini mission\n",
    "     - [1](https://www.theguardian.com/science/2017/apr/30/cassini-saturn-space-probe-fiery-finale-nasa)\n",
    "     - [2](https://www.theguardian.com/science/2017/sep/14/nasas-cassini-spacecraft-poised-to-begin-mission-ending-dive-into-saturn)\n",
    "   - Cassini spacecraft enters Saturn orbit\n",
    "     - [1](https://www.theguardian.com/science/2004/jul/01/spaceexploration.research)\n",
    "     - [2](https://www.theguardian.com/science/2004/jun/04/spaceexploration.starsgalaxiesandplanets)\n",
    "   - [explores what was learned from Cassini about Saturn](https://www.theguardian.com/science/2017/sep/15/what-did-the-cassini-mission-tell-us-about-saturn-and-its-moons)"
   ]
  },
  {
   "cell_type": "markdown",
   "metadata": {},
   "source": [
    "The five worst texts that fit into this topic are shown below"
   ]
  },
  {
   "cell_type": "code",
   "execution_count": null,
   "metadata": {},
   "outputs": [],
   "source": [
    "df_topics[df_topics[\"topic_num\"] == 10].nlargest(5, \"resid\")[\"url\"].tolist()"
   ]
  },
  {
   "cell_type": "markdown",
   "metadata": {},
   "source": [
    "**Observations**\n",
    "1. The topics of these articles are listed below\n",
    "   - [toy experiment to show that gas takes up more volumne than solids](https://www.theguardian.com/science/2008/may/02/physics.chemistry)\n",
    "     - water mixed with Alka-Seltzer causes the container to shoot up like a rocket\n",
    "   - [basic science of a stone skimming on water](https://www.theguardian.com/science/2004/jan/08/research.science1)\n",
    "   - [discovery of remnants of ancient lake in Sudan](https://www.theguardian.com/science/2007/jul/19/sudan.water)\n",
    "   - [challenges of a mission to fly a glider into space, due to extreme atmospheric conditions](https://www.theguardian.com/science/2005/jul/28/thisweekssciencequestions.aeronautics)\n",
    "   - [New Horizons spacecraft captures first images of Ultima Thule, proposed to have been created by mixing of ice and dust during the early days of the Solar System](https://www.theguardian.com/science/2019/jan/02/first-close-ups-of-ultima-thule-reveal-it-resembles-dark-red-snowman)\n",
    "\n",
    "The themes tying these articles to the Cassini mission to Saturn are\n",
    "- science involving water/ice, since [Cassini may have found evidence of water on one of Saturn's moons](https://www.nasa.gov/mission_pages/cassini/media/cassini-20060309.html)\n",
    "- discovery\n",
    "- mission into a difficult atmosphere\n",
    "\n",
    "If the article about flying a glider is left out, then discoveries/experiments involving water across the solar system and, even on Earth, is a more appropriate theme of the five worst articles.\n",
    "\n",
    "**Best** - Cassini mission updates\n",
    "\n",
    "**Worst** - "
   ]
  },
  {
   "cell_type": "markdown",
   "metadata": {},
   "source": [
    "<a id=\"topic-0\"></a>\n",
    "\n",
    "#### 4.4.5. [Topic 0](#topic-0)"
   ]
  },
  {
   "cell_type": "markdown",
   "metadata": {},
   "source": [
    "The five best texts that fit into topic number 0 are shown below"
   ]
  },
  {
   "cell_type": "code",
   "execution_count": null,
   "metadata": {},
   "outputs": [],
   "source": [
    "df_topics[df_topics[\"topic_num\"] == 0].nsmallest(5, \"resid\")[\"url\"].tolist()"
   ]
  },
  {
   "cell_type": "markdown",
   "metadata": {},
   "source": [
    "**Observations**\n",
    "1. The topics of these articles are listed below\n",
    "   - [about a book discussing biggest remaining questions in science](https://www.theguardian.com/science/2013/sep/01/20-big-questions-in-science)\n",
    "   - [scientific ideas that aren't very strong](https://www.theguardian.com/science/2014/jan/12/what-scientific-idea-is-ready-for-retirement-edge-org)\n",
    "   - [unexpected scientific findings that challenge existing beliefs](https://www.theguardian.com/science/2014/jun/29/five-insights-challenging-sciences-unshakable-truths)\n",
    "   - [about a book on scientific thinking and cosmology](https://www.theguardian.com/science/2016/sep/18/brian-cox-interview-it-is-a-book-about-how-to-think-universal-a-guide-to-the-cosmos)\n",
    "   - questions for a theorist ([1](https://en.wikipedia.org/wiki/Theoretical_physics)), [primarily about nature of time](https://www.theguardian.com/science/2019/mar/31/carlo-rovelli-you-ask-the-questions-time-travel-is-just-what-we-do-every-day-theoretical-physics)"
   ]
  },
  {
   "cell_type": "markdown",
   "metadata": {},
   "source": [
    "The five worst texts that fit into this topic are shown below"
   ]
  },
  {
   "cell_type": "code",
   "execution_count": null,
   "metadata": {},
   "outputs": [],
   "source": [
    "df_topics[df_topics[\"topic_num\"] == 0].nlargest(5, \"resid\")[\"url\"].tolist()"
   ]
  },
  {
   "cell_type": "markdown",
   "metadata": {},
   "source": [
    "**Observations**\n",
    "1. The topics of these articles are listed below\n",
    "   - [article about a type of puzzle](https://www.theguardian.com/science/2015/nov/23/can-you-solve-it-the-crossword-that-counts-itself)\n",
    "   - [home science experiment - soda fountain](https://www.theguardian.com/science/2008/may/02/chemistry.physics)\n",
    "   - [on a inter-disciplinary research study of knots between Biology and Physics](https://www.theguardian.com/science/2001/sep/13/physicalsciences.highereducation) (knots in [Mathematics](https://en.wikipedia.org/wiki/Knot_theory) and [Biology](https://en.wikipedia.org/wiki/Molecular_knot))\n",
    "   - [scientific study proving that ducks produce an echo](https://www.theguardian.com/science/2003/sep/08/sciencenews.theguardianlifesupplement)\n",
    "   - celebrating [Pi Day](https://www.piday.org/), with an [article](https://www.theguardian.com/science/2016/mar/14/pi-day-your-guide-to-this-infinitely-interesting-number) all about the number [Pi](https://en.wikipedia.org/wiki/Pi)"
   ]
  },
  {
   "cell_type": "markdown",
   "metadata": {},
   "source": [
    "This was the worst overall topic in terms of the median residual. The worst of these high-residual news articles also include those with a focus on home science experiments or leisurely activities (Pi Day, puzzle). The loose connection between puzzles and science is that they could promote creative thinking ([1](https://newforums.com/one-activity-develops-creative-thinking/), [2](https://www.lifehack.org/374975/science-explains-why-crossword-puzzles-are-good-for-your-mental-health)). There are articles about scientific findings, remaining questions and concepts (time, cosmos) in the best articles, but also some in the worst (duck echo and knots). Some of the best articles don't relate to scientific research, but are more a discussion about scientific concepts. So, it may be difficult to separate these into two sub-topics. The articles about research tend to focus on academic research. Interesting scientific findings might be the best blanket topic name to use here."
   ]
  },
  {
   "cell_type": "markdown",
   "metadata": {},
   "source": [
    "<a id=\"topic-1\"></a>\n",
    "\n",
    "#### 4.4.6. [Topic 1](#topic-1)"
   ]
  },
  {
   "cell_type": "markdown",
   "metadata": {},
   "source": [
    "The five best texts that fit into the best topic (by residual), topic number 1, are shown below"
   ]
  },
  {
   "cell_type": "code",
   "execution_count": null,
   "metadata": {},
   "outputs": [],
   "source": [
    "df_topics[df_topics[\"topic_num\"] == 1].nsmallest(5, \"resid\")[\"url\"].tolist()"
   ]
  },
  {
   "cell_type": "markdown",
   "metadata": {},
   "source": [
    "**Observations**\n",
    "1. The topics of these articles are listed below\n",
    "   - [reporting on NASA's plans to re-attempt the Columbia shuttle mission, two years after the 2003 crash](https://www.theguardian.com/science/2005/jul/07/1)\n",
    "   - [about preparing for launch of the last mission for the shuttle Discovery](https://www.theguardian.com/science/2010/oct/31/us-space-shuttle-discovery-mission)\n",
    "   - [looking ahead to Discovery's last launch mission, while discussing the problem of debris from the 2003 Columbia crash](https://www.theguardian.com/science/2005/jul/29/sciencenews.spaceexploration)\n",
    "   - [about Discovery's last mission risks despite learning and fixing issues related to 2003 Columbia crash](https://www.theguardian.com/science/2005/apr/10/spaceexploration.usnews)\n",
    "   - [NASA announcing Discovery is given green-light for launch despite facing safety-related questions in light of the 2003 Columbia crash](https://www.theguardian.com/science/2006/jul/01/spaceexploration.internationalnews)"
   ]
  },
  {
   "cell_type": "markdown",
   "metadata": {},
   "source": [
    "The five worst texts that fit into the best topic (by residual) are shown below"
   ]
  },
  {
   "cell_type": "code",
   "execution_count": null,
   "metadata": {},
   "outputs": [],
   "source": [
    "df_topics[df_topics[\"topic_num\"] == 1].nlargest(5, \"resid\")[\"url\"].tolist()"
   ]
  },
  {
   "cell_type": "markdown",
   "metadata": {},
   "source": [
    "**Observations**\n",
    "1. The topics of these articles are listed below\n",
    "   - [about death of Israeli astronaut, who trained at NASA as a craft payload specialist to image aerosols in a desert and died in 2003 Columbia crash](https://www.theguardian.com/science/2003/feb/03/spaceexploration.columbia8)\n",
    "   - [characteristics of an ideal fuel cell](https://www.theguardian.com/science/2005/mar/24/science.research1)\n",
    "     - [hydeogen is used in rocket propellants](https://theconversation.com/hydrogen-fuels-rockets-but-what-about-power-for-daily-life-were-getting-closer-112958)\n",
    "   - [remembering Israeli astronaut who died in 2003 Columbia crash](https://www.theguardian.com/science/2003/feb/03/spaceexploration.research1)\n",
    "   - [about picture carried by Israeli astronaut who died in 2003 Columbia crash](https://www.theguardian.com/science/2003/feb/02/spaceexploration.columbia1)\n",
    "   - [about hummingbirds travelling faster than fighter jets and a space shuttle](https://www.theguardian.com/science/2009/jun/10/hummingbird-fastest-animal-fighter-jet)\n",
    "\n",
    "This seems like a reasonably coherent topic, related to space shuttle crashes. Even some of the worst articles fitting this topic are related to the crashes, though predominantly indirectly. A few of the worst fitting articles focus more on space flight than on shuttle crashes."
   ]
  },
  {
   "cell_type": "markdown",
   "metadata": {},
   "source": [
    "<a id=\"topic-2\"></a>\n",
    "\n",
    "#### 4.4.7. [Topic 2](#topic-2)"
   ]
  },
  {
   "cell_type": "markdown",
   "metadata": {},
   "source": [
    "The five best texts that fit into the best topic (by residual), topic number 2, are shown below"
   ]
  },
  {
   "cell_type": "code",
   "execution_count": null,
   "metadata": {},
   "outputs": [],
   "source": [
    "df_topics[df_topics[\"topic_num\"] == 2].nsmallest(5, \"resid\")[\"url\"].tolist()"
   ]
  },
  {
   "cell_type": "markdown",
   "metadata": {},
   "source": [
    "**Observations**\n",
    "1. The topics of these news articles are listed below\n",
    "   - [anticipating the mission launch for the Beagle 2 Mars lander](https://www.theguardian.com/science/2003/may/22/spaceexploration.starsgalaxiesandplanets)\n",
    "   - [about a joint NASA-ESA Mars mission proposal with sample return, with estimated launch between 2018-2023](https://www.theguardian.com/science/2008/jul/14/mars.spaceexploration)\n",
    "     - this turned out to be the Insight mission with a [lander](https://en.wikipedia.org/wiki/InSight) and [Perseverance rover](https://en.wikipedia.org/wiki/Perseverance_(rover)) with the [Ingenuity helicopter](https://en.wikipedia.org/wiki/Mars_Helicopter_Ingenuity) onboard\n",
    "   - [year-end review of scientific, including Mars-based research, findings in 2015](https://www.theguardian.com/science/2015/dec/25/2015-big-year-space-exploration-major-tim-peake-pluto)\n",
    "   - [looking ahead to Beagle 2 Mars mission launch](https://www.theguardian.com/science/2003/jun/02/spaceexploration.starsgalaxiesandplanets)\n",
    "   - [reporting on Beagle 2 separating from parent spacecraft, and beginning descent to the Martian surface](https://www.theguardian.com/science/2003/dec/19/spaceexploration.research1)"
   ]
  },
  {
   "cell_type": "markdown",
   "metadata": {},
   "source": [
    "The five worst texts that fit into the best topic (by residual) are shown below"
   ]
  },
  {
   "cell_type": "code",
   "execution_count": null,
   "metadata": {},
   "outputs": [],
   "source": [
    "df_topics[df_topics[\"topic_num\"] == 2].nlargest(5, \"resid\")[\"url\"].tolist()"
   ]
  },
  {
   "cell_type": "markdown",
   "metadata": {},
   "source": [
    "**Observations**\n",
    "1. The topics of these articles are listed below\n",
    "   - [about](https://www.theguardian.com/uk/2008/jan/14/art.artnews) the [Martian Museum of Terrestrial Art Exhibition](https://www.frieze.com/article/martian-museum-terrestrial-art)\n",
    "   - [Scuderia Ferrari Formula 1 team sends its red paint to Mars on the ESA's Mars Express](https://www.theguardian.com/science/2002/aug/29/technology)\n",
    "   - [about NASA's announced spacesuit to aid humans on Mars](https://www.theguardian.com/science/2014/apr/30/nasa-spacesuit-zseries-new-design-mars)\n",
    "   - [about space tourism in 2018](https://www.theguardian.com/science/shortcuts/2013/feb/28/mars-mission-married-couple-space)\n",
    "   - [about colonization on Mars](https://www.theguardian.com/science/2019/jun/23/all-female-mars-colony-possible-using-frozen-sperm-says-study)\n",
    "\n",
    "Although related to Mars, the five worst articles aren't directly reporting on space missions to the planet operations."
   ]
  },
  {
   "cell_type": "markdown",
   "metadata": {},
   "source": [
    "<a id=\"topic-9\"></a>\n",
    "\n",
    "#### 4.4.8. [Topic 9](#topic-9)"
   ]
  },
  {
   "cell_type": "markdown",
   "metadata": {},
   "source": [
    "The five best texts that fit into the best topic (by residual), topic number 9, are shown below"
   ]
  },
  {
   "cell_type": "code",
   "execution_count": null,
   "metadata": {},
   "outputs": [],
   "source": [
    "df_topics[df_topics[\"topic_num\"] == 9].nsmallest(5, \"resid\")[\"url\"].tolist()"
   ]
  },
  {
   "cell_type": "markdown",
   "metadata": {},
   "source": [
    "**Observations**\n",
    "1. The topics of these news articles are listed below\n",
    "   - [about life on the ISS](https://www.theguardian.com/science/2010/oct/24/international-space-station-nasa-astronauts)\n",
    "   - [arrival of first crew to the ISS - US astronaut and two Russian cosmonauts](https://www.theguardian.com/science/2000/nov/02/spaceexploration)\n",
    "   - [launch of Space Shuttle Atlantis, carrying five US and two Russian crew members, heading to the ISS](https://www.theguardian.com/science/2000/sep/08/spaceexploration)\n",
    "   - [Atlantis returns to Earth after dropping off five-crew team to ISS](https://www.theguardian.com/science/2000/sep/27/spaceexploration)\n",
    "   - [Four Russian and one US crew member preparing for mission to MIR space station](https://www.theguardian.com/science/2000/nov/15/spaceexploration)"
   ]
  },
  {
   "cell_type": "markdown",
   "metadata": {},
   "source": [
    "The five worst texts that fit into the best topic (by residual) are shown below"
   ]
  },
  {
   "cell_type": "code",
   "execution_count": null,
   "metadata": {},
   "outputs": [],
   "source": [
    "df_topics[df_topics[\"topic_num\"] == 9].nlargest(5, \"resid\")[\"url\"].tolist()"
   ]
  },
  {
   "cell_type": "markdown",
   "metadata": {},
   "source": [
    "**Observations**\n",
    "1. The topics of these articles are listed below\n",
    "   - [remembering US space flight surgeon](https://www.theguardian.com/science/2003/feb/03/spaceexploration.columbia7), [who helped develop an ISS treadmill for astronauts](https://womeninwisconsin.org/profile/laurel-clark/)\n",
    "   - [remembering spider that spent 100 days on ISS](https://www.theguardian.com/science/2012/dec/05/space-pioneer-jumping-spider-dies)\n",
    "   - [reporting on a missing tourist (former fashion-designer) who predicted MIR would crash over Paris](https://www.theguardian.com/science/1999/aug/13/eclipse.internationalnews)\n",
    "   - [article about former British PM as captain of USS Enterprise, from Star Trek](https://www.theguardian.com/science/brain-flapping/2015/aug/18/david-cameron-captain-enterprise-star-trek)\n",
    "   - [regarding a statue for Yuri Gagarin](https://en.wikipedia.org/wiki/Yuri_Gagarin), who was a former deputy training director for the [Cosmonaut Training Centre](https://en.wikipedia.org/wiki/Yuri_Gagarin_Cosmonaut_Training_Center) ([now named after him](https://en.wikipedia.org/wiki/Yuri_Gagarin_Cosmonaut_Training_Center)) where [ISS crews train](https://www.nasa.gov/feature/remembering-yuri-gagarin-50-years-later)\n",
    "\n",
    "This is a reasonably coherent topic, related to US and Russian Space Stations - directly, via articles about mission operations, or indirectly involving former astronauts/cosmonauts."
   ]
  },
  {
   "cell_type": "markdown",
   "metadata": {},
   "source": [
    "<a id=\"topic-13\"></a>\n",
    "\n",
    "#### 4.4.9. [Topic 13](#topic-13)"
   ]
  },
  {
   "cell_type": "markdown",
   "metadata": {},
   "source": [
    "The five best texts that fit into the best topic (by residual), topic number 13, are shown below"
   ]
  },
  {
   "cell_type": "code",
   "execution_count": null,
   "metadata": {},
   "outputs": [],
   "source": [
    "df_topics[df_topics[\"topic_num\"] == 13].nsmallest(5, \"resid\")[\"url\"].tolist()"
   ]
  },
  {
   "cell_type": "markdown",
   "metadata": {},
   "source": [
    "**Observations**\n",
    "1. The topics of these news articles are listed below\n",
    "   - [report on third detection of gravitational wave at LIGO](https://www.theguardian.com/science/2017/jun/01/third-gravitational-wave-detection-gives-hints-on-dark-matter-and-black-holes)\n",
    "   - [first discovery of gravitational waves](https://www.theguardian.com/science/2016/feb/11/gravitational-waves-discovery-hailed-as-breakthrough-of-the-century)\n",
    "   - [remembering Stephen Hawking after he passed away](https://www.theguardian.com/science/2018/mar/14/a-life-in-science-stephen-hawking)\n",
    "     - Hawking radiation is predicted to be released by black holes but [has not been detected](https://www.forbes.com/sites/startswithabang/2020/07/01/this-is-why-well-never-detect-hawking-radiation-from-an-actual-black-hole/?sh=56eaaf8b1f0d)\n",
    "       - roughly speaking, in order to learn about black holes, instead of detecting Hawking radiation, gravitational waves can be used to collect data about wave sources (such as black hole collisions)\n",
    "   - [report on being near first sighting of black hole in Milky Way](https://www.theguardian.com/science/2019/jan/11/scientists-close-to-capturing-first-image-of-black-hole-at-the-centre-of-the-milky-way)\n",
    "     - article explains what is a black hole and that LIGO has detected black hole collisions\n",
    "   - [reporting on first image of a black hole](https://www.theguardian.com/science/2019/apr/10/black-hole-picture-captured-for-first-time-in-space-breakthrough)\n",
    "     - article explains what a black hole is and [links to](https://www.theguardian.com/science/2016/feb/11/gravitational-waves-discovery-hailed-as-breakthrough-of-the-century) gravitational wave detection when black holes collide"
   ]
  },
  {
   "cell_type": "markdown",
   "metadata": {},
   "source": [
    "The five worst texts that fit into the best topic (by residual) are shown below"
   ]
  },
  {
   "cell_type": "code",
   "execution_count": null,
   "metadata": {},
   "outputs": [],
   "source": [
    "df_topics[df_topics[\"topic_num\"] == 13].nlargest(5, \"resid\")[\"url\"].tolist()"
   ]
  },
  {
   "cell_type": "markdown",
   "metadata": {},
   "source": [
    "**Observations**\n",
    "1. The topics of these articles are listed below\n",
    "   - article about [Ada Lovelace](https://en.wikipedia.org/wiki/Ada_Lovelace)[-inspired puzzle where black squares are prominent](https://www.theguardian.com/science/2017/mar/28/did-you-solve-it-take-the-ada-lovelace-challenge-solution-part-i)\n",
    "   - [why why hummingbirds create nest near hawks](https://www.theguardian.com/science/grrlscientist/2015/sep/30/hummingbirds-nest-near-hawks-for-protection)\n",
    "   - [black hole explains existence of Santa Claus](https://www.theguardian.com/science/brain-flapping/2014/dec/12/santa-claus-father-christmas)\n",
    "   - [about](https://www.theguardian.com/science/2003/jan/16/science.research1) the Golden Ratio, which [appears in theory of black holes](https://johncarlosbaez.wordpress.com/2013/02/28/black-holes-and-the-golden-ratio/)\n",
    "   - [about shape of universe being that of an American football](https://www.theguardian.com/science/2003/oct/09/spaceexploration.research)"
   ]
  },
  {
   "cell_type": "markdown",
   "metadata": {},
   "source": [
    "This is a somewhat coherent topic, related to black holes. The best articles focus on gravitation wave detection as evidence of black hole existence (collision) or direct black hole images. The worst articles indirectly relate to black holes - focus here, though, is on (sometimes loosely) related topics - hawks (birds, due to the connection between black holes and Hawking, or black-body, radiation), puzzle with the colour black and the universe in general (in the case of the latter, at best, this connection could be due to [our universe maybe existing inside a black hole](https://insidescience.org/news/every-black-hole-contains-new-universe), black holes being [spread across the universe](https://www.space.com/15421-black-holes-facts-formation-discovery-sdcmp.html) and [black holes possibly leading to another universe](https://www.space.com/where-do-black-holes-lead.html))."
   ]
  },
  {
   "cell_type": "markdown",
   "metadata": {},
   "source": [
    "<a id=\"assign-names-to-15-topics\"></a>\n",
    "\n",
    "### 4.5. [Assign Names to 15 Topics](#assign-names-to-15-topics)"
   ]
  },
  {
   "cell_type": "markdown",
   "metadata": {},
   "source": [
    "A mapping will be made between topic number and name, based on the top 10 terms and manual reading to topic articles, will be developed."
   ]
  },
  {
   "cell_type": "code",
   "execution_count": null,
   "metadata": {},
   "outputs": [],
   "source": [
    "d_topics_15 = {\n",
    "    4: {\n",
    "        \"best\": \"Rosetta mission updates\",\n",
    "        \"worst\": \"Science involving Comets\",\n",
    "    },\n",
    "    6: {\"best\": \"About the Moon Landings\", \"worst\": \"Moon in Popular Culture\"},\n",
    "    12: {\"best\": \"Discovery of Higgs Boson\", \"worst\": \"Particles of Matter\"},\n",
    "    10: {\n",
    "        \"best\": \"Cassini mission updates\",\n",
    "        \"worst\": \"Fun with Water\",\n",
    "    },\n",
    "    0: {\"best\": \"Science Facts & Thinking\", \"worst\": \"Fun with Science\"},\n",
    "    1: {\n",
    "        \"best\": \"Columbia shuttle crash\",\n",
    "        \"worst\": \"Space Shuttle Astronauts and Technology\",\n",
    "    },\n",
    "    2: {\n",
    "        \"best\": \"Mars mission updates\",\n",
    "        \"worst\": \"Mars Colonization and Tourism\",\n",
    "    },\n",
    "    9: {\n",
    "        \"best\": \"ISS updates\",\n",
    "        \"worst\": \"Space Stations - Facts and History\",\n",
    "    },\n",
    "    13: {\n",
    "        \"best\": \"Black Holes\",\n",
    "        \"worst\": \"Black Holes in Popular Culture\",\n",
    "    },\n",
    "    3: {\"best\": \"Topic 3\", \"worst\": \"Topic 3\"},\n",
    "    5: {\"best\": \"Topic 5\", \"worst\": \"Topic 5\"},\n",
    "    7: {\"best\": \"Topic 7\", \"worst\": \"Topic 7\"},\n",
    "    8: {\"best\": \"Topic 8\", \"worst\": \"Topic 8\"},\n",
    "    11: {\"best\": \"Topic 11\", \"worst\": \"Topic 11\"},\n",
    "    14: {\"best\": \"Topic 14\", \"worst\": \"Topic 14\"},\n",
    "}\n",
    "df_named_topics = (\n",
    "    pd.DataFrame.from_dict(d_topics_15, orient=\"index\")\n",
    "    .sort_index()\n",
    "    .rename_axis(\"topic_num\")\n",
    ")\n",
    "display(df_named_topics)"
   ]
  },
  {
   "cell_type": "markdown",
   "metadata": {},
   "source": [
    "The residual plot is repeated now with topic names"
   ]
  },
  {
   "cell_type": "code",
   "execution_count": null,
   "metadata": {},
   "outputs": [],
   "source": [
    "# boxplot_sorted(\n",
    "#     df_topics[[\"topic_num\", \"resid\"]].merge(\n",
    "#         df_named_topics.reset_index()[[\"topic_num\", \"best\"]], on=\"topic_num\"\n",
    "#     ),\n",
    "#     [\"best\"],\n",
    "#     \"resid\",\n",
    "#     \"Topic Residual (sorted by median)\",\n",
    "#     \"right\",\n",
    "#     14,\n",
    "#     45,\n",
    "#     sort_by_median=True,\n",
    "#     fig_size=(12, 6),\n",
    "# )\n",
    "\n",
    "altair_boxplot_sorted(\n",
    "    df_topics[[\"topic_num\", \"resid\"]].merge(\n",
    "        df_named_topics.reset_index()[[\"topic_num\", \"best\"]], on=\"topic_num\"\n",
    "    ),\n",
    "    \"best\",\n",
    "    \"resid\",\n",
    "    \"median(resid)\",\n",
    "    \"Topic Residual (sorted by median)\",\n",
    "    14,\n",
    "    14,\n",
    "    16,\n",
    "    dx=100,\n",
    "    offset=-5,\n",
    "    x_tick_label_angle=-45,\n",
    "    horiz_bar_chart=False,\n",
    "    axis_range=[0.5, 1],\n",
    "    fig_size=(600, 250),\n",
    ")"
   ]
  },
  {
   "cell_type": "markdown",
   "metadata": {},
   "source": [
    "**Observations**\n",
    "1. The topics related to missions and the Moon are among the best, but the ISS and Cassini mission updates aren't as good\n",
    "   - could the ISS topic be mixing USS and Russian space programs, rather than just the two countries space stations?\n",
    "   - for Cassini, could it be getting mixed in with water-related articles which serve to de-focus the overall topic?\n",
    "2. Topic 7 (SpaceX) doesn't fare so well, while Topic 8 (objects impacting Earth) is among the best. both of these are fairly focused topics. It is somewhat surprising that SpaceX is so far down this list. Articles from this topic were not read. It may that the best articles are focused on other companies involved in rocket launch testing and perhaps also with space tourism.\n",
    "3. Concrete topics on scientific discoveries - Bosons and Black Holes (middle-of-the-chart) - fare better than general scientific research findings, facts, etc. (the highest residual, or worst) topic."
   ]
  },
  {
   "cell_type": "markdown",
   "metadata": {},
   "source": [
    "<a id=\"comparison-to-word-vectors\"></a>\n",
    "\n",
    "### 4.6. [Comparison to Word Vectors](#comparison-to-word-vectors)"
   ]
  },
  {
   "cell_type": "markdown",
   "metadata": {},
   "source": [
    "We'll briefly explore the concept of comparing documents to eachother, instead of comparing the words as we've done so far. This concept of similarity is determined using [word vectors](https://en.wikipedia.org/wiki/Word_embedding), which leverage the multi-dimensional meaning/representation of words. These are generated using algorithm like [Word2Vec](https://en.wikipedia.org/wiki/Word2vec) and a lot of text."
   ]
  },
  {
   "cell_type": "markdown",
   "metadata": {},
   "source": [
    "We'll use the [Spacy natural language processing package](https://en.wikipedia.org/wiki/SpaCy) for applying this technique to the raw news articles without processing. Spacy offers a NLP pipeline that will apply all the necessary steps - [part-of-speech tagging](https://en.wikipedia.org/wiki/Part-of-speech_tagging), [dependency parsing](https://en.wikipedia.org/wiki/Parse_tree) and [named entity recognition](https://en.wikipedia.org/wiki/Named-entity_recognition) - before applying a pre-trained word vector model. In this version of the analysis, we'll limit ourselves to this built-in pipeline with no customizations."
   ]
  },
  {
   "cell_type": "code",
   "execution_count": null,
   "metadata": {},
   "outputs": [],
   "source": [
    "%%time\n",
    "if run_spacy_medium_model:\n",
    "    vectors = [nlp(sentence).vector for sentence in df_guardian[\"text\"]]"
   ]
  },
  {
   "cell_type": "markdown",
   "metadata": {},
   "source": [
    "Next, the articles will be compared to eachother using cosine similarity between these vectors"
   ]
  },
  {
   "cell_type": "code",
   "execution_count": null,
   "metadata": {},
   "outputs": [],
   "source": [
    "if run_spacy_medium_model:\n",
    "    dfcs = pd.DataFrame(cosine_similarity(vectors))\n",
    "    dfcs = dfcs.assign(topic_num=df_topics[\"topic_num\"])"
   ]
  },
  {
   "cell_type": "code",
   "execution_count": null,
   "metadata": {},
   "outputs": [],
   "source": [
    "# if run_spacy_medium_model:\n",
    "#     dfcs_unstacked = (\n",
    "#         dfcs.select_dtypes(\"float32\")\n",
    "#         # dfcs[dfcs.index]\n",
    "#         .unstack()\n",
    "#         .reset_index()\n",
    "#         .rename(columns={\"level_0\": \"doc1\", \"level_1\": \"doc2\", 0: \"cos_sim\"})\n",
    "#     )\n",
    "#     dfcs_topics = (\n",
    "#         dfcs.merge(df_named_topics.reset_index()[[\"topic_num\", \"best\"]], on=\"topic_num\")\n",
    "#         .reset_index()\n",
    "#         .rename(columns={\"index\": \"doc1\"})[[\"doc1\", \"best\"]]\n",
    "#     )\n",
    "#     dfcs_merged = dfcs_unstacked.merge(dfcs_topics, on=\"doc1\")"
   ]
  },
  {
   "cell_type": "markdown",
   "metadata": {},
   "source": [
    "We'll now generate a boxplot of the cosine similarities for each document pair within a given topic."
   ]
  },
  {
   "cell_type": "code",
   "execution_count": null,
   "metadata": {},
   "outputs": [],
   "source": [
    "if run_spacy_medium_model:\n",
    "    dfcs_all = []\n",
    "    for topic in dfcs[\"topic_num\"].unique():\n",
    "        dfcs_named_topics = dfcs.loc[dfcs[\"topic_num\"] == topic]\n",
    "        # display(dfcs_named_topics[dfcs_named_topics.index])\n",
    "        dfcs_unstacked = (\n",
    "            dfcs_named_topics[dfcs_named_topics.index]\n",
    "            .unstack()\n",
    "            .reset_index()\n",
    "            .rename(columns={\"level_0\": \"doc1\", \"level_1\": \"doc2\", 0: \"cos_sim\"})\n",
    "        )\n",
    "        # display(dfcs_unstacked)\n",
    "        dfcs_reshaped = dfcs_unstacked.merge(\n",
    "            dfcs_named_topics[dfcs_named_topics.index.tolist() + [\"topic_num\"]]\n",
    "            .reset_index()[[\"index\", \"topic_num\"]]\n",
    "            .rename(columns={\"index\": \"doc1\"}),\n",
    "            on=\"doc1\",\n",
    "        ).merge(df_named_topics.reset_index()[[\"best\", \"topic_num\"]], on=\"topic_num\")[\n",
    "            [\"doc1\", \"doc2\", \"cos_sim\", \"best\"]\n",
    "        ]\n",
    "        # display(dfcs_reshaped)\n",
    "        dfcs_all.append(dfcs_reshaped)\n",
    "    # display(dfcs[[\"topic_num\", \"best\"]].head(2))\n",
    "    dfcs_merged = pd.concat(dfcs_all).reset_index(drop=True)\n",
    "    display(dfcs_merged)"
   ]
  },
  {
   "cell_type": "code",
   "execution_count": null,
   "metadata": {},
   "outputs": [],
   "source": [
    "if run_spacy_medium_model:\n",
    "    altair_boxplot_sorted(\n",
    "        dfcs_merged,\n",
    "        \"best\",\n",
    "        \"cos_sim\",\n",
    "        \"median(cos_sim)\",\n",
    "        \"Cosine Similarity (sorted by median)\",\n",
    "        14,\n",
    "        14,\n",
    "        16,\n",
    "        dx=75,\n",
    "        offset=-5,\n",
    "        x_tick_label_angle=-45,\n",
    "        horiz_bar_chart=False,\n",
    "        axis_range=[0.3, 1],\n",
    "        fig_size=(600, 250),\n",
    "    )"
   ]
  },
  {
   "cell_type": "markdown",
   "metadata": {},
   "source": [
    "**Notes**\n",
    "1. Due to the size of the model required here (`_sm` does not include word vectors) and the size of the data (even though its only a few thousand news articles), this comparison will *only* be made if the [User Inputs](#user-inputs) section variable `run_spacy_medium_model` is set to `True`."
   ]
  },
  {
   "cell_type": "markdown",
   "metadata": {},
   "source": [
    "**Observations**\n",
    "1. Most of the topics have news articles with a high cosine similarity to eachother, so this grouping of texts does seem qualitatively reasonable.\n",
    "2. A few topics have a relatively larger number of outliers, so there could be articles in these outliers that belong to sub-topics that don't overlap enough to be picked up by the overall grouping.\n",
    "3. The topics whose best news articles report on one of mission updates, discovery of black holes or discovery of the Higgs particle have the most tightly grouped cosine similarity scores."
   ]
  },
  {
   "cell_type": "markdown",
   "metadata": {},
   "source": [
    "The limitation of this approach is that we've used a small vocabulary with fewer vectors. The model took a long time to train and would take even longer with a larger vocabulary. Could this comparison between articles benefit from a larger vocabulary and reveal some less-sensible topics? For this word vector-based approach, are short phrases better than long documents with many irrelevant words?"
   ]
  },
  {
   "cell_type": "markdown",
   "metadata": {},
   "source": [
    "<a id=\"exploring-topics-combined-with-source-data-and-15-topics\"></a>\n",
    "\n",
    "## 5. [Exploring topics combined with source data and 15 topics](#exploring-topics-combined-with-source-data-and-15-topics)"
   ]
  },
  {
   "cell_type": "markdown",
   "metadata": {},
   "source": [
    "The top 10 scoring terms by topic are visualized below"
   ]
  },
  {
   "cell_type": "code",
   "execution_count": null,
   "metadata": {},
   "outputs": [],
   "source": [
    "altair_plot_grid_by_column(\n",
    "    df_topic_word_factors.merge(\n",
    "        df_named_topics.reset_index()[[\"topic_num\", \"best\"]], on=\"topic_num\"\n",
    "    ),\n",
    "    xvar=\"weight\",\n",
    "    yvar=\"term\",\n",
    "    col2grid=\"best\",\n",
    "    space_between_plots=5,\n",
    "    fig_size=(150, 200),\n",
    ")"
   ]
  },
  {
   "cell_type": "markdown",
   "metadata": {},
   "source": [
    "By comparison, the 10 most common words (expressed as a percentage) by topic are visualized below"
   ]
  },
  {
   "cell_type": "code",
   "execution_count": null,
   "metadata": {},
   "outputs": [],
   "source": [
    "altair_plot_grid_by_column(\n",
    "    df_twc.merge(df_named_topics.reset_index()[[\"topic_num\", \"best\"]], on=\"topic_num\"),\n",
    "    xvar=\"count\",\n",
    "    yvar=\"word\",\n",
    "    col2grid=\"best\",\n",
    "    space_between_plots=5,\n",
    "    fig_size=(150, 200),\n",
    ")"
   ]
  },
  {
   "cell_type": "markdown",
   "metadata": {},
   "source": [
    "We can comment on these charts for a couple of topics\n",
    "1. Topic 10 relates to the [Cassini-Huygens mission](https://en.wikipedia.org/wiki/Cassini%E2%80%93Huygens) to Saturn, exploring the planet and its system of moons, rings, etc. The important terms are tied to the mission. The most commonly used words place a focus on ice and water (some of the findings of the Cassini mission).\n",
    "2. Topic 2 is clearly about the Guardian's reporting on Mars. The (British) Beagle 2 Mars lander is given high importance. The word-count frequency doesn't include `beagle` in the top 10 most commonly used words. The ML model's predictions suggest the Beagle lander should be among the most important sub-topics, which we cannot determine from just looking at the most frequently used words."
   ]
  },
  {
   "cell_type": "markdown",
   "metadata": {},
   "source": [
    "Next, we will show a heatmap of the number of years in which a topic appears, using 15 topics"
   ]
  },
  {
   "cell_type": "code",
   "execution_count": null,
   "metadata": {},
   "outputs": [],
   "source": [
    "altair_plot_bar_chart_value_counts(\n",
    "    df_topics.groupby([\"topic_num\"])[\"year\"]\n",
    "    .nunique()\n",
    "    .sort_values()\n",
    "    .reset_index()\n",
    "    .merge(df_named_topics.reset_index()[[\"topic_num\", \"best\"]], on=\"topic_num\"),\n",
    "    \"Number of years in which a topic appears\",\n",
    "    \"best:N\",\n",
    "    \"year:Q\",\n",
    "    labelFontSize=12,\n",
    "    titleFontSize=12,\n",
    "    plot_titleFontSize=16,\n",
    "    dx=20,\n",
    "    offset=0,\n",
    "    x_tick_label_angle=-45,\n",
    "    fig_size=(650, 250),\n",
    ")"
   ]
  },
  {
   "cell_type": "markdown",
   "metadata": {},
   "source": [
    "**Observations**\n",
    "1. If a topic does not occur in the majority of years, then that could be an indication that it is a poor choice of a standalone topics and should be combined. This is not the case for topic assignments here."
   ]
  },
  {
   "cell_type": "markdown",
   "metadata": {},
   "source": [
    "Next, we will show a heatmap of all the years when each topic's articles appear, with 15 topics"
   ]
  },
  {
   "cell_type": "code",
   "execution_count": null,
   "metadata": {},
   "outputs": [],
   "source": [
    "topics_by_timeframe = (\n",
    "    df_topics.groupby([\"topic_num\", \"year\"])\n",
    "    .size()\n",
    "    .reset_index()\n",
    "    .sort_values(by=[\"topic_num\", 0, \"year\"], ascending=False)\n",
    "    .rename(columns={0: \"count\"})\n",
    ")\n",
    "display(topics_by_timeframe.head())"
   ]
  },
  {
   "cell_type": "markdown",
   "metadata": {},
   "source": [
    "Sanity checks"
   ]
  },
  {
   "cell_type": "code",
   "execution_count": null,
   "metadata": {},
   "outputs": [],
   "source": [
    "assert (\n",
    "    df_topics.loc[(df_topics[\"topic_num\"] == 1) & (df_topics[\"year\"] == 2003)].shape[0]\n",
    "    == topics_by_timeframe.loc[\n",
    "        (topics_by_timeframe[\"topic_num\"] == 1) & (topics_by_timeframe[\"year\"] == 2003)\n",
    "    ][\"count\"].iloc[0]\n",
    ")"
   ]
  },
  {
   "cell_type": "code",
   "execution_count": null,
   "metadata": {},
   "outputs": [],
   "source": [
    "assert topics_by_timeframe[\"count\"].sum() == df_guardian.shape[0]"
   ]
  },
  {
   "cell_type": "markdown",
   "metadata": {},
   "source": [
    "Generate the heatmap"
   ]
  },
  {
   "cell_type": "code",
   "execution_count": null,
   "metadata": {},
   "outputs": [],
   "source": [
    "altair_datetime_heatmap(\n",
    "    topics_by_timeframe.merge(\n",
    "        df_named_topics.reset_index()[[\"topic_num\", \"best\"]], on=\"topic_num\"\n",
    "    ),\n",
    "    x=\"year:O\",\n",
    "    y=\"best:N\",\n",
    "    xtitle=\"Year\",\n",
    "    ytitle=\"Topics by Year\",\n",
    "    tooltip=[\n",
    "        {\n",
    "            \"title\": \"Year\",\n",
    "            \"field\": \"year\",\n",
    "            \"type\": \"ordinal\",\n",
    "        },\n",
    "        {\n",
    "            \"title\": \"Topic\",\n",
    "            \"field\": \"best\",\n",
    "            \"type\": \"nominal\",\n",
    "        },\n",
    "        {\n",
    "            \"title\": \"Number of articles\",\n",
    "            \"field\": \"count\",\n",
    "            \"type\": \"quantitative\",\n",
    "        },\n",
    "    ],\n",
    "    cmap=\"yelloworangered\",\n",
    "    legend_title=\"\",\n",
    "    color_by_col=\"count:Q\",\n",
    "    yscale=\"log\",\n",
    "    axis_tick_font_size=12,\n",
    "    axis_title_font_size=16,\n",
    "    title_font_size=20,\n",
    "    legend_fig_padding=10,  # default is 18\n",
    "    y_axis_title_alignment=\"left\",\n",
    "    fwidth=650,\n",
    "    fheight=450,\n",
    "    file_path=\"\",\n",
    "    save_to_html=False,\n",
    "    sort_y=[],\n",
    "    sort_x=[],\n",
    ")"
   ]
  },
  {
   "cell_type": "markdown",
   "metadata": {},
   "source": [
    "**Observations**\n",
    "1. There are two topics - Topic 11 (did not manually read articles here) and a blanket *Science Findings* topic that feature a lot of articles for most years. It is likely that several sub-topics are embedded in here and might allow for logical sub-topics."
   ]
  },
  {
   "cell_type": "markdown",
   "metadata": {},
   "source": [
    "<a id=\"exploring-articles-with-35-topics\"></a>\n",
    "\n",
    "## 6. [Exploring articles with 35 topics](#exploring-articles-with-35-topics)"
   ]
  },
  {
   "cell_type": "markdown",
   "metadata": {},
   "source": [
    "The blocks of TFIDF-NMF code are combined below and are re-run with 35 topics now as opposed to 15 previously"
   ]
  },
  {
   "cell_type": "code",
   "execution_count": null,
   "metadata": {},
   "outputs": [],
   "source": [
    "%%time\n",
    "n_topics_wanted = 35\n",
    "\n",
    "vectorizer = TfidfVectorizer(\n",
    "    tokenizer=None,  # default is None\n",
    "    stop_words=None,  # default is None\n",
    "    lowercase=True,  # default is True\n",
    "    ngram_range=(1, 2),  # default is (1, 2)\n",
    "    max_df=0.85,  # default is 1.0\n",
    "    min_df=3,  # default is 1\n",
    "    max_features=5000,  # default is None\n",
    "    preprocessor=\" \".join,  # default is None\n",
    "    binary=False,  # default is False\n",
    "    strip_accents=None,  # default is None\n",
    "    # token_pattern='(?u)\\\\b\\\\w\\\\w+\\\\b',  # default is '(?u)\\\\b\\\\w\\\\w+\\\\b'\n",
    ")\n",
    "sk_nmf = NMF(\n",
    "    n_components=n_topics_wanted,\n",
    "    solver=\"cd\",  # default is \"cd\"\n",
    "    init=\"nndsvd\",  # default is None, \"nnsvd\" = Nonnegative Double Singular Value Decomposition\n",
    "    max_iter=500,  # default is 200\n",
    "    l1_ratio=0.0,  # default is 0.0\n",
    "    alpha=0.0,  # default is 0.0\n",
    "    tol=0.0001,  # default is 0.0001\n",
    "    random_state=42,\n",
    ")\n",
    "pipe = Pipeline([(\"vectorizer\", vectorizer), (\"nmf\", sk_nmf)])\n",
    "doc_topic = pipe.fit_transform(texts)\n",
    "\n",
    "topic_words = pd.DataFrame(\n",
    "    pipe.named_steps[\"nmf\"].components_,\n",
    "    index=[str(k) for k in range(n_topics_wanted)],\n",
    "    columns=pipe.named_steps[\"vectorizer\"].get_feature_names(),\n",
    ")\n",
    "topic_df = (\n",
    "    pd.DataFrame(\n",
    "        topic_words.apply(\n",
    "            lambda x: get_top_words_per_topic(x, n_top_words), axis=1\n",
    "        ).tolist(),\n",
    "        index=topic_words.index,\n",
    "    )\n",
    "    .reset_index()\n",
    "    .rename(columns={\"index\": \"topic\"})\n",
    "    .assign(topic_num=range(n_topics_wanted))\n",
    ")\n",
    "display(topic_df.head(20))\n",
    "# for k, v in topic_df.iterrows():\n",
    "#     print(k, \",\".join(v[1:-1]))\n",
    "\n",
    "df_temp = pd.DataFrame(doc_topic).idxmax(axis=1).rename(\"topic_num\").to_frame()\n",
    "\n",
    "merged_topic = df_temp.merge(topic_df, on=\"topic_num\", how=\"left\").assign(\n",
    "    url=df_guardian[\"url\"].tolist()\n",
    ")\n",
    "df_topics = df_guardian.merge(merged_topic, on=\"url\", how=\"left\").astype(\n",
    "    {\"topic_num\": int}\n",
    ")\n",
    "display(df_topics.head(20))"
   ]
  },
  {
   "cell_type": "markdown",
   "metadata": {},
   "source": [
    "<a id=\"coherence-residual-by-topic\"></a>\n",
    "\n",
    "### 6.1. [Coherence Residual by Topic](#coherence-residual-by-topic)"
   ]
  },
  {
   "cell_type": "code",
   "execution_count": null,
   "metadata": {},
   "outputs": [],
   "source": [
    "A = pipe.named_steps[\"vectorizer\"].transform(texts)\n",
    "W = pipe.named_steps[\"nmf\"].components_\n",
    "H = pipe.named_steps[\"nmf\"].transform(A)\n",
    "f\"A={A.toarray().shape}, W={W.shape}, H={H.shape}\"\n",
    "r = np.zeros(A.shape[0])\n",
    "for row in range(A.shape[0]):\n",
    "    r[row] = np.linalg.norm(A[row, :] - H[row, :].dot(W), \"fro\")\n",
    "df_topics[\"resid\"] = r\n",
    "\n",
    "# boxplot_sorted(\n",
    "#     df_topics[[\"topic_num\", \"resid\"]],\n",
    "#     [\"topic_num\"],\n",
    "#     \"resid\",\n",
    "#     \"Topic Residual (sorted by median)\",\n",
    "#     \"center\",\n",
    "#     14,\n",
    "#     sort_by_median=True,\n",
    "#     vert=True,\n",
    "#     fig_size=(12, 6),\n",
    "# )\n",
    "altair_boxplot_sorted(\n",
    "    df_topics[[\"topic_num\", \"resid\"]],\n",
    "    \"topic_num\",\n",
    "    \"resid\",\n",
    "    \"median(resid)\",\n",
    "    \"Topic Residual (sorted by median)\",\n",
    "    14,\n",
    "    14,\n",
    "    16,\n",
    "    dx=30,\n",
    "    offset=-5,\n",
    "    x_tick_label_angle=0,\n",
    "    horiz_bar_chart=False,\n",
    "    axis_range=[0.4, 1],\n",
    "    fig_size=(700, 250),\n",
    ")"
   ]
  },
  {
   "cell_type": "markdown",
   "metadata": {},
   "source": [
    "**Observations**\n",
    "1. Only two topics now have a median residual below 0.80.\n",
    "2. 15 of the 35 topics have the first quantile of their residuals falling below 0.80.\n",
    "3. There are now 10 topics with a median residual of approx. 0.83 or better (lower), compared to only 1 previously."
   ]
  },
  {
   "cell_type": "markdown",
   "metadata": {},
   "source": [
    "<a id=\"topic-2\"></a>\n",
    "\n",
    "#### 6.1.1. [Topic 2](#topic-2)"
   ]
  },
  {
   "cell_type": "markdown",
   "metadata": {},
   "source": [
    "The five best texts that fit into topic number 2 are shown below"
   ]
  },
  {
   "cell_type": "code",
   "execution_count": null,
   "metadata": {},
   "outputs": [],
   "source": [
    "df_topics[df_topics[\"topic_num\"] == 2].nsmallest(5, \"resid\")[\"url\"].tolist()"
   ]
  },
  {
   "cell_type": "markdown",
   "metadata": {},
   "source": [
    "**Observations**\n",
    "1. The topics of these articles are listed below\n",
    "   - [year-end review of scientific, including Mars-based research, findings in 2015](https://www.theguardian.com/science/2015/dec/25/2015-big-year-space-exploration-major-tim-peake-pluto)\n",
    "   - [anticipating answers about Mars habitability on 40 year anniversary of Mariner 9 launch](https://www.theguardian.com/science/2011/jun/05/mars-anniversary-40-years-space)\n",
    "   - [about a joint NASA-ESA Mars mission proposal with sample return, with estimated launch between 2018-2023](https://www.theguardian.com/science/2008/jul/14/mars.spaceexploration)\n",
    "     - this turned out to be the Insight mission with a [lander](https://en.wikipedia.org/wiki/InSight) and [Perseverance rover](https://en.wikipedia.org/wiki/Perseverance_(rover)) with the [Ingenuity helicopter](https://en.wikipedia.org/wiki/Mars_Helicopter_Ingenuity) onboard\n",
    "   - [anticipating the launch of the Odyssey orbiter launch](https://www.theguardian.com/science/2001/apr/05/spaceexploration.technology)\n",
    "   - [list and operational details about of Mars missions that were lost](https://www.theguardian.com/science/2016/oct/20/total-recall-of-unsuccessful-mars-lander-schiaparelli-exomars)"
   ]
  },
  {
   "cell_type": "markdown",
   "metadata": {},
   "source": [
    "The five worst texts that fit into this topic are shown below"
   ]
  },
  {
   "cell_type": "code",
   "execution_count": null,
   "metadata": {},
   "outputs": [],
   "source": [
    "df_topics[df_topics[\"topic_num\"] == 2].nlargest(5, \"resid\")[\"url\"].tolist()"
   ]
  },
  {
   "cell_type": "markdown",
   "metadata": {},
   "source": [
    "**Observations**\n",
    "1. The topics of these articles are listed below   \n",
    "   - [about NASA's announced spacesuit to aid humans on Mars](https://www.theguardian.com/science/2014/apr/30/nasa-spacesuit-zseries-new-design-mars)\n",
    "   - [about space tourism in 2018](https://www.theguardian.com/science/shortcuts/2013/feb/28/mars-mission-married-couple-space)\n",
    "   - [about colonization on Mars](https://www.theguardian.com/science/2019/jun/23/all-female-mars-colony-possible-using-frozen-sperm-says-study)\n",
    "   - [book discussing extreme conditions that could be encountered during a manned mission to Mars](https://www.theguardian.com/science/sifting-the-evidence/2013/mar/13/medical-research-health)\n",
    "   - [reporting on the Curiosity rover's landing procedure on Mars in 2012](https://www.theguardian.com/science/2012/jul/20/spacewatch-curiosity-mars-landing)"
   ]
  },
  {
   "cell_type": "markdown",
   "metadata": {},
   "source": [
    "The focus of the best articles remains on science and operations for Mars missions. The worst articles focus on manned missions to Mars - habitability, spacesuits, landing sequence (for spacecraft), tourism."
   ]
  },
  {
   "cell_type": "markdown",
   "metadata": {},
   "source": [
    "<a id=\"topic-1\"></a>\n",
    "\n",
    "#### 6.1.2. [Topic 1](#topic-1)"
   ]
  },
  {
   "cell_type": "markdown",
   "metadata": {},
   "source": [
    "The five best texts that fit into topic number 1 are shown below"
   ]
  },
  {
   "cell_type": "code",
   "execution_count": null,
   "metadata": {},
   "outputs": [],
   "source": [
    "df_topics[df_topics[\"topic_num\"] == 1].nsmallest(5, \"resid\")[\"url\"].tolist()"
   ]
  },
  {
   "cell_type": "markdown",
   "metadata": {},
   "source": [
    "**Observations**\n",
    "1. The topics of these articles are listed below\n",
    "   - [reporting on NASA's plans to re-attempt the Columbia shuttle mission, two years after the 2003 crash](https://www.theguardian.com/science/2005/jul/07/1)\n",
    "   - [about preparing for launch of the last mission for the shuttle Discovery](https://www.theguardian.com/science/2010/oct/31/us-space-shuttle-discovery-mission)\n",
    "   - [about Discovery's last mission risks despite learning and fixing issues related to 2003 Columbia crash](https://www.theguardian.com/science/2005/apr/10/spaceexploration.usnews)\n",
    "   - [looking ahead to Discovery's last launch mission, while discussing the problem of debris from the 2003 Columbia crash](https://www.theguardian.com/science/2005/jul/29/sciencenews.spaceexploration)\n",
    "   - [about Discovery reaching back safely](https://www.theguardian.com/science/2005/apr/10/spaceexploration.usnews)"
   ]
  },
  {
   "cell_type": "markdown",
   "metadata": {},
   "source": [
    "The five worst texts that fit into this topic are shown below"
   ]
  },
  {
   "cell_type": "code",
   "execution_count": null,
   "metadata": {},
   "outputs": [],
   "source": [
    "df_topics[df_topics[\"topic_num\"] == 1].nlargest(5, \"resid\")[\"url\"].tolist()"
   ]
  },
  {
   "cell_type": "markdown",
   "metadata": {},
   "source": [
    "**Observations**\n",
    "1. The topics of these articles are listed below\n",
    "   - [about picture carried by Israeli astronaut who died in 2003 Columbia crash](https://www.theguardian.com/science/2003/feb/02/spaceexploration.columbia1)\n",
    "   - [about more stringent NASA screening after astronaut arrested for at attempted murder](https://www.theguardian.com/science/2003/feb/03/spaceexploration.columbia8)\n",
    "   - [about an Israeli astronaut on the Columbia shuttle mission](https://www.theguardian.com/science/2003/jan/17/spaceexploration.internationaleducationnews)\n",
    "   - [about picture of Endeavour shuttle's launch](https://www.theguardian.com/science/2011/may/17/photograph-space-shuttle-endeavour-aeroplane)\n",
    "   - [about nuclear technology in use for Prometheus project](https://www.theguardian.com/science/2004/sep/23/thisweekssciencequestions2)"
   ]
  },
  {
   "cell_type": "markdown",
   "metadata": {},
   "source": [
    "The best articles focus on the Columbia shuttle crash. The worst focus on space shuttles in a variety of contexts."
   ]
  },
  {
   "cell_type": "markdown",
   "metadata": {},
   "source": [
    "<a id=\"topic-6\"></a>\n",
    "\n",
    "#### 6.1.3. [Topic 6](#topic-6)"
   ]
  },
  {
   "cell_type": "markdown",
   "metadata": {},
   "source": [
    "The five best texts that fit into topic number 6 are shown below"
   ]
  },
  {
   "cell_type": "code",
   "execution_count": null,
   "metadata": {},
   "outputs": [],
   "source": [
    "df_topics[df_topics[\"topic_num\"] == 6].nsmallest(5, \"resid\")[\"url\"].tolist()"
   ]
  },
  {
   "cell_type": "markdown",
   "metadata": {},
   "source": [
    "**Observations**\n",
    "1. The topics of these articles are listed below\n",
    "   - [about possible previous collision between Moon and another moon](https://www.theguardian.com/science/2011/aug/03/second-moon-collision)\n",
    "   - [about China's plans to land on moon](https://www.theguardian.com/science/2018/dec/07/chinese-spacecraft-attempt-first-landing-far-side-of-moon-change-4)\n",
    "   - [Written in 2019 (as 50th anniversary of Apollo 11 approached), discusses new interest in Moon exploration](https://www.theguardian.com/science/2019/jul/06/everyones-going-to-the-moon-again-apollo-11-50th-aniversary)\n",
    "   - [about Lunar orbiter to take pictures of Apollo landing site](https://www.theguardian.com/science/2005/jul/18/spaceexploration.internationalnews)\n",
    "   - [Written in 1999, references complete absence of moon landings for a period of](https://www.theguardian.com/science/1999/jul/19/spaceexploration.g2) 27 years ([1](https://www.history.com/news/us-moon-landings-apollo))"
   ]
  },
  {
   "cell_type": "markdown",
   "metadata": {},
   "source": [
    "The five worst texts that fit into this topic are shown below"
   ]
  },
  {
   "cell_type": "code",
   "execution_count": null,
   "metadata": {},
   "outputs": [],
   "source": [
    "df_topics[df_topics[\"topic_num\"] == 6].nlargest(5, \"resid\")[\"url\"].tolist()"
   ]
  },
  {
   "cell_type": "markdown",
   "metadata": {},
   "source": [
    "**Observations**\n",
    "1. The topics of these articles are listed below\n",
    "   - [Moon tourism](https://www.theguardian.com/science/1999/sep/22/spaceexploration.business)\n",
    "   - [about a phyllum surviving Israeli private Moon lander crash](https://www.theguardian.com/science/2019/aug/06/tardigrades-may-have-survived-spacecraft-crashing-on-moon)\n",
    "   - [about picture of Earth taken by Appolo 8 astronaut](https://www.theguardian.com/science/2018/oct/17/the-most-iconic-photograph-of-earth)\n",
    "   - [about real estate on the Moon](https://www.theguardian.com/science/2006/jun/15/spaceexploration.alternativeinvestment)\n",
    "   - [about a competition to put a Swedish house on the moon](https://www.theguardian.com/science/2006/oct/18/spaceexploration.g2)"
   ]
  },
  {
   "cell_type": "markdown",
   "metadata": {},
   "source": [
    "The focus of the best articles is on exploring the Moon. The worst articles focus on manned missions to the Moon."
   ]
  },
  {
   "cell_type": "markdown",
   "metadata": {},
   "source": [
    "<a id=\"topic-15\"></a>\n",
    "\n",
    "#### 6.1.4. [Topic 15](#topic-15)"
   ]
  },
  {
   "cell_type": "markdown",
   "metadata": {},
   "source": [
    "The five best texts that fit into topic number 15 are shown below"
   ]
  },
  {
   "cell_type": "code",
   "execution_count": null,
   "metadata": {},
   "outputs": [],
   "source": [
    "df_topics[df_topics[\"topic_num\"] == 15].nsmallest(5, \"resid\")[\"url\"].tolist()"
   ]
  },
  {
   "cell_type": "markdown",
   "metadata": {},
   "source": [
    "**Observations**\n",
    "1. The topics of these articles are listed below\n",
    "   - approaching end of Cassini mission\n",
    "     - [1](https://www.theguardian.com/science/2017/apr/30/cassini-saturn-space-probe-fiery-finale-nasa)\n",
    "     - [2](https://www.theguardian.com/science/2017/sep/14/nasas-cassini-spacecraft-poised-to-begin-mission-ending-dive-into-saturn)\n",
    "   - Cassini spacecraft enters Saturn orbit\n",
    "     - [1](https://www.theguardian.com/science/2004/jul/01/spaceexploration.research)\n",
    "     - [2](https://www.theguardian.com/science/2004/jun/04/spaceexploration.starsgalaxiesandplanets)\n",
    "     - [3](https://www.theguardian.com/science/2004/jun/27/spaceexploration.research)"
   ]
  },
  {
   "cell_type": "markdown",
   "metadata": {},
   "source": [
    "The five worst texts that fit into this topic are shown below"
   ]
  },
  {
   "cell_type": "code",
   "execution_count": null,
   "metadata": {},
   "outputs": [],
   "source": [
    "df_topics[df_topics[\"topic_num\"] == 15].nlargest(5, \"resid\")[\"url\"].tolist()"
   ]
  },
  {
   "cell_type": "markdown",
   "metadata": {},
   "source": [
    "**Observations**\n",
    "1. The topics of these articles are listed below\n",
    "   - [firing reserve thrusters on Voyager spacecraft that passed Saturn and its moon Titan in 1980](https://www.theguardian.com/science/2017/dec/07/spacewatch-voyager-1-gets-new-lease-of-life)\n",
    "   - [acout Cassini's observed change in Saturn's colour at north pole](https://www.theguardian.com/science/2016/oct/26/hexagon-on-saturn-nasa-scientists-ponder-colour-changing-north-pole)\n",
    "   - [how Earth would look like with Saturn's rings](https://www.theguardian.com/science/punctuated-equilibrium/2011/may/02/1)\n",
    "   - [anticipating Cassini entering atmosphere of the moon Titan, during which time music will be delivered](https://www.theguardian.com/science/2015/aug/19/potential-sources-of-helium-revealed-as-reserves-of-the-precious-gas-dwindle)\n",
    "   - [about Cassini probe entering last phase of travel from Earth towards Saturn](https://www.theguardian.com/science/1999/aug/19/spaceexploration.aeronautics)\n",
    "\n",
    "The topic is focused on the mission updates for the Cassini probe. The sub-topic of water across the solar system and, even on Earth, has been separated. While Cassini did find evidence of water on Saturn's moon ([1](https://solarsystem.nasa.gov/missions/cassini/science/enceladus/), [2](https://www.nasa.gov/mission_pages/cassini/media/cassini-20060309.html)), this specific topic (even the majority of the worst articles) covers articles that are focused on the mission operations itself."
   ]
  },
  {
   "cell_type": "markdown",
   "metadata": {},
   "source": [
    "<a id=\"topic-10\"></a>\n",
    "\n",
    "#### 6.1.5. [Topic 10](#topic-10)"
   ]
  },
  {
   "cell_type": "markdown",
   "metadata": {},
   "source": [
    "The five best texts that fit into topic number 10 are shown below"
   ]
  },
  {
   "cell_type": "code",
   "execution_count": null,
   "metadata": {},
   "outputs": [],
   "source": [
    "df_topics[df_topics[\"topic_num\"] == 10].nsmallest(5, \"resid\")[\"url\"].tolist()"
   ]
  },
  {
   "cell_type": "markdown",
   "metadata": {},
   "source": [
    "**Observations**\n",
    "1. The topics are focused on finding evidence of water across the Solar System."
   ]
  },
  {
   "cell_type": "markdown",
   "metadata": {},
   "source": [
    "The five worst texts that fit into this topic are shown below"
   ]
  },
  {
   "cell_type": "code",
   "execution_count": null,
   "metadata": {},
   "outputs": [],
   "source": [
    "df_topics[df_topics[\"topic_num\"] == 10].nlargest(5, \"resid\")[\"url\"].tolist()"
   ]
  },
  {
   "cell_type": "markdown",
   "metadata": {},
   "source": [
    "**Observations**\n",
    "1. The topics of these articles are listed below\n",
    "   - [toy experiment to show that gas takes up more volume than solids](https://www.theguardian.com/science/2008/may/02/physics.chemistry)\n",
    "     - water mixed with Alka-Seltzer causes the container to shoot up like a rocket\n",
    "   - [cooking recipe (involves water)](https://www.theguardian.com/science/grrlscientist/2012/aug/18/4)\n",
    "   - [about tardigrades ability to survive in extreme conditions - ice, heat, etc. - on Earth](https://www.theguardian.com/science/2007/jul/19/sudan.water)\n",
    "   - [about Helium in presence of groundwater in some places on Earth](https://www.theguardian.com/science/2015/aug/19/potential-sources-of-helium-revealed-as-reserves-of-the-precious-gas-dwindle)\n",
    "   - [basic science of a stone skimming on water](https://www.theguardian.com/science/2004/jan/08/research.science1)\n",
    "\n",
    "The best articles here focus on discovery of water on planets across the solar system. The worst involve uses of water on Earth - cooking, stone skimming, experiments, etc."
   ]
  },
  {
   "cell_type": "markdown",
   "metadata": {},
   "source": [
    "<a id=\"topic-4\"></a>\n",
    "\n",
    "#### 6.1.6. [Topic 4](#topic-4)"
   ]
  },
  {
   "cell_type": "markdown",
   "metadata": {},
   "source": [
    "The five best texts that fit into topic number 4 are shown below"
   ]
  },
  {
   "cell_type": "code",
   "execution_count": null,
   "metadata": {},
   "outputs": [],
   "source": [
    "df_topics[df_topics[\"topic_num\"] == 4].nsmallest(5, \"resid\")[\"url\"].tolist()"
   ]
  },
  {
   "cell_type": "markdown",
   "metadata": {},
   "source": [
    "**Observations**\n",
    "1. The topics are focused on operational events related to the Rosetta spacecraft mission to comet 67P - mission end by crashing into comet, landing on comet, images captured, etc."
   ]
  },
  {
   "cell_type": "markdown",
   "metadata": {},
   "source": [
    "The five worst texts that fit into this topic are shown below"
   ]
  },
  {
   "cell_type": "code",
   "execution_count": null,
   "metadata": {},
   "outputs": [],
   "source": [
    "df_topics[df_topics[\"topic_num\"] == 4].nlargest(5, \"resid\")[\"url\"].tolist()"
   ]
  },
  {
   "cell_type": "markdown",
   "metadata": {},
   "source": [
    "**Observations**\n",
    "1. The topics of these articles are listed below\n",
    "   - [about the flu epidemic being due to comets passing close to Earth due to energy creaed by sunspots](https://www.theguardian.com/science/2000/jan/19/spaceexploration.medicineandhealth)\n",
    "   - [about the Temple 1 probe mission ending with its descent and crash into a comet](https://www.theguardian.com/science/2005/jul/07/thisweekssciencequestions2)\n",
    "   - [about shutting down the Deep Space 1 spacecraft which flew by a comet](https://www.theguardian.com/science/2001/dec/20/technology)\n",
    "   - [about finding decayed comet bits](https://www.theguardian.com/science/2003/feb/28/spaceexploration.highereducation)\n",
    "   - [about aerogel - the material used by the Stardust spacecraft to capture comet dust](https://www.theguardian.com/science/2004/jan/08/research.science1)\n",
    "\n",
    "The best articles here focus on the Rosetta spacecraft's mission to comet 67P. The worst focus on other comets and, in some cases, do not focus on space missions but on comet dust/debris - most of the worst articles are focused on scientific findings or mission operations."
   ]
  },
  {
   "cell_type": "markdown",
   "metadata": {},
   "source": [
    "<a id=\"topic-5\"></a>\n",
    "\n",
    "#### 6.1.7. [Topic 5](#topic-5)"
   ]
  },
  {
   "cell_type": "markdown",
   "metadata": {},
   "source": [
    "The five best texts that fit into topic number 5 are shown below"
   ]
  },
  {
   "cell_type": "code",
   "execution_count": null,
   "metadata": {},
   "outputs": [],
   "source": [
    "df_topics[df_topics[\"topic_num\"] == 5].nsmallest(5, \"resid\")[\"url\"].tolist()"
   ]
  },
  {
   "cell_type": "markdown",
   "metadata": {},
   "source": [
    "**Observations**\n",
    "1. The topic is focused on news reports about the Philae lander as part of the Rosetta mission."
   ]
  },
  {
   "cell_type": "markdown",
   "metadata": {},
   "source": [
    "The five worst texts that fit into this topic are shown below"
   ]
  },
  {
   "cell_type": "code",
   "execution_count": null,
   "metadata": {},
   "outputs": [],
   "source": [
    "df_topics[df_topics[\"topic_num\"] == 5].nlargest(5, \"resid\")[\"url\"].tolist()"
   ]
  },
  {
   "cell_type": "markdown",
   "metadata": {},
   "source": [
    "**Observations**\n",
    "1. Although most of the worst articles in this topic place the Rosetta mission as a secondary area of focus, the focus remains on non-science/operational themes connected to the mission.\n",
    "\n",
    "The Philae lander, as part of the Rosetta mission, is the focus here. The worst articles place the try to keep the mission at the center of focus, but it is a secondary theme to some of these articles - there is no emphasis on the Philae lander. The best ones focus on Philae itself."
   ]
  },
  {
   "cell_type": "markdown",
   "metadata": {},
   "source": [
    "<a id=\"topic-9\"></a>\n",
    "\n",
    "#### 6.1.8. [Topic 9](#topic-9)"
   ]
  },
  {
   "cell_type": "markdown",
   "metadata": {},
   "source": [
    "The five best texts that fit into topic number 9 are shown below"
   ]
  },
  {
   "cell_type": "code",
   "execution_count": null,
   "metadata": {},
   "outputs": [],
   "source": [
    "df_topics[df_topics[\"topic_num\"] == 9].nsmallest(5, \"resid\")[\"url\"].tolist()"
   ]
  },
  {
   "cell_type": "markdown",
   "metadata": {},
   "source": [
    "**Observations**\n",
    "1. The topics are focused on operational events (launch, arrival, crew) related to the International Space Station."
   ]
  },
  {
   "cell_type": "markdown",
   "metadata": {},
   "source": [
    "The five worst texts that fit into this topic are shown below"
   ]
  },
  {
   "cell_type": "code",
   "execution_count": null,
   "metadata": {},
   "outputs": [],
   "source": [
    "df_topics[df_topics[\"topic_num\"] == 9].nlargest(5, \"resid\")[\"url\"].tolist()"
   ]
  },
  {
   "cell_type": "markdown",
   "metadata": {},
   "source": [
    "**Observations**\n",
    "1. The topics of these articles involve people related to the ISS, videos filmed from the ISS or the first overall space station (Salyut 1 from Russia).\n",
    "\n",
    "The focus of this topic is on the ISS. The worst articles do not directly relate to the ISS at all."
   ]
  },
  {
   "cell_type": "markdown",
   "metadata": {},
   "source": [
    "<a id=\"topic-12\"></a>\n",
    "\n",
    "#### 6.1.9. [Topic 12](#topic-12)"
   ]
  },
  {
   "cell_type": "markdown",
   "metadata": {},
   "source": [
    "The five best texts that fit into topic number 12 are shown below"
   ]
  },
  {
   "cell_type": "code",
   "execution_count": null,
   "metadata": {},
   "outputs": [],
   "source": [
    "df_topics[df_topics[\"topic_num\"] == 12].nsmallest(5, \"resid\")[\"url\"].tolist()"
   ]
  },
  {
   "cell_type": "markdown",
   "metadata": {},
   "source": [
    "**Observations**\n",
    "1. The topics are focused on the search for the Higgs Boson."
   ]
  },
  {
   "cell_type": "markdown",
   "metadata": {},
   "source": [
    "The five worst texts that fit into this topic are shown below"
   ]
  },
  {
   "cell_type": "code",
   "execution_count": null,
   "metadata": {},
   "outputs": [],
   "source": [
    "df_topics[df_topics[\"topic_num\"] == 12].nlargest(5, \"resid\")[\"url\"].tolist()"
   ]
  },
  {
   "cell_type": "markdown",
   "metadata": {},
   "source": [
    "**Observations**\n",
    "1. The topics of these articles are only generally focused on operating the LHC - safety, facts/figures - or about other particles (some of which don't involve bosons).\n",
    "\n",
    "The topic is focused on bosons, with a secondary emphasis (some of the worst articles) on other particles (neutron) which indirectly emphasize bosons."
   ]
  },
  {
   "cell_type": "markdown",
   "metadata": {},
   "source": [
    "<a id=\"topic-13\"></a>\n",
    "\n",
    "#### 6.1.10. [Topic 13](#topic-13)"
   ]
  },
  {
   "cell_type": "markdown",
   "metadata": {},
   "source": [
    "The five best texts that fit into topic number 13 are shown below"
   ]
  },
  {
   "cell_type": "code",
   "execution_count": null,
   "metadata": {},
   "outputs": [],
   "source": [
    "df_topics[df_topics[\"topic_num\"] == 13].nsmallest(5, \"resid\")[\"url\"].tolist()"
   ]
  },
  {
   "cell_type": "markdown",
   "metadata": {},
   "source": [
    "**Observations**\n",
    "1. The topics are focused on Stephen Hawking and his research."
   ]
  },
  {
   "cell_type": "markdown",
   "metadata": {},
   "source": [
    "The five worst texts that fit into this topic are shown below"
   ]
  },
  {
   "cell_type": "code",
   "execution_count": null,
   "metadata": {},
   "outputs": [],
   "source": [
    "df_topics[df_topics[\"topic_num\"] == 13].nlargest(5, \"resid\")[\"url\"].tolist()"
   ]
  },
  {
   "cell_type": "markdown",
   "metadata": {},
   "source": [
    "**Observations**\n",
    "1. The topics of these articles are listed below\n",
    "   - [scientists show that more M&Ms than ball berrings can fit into a jar](https://www.theguardian.com/science/2004/feb/13/sciencenews.theguardianlifesupplement)\n",
    "   - [Nobel Prize laureates get a dedicated parking space](https://www.theguardian.com/science/2019/oct/08/nobel-prizes-have-a-point-parking-space)\n",
    "   - [about Aristotle](https://www.theguardian.com/science/2002/jan/15/peopleinscience)\n",
    "   - [dollar value of Nobel Prize, from experimental physicist selling his award](https://www.theguardian.com/science/shortcuts/2015/may/27/nobel-prize-buyers-guide-to-worlds-top-trophies-leon-lederman)\n",
    "   - [obituary for Physics professor Jack Meadows](https://www.theguardian.com/science/2016/aug/02/jack-meadows-obituary)\n",
    "\n",
    "The best articles here focus on the life and accemplishments of Stephen Hawking. The worst involve other experimental Physicists."
   ]
  },
  {
   "cell_type": "markdown",
   "metadata": {},
   "source": [
    "<a id=\"topic-25\"></a>\n",
    "\n",
    "#### 6.1.11. [Topic 25](#topic-25)"
   ]
  },
  {
   "cell_type": "markdown",
   "metadata": {},
   "source": [
    "The five best texts that fit into topic number 25 are shown below"
   ]
  },
  {
   "cell_type": "code",
   "execution_count": null,
   "metadata": {},
   "outputs": [],
   "source": [
    "df_topics[df_topics[\"topic_num\"] == 25].nsmallest(5, \"resid\")[\"url\"].tolist()"
   ]
  },
  {
   "cell_type": "markdown",
   "metadata": {},
   "source": [
    "**Observations**\n",
    "1. The topics are focused on research into understanding and imaging Black Holes. The findings are primarily related to data collected from the Event Horizon telescope (Earth-based)."
   ]
  },
  {
   "cell_type": "markdown",
   "metadata": {},
   "source": [
    "The five worst texts that fit into this topic are shown below"
   ]
  },
  {
   "cell_type": "code",
   "execution_count": null,
   "metadata": {},
   "outputs": [],
   "source": [
    "df_topics[df_topics[\"topic_num\"] == 25].nlargest(5, \"resid\")[\"url\"].tolist()"
   ]
  },
  {
   "cell_type": "markdown",
   "metadata": {},
   "source": [
    "**Observations**\n",
    "1. The topics of these articles are listed below\n",
    "      - article about [Ada Lovelace](https://en.wikipedia.org/wiki/Ada_Lovelace)[-inspired puzzle where black squares are prominent](https://www.theguardian.com/science/2017/mar/28/did-you-solve-it-take-the-ada-lovelace-challenge-solution-part-i)\n",
    "   - [Stephen Hawking black-hole brownies](https://www.theguardian.com/science/brain-flapping/2013/sep/10/great-science-bake-off-baking-recipes)\n",
    "   - [black hole explains existence of Santa Claus](https://www.theguardian.com/science/brain-flapping/2014/dec/12/santa-claus-father-christmas)   \n",
    "   - [about](https://www.theguardian.com/science/2003/jan/16/science.research1) the Golden Ratio, which [appears in theory of black holes](https://johncarlosbaez.wordpress.com/2013/02/28/black-holes-and-the-golden-ratio/)\n",
    "   - [making analogy between doghnuts with holes in them and Nobel Physics topics](https://www.theguardian.com/science/2003/oct/09/spaceexploration.research)\n",
    "\n",
    "This is a topic about black holes in the universe. Some of the worst articles are loosely connected to the topic."
   ]
  },
  {
   "cell_type": "markdown",
   "metadata": {},
   "source": [
    "<a id=\"topic-28\"></a>\n",
    "\n",
    "#### 6.1.12. [Topic 28](#topic-28)"
   ]
  },
  {
   "cell_type": "markdown",
   "metadata": {},
   "source": [
    "The five best texts that fit into topic number 28 are shown below"
   ]
  },
  {
   "cell_type": "code",
   "execution_count": null,
   "metadata": {},
   "outputs": [],
   "source": [
    "df_topics[df_topics[\"topic_num\"] == 28].nsmallest(5, \"resid\")[\"url\"].tolist()"
   ]
  },
  {
   "cell_type": "markdown",
   "metadata": {},
   "source": [
    "**Observations**\n",
    "1. The topics are focused on launch of and search for the Beagle 2 UK Mars lander."
   ]
  },
  {
   "cell_type": "markdown",
   "metadata": {},
   "source": [
    "The five worst texts that fit into this topic are shown below"
   ]
  },
  {
   "cell_type": "code",
   "execution_count": null,
   "metadata": {},
   "outputs": [],
   "source": [
    "df_topics[df_topics[\"topic_num\"] == 28].nlargest(5, \"resid\")[\"url\"].tolist()"
   ]
  },
  {
   "cell_type": "markdown",
   "metadata": {},
   "source": [
    "**Observations**\n",
    "1. The topics of these articles are listed below\n",
    "   - [mentions Beagle 2 researchers being candidates for an award](https://www.theguardian.com/science/2005/mar/24/research.science)\n",
    "   - [Beagle 2 mission lead talking about patent for nuclear-powered flying saucer](https://www.theguardian.com/science/2006/mar/13/spaceexploration.transportintheuk)\n",
    "   - [about tests on Mars rover prototype as successor to Beagle 2](https://www.theguardian.com/science/2006/jun/12/spaceexploration.starsgalaxiesandplanets), as [part of the ExoMars mission](https://www.theguardian.com/science/2006/aug/22/spaceexploration.uknews)\n",
    "   - [mentions Beagle spacecraft in article about Russian dog sent to space](https://www.theguardian.com/science/2004/mar/20/spaceexploration.animalrights)\n",
    "   - [obituary for a researcher involved with the advocating for *in situ* analyses on the Philae lander that accompanied Rosetta](https://www.theguardian.com/science/2014/dec/21/colin-pillinger-remembered-monica-grady-observer-obituaries-2014-open-university)"
   ]
  },
  {
   "cell_type": "markdown",
   "metadata": {},
   "source": [
    "The best articles here focus on science and (primarily) operations related to the lost Btitish Beagle 2 Mars lander. The worst articles (sometimes loosely) reference the Beagle 2, but are not directly related to its mission ([Mars Express](https://en.wikipedia.org/wiki/Mars_Express))."
   ]
  },
  {
   "cell_type": "markdown",
   "metadata": {},
   "source": [
    "<a id=\"topic-3\"></a>\n",
    "\n",
    "#### 6.1.13. [Topic 3](#topic-3)"
   ]
  },
  {
   "cell_type": "markdown",
   "metadata": {},
   "source": [
    "The five best texts that fit into topic number 3 are shown below"
   ]
  },
  {
   "cell_type": "code",
   "execution_count": null,
   "metadata": {},
   "outputs": [],
   "source": [
    "df_topics[df_topics[\"topic_num\"] == 3].nsmallest(5, \"resid\")[\"url\"].tolist()"
   ]
  },
  {
   "cell_type": "markdown",
   "metadata": {},
   "source": [
    "**Observations**\n",
    "1. The topics are focused on the discovery of new planets."
   ]
  },
  {
   "cell_type": "markdown",
   "metadata": {},
   "source": [
    "The five worst texts that fit into this topic are shown below"
   ]
  },
  {
   "cell_type": "code",
   "execution_count": null,
   "metadata": {},
   "outputs": [],
   "source": [
    "df_topics[df_topics[\"topic_num\"] == 3].nlargest(5, \"resid\")[\"url\"].tolist()"
   ]
  },
  {
   "cell_type": "markdown",
   "metadata": {},
   "source": [
    "**Observations**\n",
    "1. The topics of these articles are listed below\n",
    "   - [about discovery of Earth-like planets](https://www.theguardian.com/science/2004/sep/04/starsgalaxiesandplanets.spaceexploration)\n",
    "   - [about the Israeli astronaut who was part of the Columbia shuttle mission](https://www.theguardian.com/science/2003/jan/16/technology)\n",
    "   - [about discovery of youngest supernova in Milky Way](https://www.theguardian.com/science/2008/may/14/usa)\n",
    "   - [about disputes over naming stars](https://www.theguardian.com/science/2000/aug/27/spaceexploration.theobserver)\n",
    "   - [about the brightness of the planet Venus](https://www.theguardian.com/science/2018/jun/03/starwatch-venus-gemini-castor-pollux)"
   ]
  },
  {
   "cell_type": "markdown",
   "metadata": {},
   "source": [
    "The best articles focus on discovery of new planets, including Earth-like ones. The worst focus on existing planets (Venus) and discovery of new planets.\n",
    "\n",
    "**Best** - Discovrey of new planets\n",
    "\n",
    "**Worst** - New and Existing planets"
   ]
  },
  {
   "cell_type": "markdown",
   "metadata": {},
   "source": [
    "<a id=\"topic-7\"></a>\n",
    "\n",
    "#### 6.1.14. [Topic 7](#topic-7)"
   ]
  },
  {
   "cell_type": "markdown",
   "metadata": {},
   "source": [
    "The five best texts that fit into topic number 7 are shown below"
   ]
  },
  {
   "cell_type": "code",
   "execution_count": null,
   "metadata": {},
   "outputs": [],
   "source": [
    "df_topics[df_topics[\"topic_num\"] == 7].nsmallest(5, \"resid\")[\"url\"].tolist()"
   ]
  },
  {
   "cell_type": "markdown",
   "metadata": {},
   "source": [
    "**Observations**\n",
    "1. The topics are focused on reports about Spacex events involving Falcon rockets - launch, landing, crash."
   ]
  },
  {
   "cell_type": "markdown",
   "metadata": {},
   "source": [
    "The five worst texts that fit into this topic are shown below"
   ]
  },
  {
   "cell_type": "code",
   "execution_count": null,
   "metadata": {},
   "outputs": [],
   "source": [
    "df_topics[df_topics[\"topic_num\"] == 7].nlargest(5, \"resid\")[\"url\"].tolist()"
   ]
  },
  {
   "cell_type": "markdown",
   "metadata": {},
   "source": [
    "**Observations**\n",
    "1. The topics of these articles are listed below\n",
    "   - [mentions absence of teapot on Elon Musk's (SpaceX founder) rocket](https://www.theguardian.com/science/2018/feb/09/runways-rockets-and-russells-teapot)\n",
    "     - no mention of Falcon rocket, just rocket\n",
    "   - [2004 article on use of rocket nozzle technology in loud speakers](https://www.theguardian.com/science/2004/jul/15/science.research)\n",
    "     - nozzles are built to optimize air flow and turbulence at launch time\n",
    "   - [comparing cost of moon trip on Falcon Heavy to terrestrial trips](https://www.theguardian.com/science/shortcuts/2017/feb/28/140-pound-mile-elon-musk-moon-trip-spacex-compare-terrestrial-journeys)\n",
    "   - [anniversary of first successful launch of liquid-fuelled rocket](https://www.theguardian.com/science/the-h-word/2015/oct/14/frank-malina-and-an-overlooked-space-age-milestone)\n",
    "   - [1999 article on successful launch](https://www.theguardian.com/science/1999/aug/21/spaceexploration.uknews) of [Starchaser 3A rocket, in the UK](https://en.wikipedia.org/wiki/Starchaser_Industries#Launched_Rockets)"
   ]
  },
  {
   "cell_type": "markdown",
   "metadata": {},
   "source": [
    "The best articles focus on events involving SpaceX operational events. The worst focus on uses of rocket technology - this could include (non-SpaceX) launches and space tourism."
   ]
  },
  {
   "cell_type": "markdown",
   "metadata": {},
   "source": [
    "<a id=\"topic-8\"></a>\n",
    "\n",
    "#### 6.1.15. [Topic 8](#topic-8)"
   ]
  },
  {
   "cell_type": "markdown",
   "metadata": {},
   "source": [
    "The five best texts that fit into topic number 8 are shown below"
   ]
  },
  {
   "cell_type": "code",
   "execution_count": null,
   "metadata": {},
   "outputs": [],
   "source": [
    "df_topics[df_topics[\"topic_num\"] == 8].nsmallest(5, \"resid\")[\"url\"].tolist()"
   ]
  },
  {
   "cell_type": "markdown",
   "metadata": {},
   "source": [
    "**Observations**\n",
    "1. The topics are focused on imminent and future threatening asteroids."
   ]
  },
  {
   "cell_type": "markdown",
   "metadata": {},
   "source": [
    "The five worst texts that fit into this topic are shown below"
   ]
  },
  {
   "cell_type": "code",
   "execution_count": null,
   "metadata": {},
   "outputs": [],
   "source": [
    "df_topics[df_topics[\"topic_num\"] == 8].nlargest(5, \"resid\")[\"url\"].tolist()"
   ]
  },
  {
   "cell_type": "markdown",
   "metadata": {},
   "source": [
    "**Observations**\n",
    "1. The topics of these articles are listed below\n",
    "   - [about UK government agreeing to more studies for near-Earth asteroids](https://www.theguardian.com/science/2001/mar/01/technology3)\n",
    "   - [about canceled asteroid exploring rover](https://www.theguardian.com/science/2000/nov/09/technology2)\n",
    "   - [from 2013, about new class of astronauts who could be involved in a mission to an asteroid](https://www.theguardian.com/science/2013/jun/18/nasa-astronaut-mars-2013-women)\n",
    "   - [on probability of massive asteroid hitting the Earth](https://www.theguardian.com/science/2003/nov/20/science.research)\n",
    "   - [about efforts to track space rocks threatening Earth - asteroids, mneteors](https://www.theguardian.com/science/2019/mar/18/meteor-blast-over-bering-sea-was-10-times-size-of-hiroshima)"
   ]
  },
  {
   "cell_type": "markdown",
   "metadata": {},
   "source": [
    "The best articles focus on threatening asteroids. The worst focus on threatening asteroids or missions to asteroids.\n",
    "\n",
    "**Best** - Earth-threatening asteroids\n",
    "\n",
    "**Worst** - Earth-threatening asteroids and Missions to asteroids"
   ]
  },
  {
   "cell_type": "markdown",
   "metadata": {},
   "source": [
    "<a id=\"topic-11\"></a>\n",
    "\n",
    "#### 6.1.16. [Topic 11](#topic-11)"
   ]
  },
  {
   "cell_type": "markdown",
   "metadata": {},
   "source": [
    "The five best texts that fit into topic number 11 are shown below"
   ]
  },
  {
   "cell_type": "code",
   "execution_count": null,
   "metadata": {},
   "outputs": [],
   "source": [
    "df_topics[df_topics[\"topic_num\"] == 11].nsmallest(5, \"resid\")[\"url\"].tolist()"
   ]
  },
  {
   "cell_type": "markdown",
   "metadata": {},
   "source": [
    "**Observations**\n",
    "1. The topics are focused on\n",
    "   - [about plans to ignore astronauts in UK space policy in 2008](https://www.theguardian.com/science/2008/feb/14/spaceexploration.spacetechnology)\n",
    "   - [announcement of British astronaut to travel to ISS](https://www.theguardian.com/science/2013/may/20/tim-peake-space-station-mission)\n",
    "   - [about UK company's plans for moon satellites, in part aimed at probing for future manned bases](https://www.theguardian.com/science/2007/jan/11/spaceexploration.uknews)\n",
    "   - [on UK's potential for space exploration areas - manned missions vs satellites (its strength)](https://www.theguardian.com/science/2007/aug/08/spaceexploration.telecoms)\n",
    "   - [in 2004, about the low profile of the British space program](https://www.theguardian.com/science/2004/jan/08/spaceexploration.science1)"
   ]
  },
  {
   "cell_type": "markdown",
   "metadata": {},
   "source": [
    "The five worst texts that fit into this topic are shown below"
   ]
  },
  {
   "cell_type": "code",
   "execution_count": null,
   "metadata": {},
   "outputs": [],
   "source": [
    "df_topics[df_topics[\"topic_num\"] == 11].nlargest(5, \"resid\")[\"url\"].tolist()"
   ]
  },
  {
   "cell_type": "markdown",
   "metadata": {},
   "source": [
    "**Observations**\n",
    "1. The topics of these articles are listed below\n",
    "   - [in 2008 about urine sample donations for NASA tests of space capsules for space travellers](https://www.theguardian.com/science/2008/jul/17/spaceexploration.usa)\n",
    "   - [about delaying aged care reforms in UK](https://www.theguardian.com/science/2018/sep/17/dont-delay-aged-care-reforms-because-of-royal-commission-government-urged)\n",
    "   - [about Helium gas reserve discovery in Africa](https://www.theguardian.com/science/2016/jun/28/huge-helium-gas-tanzania-east-africa-averts-medical-shortage)\n",
    "     - article mentions that some of Earth's initial Helium content was ``lost to space``\n",
    "   - [about astronaut monitoring company becoming public](https://www.theguardian.com/science/2005/sep/12/spaceexploration.business)\n",
    "   - [about two Swedish citizens hacking into NASA](https://www.theguardian.com/science/1999/aug/17/spaceexploration.aeronautics)"
   ]
  },
  {
   "cell_type": "markdown",
   "metadata": {},
   "source": [
    "The best articles focus on the extent of the British space program's focus - primarily on satellites. The worst are a mix of space related topics\n",
    "\n",
    "**Best** - British space program\n",
    "\n",
    "**Worst** - Random Space news, loosely connected to finances"
   ]
  },
  {
   "cell_type": "markdown",
   "metadata": {},
   "source": [
    "<a id=\"topic-14\"></a>\n",
    "\n",
    "#### 6.1.17. [Topic 14](#topic-14)"
   ]
  },
  {
   "cell_type": "markdown",
   "metadata": {},
   "source": [
    "The five best texts that fit into topic number 14 are shown below"
   ]
  },
  {
   "cell_type": "code",
   "execution_count": null,
   "metadata": {},
   "outputs": [],
   "source": [
    "df_topics[df_topics[\"topic_num\"] == 14].nsmallest(5, \"resid\")[\"url\"].tolist()"
   ]
  },
  {
   "cell_type": "markdown",
   "metadata": {},
   "source": [
    "**Observations**\n",
    "1. The topics report on or look ahead to the occurrence of an eclipse."
   ]
  },
  {
   "cell_type": "markdown",
   "metadata": {},
   "source": [
    "The five worst texts that fit into this topic are shown below"
   ]
  },
  {
   "cell_type": "code",
   "execution_count": null,
   "metadata": {},
   "outputs": [],
   "source": [
    "df_topics[df_topics[\"topic_num\"] == 14].nlargest(5, \"resid\")[\"url\"].tolist()"
   ]
  },
  {
   "cell_type": "markdown",
   "metadata": {},
   "source": [
    "**Observations**\n",
    "1. The topics of these articles are listed below\n",
    "   - [science approach to stopping a shower curtain from wrapping itself around your legs](https://www.theguardian.com/science/2001/sep/06/physicalsciences.highereducation)\n",
    "   - [astronomer used science and a trip northwest of Paris to pinpoint the moment of creation of a van Gogh](https://www.theguardian.com/science/2001/mar/08/spaceexploration.uknews)\n",
    "     - article mentions the following about same astronomer\n",
    "       - traced the origins of the term \"blue moon\"\n",
    "       - tracked down evidence that the young Abraham Lincoln witnessed meteor storm\n",
    "       - proposed that the star mentioned Hamlet could have been a supernova\n",
    "   - [about noctiluscent clouds](https://www.theguardian.com/science/2018/jun/17/starwatch-time-to-look-for-noctilucent-clouds-at-the-edge-of-space)\n",
    "     - [cloud-like phenomena in the upper atmosphere of Earth. They consist of ice crystals and are only visible during astronomical twilight](https://en.wikipedia.org/wiki/Noctilucent_cloud)\n",
    "   - [about light from meteor shower over UK](https://www.theguardian.com/science/2016/mar/17/st-patricks-day-meteor-sky-over-britain)\n",
    "   - [about street lights being brighter than real night sky](https://www.theguardian.com/science/2001/aug/14/spaceexploration.uknews)"
   ]
  },
  {
   "cell_type": "markdown",
   "metadata": {},
   "source": [
    "The best focus on an eclipse. The worst focus on astronomical phenomena associated with lighting up the night sky.\n",
    "\n",
    "**Best** - Eclipse\n",
    "\n",
    "**Worst** - Astronomical Phenomena that light up the skies during darker times of the day"
   ]
  },
  {
   "cell_type": "markdown",
   "metadata": {},
   "source": [
    "<a id=\"topic-16\"></a>\n",
    "\n",
    "#### 6.1.18. [Topic 16](#topic-16)"
   ]
  },
  {
   "cell_type": "markdown",
   "metadata": {},
   "source": [
    "The five best texts that fit into topic number 16 are shown below"
   ]
  },
  {
   "cell_type": "code",
   "execution_count": null,
   "metadata": {},
   "outputs": [],
   "source": [
    "df_topics[df_topics[\"topic_num\"] == 16].nsmallest(5, \"resid\")[\"url\"].tolist()"
   ]
  },
  {
   "cell_type": "markdown",
   "metadata": {},
   "source": [
    "**Observations**\n",
    "1. The topics are focused on using the [New Horizons probe](https://en.wikipedia.org/wiki/New_Horizons) or [Hubble Space Telescope](https://en.wikipedia.org/wiki/Hubble_Space_Telescope) to capture images of Pluto."
   ]
  },
  {
   "cell_type": "markdown",
   "metadata": {},
   "source": [
    "The five worst texts that fit into this topic are shown below"
   ]
  },
  {
   "cell_type": "code",
   "execution_count": null,
   "metadata": {},
   "outputs": [],
   "source": [
    "df_topics[df_topics[\"topic_num\"] == 16].nlargest(5, \"resid\")[\"url\"].tolist()"
   ]
  },
  {
   "cell_type": "markdown",
   "metadata": {},
   "source": [
    "**Observations**\n",
    "1. The topics of these articles are listed below\n",
    "   - [New Horizons spacecraft captures first images of Ultima Thule, proposed to have been created by mixing of ice and dust during the early days of the Solar System](https://www.theguardian.com/science/2019/jan/02/first-close-ups-of-ultima-thule-reveal-it-resembles-dark-red-snowman)\n",
    "   - [report](https://www.theguardian.com/science/2011/may/18/spacewatch-endeavour-shuttle) on [Dawn spacecraft](https://en.wikipedia.org/wiki/Dawn_(spacecraft)) closing in on asteroid before heading for a dwarf planet [Ceres](https://en.wikipedia.org/wiki/Ceres_(dwarf_planet))\n",
    "   - [protests against using nuclear technology to power spacecraft to (distant) planets beyond Mars as solar powered craft can't benefit from strong enough sunlight as a power source](https://www.theguardian.com/science/2003/oct/05/spaceexploration.observersciencepages)\n",
    "   - [report on New Horizons communicatoin after flying past Ultima Thule](https://www.theguardian.com/science/2018/dec/31/new-horizons-heads-for-flyby-of-space-rock-ultima-thule) ([which is smaller than a dwarf planet](https://www.space.com/ultima-thule-birth-new-horizons-first-science.html) and is [located further away from Earth than Pluto](https://www.google.com/search?q=where+is+ultima+thule&client=ubuntu&hs=LQz&channel=fs&sxsrf=ALeKk01-AZjHf2Rwo8PvEEaDxRDh0njVfw:1608062644302&tbm=isch&source=iu&ictx=1&fir=dv-l9DQF1rEwvM%252CXVz_LsNMVaU1mM%252C_&vet=1&usg=AI4_-kQHekD5S6R0osfdct69--S5wtX9BA&sa=X&ved=2ahUKEwjboMKV5NDtAhVNQ80KHVw4B-QQ9QF6BAgeEAE&biw=1920&bih=1098#imgrc=gOqqXvnthfZXrM))\n",
    "   - [about images captured by Dawn spacecraft, of dwarf planet Ceres](https://www.theguardian.com/science/2016/mar/16/mystery-of-ceres-bright-spots-deepens-new-data-analysed-nasa-dawn)"
   ]
  },
  {
   "cell_type": "markdown",
   "metadata": {},
   "source": [
    "The best articles focus on images of Pluto. The worst focus on images or technology (nuclear power) to study dwarf planets (Ceres), or distant objects smaller than dwarf planets. eg. [Ultima Thule](https://en.wikipedia.org/wiki/486958_Arrokoth)). A [distant minor planet](https://en.wikipedia.org/wiki/Distant_minor_planet) is located beyond Jupiter and Ceres (dwarf planet) is between Mars and Jupiter so, it is likely that the focus of the worst articles is on dwarf planets (or smaller objects) beyond Mars. Operational aspects of missions are included in the worst articles too.\n",
    "\n",
    "**Best** - science and operations related to dwarf planet Pluto ([a dwarf planet](https://www.space.com/43-pluto-the-ninth-planet-that-was-a-dwarf.html) and a distant object)\n",
    "\n",
    "**Worst** - science and operations related to distant objects and dwarf planets"
   ]
  },
  {
   "cell_type": "markdown",
   "metadata": {},
   "source": [
    "<a id=\"topic-18\"></a>\n",
    "\n",
    "#### 6.1.19. [Topic 18](#topic-18)"
   ]
  },
  {
   "cell_type": "markdown",
   "metadata": {},
   "source": [
    "The five best texts that fit into topic number 18 are shown below"
   ]
  },
  {
   "cell_type": "code",
   "execution_count": null,
   "metadata": {},
   "outputs": [],
   "source": [
    "df_topics[df_topics[\"topic_num\"] == 18].nsmallest(5, \"resid\")[\"url\"].tolist()"
   ]
  },
  {
   "cell_type": "markdown",
   "metadata": {},
   "source": [
    "**Observations**\n",
    "1. The topics are focused on reporting on the end of the operations for the MIR space station."
   ]
  },
  {
   "cell_type": "markdown",
   "metadata": {},
   "source": [
    "The five worst texts that fit into this topic are shown below"
   ]
  },
  {
   "cell_type": "code",
   "execution_count": null,
   "metadata": {},
   "outputs": [],
   "source": [
    "df_topics[df_topics[\"topic_num\"] == 18].nlargest(5, \"resid\")[\"url\"].tolist()"
   ]
  },
  {
   "cell_type": "markdown",
   "metadata": {},
   "source": [
    "**Observations**\n",
    "1. The topics of these articles are listed below\n",
    "   - [about crashes (also involves Russian cosmonauts) returning from the Salyut 1 space station](https://www.theguardian.com/science/2003/feb/02/spaceexploration.theobserver)\n",
    "   - [about MIR cosmonaut talking about life in space, in London](https://www.theguardian.com/science/2002/mar/14/technology)\n",
    "   - [about Russian Space Agency medican team member commenting about alcohol on the ISS](https://www.theguardian.com/science/2006/jan/07/uknews)\n",
    "   - [on anniversary of Russian cosmonaut Yuri Gagarin's launch into space](https://www.theguardian.com/science/2001/apr/08/spaceexploration.theobserver)\n",
    "   - [about funding limits facing MIR space station](https://www.theguardian.com/science/1999/jun/03/technology1)"
   ]
  },
  {
   "cell_type": "markdown",
   "metadata": {},
   "source": [
    "The best articles focus on the end of life of the MIR space station operations. The worst retain a loose focus on Russian space stations, not just MIR, and cover funding issues, launches, famous residents, etc.\n",
    "\n",
    "**Best** - MIR funding\n",
    "\n",
    "**Worst** - Russian space stations"
   ]
  },
  {
   "cell_type": "markdown",
   "metadata": {},
   "source": [
    "<a id=\"topic-19\"></a>\n",
    "\n",
    "#### 6.1.20. [Topic 19](#topic-19)"
   ]
  },
  {
   "cell_type": "markdown",
   "metadata": {},
   "source": [
    "The five best texts that fit into topic number 19 are shown below"
   ]
  },
  {
   "cell_type": "code",
   "execution_count": null,
   "metadata": {},
   "outputs": [],
   "source": [
    "df_topics[df_topics[\"topic_num\"] == 19].nsmallest(5, \"resid\")[\"url\"].tolist()"
   ]
  },
  {
   "cell_type": "markdown",
   "metadata": {},
   "source": [
    "**Observations**\n",
    "1. The topics are focused on\n",
    "   - [reports on unveiling](https://www.theguardian.com/science/2016/apr/10/virgin-galactic-richard-branson-interview) of a [new Virgin Galactic ship](https://sanfrancisco.cbslocal.com/2016/12/05/virgin-galactic-spaceship-glide-flight-mojave-desert/) to be used for trips into space\n",
    "   - [evaluating dangers and other factors involved in space travel through discussions with Richard Branson and other Virgin Galactic team members](https://www.theguardian.com/theobserver/2012/jun/17/space-tourism-science-virgin-robin-mckie)\n",
    "   - [Virgin Galactic becomes public company](https://www.theguardian.com/science/2019/jul/09/richard-branson-virgin-galactic-go-public)\n",
    "   - [Richard Branson announces launch of Virgin Galactic Airways](https://www.theguardian.com/science/2004/sep/27/spaceexploration.travelnews)\n",
    "   - [NASA collaborates with Virgin Galactic on space passenger plane design](https://www.theguardian.com/science/2007/feb/22/spaceexploration.weekendmagazinespacesection)"
   ]
  },
  {
   "cell_type": "markdown",
   "metadata": {},
   "source": [
    "The five worst texts that fit into this topic are shown below"
   ]
  },
  {
   "cell_type": "code",
   "execution_count": null,
   "metadata": {},
   "outputs": [],
   "source": [
    "df_topics[df_topics[\"topic_num\"] == 19].nlargest(5, \"resid\")[\"url\"].tolist()"
   ]
  },
  {
   "cell_type": "markdown",
   "metadata": {},
   "source": [
    "**Observations**\n",
    "1. The topics of these articles are listed below\n",
    "   - [does alcohol really cause air rage](https://www.theguardian.com/science/sifting-the-evidence/2016/aug/03/flight-or-fight-does-alcohol-really-cause-air-rage)\n",
    "   - [about training for marathon](https://www.theguardian.com/science/2005/feb/10/alokjhasmarathonattempt.lifeandhealth)\n",
    "   - [monkeys return from space flight of 300 miles](https://www.theguardian.com/books/2009/may/29/from-archive-monkeys-missile)\n",
    "   - [best place to tie shoes at airport](https://www.theguardian.com/science/2016/jul/18/did-you-solve-it-wheres-the-best-place-to-tie-your-shoe-in-an-airport)\n",
    "   - [about viewer question (letter) regarding carbon footprint of of one Virgin Galactic flight](https://www.theguardian.com/science/2019/jul/10/picking-up-bransons-rocketing-carbon-bill)"
   ]
  },
  {
   "cell_type": "markdown",
   "metadata": {},
   "source": [
    "The best articles focus on Virgin Galactic's space tourism business - new spaceship announcement, design, dangers, etc. The worst loosely focus on air travel.\n",
    "\n",
    "**Best** - Virgin Galactic space travel\n",
    "\n",
    "**Worst** - air travel"
   ]
  },
  {
   "cell_type": "markdown",
   "metadata": {},
   "source": [
    "<a id=\"topic-20\"></a>\n",
    "\n",
    "#### 6.1.21. [Topic 20](#topic-20)"
   ]
  },
  {
   "cell_type": "markdown",
   "metadata": {},
   "source": [
    "The five best texts that fit into topic number 20 are shown below"
   ]
  },
  {
   "cell_type": "code",
   "execution_count": null,
   "metadata": {},
   "outputs": [],
   "source": [
    "df_topics[df_topics[\"topic_num\"] == 20].nsmallest(5, \"resid\")[\"url\"].tolist()"
   ]
  },
  {
   "cell_type": "markdown",
   "metadata": {},
   "source": [
    "**Observations**\n",
    "1. The topics are focused on\n",
    "   - [in 2007, about detection of halo around cluster of galaxies being evidence for existence of dark matter](https://www.theguardian.com/science/2007/may/16/spaceexploration.universe)\n",
    "     - appears twice in data\n",
    "   - [about image of galaxy with no dark matter](https://www.theguardian.com/science/2018/mar/28/galaxy-without-any-dark-matter-baffles-astronomers)\n",
    "   - [about using dwarf galaxies to determine property of dark matter](https://www.theguardian.com/science/2006/feb/06/starsgalaxiesandplanets.spaceexploration)\n",
    "   - [about detection of particles with same characteristics of dark matter in underground mine on Earth](https://www.theguardian.com/science/2009/dec/17/dark-matter-detected)"
   ]
  },
  {
   "cell_type": "markdown",
   "metadata": {},
   "source": [
    "The five worst texts that fit into this topic are shown below"
   ]
  },
  {
   "cell_type": "code",
   "execution_count": null,
   "metadata": {},
   "outputs": [],
   "source": [
    "df_topics[df_topics[\"topic_num\"] == 20].nlargest(5, \"resid\")[\"url\"].tolist()"
   ]
  },
  {
   "cell_type": "markdown",
   "metadata": {},
   "source": [
    "**Observations**\n",
    "1. The topics of these articles are listed below\n",
    "   - [about aether and manifesting itself (in modern times) as dark matter](https://www.theguardian.com/science/2004/feb/12/research.science) (even through [both are not related](https://www.discovermagazine.com/the-sciences/dark-matter-vs-aether))\n",
    "   - [about suggestion that dark matter affecting travel of Pioneer spacecraft](https://www.theguardian.com/science/2004/sep/12/spaceexploration.research)\n",
    "   - [about quiz game where one of the questions involved dark matter](https://www.theguardian.com/science/2005/apr/28/1)\n",
    "   - [about strawberries in space](https://www.theguardian.com/science/2003/nov/13/spaceexploration.science)\n",
    "   - [very high level discussion of universe, including proportion of dark matter](https://www.theguardian.com/science/2004/apr/15/spaceexploration.highereducation)"
   ]
  },
  {
   "cell_type": "markdown",
   "metadata": {},
   "source": [
    "The best articles focus on detecting (presence or absence of) dark matter. The worst involve an indirect mention of dark matter in the universe - dark matter here is not strongly related to the main topic.\n",
    "\n",
    "**Best** - Discoveries about dark matter in the universe\n",
    "\n",
    "**Worst** - Passing mentions of dark matter in relation to other topics about space"
   ]
  },
  {
   "cell_type": "markdown",
   "metadata": {},
   "source": [
    "<a id=\"topic-21\"></a>\n",
    "\n",
    "#### 6.1.22. [Topic 21](#topic-21)"
   ]
  },
  {
   "cell_type": "markdown",
   "metadata": {},
   "source": [
    "The five best texts that fit into topic number 21 are shown below"
   ]
  },
  {
   "cell_type": "code",
   "execution_count": null,
   "metadata": {},
   "outputs": [],
   "source": [
    "df_topics[df_topics[\"topic_num\"] == 21].nsmallest(5, \"resid\")[\"url\"].tolist()"
   ]
  },
  {
   "cell_type": "markdown",
   "metadata": {},
   "source": [
    "**Observations**\n",
    "1. The topics are focused on consequences of and push for a solution to the problem of global warming."
   ]
  },
  {
   "cell_type": "markdown",
   "metadata": {},
   "source": [
    "The five worst texts that fit into this topic are shown below"
   ]
  },
  {
   "cell_type": "code",
   "execution_count": null,
   "metadata": {},
   "outputs": [],
   "source": [
    "df_topics[df_topics[\"topic_num\"] == 21].nlargest(5, \"resid\")[\"url\"].tolist()"
   ]
  },
  {
   "cell_type": "markdown",
   "metadata": {},
   "source": [
    "**Observations**\n",
    "1. The topics of these articles are listed below\n",
    "   - [about UK poverty statistics, in context of global economic crisis](https://www.theguardian.com/science/2013/dec/12/press-releasing-poverty-at-the-dwp)\n",
    "   - [about populating space as a way to deal with global warming](https://www.theguardian.com/science/2010/aug/12/populating-space-stephen-hawking)\n",
    "   - [about film developed to be invisible to IR cameras](https://www.theguardian.com/science/2018/jun/27/scientists-develop-thermal-camouflage-that-can-fool-infrared-cameras)\n",
    "     - it can hide an object by causing it to appear as though it has the same temperature as its background\n",
    "     - focus here is on tempreature\n",
    "   - [about forest sustainability and microbes surviving in countries with a lot of sunlight](https://www.theguardian.com/science/2000/jun/15/technology1)\n",
    "   - [photonics expert about mirrors replacing air conditioners, and cut back on electricity use, by reflecting heat towards the sky](https://www.theguardian.com/science/2014/nov/26/mirrors-air-conditioning-heat-space)\n",
    "     - expert dismisses idea being about to slow down global warming"
   ]
  },
  {
   "cell_type": "markdown",
   "metadata": {},
   "source": [
    "The best articlesfocus on the problem of global warming and climate change. The worst focus on uses of sunlight, with an indirect link to global warming.\n",
    "\n",
    "**Best** - Global Warming\n",
    "\n",
    "**Worst** - Uses of light and heat"
   ]
  },
  {
   "cell_type": "markdown",
   "metadata": {},
   "source": [
    "<a id=\"topic-23\"></a>\n",
    "\n",
    "#### 6.1.23. [Topic 23](#topic-23)"
   ]
  },
  {
   "cell_type": "markdown",
   "metadata": {},
   "source": [
    "The five best texts that fit into topic number 23 are shown below"
   ]
  },
  {
   "cell_type": "code",
   "execution_count": null,
   "metadata": {},
   "outputs": [],
   "source": [
    "df_topics[df_topics[\"topic_num\"] == 23].nsmallest(5, \"resid\")[\"url\"].tolist()"
   ]
  },
  {
   "cell_type": "markdown",
   "metadata": {},
   "source": [
    "**Observations**\n",
    "1. The topics are focused on detection of gravitational waves."
   ]
  },
  {
   "cell_type": "markdown",
   "metadata": {},
   "source": [
    "The five worst texts that fit into this topic are shown below"
   ]
  },
  {
   "cell_type": "code",
   "execution_count": null,
   "metadata": {},
   "outputs": [],
   "source": [
    "df_topics[df_topics[\"topic_num\"] == 23].nlargest(5, \"resid\")[\"url\"].tolist()"
   ]
  },
  {
   "cell_type": "markdown",
   "metadata": {},
   "source": [
    "**Observations**\n",
    "1. The topics of these articles are listed below\n",
    "   - [high level discussion of the role of EM (micro)-waves in invisibility cloaks](https://www.theguardian.com/science/2011/feb/01/scientists-invent-invisibility-cloak)\n",
    "   - [about earthquake detection, including maps of seismic wave detections in Los Angeles, USA](https://www.theguardian.com/science/2004/aug/09/geology)\n",
    "   - [use of electricity in real-world uses of EM (radio and micro)-waves](https://www.theguardian.com/science/2017/may/22/michael-faraday-lost-better-call-saul-genius)\n",
    "   - [about shape of universe being that of an American football](https://www.theguardian.com/science/2003/oct/09/spaceexploration.research)\n",
    "   - [about the largest tsunami waves](https://www.theguardian.com/science/2003/feb/27/technology)"
   ]
  },
  {
   "cell_type": "markdown",
   "metadata": {},
   "source": [
    "The best articles focus on the detection of gravitational waves. The worst focus a few other types of [waves](https://byjus.com/physics/types-of-waves/) include ocean waves.\n",
    "\n",
    "**Best** - Gravidational waves\n",
    "\n",
    "**Worst** - Waves - of water and EM"
   ]
  },
  {
   "cell_type": "markdown",
   "metadata": {},
   "source": [
    "<a id=\"topic-26\"></a>\n",
    "\n",
    "#### 6.1.24. [Topic 26](#topic-26)"
   ]
  },
  {
   "cell_type": "markdown",
   "metadata": {},
   "source": [
    "The five best texts that fit into topic number 26 are shown below"
   ]
  },
  {
   "cell_type": "code",
   "execution_count": null,
   "metadata": {},
   "outputs": [],
   "source": [
    "df_topics[df_topics[\"topic_num\"] == 26].nsmallest(5, \"resid\")[\"url\"].tolist()"
   ]
  },
  {
   "cell_type": "markdown",
   "metadata": {},
   "source": [
    "**Observations**\n",
    "1. The topics are focused on the search for and detection of neutrinos."
   ]
  },
  {
   "cell_type": "markdown",
   "metadata": {},
   "source": [
    "The five worst texts that fit into this topic are shown below"
   ]
  },
  {
   "cell_type": "code",
   "execution_count": null,
   "metadata": {},
   "outputs": [],
   "source": [
    "df_topics[df_topics[\"topic_num\"] == 26].nlargest(5, \"resid\")[\"url\"].tolist()"
   ]
  },
  {
   "cell_type": "markdown",
   "metadata": {},
   "source": [
    "**Observations**\n",
    "1. The topics of these articles are listed below\n",
    "   - [all about the element niobium](https://www.theguardian.com/science/punctuated-equilibrium/2011/dec/09/1)\n",
    "   - [element Xenon](https://www.theguardian.com/science/grrlscientist/2012/mar/16/1)\n",
    "   - [element tellurium](https://www.theguardian.com/science/grrlscientist/2012/mar/02/1)\n",
    "   - [element calcium](https://www.theguardian.com/science/punctuated-equilibrium/2011/jul/08/1)\n",
    "   - [about science of crumpling](https://www.theguardian.com/science/2002/apr/04/physicalsciences.research)\n",
    "     - by researchers at University of Chicago, which is located near Fermilab (the world's largest neutrino source)"
   ]
  },
  {
   "cell_type": "markdown",
   "metadata": {},
   "source": [
    "The best articles focus on detecting and understanding [neutrinos](https://www.scientificamerican.com/article/what-is-a-neutrino/). The worst focus on elements, likely due to their connection through neutrinos through their constituent [sub-atomic particles](https://chem.libretexts.org/Bookshelves/Physical_and_Theoretical_Chemistry_Textbook_Maps/Supplemental_Modules_(Physical_and_Theoretical_Chemistry)/Atomic_Theory/The_Atom/Sub-Atomic_Particles) (protons, neutrons, and electrons).\n",
    "\n",
    "**Best** - Detection of and Understanding Neutrinos (subatomic particles)\n",
    "\n",
    "**Worst** - Elements in nature, their subatomic particles and other properties"
   ]
  },
  {
   "cell_type": "markdown",
   "metadata": {},
   "source": [
    "<a id=\"topic-27\"></a>\n",
    "\n",
    "#### 6.1.25. [Topic 27](#topic-27)"
   ]
  },
  {
   "cell_type": "markdown",
   "metadata": {},
   "source": [
    "The five best texts that fit into topic number 27 are shown below"
   ]
  },
  {
   "cell_type": "code",
   "execution_count": null,
   "metadata": {},
   "outputs": [],
   "source": [
    "df_topics[df_topics[\"topic_num\"] == 27].nsmallest(5, \"resid\")[\"url\"].tolist()"
   ]
  },
  {
   "cell_type": "markdown",
   "metadata": {},
   "source": [
    "**Observations**\n",
    "1. The topics are focused on Neil Armstrong, one of the Apollo 11 spacecraft's astronauts."
   ]
  },
  {
   "cell_type": "markdown",
   "metadata": {},
   "source": [
    "The five worst texts that fit into this topic are shown below"
   ]
  },
  {
   "cell_type": "code",
   "execution_count": null,
   "metadata": {},
   "outputs": [],
   "source": [
    "df_topics[df_topics[\"topic_num\"] == 27].nlargest(5, \"resid\")[\"url\"].tolist()"
   ]
  },
  {
   "cell_type": "markdown",
   "metadata": {},
   "source": [
    "**Observations**\n",
    "1. These articles are focused on momentos of space travel - photo of earth given to prisoner by astronaut, or song (affiliated with a supposed war criminal) played by an astronaut as Apollo 14 approached the Moon - or remembering astronauts who died in the Columia shuttle crash in 2003."
   ]
  },
  {
   "cell_type": "markdown",
   "metadata": {},
   "source": [
    "**Best** - Neil Armstrong\n",
    "\n",
    "**Worst** - Astronauts who died or were in some way affiliated with real or supposed criminals."
   ]
  },
  {
   "cell_type": "markdown",
   "metadata": {},
   "source": [
    "<a id=\"topic-30\"></a>\n",
    "\n",
    "#### 6.1.26. [Topic 30](#topic-30)"
   ]
  },
  {
   "cell_type": "markdown",
   "metadata": {},
   "source": [
    "The five best texts that fit into topic number 30 are shown below"
   ]
  },
  {
   "cell_type": "code",
   "execution_count": null,
   "metadata": {},
   "outputs": [],
   "source": [
    "df_topics[df_topics[\"topic_num\"] == 30].nsmallest(5, \"resid\")[\"url\"].tolist()"
   ]
  },
  {
   "cell_type": "markdown",
   "metadata": {},
   "source": [
    "**Observations**\n",
    "1. The topics are focused on efforts to search for and some opinions about the form of extraterrestrial life."
   ]
  },
  {
   "cell_type": "markdown",
   "metadata": {},
   "source": [
    "The five worst texts that fit into this topic are shown below"
   ]
  },
  {
   "cell_type": "code",
   "execution_count": null,
   "metadata": {},
   "outputs": [],
   "source": [
    "df_topics[df_topics[\"topic_num\"] == 30].nlargest(5, \"resid\")[\"url\"].tolist()"
   ]
  },
  {
   "cell_type": "markdown",
   "metadata": {},
   "source": [
    "**Observations**\n",
    "1. The topics of these articles are listed below\n",
    "   - [about company that believes aliens from space created human life on Earth being orderred to appear in court regarding human cloning in 2003](https://www.theguardian.com/science/2003/jan/13/genetics.internationalnews)\n",
    "   - [about the UFO Congress Convention and Film](https://www.theguardian.com/science/2001/mar/04/spaceexploration.comment)\n",
    "   - [about studying the path of pebbles on a beach](https://www.theguardian.com/science/2000/aug/10/uknews1)\n",
    "   - [attributing Cold War to UFO obsession](https://www.theguardian.com/science/2002/may/05/spaceexploration.research)\n",
    "   - [about apocalypse in 2058, prompting (among other things) colonizing other planets](https://www.theguardian.com/science/2000/may/18/technology2)"
   ]
  },
  {
   "cell_type": "markdown",
   "metadata": {},
   "source": [
    "The best articles focus on a scientific view about extraterrestrial life. The worst are focused on public imagination related to life away from Earth.\n",
    "\n",
    "**Best** - The search for extraterrestrial life\n",
    "\n",
    "**Worst** - Human's casual fascination with the existence of life forms on other planets"
   ]
  },
  {
   "cell_type": "markdown",
   "metadata": {},
   "source": [
    "<a id=\"topic-31\"></a>\n",
    "\n",
    "#### 6.1.27. [Topic 31](#topic-31)"
   ]
  },
  {
   "cell_type": "markdown",
   "metadata": {},
   "source": [
    "The five best texts that fit into topic number 31 are shown below"
   ]
  },
  {
   "cell_type": "code",
   "execution_count": null,
   "metadata": {},
   "outputs": [],
   "source": [
    "df_topics[df_topics[\"topic_num\"] == 31].nsmallest(5, \"resid\")[\"url\"].tolist()"
   ]
  },
  {
   "cell_type": "markdown",
   "metadata": {},
   "source": [
    "**Observations**\n",
    "1. The topics are focused on the achievements of the Hubble telescope, primarily on its 25 year anniversary, or in relation to extending its working lifetime."
   ]
  },
  {
   "cell_type": "markdown",
   "metadata": {},
   "source": [
    "The five worst texts that fit into this topic are shown below"
   ]
  },
  {
   "cell_type": "code",
   "execution_count": null,
   "metadata": {},
   "outputs": [],
   "source": [
    "df_topics[df_topics[\"topic_num\"] == 31].nlargest(5, \"resid\")[\"url\"].tolist()"
   ]
  },
  {
   "cell_type": "markdown",
   "metadata": {},
   "source": [
    "**Observations**\n",
    "1. The topics of these articles are listed below\n",
    "   - [imaging provided by Proba satellite](https://www.theguardian.com/science/2004/oct/28/science.research)\n",
    "   - [about Astrogrid virtual observatory for astronomers](https://www.theguardian.com/science/2005/sep/23/spaceexploration.universe)\n",
    "   - [about seismological pictures, of Earth's mantle](https://www.theguardian.com/science/2017/may/24/extra-layer-of-tectonic-plates-discovered-within-earths-mantle-scientists-say)\n",
    "     - analogy is made between new seismology technology used here and turning Hubble to look into the Earth\n",
    "   - [about 1894 bombing at Observatory whose telescope defined the Greenwich Meridian](https://www.theguardian.com/science/the-h-word/2016/aug/05/secret-agent-greenwich-observatory-bombing-of-1894)\n",
    "   - [about Observatory becoming a heritage site](https://www.theguardian.com/culture/2019/jul/07/jodrell-bank-observatory-becomes-world-heritage-site)"
   ]
  },
  {
   "cell_type": "markdown",
   "metadata": {},
   "source": [
    "The best articles focus on the Hubble Telescope and its achievements. The worst focus on imaging in general, as connected to observatories or Earth-facing satellites.\n",
    "\n",
    "**Best** - Hubble Telescope\n",
    "\n",
    "**Worst** - Observing Earth and the Stars"
   ]
  },
  {
   "cell_type": "markdown",
   "metadata": {},
   "source": [
    "<a id=\"topic-32\"></a>\n",
    "\n",
    "#### 6.1.28. [Topic 32](#topic-32)"
   ]
  },
  {
   "cell_type": "markdown",
   "metadata": {},
   "source": [
    "The five best texts that fit into topic number 32 are shown below"
   ]
  },
  {
   "cell_type": "code",
   "execution_count": null,
   "metadata": {},
   "outputs": [],
   "source": [
    "df_topics[df_topics[\"topic_num\"] == 32].nsmallest(5, \"resid\")[\"url\"].tolist()"
   ]
  },
  {
   "cell_type": "markdown",
   "metadata": {},
   "source": [
    "**Observations**\n",
    "1. The topics are focused on the following\n",
    "   - [use of satellites as space-based weapons, including how to counter them](https://www.theguardian.com/science/2007/jan/19/spaceexploration.china)\n",
    "     - appears twice with different URLs\n",
    "     - weapons to destroy satellites\n",
    "   - [about launching satellite that was labeled as space junk](https://www.theguardian.com/science/2018/feb/11/one-mans-mission-to-conquer-space-peter-beck-humanity-star)\n",
    "   - [about implications of space war, including space debris](https://www.theguardian.com/science/2018/apr/15/its-going-to-happen-is-world-ready-for-war-in-space)\n",
    "   - [why space pollution could be next big problem facing humans](https://www.theguardian.com/science/2017/mar/26/weve-left-junk-everywhere-why-space-pollution-could-be-humanitys-next-big-problem)"
   ]
  },
  {
   "cell_type": "markdown",
   "metadata": {},
   "source": [
    "The five worst texts that fit into this topic are shown below"
   ]
  },
  {
   "cell_type": "code",
   "execution_count": null,
   "metadata": {},
   "outputs": [],
   "source": [
    "df_topics[df_topics[\"topic_num\"] == 32].nlargest(5, \"resid\")[\"url\"].tolist()"
   ]
  },
  {
   "cell_type": "markdown",
   "metadata": {},
   "source": [
    "**Observations**\n",
    "1. The topics of these articles are listed below\n",
    "   - [satellites to monitor movement of a dam](https://www.theguardian.com/science/2017/jun/04/monitoring-dam-movement-from-space-terrawatch)\n",
    "   - [about using nanotubes to build space elevators to launch satellites instead of blasting them from the Earth's surface](https://www.theguardian.com/science/2004/mar/18/research.science)\n",
    "     - space elevator replaces costly rocket launches\n",
    "   - [use satellites to watch whales](https://www.theguardian.com/science/animal-magic/2014/feb/13/whale-watching-space)\n",
    "   - [new imaging technology to help police in hostage situations by seeing through walls](https://www.theguardian.com/science/2006/nov/11/uknews)\n",
    "   - [on use of space elevator to launch satellites without blasting them from Earth](https://www.theguardian.com/science/2006/sep/03/spaceexploration.theobserver)\n",
    "     - space elevator replaces costly rocket launches"
   ]
  },
  {
   "cell_type": "markdown",
   "metadata": {},
   "source": [
    "The best articles focus on implications of satellite debris in space. The worst focus on the use of satellites to monitor things on Earth or on how to launch them to space without a blastoff.\n",
    "\n",
    "**Best** - Satellite debris from overcrowding in space\n",
    "\n",
    "**Worst** - Cost-reducing methods to add Earth-imaging satellites"
   ]
  },
  {
   "cell_type": "markdown",
   "metadata": {},
   "source": [
    "<a id=\"topic-34\"></a>\n",
    "\n",
    "#### 6.1.29. [Topic 34](#topic-34)"
   ]
  },
  {
   "cell_type": "markdown",
   "metadata": {},
   "source": [
    "The five best texts that fit into topic number 34 are shown below"
   ]
  },
  {
   "cell_type": "code",
   "execution_count": null,
   "metadata": {},
   "outputs": [],
   "source": [
    "df_topics[df_topics[\"topic_num\"] == 34].nsmallest(5, \"resid\")[\"url\"].tolist()"
   ]
  },
  {
   "cell_type": "markdown",
   "metadata": {},
   "source": [
    "**Observations**\n",
    "1. The topics are focused on the following topics\n",
    "   - [Pluto contains plains of ice, despite large distance from Sun](https://www.theguardian.com/science/2015/jul/18/new-horizons-search-life-outside-solar-system-pluto)\n",
    "     - article mentions that innermost planets are thoughyt to have been relatively hospitable due to their proximity to the Sun\n",
    "   - [Solar Orbiter telescopes will get closest view of Sun](https://www.theguardian.com/science/2018/sep/19/staring-at-the-sun-solar-orbiter-telescopes-will-get-closest-view-yet)\n",
    "   - [pros and cons of life on other planets, including implications of their distance from the Sun](https://www.theguardian.com/science/2006/jun/16/spaceexploration.g2)\n",
    "   - [results of studies showing the effect of solar winds (unhindered from reaching the surface, due to absence of magnetic field) on Mars](https://www.theguardian.com/science/2015/nov/05/mars-atmosphere-liquid-water-nasa-northern-lights)\n",
    "   - [report on solar storm hitting Earth](https://www.theguardian.com/science/2012/mar/08/solar-storms-continuing-to-hit-earth)"
   ]
  },
  {
   "cell_type": "markdown",
   "metadata": {},
   "source": [
    "The five worst texts that fit into this topic are shown below"
   ]
  },
  {
   "cell_type": "code",
   "execution_count": null,
   "metadata": {},
   "outputs": [],
   "source": [
    "df_topics[df_topics[\"topic_num\"] == 34].nlargest(5, \"resid\")[\"url\"].tolist()"
   ]
  },
  {
   "cell_type": "markdown",
   "metadata": {},
   "source": [
    "**Observations**\n",
    "1. The topics of these articles are listed below\n",
    "   - [about boat used to cover the world faster than any other](https://www.theguardian.com/science/2005/feb/10/thisweekssciencequestions4)\n",
    "     - discusses resilience to wind\n",
    "   - [about efficiently bringing a building down in presence of weather conditions caused by a hurricane](https://www.theguardian.com/science/1999/aug/05/technology1)\n",
    "   - [about spotting a previously unseen purple patch of ionized gas](https://www.theguardian.com/science/shortcuts/2018/mar/19/steve-mystery-purple-aura-rivals-northern-lights-alberta-canada-nasa)\n",
    "     - this was not identified to be the northern lights, which is collisions between upper-atmosphere gases on Earth with electrically charged particles emitted from the Sun.\n",
    "   - [about Voyager 1's 25 year launch anniversary when heading for outer planets (farthest from Sun)](https://www.theguardian.com/science/2002/aug/22/technology)\n",
    "   - [challenges of a mission to fly a glider into space, due to extreme atmospheric conditions](https://www.theguardian.com/science/2005/jul/28/thisweekssciencequestions.aeronautics)"
   ]
  },
  {
   "cell_type": "markdown",
   "metadata": {},
   "source": [
    "The best articles focus on the ramifications of energy (specifically solar storms) given off by of the Sun. The worst focus on stormy conditions on Earth (influenced by the Sun's emitted energy) or events indirectly connected to energy (not just solar storms) emitted by the Sun\n",
    "\n",
    "**Best** - The Sun's emitted energy (Solar Storms) across the solar system\n",
    "\n",
    "**Worst** - Sun's role in stormy conditions on Earth"
   ]
  },
  {
   "cell_type": "markdown",
   "metadata": {},
   "source": [
    "<a id=\"topic-22\"></a>\n",
    "\n",
    "#### 6.1.30. [Topic 22](#topic-22)"
   ]
  },
  {
   "cell_type": "markdown",
   "metadata": {},
   "source": [
    "The five best texts that fit into topic number 22 are shown below"
   ]
  },
  {
   "cell_type": "code",
   "execution_count": null,
   "metadata": {},
   "outputs": [],
   "source": [
    "df_topics[df_topics[\"topic_num\"] == 22].nsmallest(5, \"resid\")[\"url\"].tolist()"
   ]
  },
  {
   "cell_type": "markdown",
   "metadata": {},
   "source": [
    "**Observations**\n",
    "1. The topics are focused on the following\n",
    "   - [2007 year-end review on findings in understanding science of life](https://www.theguardian.com/science/2008/jan/01/science.review.2007)\n",
    "   - [2009 decade review on Biology's major findings](https://www.theguardian.com/science/2009/dec/29/science-decade-genetics-language-of-life)\n",
    "   - [reporting on researcher who grew eyes and brain cells](https://www.theguardian.com/science/neurophilosophy/2014/aug/26/the-man-who-grew-eyes)\n",
    "   - [Biological findings in top 10 scientific breakthroughs of 2008](https://www.theguardian.com/science/2008/dec/18/top-10-scientific-breakthroughs-2008)\n",
    "   - [scientists working to eliminate ageing cells](https://www.theguardian.com/science/2018/oct/06/race-to-kill-killer-zombie-cells-senescent-damaged-ageing-eliminate-research-mice-aubrey-de-grey)"
   ]
  },
  {
   "cell_type": "markdown",
   "metadata": {},
   "source": [
    "The five worst texts that fit into this topic are shown below"
   ]
  },
  {
   "cell_type": "code",
   "execution_count": null,
   "metadata": {},
   "outputs": [],
   "source": [
    "df_topics[df_topics[\"topic_num\"] == 22].nlargest(5, \"resid\")[\"url\"].tolist()"
   ]
  },
  {
   "cell_type": "markdown",
   "metadata": {},
   "source": [
    "**Observations**\n",
    "1. The topics of these articles are listed below\n",
    "   - [healing properties of honey](https://www.theguardian.com/science/2000/jul/02/drugs.life)\n",
    "   - [better horse nose comfort during Equestrian](https://www.theguardian.com/science/2016/may/03/new-rules-on-horse-nosebands-needed-to-prevent-distress-say-researchers)\n",
    "   - [on posthumous birth lawsuit](https://www.theguardian.com/science/2003/sep/19/genetics.uknews)\n",
    "   - [written in 2000, on potential of molecular computers](https://www.theguardian.com/science/2000/feb/10/technology1)\n",
    "   - [about wine quality](https://www.theguardian.com/science/2013/oct/25/science-magic-wine-making)\n",
    "     - acidity can potentially cause lifeless wine"
   ]
  },
  {
   "cell_type": "markdown",
   "metadata": {},
   "source": [
    "The best articles focus on scientific research findings in biology. The worst are mostly unrelated to life - one-off events loosely related to life.\n",
    "\n",
    "**Best** - Biological Research\n",
    "\n",
    "**Worst** - Random articles with loose connections to life/health"
   ]
  },
  {
   "cell_type": "markdown",
   "metadata": {},
   "source": [
    "<a id=\"topic-17\"></a>\n",
    "\n",
    "#### 6.1.31. [Topic 17](#topic-17)"
   ]
  },
  {
   "cell_type": "markdown",
   "metadata": {},
   "source": [
    "The five best texts that fit into topic number 17 are shown below"
   ]
  },
  {
   "cell_type": "code",
   "execution_count": null,
   "metadata": {},
   "outputs": [],
   "source": [
    "df_topics[df_topics[\"topic_num\"] == 17].nsmallest(5, \"resid\")[\"url\"].tolist()"
   ]
  },
  {
   "cell_type": "markdown",
   "metadata": {},
   "source": [
    "**Observations**\n",
    "1. The topics are focused on the research into neuroscience."
   ]
  },
  {
   "cell_type": "markdown",
   "metadata": {},
   "source": [
    "The five worst texts that fit into this topic are shown below"
   ]
  },
  {
   "cell_type": "code",
   "execution_count": null,
   "metadata": {},
   "outputs": [],
   "source": [
    "df_topics[df_topics[\"topic_num\"] == 17].nlargest(5, \"resid\")[\"url\"].tolist()"
   ]
  },
  {
   "cell_type": "markdown",
   "metadata": {},
   "source": [
    "**Observations**\n",
    "1. The topics of these articles are listed below\n",
    "   - [report on study that finds crossing the fingers can confuse the brain's processesing of hot, cold and pain](https://www.theguardian.com/science/2015/mar/26/crossing-your-fingers-might-reduce-pain-says-study)\n",
    "   - [report on neuroscience study showing that being transparent makes people less anxious in front of a stern-looking crowd](https://www.theguardian.com/science/2015/apr/23/transparent-findings-invisible-people-less-anxious-say-scientists)\n",
    "   - [mind games - theories about how brian interprets illusions](https://www.theguardian.com/science/head-quarters/2016/oct/03/ambiguous-figure-illusions-do-they-offer-a-window-on-the-mind)\n",
    "   - [about AI that mirrors the brain's method of learning](https://www.theguardian.com/global/2017/mar/14/googles-deepmind-makes-ai-program-that-can-learn-like-a-human)\n",
    "   - [study showing putting in golg may be subject to a strong visual illusion](https://www.theguardian.com/science/2001/aug/30/medicalscience.education)"
   ]
  },
  {
   "cell_type": "markdown",
   "metadata": {},
   "source": [
    "The best and worst articles focus on research into understanding or partially replicating how the brain functions.\n",
    "\n",
    "**Best** - Neuroscience\n",
    "\n",
    "**Worst** - Neuroscience"
   ]
  },
  {
   "cell_type": "markdown",
   "metadata": {},
   "source": [
    "<a id=\"topic-24\"></a>\n",
    "\n",
    "#### 6.1.32. [Topic 24](#topic-24)"
   ]
  },
  {
   "cell_type": "markdown",
   "metadata": {},
   "source": [
    "The five best texts that fit into topic number 24 are shown below"
   ]
  },
  {
   "cell_type": "code",
   "execution_count": null,
   "metadata": {},
   "outputs": [],
   "source": [
    "df_topics[df_topics[\"topic_num\"] == 24].nsmallest(5, \"resid\")[\"url\"].tolist()"
   ]
  },
  {
   "cell_type": "markdown",
   "metadata": {},
   "source": [
    "**Observations**\n",
    "1. The topics are focused on detection of gravitational waves."
   ]
  },
  {
   "cell_type": "markdown",
   "metadata": {},
   "source": [
    "The five worst texts that fit into this topic are shown below"
   ]
  },
  {
   "cell_type": "code",
   "execution_count": null,
   "metadata": {},
   "outputs": [],
   "source": [
    "df_topics[df_topics[\"topic_num\"] == 24].nlargest(5, \"resid\")[\"url\"].tolist()"
   ]
  },
  {
   "cell_type": "markdown",
   "metadata": {},
   "source": [
    "**Observations**\n",
    "1. The topics of these articles are listed below\n",
    "   - [high level discussion of the role of EM (micro)-waves in invisibility cloaks](https://www.theguardian.com/science/2011/feb/01/scientists-invent-invisibility-cloak)\n",
    "   - [about earthquake detection, including maps of seismic wave detections in Los Angeles, USA](https://www.theguardian.com/science/2004/aug/09/geology)\n",
    "   - [use of electricity in real-world uses of EM (radio and micro)-waves](https://www.theguardian.com/science/2017/may/22/michael-faraday-lost-better-call-saul-genius)\n",
    "   - [about shape of universe being that of an American football](https://www.theguardian.com/science/2003/oct/09/spaceexploration.research)\n",
    "   - [about the largest tsunami waves](https://www.theguardian.com/science/2003/feb/27/technology)"
   ]
  },
  {
   "cell_type": "markdown",
   "metadata": {},
   "source": [
    "The best articles focus on the detection of gravitational waves. The worst focus a few other types of [waves](https://byjus.com/physics/types-of-waves/) include ocean waves.\n",
    "\n",
    "**Best** - Gravidational waves\n",
    "\n",
    "**Worst** - Waves - of water and EM"
   ]
  },
  {
   "cell_type": "markdown",
   "metadata": {},
   "source": [
    "<a id=\"assign-names-to-35-topics\"></a>\n",
    "\n",
    "### 6.2. [Assign Names to 35 Topics](#assign-names-to-35-topics)"
   ]
  },
  {
   "cell_type": "markdown",
   "metadata": {},
   "source": [
    "A mapping will be made between topic number and name, based on the top 10 terms and manual reading to topic articles, will be developed."
   ]
  },
  {
   "cell_type": "code",
   "execution_count": null,
   "metadata": {},
   "outputs": [],
   "source": [
    "d_topics_35 = {\n",
    "    3: {\n",
    "        \"best\": \"Reporting on Discovery of New Planets\",\n",
    "        \"worst\": \"Reporting on Discovery of New Planets and Objects in Space\",\n",
    "    },\n",
    "    7: {\"best\": \"SpaceX Rocket Testing Reports\", \"worst\": \"Rocket Technology\"},\n",
    "    8: {\n",
    "        \"best\": \"Studying Earth-Threatening Asteroids\",\n",
    "        \"worst\": \"Studying Earth-Threatening Asteroids\",\n",
    "    },\n",
    "    11: {\"best\": \"Focus of the UK Space Program\", \"worst\": \"Random Space News\"},\n",
    "    14: {\n",
    "        \"best\": \"Anticipating or Reporting on Eclipses\",\n",
    "        \"worst\": \"Astronomical Phenomena during dark skies\",\n",
    "    },\n",
    "    16: {\n",
    "        \"best\": \"Spacecraft Imaging of Dwarf distant planet Pluto\",\n",
    "        \"worst\": \"Spacecraft Imaging of Distant Objects and Dwarf planets\",\n",
    "    },\n",
    "    18: {\n",
    "        \"best\": \"MIR Space Station Funding\",\n",
    "        \"worst\": \"Russian news about Space Stations\",\n",
    "    },\n",
    "    19: {\"best\": \"Events relating to Virgin Galactic\", \"worst\": \"Air Travel\"},\n",
    "    20: {\n",
    "        \"best\": \"Scientific Research about Dark Matter\",\n",
    "        \"worst\": \"General Dark Matter in Space\",\n",
    "    },\n",
    "    21: {\n",
    "        \"best\": \"Reports about Problem of Global Warming\",\n",
    "        \"worst\": \"Uses of Heat on Earth\",\n",
    "    },\n",
    "    23: {\n",
    "        \"best\": \"Report on Detection of Gravitational Waves\",\n",
    "        \"worst\": \"All kinds on Waves on Earth\",\n",
    "    },\n",
    "    26: {\n",
    "        \"best\": \"On the Search for and Detection of Neutrinos\",\n",
    "        \"worst\": \"Particles and Properties of Elements in Nature\",\n",
    "    },\n",
    "    27: {\"best\": \"Neil Armstrong\", \"worst\": \"Astronauts as human beings\"},\n",
    "    30: {\n",
    "        \"best\": \"Search for E.T. life\",\n",
    "        \"worst\": \"Fascination with Otherworldly Life\",\n",
    "    },\n",
    "    31: {\n",
    "        \"best\": \"Achievements of Hubble Space Telescope\",\n",
    "        \"worst\": \"Observing Earth and the Stars\",\n",
    "    },\n",
    "    32: {\n",
    "        \"best\": \"Space Debris from Satellites\",\n",
    "        \"worst\": \"Cost-efficient methods to deploy Earth facing satellites\",\n",
    "    },\n",
    "    34: {\n",
    "        \"best\": \"Sun's influence on life across the Solar System\",\n",
    "        \"worst\": \"Sun's role in stormy conditions on Earth\",\n",
    "    },\n",
    "    22: {\"best\": \"Biological Achievements\", \"worst\": \"General Life and Health\"},\n",
    "    17: {\"best\": \"Neuroscience Research\", \"worst\": \"Neuroscience Research\"},\n",
    "    2: {\n",
    "        \"best\": \"Mars mission updates\",\n",
    "        \"worst\": \"Mars Colonization and Tourism\",\n",
    "    },\n",
    "    1: {\"best\": \"Columbia shuttle crash\", \"worst\": \"Space Shuttles\"},\n",
    "    6: {\"best\": \"About Exploring the Moon\", \"worst\": \"Moon Tourism\"},\n",
    "    15: {\"best\": \"Cassini mission updates\", \"worst\": \"Cassini mission updates\"},\n",
    "    10: {\n",
    "        \"best\": \"Evidence of Water in the Solar System\",\n",
    "        \"worst\": \"Fun with water on Earth\",\n",
    "    },\n",
    "    4: {\n",
    "        \"best\": \"Rosetta mission (to comet 67P) updates\",\n",
    "        \"worst\": \"Science involving Comets\",\n",
    "    },\n",
    "    5: {\n",
    "        \"best\": \"News Reports about Philae lander on Rosetta\",\n",
    "        \"worst\": \"About People affiliated with Rosetta\",\n",
    "    },\n",
    "    9: {\n",
    "        \"best\": \"ISS updates\",\n",
    "        \"worst\": \"Space Stations - Facts and History\",\n",
    "    },\n",
    "    12: {\"best\": \"Discovery of Higgs Boson\", \"worst\": \"Particles of Matter\"},\n",
    "    13: {\n",
    "        \"best\": \"Research of Stephen Hawking\",\n",
    "        \"worst\": \"Experimental Physicists\",\n",
    "    },\n",
    "    25: {\n",
    "        \"best\": \"Black Holes\",\n",
    "        \"worst\": \"Black Holes in Popular Culture\",\n",
    "    },\n",
    "    28: {\"best\": \"Beagle 2 Mission Updates\", \"worst\": \"Beagle 2 Legacy\"},\n",
    "    24: {\"best\": \"Dinosaurs\", \"worst\": \"Topic 24\"},\n",
    "    33: {\"best\": \"Topic 33\", \"worst\": \"Topic 33\"},\n",
    "    29: {\"best\": \"Topic 29\", \"worst\": \"Topic 29\"},\n",
    "    0: {\"best\": \"Topic 0\", \"worst\": \"Topic 0\"},\n",
    "}\n",
    "df_named_topics = (\n",
    "    pd.DataFrame.from_dict(d_topics_35, orient=\"index\")\n",
    "    .sort_index()\n",
    "    .rename_axis(\"topic_num\")\n",
    ")\n",
    "display(df_named_topics)"
   ]
  },
  {
   "cell_type": "markdown",
   "metadata": {},
   "source": [
    "The residual plot is repeated now with topic names"
   ]
  },
  {
   "cell_type": "code",
   "execution_count": null,
   "metadata": {},
   "outputs": [],
   "source": [
    "# boxplot_sorted(\n",
    "#     df_topics[[\"topic_num\", \"resid\"]].merge(\n",
    "#         df_named_topics.reset_index()[[\"topic_num\", \"best\"]], on=\"topic_num\"\n",
    "#     ),\n",
    "#     [\"best\"],\n",
    "#     \"resid\",\n",
    "#     \"Topic Residual (sorted by median)\",\n",
    "#     \"right\",\n",
    "#     14,\n",
    "#     0,\n",
    "#     sort_by_median=True,\n",
    "#     vert=False,\n",
    "#     fig_size=(6, 16),\n",
    "# )\n",
    "altair_boxplot_sorted(\n",
    "    df_topics[[\"topic_num\", \"resid\"]].merge(\n",
    "        df_named_topics.reset_index()[[\"topic_num\", \"best\"]], on=\"topic_num\"\n",
    "    ),\n",
    "    \"best\",\n",
    "    \"resid\",\n",
    "    \"median(resid)\",\n",
    "    \"Topic Residual (sorted by median)\",\n",
    "    14,\n",
    "    14,\n",
    "    16,\n",
    "    dx=340,\n",
    "    offset=0,\n",
    "    x_tick_label_angle=0,\n",
    "    horiz_bar_chart=True,\n",
    "    axis_range=[0.4, 1],\n",
    "    fig_size=(300, 750),\n",
    ")"
   ]
  },
  {
   "cell_type": "markdown",
   "metadata": {},
   "source": [
    "**Observations**\n",
    "1. There are 15 topics related to missions (including Cassini) and the Moon and, as with the smaller number of topics in ML modeling, these topics remain the best\n",
    "2. The topic on ISS updates are still not as good\n",
    "   - the Russian segment (MIR) is now separated from the ISS and the MIR topic has a lower residual (a better topic) than does the ISS\n",
    "3. The topic on SpaceX now fares relatively better than with a smaller number of topics. This perhaps sheds light on why the Virgin Galactic topic is relatively worse (higher residual) than the SpaceX topic. While SpaceX articles are focused on reporting about rocket launch events, articles within the Virgin Galactic topic focus on space tourism. Perhaps, with a smaller number of topics, these two themes were being previously conflated and the space tourism segment was bringing the merged topic down.\n",
    "3. Concrete topics on scientific discoveries - Bosons, Neutrinos, Dark Matter and Gravitational Waves (middle-of-the-chart) - continue to fare relatively better than general scientific research findings, facts, etc. The box and whisker components for the latter of these are narrower and trend higher in residual (worse).\n",
    "   - Interestingly, Black holes now score relatively better than the discovery of the Higgs Boson\n",
    "     - the Higgs Boson is less Space-y since it is searched for at LHC (on Earth), while the best Black hole articles are focused on their detection in space\n",
    "     - this is the one non-mission-related topic that scores well\n",
    "     - the Stephen Hawking (black holes are predicted to release Hawking radiation) research topic is among the worst and is distinct from this black hole segment, likely since (as seen earlier) was more focused on his achievements which covers several areas of research\n",
    "4. Two of the mission-related topics (Columbia crash and Mars mission updates) score relatively worse now than with a smller number of topics.\n",
    "   - As seen from reading the articles, the Columbia crash topic also includes articles about the first post-crash launch of the Discovery shuttle. In the best articles within this topic that are focused on Discovery, these two shuttles are linked to eachother.\n",
    "   - Some of the best articles in the Mars mission topic aren't related to mission updates. Instead, they cover year-end reviews and a launch anniversary - not fresh mission updates and/or news reports about the latest data coming in that sheds light on the [red planet](https://en.wikipedia.org/wiki/Mars)! Also, several missions are included under this one topic. As seen from the Beagle 2 topic, perhaps pulling out a few of the big missions (landers, rovers) and keeping them as standalone topics would allow for them to score better.\n",
    "\n",
    "A theme that seems to have emerged, with both a smaller and larger number of topics in ML modeling, is that the better topics are the ones that are very focused. From reading the articles' text, these tend to be the ones that report on space-related mission findings - the Moon, Pluto, SpaceX, Roestta, Philae, Beagle 2, MIR missions (funding), etc. Other focused space-like topics - Black Hole discovery (related to Earth-based telscropes) and Asteroids heading for Earth - are the non-mission-related topics which also score well. The narrower scope from allowing for a larger number of topics in the ML model has helped in this regard."
   ]
  },
  {
   "cell_type": "markdown",
   "metadata": {},
   "source": [
    "<a id=\"exploring-topics-combined-with-source-data-and-35-topics\"></a>\n",
    "\n",
    "## 7. [Exploring topics combined with source data and 35 topics](#exploring-topics-combined-with-source-data-and-35-topics)"
   ]
  },
  {
   "cell_type": "markdown",
   "metadata": {},
   "source": [
    "<a id=\"years-featured\"></a>\n",
    "\n",
    "### 7.1. [Years Featured](#years-featured)"
   ]
  },
  {
   "cell_type": "markdown",
   "metadata": {},
   "source": [
    "First, we will show a heatmap of the number of years in which a topic appears, using 35 topics"
   ]
  },
  {
   "cell_type": "code",
   "execution_count": null,
   "metadata": {},
   "outputs": [],
   "source": [
    "altair_plot_bar_chart_value_counts(\n",
    "    df_topics.groupby([\"topic_num\"])[\"year\"]\n",
    "    .nunique()\n",
    "    .sort_values()\n",
    "    .reset_index()\n",
    "    .merge(df_named_topics.reset_index()[[\"topic_num\", \"best\"]], on=\"topic_num\"),\n",
    "    \"Number of years in which a topic appears\",\n",
    "    \"year:Q\",\n",
    "    \"best:N\",\n",
    "    labelFontSize=12,\n",
    "    titleFontSize=12,\n",
    "    plot_titleFontSize=16,\n",
    "    dx=300,\n",
    "    offset=0,\n",
    "    horiz_bar_chart=True,\n",
    "    fig_size=(450, 650),\n",
    ")"
   ]
  },
  {
   "cell_type": "markdown",
   "metadata": {},
   "source": [
    "**Observations**\n",
    "1. There are a few topics that do not occur in the majority of years. We'll discuss this later."
   ]
  },
  {
   "cell_type": "markdown",
   "metadata": {},
   "source": [
    "<a id=\"most-popular-topic-by-year\"></a>\n",
    "\n",
    "### 7.2. [Most Popular Topic by Year](#most-popular-topic-by-year)"
   ]
  },
  {
   "cell_type": "markdown",
   "metadata": {},
   "source": [
    "Next, we'll get the most popular topic by year"
   ]
  },
  {
   "cell_type": "code",
   "execution_count": null,
   "metadata": {},
   "outputs": [],
   "source": [
    "dfg = (\n",
    "    df_topics.groupby([\"year\", \"topic_num\"])[\"url\"]\n",
    "    .count()\n",
    "    .reset_index()\n",
    "    .rename(columns={\"url\": \"count\"})\n",
    ")\n",
    "dfg = dfg.loc[dfg.groupby(\"year\")[\"count\"].idxmax()]"
   ]
  },
  {
   "cell_type": "code",
   "execution_count": null,
   "metadata": {},
   "outputs": [],
   "source": [
    "altair_plot_horiz_bar_chart(\n",
    "    dfg.merge(\n",
    "        df_named_topics.reset_index()[[\"topic_num\", \"best\"]], on=\"topic_num\"\n",
    "    ).rename(columns={\"best\": \"Topic\"}),\n",
    "    ptitle=\"Most Popular Topic by Year\",\n",
    "    xvar=\"count\",\n",
    "    yvar=\"year\",\n",
    "    xtitle=\"Occurrences\",\n",
    "    labelFontSize=14,\n",
    "    titleFontSize=16,\n",
    "    plot_titleFontSize=16,\n",
    "    text_var=\"Topic\",\n",
    "    tooltip=[\"Topic\", \"count\"],\n",
    "    dx=45,\n",
    "    offset=0,\n",
    "    fig_size=(600, 450),\n",
    ")"
   ]
  },
  {
   "cell_type": "markdown",
   "metadata": {},
   "source": [
    "**Observations**\n",
    "1. The following are a selected years and reasons why this choice of the most popular topic during each year is a sensible prediction by our ML model\n",
    "   - 1986, 1988\n",
    "     - Columbia space shuttle crash\n",
    "       - although the [Challenger shuttle crash occurred in 1986](https://en.wikipedia.org/wiki/Space_Shuttle_Challenger_disaster), it was the Discovery shuttle that was the first post-crash launch in 1988 ([1](https://en.wikipedia.org/wiki/Space_Shuttle_Challenger_disaster#Continuation_of_the_Shuttle_program), [2](https://history.nasa.gov/SP-4219/Chapter15.html))\n",
    "       - due to Discovery's connection to the Columbia crash in 2003 and the much larger number of articles on the later crash (which prompeted its naming), the articles' connection to Discovery is how this topic appears during these two years\n",
    "   - 1999\n",
    "     - MIR\n",
    "       - [British businessman's fundraising attempt by promising to fly on MIR fell through](http://news.bbc.co.uk/2/hi/science/nature/353467.stm)\n",
    "       - [last crew members leave the MIR space station](https://www.nytimes.com/1999/08/28/world/last-full-crew-leaves-mir-to-be-abandoned-after-13-years.html)\n",
    "   - 2001\n",
    "     - MIR, because this was the year when the [MIR space station was taken out of orbit](https://en.wikipedia.org/wiki/Deorbit_of_Mir)\n",
    "   - 2003\n",
    "     - Columbia shuttle crash, because the crash occurred during this year\n",
    "   - 2004\n",
    "     - search for the Beagle 2 rover and its mission updates\n",
    "   - 2005\n",
    "     - Columbia shuttle crash, because the first *Return-to-Flight* ([1](https://www.nasa.gov/returntoflight/main/index.html), [2](https://www.nature.com/collections/vlrdpjnyvk)) Discovery shuttle launch was [the first one since the Columbia crash](https://en.wikipedia.org/wiki/STS-114)\n",
    "   - 2006\n",
    "     - Columbia shuttle crash, because the second *Return-to-Flight* ([1](https://www.nasa.gov/returntoflight/main/index.html), [2](https://www.nature.com/collections/vlrdpjnyvk)) Discovery shuttle launch [occurred](https://en.wikipedia.org/wiki/STS-121)\n",
    "   - 2008\n",
    "     - ISS mission updates due to its [10th anniversary celebrations](https://www.nasa.gov/mission_pages/station/main/10th_anniversary.html) and the completion of [four missions to the ISS during the year](https://www.nasa.gov/home/hqnews/2008/dec/HQ_08-322_Top_Stories_2008.html)\n",
    "   - 2009\n",
    "     - Neil Armstrong, likely because this was the year of the 40th anniversary of the Apollo 11 Moon landing\n",
    "   - 2011\n",
    "     - Columbia Space Shuttle disaster\n",
    "       - actually, the big news of this year was not about the Columbia disaster specifically (which was the topic of the best articles by residual)\n",
    "       - instead, the focus was on the [retirement of the Space Shuttle Program](https://en.wikipedia.org/wiki/Space_Shuttle_retirement), which occurred during this year\n",
    "         - this would have included articles with some focus on Columbia, but also on other shuttles (Discovery, Endeavour, etc.)\n",
    "   - 2015\n",
    "     - ISS mission updates, since the SpaceX mission to the ISS ends in explosion ([1](https://www.theguardian.com/science/2015/jun/28/nasa-spacex-launch-international-space-station-wrong), [2](https://phys.org/news/2015-11-nasa-space-station-resupply-missions-relaunch.html))\n",
    "   - 2016\n",
    "     - ISS mission updates\n",
    "       - [successful SpaceX rocket launches during this year](https://www.space.com/35127-top-spaceflight-stories-2016.html), which has implications for [NASA missions to the ISS](https://blogs.nasa.gov/spacex/)\n",
    "   - 2019\n",
    "     - Moon, because of a new focus on manned missions to the Moon ([1](https://www.newscientist.com/article/mg24432613-600-2019-was-the-year-we-got-serious-about-walking-on-the-moon-again/), US-based interest - [1](https://www.theatlantic.com/science/archive/2019/03/trump-nasa-moon-2024/585880/), [2](https://www.cnbc.com/2019/06/07/trump-wants-nasa-to-go-to-mars-not-the-moon-like-he-declared-weeks-ago.html), [3](https://www.nature.com/articles/d41586-019-02020-w))\n",
    "2. This degree of granularity is not possible with a smaller number of topics during topic modeling."
   ]
  },
  {
   "cell_type": "code",
   "execution_count": null,
   "metadata": {},
   "outputs": [],
   "source": [
    "df_all_by_year = dfg.merge(\n",
    "    df_named_topics.reset_index()[[\"topic_num\", \"best\"]], on=\"topic_num\"\n",
    ").rename(columns={\"best\": \"Topic\"})\n",
    "display(df_all_by_year.head())"
   ]
  },
  {
   "cell_type": "markdown",
   "metadata": {},
   "source": [
    "<a id=\"all-topics-by-year\"></a>\n",
    "\n",
    "### 7.3. [All Topics by Year](#all-topics-by-year)"
   ]
  },
  {
   "cell_type": "markdown",
   "metadata": {},
   "source": [
    "Next, we will show a heatmap of the most popular topic by year, using 35 topics"
   ]
  },
  {
   "cell_type": "code",
   "execution_count": null,
   "metadata": {},
   "outputs": [],
   "source": [
    "topics_by_timeframe = (\n",
    "    df_topics.groupby([\"topic_num\", \"year\"])\n",
    "    .size()\n",
    "    .reset_index()\n",
    "    .sort_values(by=[\"topic_num\", 0, \"year\"], ascending=False)\n",
    "    .rename(columns={0: \"count\"})\n",
    ")\n",
    "display(topics_by_timeframe.head())"
   ]
  },
  {
   "cell_type": "markdown",
   "metadata": {},
   "source": [
    "Sanity checks"
   ]
  },
  {
   "cell_type": "code",
   "execution_count": null,
   "metadata": {},
   "outputs": [],
   "source": [
    "assert (\n",
    "    df_topics.loc[(df_topics[\"topic_num\"] == 1) & (df_topics[\"year\"] == 2003)].shape[0]\n",
    "    == topics_by_timeframe.loc[\n",
    "        (topics_by_timeframe[\"topic_num\"] == 1) & (topics_by_timeframe[\"year\"] == 2003)\n",
    "    ][\"count\"].iloc[0]\n",
    ")"
   ]
  },
  {
   "cell_type": "code",
   "execution_count": null,
   "metadata": {},
   "outputs": [],
   "source": [
    "assert topics_by_timeframe[\"count\"].sum() == df_guardian.shape[0]"
   ]
  },
  {
   "cell_type": "markdown",
   "metadata": {},
   "source": [
    "Generate the heatmap"
   ]
  },
  {
   "cell_type": "code",
   "execution_count": null,
   "metadata": {},
   "outputs": [],
   "source": [
    "altair_datetime_heatmap(\n",
    "    topics_by_timeframe.merge(\n",
    "        df_named_topics.reset_index()[[\"topic_num\", \"best\"]], on=\"topic_num\"\n",
    "    ),\n",
    "    x=\"year:O\",\n",
    "    y=\"best:N\",\n",
    "    xtitle=\"Year\",\n",
    "    ytitle=\"Topics by Year\",\n",
    "    tooltip=[\n",
    "        {\n",
    "            \"title\": \"Year\",\n",
    "            \"field\": \"year\",\n",
    "            \"type\": \"ordinal\",\n",
    "        },\n",
    "        {\n",
    "            \"title\": \"Topic\",\n",
    "            \"field\": \"best\",\n",
    "            \"type\": \"nominal\",\n",
    "        },\n",
    "        {\n",
    "            \"title\": \"Number of articles\",\n",
    "            \"field\": \"count\",\n",
    "            \"type\": \"quantitative\",\n",
    "        },\n",
    "    ],\n",
    "    cmap=\"yelloworangered\",\n",
    "    legend_title=\"\",\n",
    "    color_by_col=\"count:Q\",\n",
    "    yscale=\"log\",\n",
    "    axis_tick_font_size=12,\n",
    "    axis_title_font_size=16,\n",
    "    title_font_size=20,\n",
    "    legend_fig_padding=10,  # default is 18\n",
    "    y_axis_title_alignment=\"left\",\n",
    "    fwidth=650,\n",
    "    fheight=900,\n",
    "    file_path=\"\",\n",
    "    save_to_html=False,\n",
    "    sort_y=[],\n",
    "    sort_x=[],\n",
    "    dx=20,\n",
    "    offset=0,\n",
    "    plot_titleFontSize=16,\n",
    ")"
   ]
  },
  {
   "cell_type": "markdown",
   "metadata": {},
   "source": [
    "**Observations**\n",
    "1. If a topic does not occur in the majority of years, then that could be an indication that it is a poor choice of a standalone topics and should be combined. This appears to be the case for topic numbers 5 (Philae), 7 (SpaceX), 16 (Pluto), 18 (MIR) and 23 (Gravitational Waves) which appear 15 times or less - with the exception of topic 5, it is less of a concern but still worth noting."
   ]
  },
  {
   "cell_type": "markdown",
   "metadata": {},
   "source": [
    "<a id=\"examining-infrequently-occurring-topics\"></a>\n",
    "\n",
    "### 7.4. [Examining Infrequently Occurring Topics](#examining-infrequently-occurring-topics)"
   ]
  },
  {
   "cell_type": "markdown",
   "metadata": {},
   "source": [
    "We'll walk through the five topics above identified to generate articles during the least number of years."
   ]
  },
  {
   "cell_type": "markdown",
   "metadata": {},
   "source": [
    "<a id=\"philae\"></a>\n",
    "\n",
    "#### 7.4.1. [Philae](#philae)"
   ]
  },
  {
   "cell_type": "markdown",
   "metadata": {},
   "source": [
    "Focusing on topic 5, the best articles here focused on the Philae lander onboard the Rosetta spacecraft. The topic only appears in the mid 2010s - 2014, 2015 and 2016. Could it only occur during a 3 year preiod? Now, Rosetta launched in 2004, but Philae landed on comet 67P in [2014](http://www.esa.int/Science_Exploration/Space_Science/Rosetta/Three_touchdowns_for_Rosetta_s_lander), so it makes sense that articles under the Philae topic began during that year. The payload comprised other instruments [as well as the spacecraft's payload](https://www.esa.int/Science_Exploration/Space_Science/Rosetta/Rosetta_Media_factsheet). So, prior news reports about Philae would have been either in relation to the Rosetta spacecraft, as opposed to a dedicated discussion about the lander itself, or about the science behind the design of the lander and its own [dedicated payload of 10 instruments](https://www.esa.int/Science_Exploration/Space_Science/Rosetta/Lander_Instruments).\n",
    "\n",
    "Contact with the lander was [lost after July 2015](https://www.sciencemag.org/news/2015/07/philae-s-scientific-harvest-may-be-its-last), so it is in the news again that year. Rosetta captured an image of the lander in [September 2016](https://www.esa.int/Science_Exploration/Space_Science/Rosetta/Philae_found). In July 2016, it was decided to [end communication with the lander after nearly two years of failed attempts to communicate with it](https://www.bbc.com/news/science-environment-36904368). Overall, it captured [three days](https://www.smithsonianmag.com/smart-news/after-two-years-searching-comet-lander-philae-finally-found-180960350/) of [science data](https://www.cosmos.esa.int/web/psa/rosetta).\n",
    "\n",
    "So, the news articles prior to 2014 would have focused on the non-operational aspects of the lander. Articles from 2014-2016 would have been focused solely on ESA operations to find the lander. As we saw earlier, this is in line with the five best articles within this topic since they all focused on the operational aspects of the search for the lander. So, it does make sense that this topic only appeared during a three year period, ending in 2016.\n",
    "\n",
    "Looking at topic number 4 (Rosetta) from the ML model's predictions with 15 topics, we do still see that the years 2014-2016 feature the most occurrences of this topic. But, we don't have a direct approach to determining whether this elevated three year period was solely attributed to Philae being in the news or other comet-related news articles that appeared during those years - or a combination of these two factors.\n",
    "\n",
    "Okay, so it makes sense that this is picked up as a standalone topic when we search for 35 topics instead of 15 topics. But is it worthy of a standalone topic if its articles only occur in three years? Maybe we don't need this level of granularity. Maybe our interest in the topic of comet science (topic 4, when using 15 topics) can be limited to including the high-level Rosetta mission as one of the sub-topics within this topic. On the other hand, if we're interested in directly attributing that three-year period of elevated news publications to a specific sub-topic, then getting a topic that splits Philae (topic 5, when using 35 topics) out of the overall topic of comets makes sense. Maybe we could keep 35 topics but combine this small Philae-centric topic with the larger topic centered on the Rosetta mission (best topics) and comets in general (worst articles), which has articles appearing across nearly 20 distinct years. This is one of the tradeoffs to be considered when allowing for a larger number of topics."
   ]
  },
  {
   "cell_type": "markdown",
   "metadata": {},
   "source": [
    "<a id=\"spacex\"></a>\n",
    "\n",
    "#### 7.4.2. [SpaceX](#spacex)"
   ]
  },
  {
   "cell_type": "markdown",
   "metadata": {},
   "source": [
    "For Topic 7, there isn't another topic with a theme of rocket testing/launches. The focus of the news articles involving the Virgin Galactic topic is on space tourism/travel with little mention of launches/testing. Also, note that SpaceX was founded in 2002 so we theoretically have at most 18 (2002-2019) years of data from which to expect news publications on this topic. The worst articles here are focused on rocket technology, which is still distinct from space tourism.\n",
    "\n",
    "SpaceX does have interest in space tourism (eg. involving the ISS, see [1](https://www.latimes.com/business/story/2020-02-18/spacex-tourists-crew-dragon-capsule), [2](https://www.cnbc.com/2020/09/26/space-tourism-how-spacex-virgin-galactic-blue-origin-axiom-compete.html)). Virgin Galactic does [also have ties to the ISS](https://www.virgingalactic.com/visit-the-international-space-station/) and only recently announced [plans for Mars tourism](https://www.forbes.com/sites/jonathanocallaghan/2019/10/09/virgin-orbit-is-planning-an-ambitious-mission-to-mars-in-2022/?sh=7c63db7966f1) (though the latest Guardian news articles retrieved for this project just pre-date this announcement).\n",
    "\n",
    "The ISS topic is focused on crew arrivals/departures and history. Space tourism is not limited to the ISS - see the Moon ([1](https://en.wikipedia.org/wiki/Tourism_on_the_Moon#Proposed_missions), [2](https://en.wikipedia.org/wiki/DearMoon_project)) and [Mars](https://www.cnn.com/2020/05/01/business/space-industry-critical-business-blue-origin-spacex-scn/index.html) - but opening up the ISS to space tourists is [a focus for NASA](https://www.bbc.com/news/world-us-canada-48560874) because it is easier to reach than the Moon or Mars.\n",
    "\n",
    "So assigning SpaceX its own topic, separate from Virgin Galactic (due to the much smaller focus on rocket testing in the best Virgin Galactic news articles), is a reasonable choice. But, it would nonetheless be interesting to compare each of these two companies to the ISS, Moon and Mars topics in some way in order to more qualitatively determine if their news articles should be kept separate or combined under a common topic."
   ]
  },
  {
   "cell_type": "markdown",
   "metadata": {},
   "source": [
    "<a id=\"discovery-of-gravitational-waves\"></a>\n",
    "\n",
    "#### 7.4.3. [Discovery of Gravitational Waves](#discovery-of-gravitational-waves)"
   ]
  },
  {
   "cell_type": "markdown",
   "metadata": {},
   "source": [
    "Gravitational Waves (Topic 23) were first detected in 2015. LIGO only started collecting data in 2002. [VIRGO](https://en.wikipedia.org/wiki/Virgo_interferometer) started collecting in 2007 and other detectors ([GEO600](https://en.wikipedia.org/wiki/GEO600), [TAMA](https://en.wikipedia.org/wiki/TAMA_300)) were also collecting data starting in 1999 or the early 2000s, so there are at most approx. 20 years in which articled under this topic could appear. The worst topics are focused on other kinds of waves and are limited to their uses or occurrences (eg. ocean waves) on Earth, which don't point to news articles in another topic. So assigning Gravitational Waves its own topic is a reasonable choice."
   ]
  },
  {
   "cell_type": "markdown",
   "metadata": {},
   "source": [
    "<a id=\"mir-space-station-funding\"></a>\n",
    "\n",
    "#### 7.4.4. [MIR Space Spation Funding](#mir-space-station-funding)"
   ]
  },
  {
   "cell_type": "markdown",
   "metadata": {},
   "source": [
    "Topic 18 is about MIR. Its topic has been predicted here for approx. 10 years. The space station was shut down in 2001. So, while there are as many as approx. 19 years post-shutdown, these articles were only published for approx. 50% of the time. This makes sense since this topic wouldn't be generating as many headlines as an active space station. The ISS topic is distinct since it focuses on a different space station. The worst articles in the MIR topic also include news articles about other Russian Space Stations. In combination, it seems a logical choice to keep this as a standalone topic."
   ]
  },
  {
   "cell_type": "markdown",
   "metadata": {},
   "source": [
    "<a id=\"reporting-on-pluto\"></a>\n",
    "\n",
    "#### 7.4.5. [Reporting on Pluto](#reporting-on-pluto)"
   ]
  },
  {
   "cell_type": "markdown",
   "metadata": {},
   "source": [
    "Topic 16 is about imaging of Pluto and dwarf/distant objects and appears during approx. 14 years. A considerable focus of the articles was on use of the [New Horizons probe](https://en.wikipedia.org/wiki/New_Horizons), which launched in January, 2006 and [recorded its first images of Pluto in December, 2006](https://en.wikipedia.org/wiki/New_Horizons#First_Pluto_sighting), so this aligns with the number of years in which these articles appear. Discoveries of similarly-sized (non-planetary) space objects in the [Kuiper Belt](https://en.wikipedia.org/wiki/Kuiper_belt) were made in 2002-2005 and prompted Pluto's downgrade in [2006](https://www.bbc.com/news/science-environment-33462184). The best articles in this topic focus on Pluto and New Horizons, rather than on other objects/planets. This could explain the presence of these articles over a period of approx. 14 years.i.e. coinciding with demoting of Pluto from a planet to a dwarf planet combined with the launch and images recorded by New Horizons."
   ]
  },
  {
   "cell_type": "markdown",
   "metadata": {},
   "source": [
    "<a id=\"hypothesis-testing-for-distinct-topics\"></a>\n",
    "\n",
    "#### 7.4.6. [Hypothesis Testing for Distinct Topics](#hypothesis-testing-for-distinct-topics)"
   ]
  },
  {
   "cell_type": "markdown",
   "metadata": {},
   "source": [
    "We'll run through hypothesis tests to compare pairs of similar topics to eachother based on their residuals. The requirements for the Mann-Whitney U hypothesis test (that will be used here, due to absence of normality in the data) [are](https://www.statisticshowto.com/mann-whitney-u-test/)\n",
    "- need two independent, categorical groups\n",
    "  - as we're comparing pairs of topics, we meet this requirement\n",
    "- no relationship between the two topics or within each topic\n",
    "  - between the two topics\n",
    "    - since a single article is only assigned to a single topic, the topics don't have a relation to eachother\n",
    "  - within each topic\n",
    "    - each article, within each topic, is a separate observation from all other articles within the same topic\n",
    "- absence of normal distributed data, but their distributions should follow the same shape\n",
    "  - this is mostly satisfied for most pairs of topics, as is shown in the grid of histograms below"
   ]
  },
  {
   "cell_type": "code",
   "execution_count": null,
   "metadata": {},
   "outputs": [],
   "source": [
    "dfr = df_topics[[\"topic_num\", \"resid\"]].merge(\n",
    "    df_named_topics.reset_index()[[\"topic_num\", \"best\"]], on=\"topic_num\"\n",
    ")\n",
    "row_size = 3\n",
    "combos = [\n",
    "    [\"MIR\", \"ISS\"],\n",
    "    [\"Beagle 2\", \"Mars\"],\n",
    "    [\"Cassini\", \"Evidence of Water\"],\n",
    "    [\"Hawking\", \"Black Holes\"],\n",
    "    [\"Philae\", \"Rosetta\"],\n",
    "    [\"SpaceX\", \"Virgin Galactic\"],\n",
    "    [\"SpaceX\", \"ISS\"],\n",
    "    [\"SpaceX\", \"Mars\"],\n",
    "    [\"SpaceX\", \"Moon\"],\n",
    "    [\"Virgin Galactic\", \"ISS\"],\n",
    "    [\"Virgin Galactic\", \"Mars\"],\n",
    "    [\"Virgin Galactic\", \"Moon\"],\n",
    "    [\"Pluto\", \"Discovery of New Planets\"],\n",
    "]\n",
    "altair_plot_histogram_grid_by_column(\n",
    "    dfr,\n",
    "    \"resid\",\n",
    "    \"count()\",\n",
    "    \"best\",\n",
    "    combos,\n",
    "    space_between_plots=5,\n",
    "    row_size=3,\n",
    "    labelFontSize=14,\n",
    "    titleFontSize=14,\n",
    "    fig_size=(100, 200),\n",
    ")"
   ]
  },
  {
   "cell_type": "code",
   "execution_count": null,
   "metadata": {},
   "outputs": [],
   "source": [
    "d_hypothesis_scores = {}\n",
    "for topic_pair in combos:\n",
    "    topic_1_str, topic_2_str = topic_pair\n",
    "    topic_1 = dfr[dfr[\"best\"].str.contains(topic_1_str)][\"resid\"]\n",
    "    topic_2 = dfr[dfr[\"best\"].str.contains(topic_2_str)][\"resid\"]\n",
    "    topic_pair = f\"{topic_1_str}-{topic_2_str}\"\n",
    "    print(f\"{topic_pair} - \", end=\"\")\n",
    "    test_result, test_type = ttest_or_manwhitu(topic_1, topic_2)\n",
    "    print(f\"{test_result}\\n\")\n",
    "    d_hypothesis_scores[topic_pair] = {\n",
    "        \"stat\": np.around(test_result.statistic, 1),\n",
    "        \"p\": test_result.pvalue,\n",
    "        \"test_type\": test_type,\n",
    "        \"topic_1_size\": len(topic_1),\n",
    "        \"topic_2_size\": len(topic_2),\n",
    "    }\n",
    "df_hypothesis_scores = pd.DataFrame.from_dict(\n",
    "    d_hypothesis_scores, orient=\"index\"\n",
    ").reset_index()\n",
    "df_hypothesis_scores[[\"Topic 1\", \"Topic 2\"]] = df_hypothesis_scores[\"index\"].str.split(\n",
    "    \"-\", expand=True\n",
    ")\n",
    "df_hypothesis_scores = df_hypothesis_scores.drop(columns=[\"index\"], axis=1)"
   ]
  },
  {
   "cell_type": "markdown",
   "metadata": {},
   "source": [
    "The results of the hypothesis tests are summarized below"
   ]
  },
  {
   "cell_type": "code",
   "execution_count": null,
   "metadata": {},
   "outputs": [],
   "source": [
    "display(\n",
    "    df_hypothesis_scores.style.format({\"stat\": \"{:.1f}\"})\n",
    "    .set_caption(\"Hypothesis Tests on Pairs of Topic Residuals\")\n",
    "    .background_gradient(cmap=\"YlOrRd\", subset=[\"p\"])\n",
    ")"
   ]
  },
  {
   "cell_type": "markdown",
   "metadata": {},
   "source": [
    "**Notes**\n",
    "1. It isn't intuitively possible to pick out a similar topic it the discovery of gravitational waves so a test involving this topic was not performed.\n",
    "2. The Mann-Whitney U test [works with groups (topics) of different sizes](https://influentialpoints.com/Training/Wilcoxon-Mann-Whitney_U_test_use_and_misuse.htm) - as is the case here (see the `topic_1_size` and `topic_2_size` columns)."
   ]
  },
  {
   "cell_type": "markdown",
   "metadata": {},
   "source": [
    "**Observations**\n",
    "1. For each pair except for Virgin Galactic and ISS, we can state the following\n",
    "   - the average residual from approximating the text using the first topic comes from a different distribution than the average residual from the second topic\n",
    "   - the first topic's residuals are different from the second topic's residuals\n",
    "   \n",
    "   which means that predicted topic names under the **Topic 1** column above are different from those under the **Topic 2** column.\n",
    "2. The Virgin Galactic topic's residuals are not different from those of the ISS topic. We could consider re-training the NMF model to try to combine these articles under the same topic."
   ]
  },
  {
   "cell_type": "markdown",
   "metadata": {},
   "source": [
    "<a id=\"terms-by-topic\"></a>\n",
    "\n",
    "### 7.5. [Terms by Topic](#terms-by-topic)"
   ]
  },
  {
   "cell_type": "markdown",
   "metadata": {},
   "source": [
    "The top 10 terms by topic are shown below"
   ]
  },
  {
   "cell_type": "code",
   "execution_count": null,
   "metadata": {},
   "outputs": [],
   "source": [
    "topic_word = pd.DataFrame(\n",
    "    pipe.named_steps[\"nmf\"].components_.round(3),\n",
    "    index=[k for k in range(n_topics_wanted)],\n",
    "    columns=pipe.named_steps[\"vectorizer\"].get_feature_names(),\n",
    ")\n",
    "df_topic_word_factors = (\n",
    "    topic_word.groupby(topic_word.index)\n",
    "    .apply(lambda x: x.iloc[0].nlargest(n_top_words))\n",
    "    .reset_index()\n",
    "    .rename(columns={\"level_0\": \"topic_num\", \"level_1\": \"term\", 0: \"weight\"})\n",
    ")"
   ]
  },
  {
   "cell_type": "markdown",
   "metadata": {},
   "source": [
    "The top 10 scoring terms by weight (from the NMF matrix factorization), for each topic, are visualized below"
   ]
  },
  {
   "cell_type": "code",
   "execution_count": null,
   "metadata": {},
   "outputs": [],
   "source": [
    "altair_plot_grid_by_column(\n",
    "    df_topic_word_factors.merge(\n",
    "        df_named_topics.reset_index()[[\"topic_num\", \"best\"]], on=\"topic_num\"\n",
    "    ),\n",
    "    xvar=\"weight\",\n",
    "    yvar=\"term\",\n",
    "    col2grid=\"best\",\n",
    "    space_between_plots=5,\n",
    "    row_size=6,\n",
    "    fig_size=(150, 200),\n",
    ")"
   ]
  },
  {
   "cell_type": "markdown",
   "metadata": {},
   "source": [
    "<a id=\"extracting-topics-from-unseen-data\"></a>\n",
    "\n",
    "## 8. [Extracting Topics from Unseen Data](#extracting-topics-from-unseen-data)"
   ]
  },
  {
   "cell_type": "markdown",
   "metadata": {},
   "source": [
    "Save (pickle) the ML pipeline that was trained here so that it can be used to predict unseen news article topics without re-training"
   ]
  },
  {
   "cell_type": "code",
   "execution_count": null,
   "metadata": {},
   "outputs": [],
   "source": [
    "topic_names_filepath = \"app/data/nlp_topic_names.csv\"\n",
    "nlp_pipeline_filepath = \"app/data/nlp_pipe.joblib\""
   ]
  },
  {
   "cell_type": "code",
   "execution_count": null,
   "metadata": {},
   "outputs": [],
   "source": [
    "dump(pipe, nlp_pipeline_filepath, compress=True)"
   ]
  },
  {
   "cell_type": "markdown",
   "metadata": {},
   "source": [
    "Export the topic names `DataFrame` to a file"
   ]
  },
  {
   "cell_type": "code",
   "execution_count": null,
   "metadata": {},
   "outputs": [],
   "source": [
    "df_named_topics.to_csv(topic_names_filepath, index=True)"
   ]
  },
  {
   "cell_type": "markdown",
   "metadata": {},
   "source": [
    "Delete the pipeline object and topic names `DataFrame` from memory"
   ]
  },
  {
   "cell_type": "code",
   "execution_count": null,
   "metadata": {},
   "outputs": [],
   "source": [
    "del pipe\n",
    "del df_named_topics"
   ]
  },
  {
   "cell_type": "markdown",
   "metadata": {},
   "source": [
    "Reload the saved pipeline and topic names from their respective files"
   ]
  },
  {
   "cell_type": "code",
   "execution_count": null,
   "metadata": {},
   "outputs": [],
   "source": [
    "%%time\n",
    "pipe = load(nlp_pipeline_filepath)\n",
    "df_named_topics = pd.read_csv(topic_names_filepath, index_col=\"topic_num\")"
   ]
  },
  {
   "cell_type": "markdown",
   "metadata": {},
   "source": [
    "Load unseen data and predict topics. This could be a single news article or more than one"
   ]
  },
  {
   "cell_type": "code",
   "execution_count": null,
   "metadata": {},
   "outputs": [],
   "source": [
    "blob_client = blob_service_client.get_blob_client(\n",
    "    container=az_storage_container_name, blob=\"blobedesz42\"\n",
    ")\n",
    "blobstring = blob_client.download_blob().content_as_text()"
   ]
  },
  {
   "cell_type": "code",
   "execution_count": null,
   "metadata": {},
   "outputs": [],
   "source": [
    "# Load the unseen articles for prediction\n",
    "if cloud_data:\n",
    "    df_new = pd.read_csv(StringIO(blobstring))\n",
    "else:\n",
    "    df_new = pd.read_csv(\"data/guardian_3.csv\")\n",
    "# display(df_new.head())\n",
    "df_new[[\"year\", \"month\", \"day\"]] = df_new[\"url\"].str.extract(\n",
    "    r\"/(\\d{4})/([a-z]{3})/(\\d{2})/\"\n",
    ")\n",
    "d = {\"jan\": 1, \"feb\": 2, \"nov\": 11, \"dec\": 12, \"sep\": 9, \"oct\": 10}\n",
    "df_new[\"month\"] = df_new[\"month\"].map(d).astype(int)\n",
    "df_new[\"date\"] = pd.to_datetime(df_new[[\"year\", \"month\", \"day\"]])\n",
    "df_new[\"weekday\"] = df_new[\"date\"].dt.day_name()\n",
    "df_new[\"weekday\"] = df_new[\"date\"].dt.day_name()\n",
    "df_new[\"week_of_month\"] = df_new[\"date\"].apply(lambda d: (d.day - 1) // 7 + 1)\n",
    "\n",
    "# Process the text\n",
    "df_new[\"processed_text\"] = df_new[\"text\"].apply(process_text)\n",
    "\n",
    "new_texts = df_new[\"processed_text\"]\n",
    "\n",
    "# Transform the new data with the fitted models\n",
    "doc_topic = pipe.transform(new_texts)\n",
    "\n",
    "topic_words = pd.DataFrame(\n",
    "    pipe.named_steps[\"nmf\"].components_,\n",
    "    index=[str(k) for k in range(n_topics_wanted)],\n",
    "    columns=pipe.named_steps[\"vectorizer\"].get_feature_names(),\n",
    ")\n",
    "topic_df = (\n",
    "    pd.DataFrame(\n",
    "        topic_words.apply(\n",
    "            lambda x: get_top_words_per_topic(x, n_top_words), axis=1\n",
    "        ).tolist(),\n",
    "        index=topic_words.index,\n",
    "    )\n",
    "    .reset_index()\n",
    "    .rename(columns={\"index\": \"topic\"})\n",
    "    .assign(topic_num=range(n_topics_wanted))\n",
    ")\n",
    "# for k, v in topic_df.iterrows():\n",
    "#     print(k, \",\".join(v[1:-1]))\n",
    "\n",
    "df_temp = pd.DataFrame(doc_topic).idxmax(axis=1).rename(\"topic_num\").to_frame()\n",
    "\n",
    "merged_topic = df_temp.merge(topic_df, on=\"topic_num\", how=\"left\").assign(\n",
    "    url=df_new[\"url\"].tolist()\n",
    ")\n",
    "df_topics_new = df_new.merge(merged_topic, on=\"url\", how=\"left\").astype(\n",
    "    {\"topic_num\": int}\n",
    ")\n",
    "df_topics_new = df_topics_new[\n",
    "    [\"url\", \"year\", \"week_of_month\", \"weekday\", \"text\"]\n",
    "    + [\"topic_num\", \"topic\"]\n",
    "    + list(range(n_top_words))\n",
    "].merge(df_named_topics.reset_index()[[\"topic_num\", \"best\"]], on=\"topic_num\")[\n",
    "    [\"url\", \"year\", \"week_of_month\", \"weekday\", \"text\", \"topic_num\", \"topic\", \"best\"]\n",
    "]\n",
    "display(df_topics_new)"
   ]
  },
  {
   "cell_type": "markdown",
   "metadata": {},
   "source": [
    "As a reminder, the document residuals from training the NMF model (for the topics in these unseen documents) are shown below"
   ]
  },
  {
   "cell_type": "code",
   "execution_count": null,
   "metadata": {},
   "outputs": [],
   "source": [
    "altair_boxplot_sorted(\n",
    "    df_topics.loc[df_topics[\"topic_num\"].isin(df_topics_new[\"topic_num\"].unique())][\n",
    "        [\"topic_num\", \"resid\"]\n",
    "    ]\n",
    "    .merge(df_named_topics.reset_index()[[\"topic_num\", \"best\"]], on=\"topic_num\")\n",
    "    .rename(columns={\"best\": \"Topic\"}),\n",
    "    \"Topic\",\n",
    "    \"resid\",\n",
    "    \"median(resid)\",\n",
    "    \"Topic Residual (sorted by median)\",\n",
    "    16,\n",
    "    16,\n",
    "    16,\n",
    "    dx=400,\n",
    "    offset=0,\n",
    "    x_tick_label_angle=0,\n",
    "    horiz_bar_chart=True,\n",
    "    axis_range=[0.4, 1],\n",
    "    fig_size=(400, 500),\n",
    ")"
   ]
  },
  {
   "cell_type": "markdown",
   "metadata": {},
   "source": [
    "Print the article web URL and the ML pipeline's predicted topic"
   ]
  },
  {
   "cell_type": "code",
   "execution_count": null,
   "metadata": {},
   "outputs": [],
   "source": [
    "for k, row in df_topics_new.iterrows():\n",
    "    print(f\"Row = {k}, URL={row['url']}, Topic = {row['best']}\\n\")"
   ]
  },
  {
   "cell_type": "markdown",
   "metadata": {},
   "source": [
    "After manually reading the articles, a qualitative assessment of the suitability of their topics is shown below"
   ]
  },
  {
   "cell_type": "markdown",
   "metadata": {},
   "source": [
    "0. [About Hubble constant](https://www.theguardian.com/science/2019/nov/02/hubble-constant-mystery-that-keeps-getting-bigger-estimate-rate-expansion-universe-cosmology-cepheid)\n",
    "   - not about dark matter\n",
    "   - dark matter is mentioned as one of the three mysteries about understanding the universe\n",
    "1. [pictures returned from Voyager 2's mission outide the heliosphere (created by plasma from the Sun)](https://www.theguardian.com/science/2019/nov/04/nasa-voyager-2-sends-back-first-signal-from-interstellar-space)\n",
    "2. [Solar probe returns first image from edge of Sun's atmosphere](https://www.theguardian.com/science/2019/dec/04/nasas-parker-solar-probe-beams-back-first-insights-from-suns-edge)\n",
    "3. [About the Voyager probe's accomplishments](https://www.theguardian.com/science/2020/jan/11/voyager-scientist-ed-stone-on-the-search-for-extraterrestrial-life-we-need-to-get-back-to-enceladus)\n",
    "4. [Discovrey of new form of Aurora Borealis](https://www.theguardian.com/science/2020/jan/29/amateur-stargazers-capture-new-form-of-northern-lights)\n",
    "5. [On capture of most detailed pictures of Sun's surface](https://www.theguardian.com/science/2020/jan/29/solar-telescope-captures-most-detailed-pictures-yet-the-sun)\n",
    "6. [On first ever recorded images of Sun's north and south poles](https://www.theguardian.com/science/2020/feb/07/solar-orbiter-spacecraft-will-capture-the-suns-north-and-south-poles)\n",
    "7. [Mission update from deployment of Solar orbiter probe](https://www.theguardian.com/science/2020/feb/20/spacewatch-solar-orbiter-sends-first-data-back-to-earth)\n",
    "8. [About a history of messages received from E.T. life](https://www.theguardian.com/science/2019/nov/06/cosmic-cats-nuclear-interstellar-messages-extraterrestrial-intelligence)\n",
    "9. [Astronomers use grid of satellites to search for E.T. life](https://www.theguardian.com/science/2020/feb/15/astronomers-to-sweep-entire-sky-for-signs-of-extraterrestrial-life)\n",
    "10. [Obituary for designer of satellites used in various fields of applied science](https://www.theguardian.com/science/2019/nov/06/daniel-lobb-obituary)\n",
    "11. [About Chilean satellite's views being blocked by communications satellites](https://www.theguardian.com/science/2019/nov/22/not-cool-telescope-faces-interference-from-space-bound-satellites)\n",
    "12. [Reporting on several satellite launches during the period of a week at the end of November 2019](https://www.theguardian.com/science/2019/nov/28/spacewatch-you-wait-ages-for-a-rocket-launch-then-)\n",
    "13. [ESA launching space debris collection device](https://www.theguardian.com/science/2019/dec/09/european-space-agency-to-launch-clearspace-1-space-debris-collector-in-2025)\n",
    "14. [ESA awards space junk cleaning up space junk](https://www.theguardian.com/science/2019/dec/12/spacewatch-esa-awards-first-junk-clean-up-contract-clearspace)\n",
    "15. [About views of the sky being blocked by technology firms' large number of plans involving launching new satellites](https://www.theguardian.com/science/2020/jan/09/companies-plans-for-satellite-constellations-put-night-sky-at-risk)\n",
    "16. [About SpaceX satellite launches](https://www.theguardian.com/science/2020/jan/09/spacewatch-spacex-elon-musk-launches-60-more-satellites-into-starlink-constellation)\n",
    "17. [About images captured about a star leaving the Milky Way after encountering a black hole](https://www.theguardian.com/science/2019/nov/13/superfast-star-found-leaving-milky-way-at-1700km-per-second)\n",
    "18. [About hole created by material/energy expelled by an inter-stellar explosion originating in a black hole](https://www.theguardian.com/science/2020/feb/27/biggest-cosmic-explosion-ever-detected-makes-huge-dent-in-space)\n",
    "19. [About Boeing proposing direct Moon flights in 2024](https://www.theguardian.com/science/2019/nov/14/spacewatch-boeing-proposes-direct-flights-moon-2024-nasa)\n",
    "20. [About trial study that places humans into suspended animatoin](https://www.theguardian.com/science/2019/nov/20/humans-put-into-suspended-animation-for-first-time)\n",
    "21. [About more than expected energy released after gamma ray burst](https://www.theguardian.com/science/2019/nov/20/big-star-energy-record-breaking-explosion-recorded)\n",
    "    - this topic is unrelated to the discovery of neutrinos, but focuses on fundamental particles (protons, neutrons), which were seen (during training) in the worst articles within this topic\n",
    "22. [About Mars sample return mission being planned by the ESA](https://www.theguardian.com/science/2019/nov/24/mars-robot-will-send-samples-to-earth)\n",
    "23. [About ExoMars asking for NASA help with fixing parachute (landing) problems](https://www.theguardian.com/science/2019/dec/15/exomars-race-against-time-to-launch-troubled-europe-mission-to-mars)\n",
    "24. [About ExoMars mission successfully testing parachute system](https://www.theguardian.com/science/2019/dec/26/europes-mars-lander-passes-parachute-test)\n",
    "25. [About space exploration topics - Moon, Mars, Asteroid missions and private companies involved in exploring space](https://www.theguardian.com/science/2020/jan/05/space-race-moon-mars-asteroids-commercial-launches)\n",
    "26. [About whether zreo net CO2 emissions is possible with air travel](https://www.theguardian.com/science/2019/nov/24/can-we-fly-and-have-net-zero-emissions-air-industry-e-fan-x-rolls-royce-engines-kerosine-carbon-2050)\n",
    "    - this topic is close to the worst articles that fit into the Virgin Galaxy topic\n",
    "27. Topic 0\n",
    "28. Topic 0\n",
    "29. Topic 0\n",
    "30. [About major topics from 2019 with one focused on world's renewed focus on combating global warming](https://www.theguardian.com/science/2019/dec/22/the-science-stories-that-shaped-2019)\n",
    "31. Dinosaurs\n",
    "32. Dinosaurs\n",
    "33. [About experiments involving fire and combusion conducted by ISS astronauts](https://www.theguardian.com/science/2020/jan/01/international-space-station-astronauts-play-with-fire-for-research)\n",
    "34. [About a study to re-create the Overview Effect - image of the Earth from space](https://www.theguardian.com/science/2019/dec/26/scientists-attempt-to-recreate-overview-effect-from-earth)\n",
    "    - this only inolves reference to a former astronaut involved in building the ISS, and not to the ISS operations itself\n",
    "    - this is among the worst articles in this topic\n",
    "35. [About return of first ISS female astronaut to Earth](https://www.theguardian.com/science/2020/feb/06/christina-koch-returns-to-earth-after-record-breaking-space-mission)\n",
    "36. [About an eclipse among stars within a constellation in space](https://www.theguardian.com/science/2020/jan/05/starwatch-cassiopeia-queen-of-the-northern-sky)\n",
    "    - this isn't an eclipse involving Earth\n",
    "    - actually, it is loosely connected to eclipses since the focus is on the constellation\n",
    "37. [About a wave of dust and gas encapsulating a large stretch of stars across the Milky Way](https://www.theguardian.com/science/2020/jan/07/astronomers-discover-huge-gaseous-wave-holding-milky-ways-newest-stars)\n",
    "    - this is unrelated to gravitational waves\n",
    "    - this falls within the scope of the worst articles within this topic\n",
    "38. [About a cosmologist's theory that could be tested with gravitational wave telescopes](https://www.theguardian.com/science/2020/jan/25/has-physicists-gravity-theory-solved-impossible-dark-energy-riddle)\n",
    "    - this is not among the worst articles within the gravitational wave discovery topic but is not among the best either\n",
    "39. [About space tourism around the Moon by SpaceX](https://www.theguardian.com/science/2020/jan/13/japanese-billionaire-yusaku-maezawa-seeks-special-woman-for-trip-around-moon)\n",
    "    - the rocket launch aspect is secondary\n",
    "    - this is among the worst articles within the SpaceX rocket testing topic\n",
    "40. [About successful completion of SpaceX launch](https://www.theguardian.com/science/2020/jan/23/spacewatch-successful-spacex-test-a-key-milestone-for-nasa)\n",
    "41. [About people involved in rescuing victims who are drowning](https://www.theguardian.com/science/2020/jan/16/bring-up-the-bodies-gene-sandy-ralston-drowning-victims-sonar)\n",
    "    - unrelated to finding evidence of water on other planets\n",
    "    - among the worst articles in this topic\n",
    "42. [About discoveries made by large telescopes on Earth](https://www.theguardian.com/science/2020/feb/02/the-five-large-telescopes-solar-surface-images)\n",
    "    - among the worst articles in the Hubble Telescope topic\n",
    "43. [About end of Spitzer  IR Telescope mission](https://www.theguardian.com/science/2020/feb/06/spacewatch-nasa-ends-16-year-spitzer-infrared-mission)\n",
    "    - only indirectly related to the Hubble Telescope mission\n",
    "44. Topic 33\n",
    "45. [About images recorded of the most-distant object every visited by a space probe](https://www.theguardian.com/science/2020/feb/13/not-just-a-space-potato-nasa-unveils-astonishing-details-of-most-distant-object-ever-visited-arrokoth)\n",
    "46. [Obituary for methematician involved in Moon landing](https://www.theguardian.com/science/2020/feb/24/katherine-johnson-nasa-mathematician-hidden-figures-dies-101)\n",
    "    - this is indirectly related to Neil Armstrong\n",
    "47. [Obituary of mathematician involved in Moon landing](https://www.theguardian.com/science/2020/feb/24/katherine-johnson-obituary)\n",
    "    - this is not related to the Neil Armstrong topic directly, but is indirectly related to Moon landings"
   ]
  },
  {
   "cell_type": "markdown",
   "metadata": {},
   "source": [
    "A summary of the above qualitative evaluation is shown below"
   ]
  },
  {
   "cell_type": "code",
   "execution_count": null,
   "metadata": {},
   "outputs": [],
   "source": [
    "d_unseen_evaluate = {\n",
    "    \"About Hubble constant\": [\n",
    "        \"https://www.theguardian.com/science/2019/nov/02/hubble-constant-mystery-that-keeps-getting-bigger-estimate-rate-expansion-universe-cosmology-cepheid)\",\n",
    "        False,\n",
    "    ],\n",
    "    \"pictures returned from Voyager 2's mission outide the heliosphere (created by plasma from the Sun)\": [\n",
    "        \"https://www.theguardian.com/science/2019/nov/04/nasa-voyager-2-sends-back-first-signal-from-interstellar-space\",\n",
    "        True,\n",
    "    ],\n",
    "    \"Solar probe returns first image from edge of Sun's atmosphere\": [\n",
    "        \"https://www.theguardian.com/science/2019/dec/04/nasas-parker-solar-probe-beams-back-first-insights-from-suns-edge\",\n",
    "        True,\n",
    "    ],\n",
    "    \"About the Voyager probe's accomplishments\": [\n",
    "        \"https://www.theguardian.com/science/2020/jan/11/voyager-scientist-ed-stone-on-the-search-for-extraterrestrial-life-we-need-to-get-back-to-enceladus\",\n",
    "        True,\n",
    "    ],\n",
    "    \"Discovrey of new form of Aurora Borealis\": [\n",
    "        \"https://www.theguardian.com/science/2020/jan/29/amateur-stargazers-capture-new-form-of-northern-lights\",\n",
    "        True,\n",
    "    ],\n",
    "    \"On capture of most detailed pictures of Sun's surface\": [\n",
    "        \"https://www.theguardian.com/science/2020/jan/29/solar-telescope-captures-most-detailed-pictures-yet-the-sun\",\n",
    "        True,\n",
    "    ],\n",
    "    \"On first ever recorded images of Sun's north and south poles\": [\n",
    "        \"https://www.theguardian.com/science/2020/feb/07/solar-orbiter-spacecraft-will-capture-the-suns-north-and-south-poles\",\n",
    "        True,\n",
    "    ],\n",
    "    \"Mission update from deployment of Solar orbiter probe\": [\n",
    "        \"https://www.theguardian.com/science/2020/feb/20/spacewatch-solar-orbiter-sends-first-data-back-to-earth\",\n",
    "        True,\n",
    "    ],\n",
    "    \"About a history of messages received from E.T. life\": [\n",
    "        \"https://www.theguardian.com/science/2019/nov/06/cosmic-cats-nuclear-interstellar-messages-extraterrestrial-intelligence\",\n",
    "        True,\n",
    "    ],\n",
    "    \"Astronomers use grid of satellites to search for E.T. life\": [\n",
    "        \"https://www.theguardian.com/science/2020/feb/15/astronomers-to-sweep-entire-sky-for-signs-of-extraterrestrial-life\",\n",
    "        True,\n",
    "    ],\n",
    "    \"Obituary for designer of satellites used in various fields of applied science\": [\n",
    "        \"https://www.theguardian.com/science/2019/nov/06/daniel-lobb-obituary\",\n",
    "        True,\n",
    "    ],\n",
    "    \"About Chilean satellite's views being blocked by communications satellites\": [\n",
    "        \"https://www.theguardian.com/science/2019/nov/22/not-cool-telescope-faces-interference-from-space-bound-satellites\",\n",
    "        True,\n",
    "    ],\n",
    "    \"Reporting on several satellite launches during the period of a week at the end of November 2019\": [\n",
    "        \"https://www.theguardian.com/science/2019/nov/28/spacewatch-you-wait-ages-for-a-rocket-launch-then-\",\n",
    "        True,\n",
    "    ],\n",
    "    \"ESA launching space debris collection device\": [\n",
    "        \"https://www.theguardian.com/science/2019/dec/09/european-space-agency-to-launch-clearspace-1-space-debris-collector-in-2025\",\n",
    "        True,\n",
    "    ],\n",
    "    \"ESA awards space junk cleaning up space junk\": [\n",
    "        \"https://www.theguardian.com/science/2019/dec/12/spacewatch-esa-awards-first-junk-clean-up-contract-clearspace\",\n",
    "        True,\n",
    "    ],\n",
    "    \"About views of the sky being blocked by technology firms' large number of plans involving launching new satellites\": [\n",
    "        \"https://www.theguardian.com/science/2020/jan/09/companies-plans-for-satellite-constellations-put-night-sky-at-risk\",\n",
    "        True,\n",
    "    ],\n",
    "    \"About SpaceX satellite launches\": [\n",
    "        \"https://www.theguardian.com/science/2020/jan/09/spacewatch-spacex-elon-musk-launches-60-more-satellites-into-starlink-constellation\",\n",
    "        True,\n",
    "    ],\n",
    "    \"About images captured about a star leaving the Milky Way after encountering a black hole\": [\n",
    "        \"https://www.theguardian.com/science/2019/nov/13/superfast-star-found-leaving-milky-way-at-1700km-per-second\",\n",
    "        True,\n",
    "    ],\n",
    "    \"About hole created by material/energy expelled by an inter-stellar explosion originating in a black hole\": [\n",
    "        \"https://www.theguardian.com/science/2020/feb/27/biggest-cosmic-explosion-ever-detected-makes-huge-dent-in-space\",\n",
    "        True,\n",
    "    ],\n",
    "    \"About Boeing proposing direct Moon flights in 2024\": [\n",
    "        \"https://www.theguardian.com/science/2019/nov/14/spacewatch-boeing-proposes-direct-flights-moon-2024-nasa\",\n",
    "        True,\n",
    "    ],\n",
    "    \"About trial study that places humans into suspended animatoin\": [\n",
    "        \"https://www.theguardian.com/science/2019/nov/20/humans-put-into-suspended-animation-for-first-time\",\n",
    "        True,\n",
    "    ],\n",
    "    \"About more than expected energy released after gamma ray burst\": [\n",
    "        \"https://www.theguardian.com/science/2019/nov/20/big-star-energy-record-breaking-explosion-recorded\",\n",
    "        False,\n",
    "    ],\n",
    "    \"About Mars sample return mission being planned by the ESA\": [\n",
    "        \"https://www.theguardian.com/science/2019/nov/24/mars-robot-will-send-samples-to-earth\",\n",
    "        True,\n",
    "    ],\n",
    "    \"About ExoMars asking for NASA help with fixing parachute (landing) problems\": [\n",
    "        \"https://www.theguardian.com/science/2019/dec/15/exomars-race-against-time-to-launch-troubled-europe-mission-to-mars\",\n",
    "        True,\n",
    "    ],\n",
    "    \"About ExoMars mission successfully testing parachute system\": [\n",
    "        \"https://www.theguardian.com/science/2019/dec/26/europes-mars-lander-passes-parachute-test\",\n",
    "        True,\n",
    "    ],\n",
    "    \"About space exploration topics - Moon, Mars, Asteroid missions and private companies involved in exploring space\": [\n",
    "        \"https://www.theguardian.com/science/2020/jan/05/space-race-moon-mars-asteroids-commercial-launches\",\n",
    "        True,\n",
    "    ],\n",
    "    \"About whether zero net CO2 emissions is possible with air travel\": [\n",
    "        \"https://www.theguardian.com/science/2019/nov/24/can-we-fly-and-have-net-zero-emissions-air-industry-e-fan-x-rolls-royce-engines-kerosine-carbon-2050\",\n",
    "        False,\n",
    "    ],\n",
    "    \"Topic 0\": [\n",
    "        \"https://www.theguardian.com/science/2019/dec/16/did-you-solve-it-the-club-sandwich-problem\",\n",
    "        np.nan,\n",
    "    ],\n",
    "    \"Topic 0_1\": [\n",
    "        \"https://www.theguardian.com/science/2019/dec/19/true-meanings-of-words-of-emotion-get-lost-in-translation-study-finds\",\n",
    "        np.nan,\n",
    "    ],\n",
    "    \"Topic 0_2\": [\n",
    "        \"https://www.theguardian.com/science/2020/feb/06/brian-greene-theoretical-physicist-interview-until-the-end-of-time\",\n",
    "        np.nan,\n",
    "    ],\n",
    "    \"About major topics from 2019 with one focused on world's renewed focus on combating global warming\": [\n",
    "        \"https://www.theguardian.com/science/2019/dec/22/the-science-stories-that-shaped-2019\",\n",
    "        True,\n",
    "    ],\n",
    "    \"Dinosaurs\": [\n",
    "        \"https://www.theguardian.com/science/2019/dec/23/cha-cha-chimp-ape-study-suggests-urge-to-dance-is-prehuman\",\n",
    "        np.nan,\n",
    "    ],\n",
    "    \"Dinosaurs_1\": [\n",
    "        \"https://www.theguardian.com/science/2020/jan/13/stardust-older-than-earth-and-sun-found-meteorite-australia\",\n",
    "        np.nan,\n",
    "    ],\n",
    "    \"About experiments involving fire and combusion conducted by ISS astronauts\": [\n",
    "        \"https://www.theguardian.com/science/2020/jan/01/international-space-station-astronauts-play-with-fire-for-research\",\n",
    "        True,\n",
    "    ],\n",
    "    \"About a study to re-create the Overview Effect - image of the Earth from space\": [\n",
    "        \"https://www.theguardian.com/science/2019/dec/26/scientists-attempt-to-recreate-overview-effect-from-earth\",\n",
    "        False,\n",
    "    ],\n",
    "    \"About return of first ISS female astronaut to Earth\": [\n",
    "        \"https://www.theguardian.com/science/2020/feb/06/christina-koch-returns-to-earth-after-record-breaking-space-mission\",\n",
    "        True,\n",
    "    ],\n",
    "    \"About an eclipse among stars within a constellation in space\": [\n",
    "        \"https://www.theguardian.com/science/2020/jan/05/starwatch-cassiopeia-queen-of-the-northern-sky\",\n",
    "        False,\n",
    "    ],\n",
    "    \"About a wave of dust and gas encapsulating a large stretch of stars across the Milky Way\": [\n",
    "        \"https://www.theguardian.com/science/2020/jan/07/astronomers-discover-huge-gaseous-wave-holding-milky-ways-newest-stars\",\n",
    "        False,\n",
    "    ],\n",
    "    \"About a cosmologist's theory that could be tested with gravitational wave telescopes\": [\n",
    "        \"https://www.theguardian.com/science/2020/jan/25/has-physicists-gravity-theory-solved-impossible-dark-energy-riddle\",\n",
    "        False,\n",
    "    ],\n",
    "    \"About space tourism around the Moon by SpaceX\": [\n",
    "        \"https://www.theguardian.com/science/2020/jan/13/japanese-billionaire-yusaku-maezawa-seeks-special-woman-for-trip-around-moon\",\n",
    "        False,\n",
    "    ],\n",
    "    \"About successful completion of SpaceX launch\": [\n",
    "        \"https://www.theguardian.com/science/2020/jan/23/spacewatch-successful-spacex-test-a-key-milestone-for-nasa\",\n",
    "        True,\n",
    "    ],\n",
    "    \"About people involved in rescuing victims who are drowning\": [\n",
    "        \"https://www.theguardian.com/science/2020/jan/16/bring-up-the-bodies-gene-sandy-ralston-drowning-victims-sonar\",\n",
    "        False,\n",
    "    ],\n",
    "    \"About discoveries made by large telescopes on Earth\": [\n",
    "        \"https://www.theguardian.com/science/2020/feb/02/the-five-large-telescopes-solar-surface-images\",\n",
    "        False,\n",
    "    ],\n",
    "    \"About end of Spitzer  IR Telescope mission\": [\n",
    "        \"https://www.theguardian.com/science/2020/feb/06/spacewatch-nasa-ends-16-year-spitzer-infrared-mission\",\n",
    "        False,\n",
    "    ],\n",
    "    \"Topic 33_1\": [\n",
    "        \"https://www.theguardian.com/science/2020/feb/12/alan-rodger-obituary\",\n",
    "        np.nan,\n",
    "    ],\n",
    "    \"About images recorded of the most-distant object every visited by a space probe\": [\n",
    "        \"https://www.theguardian.com/science/2020/feb/13/not-just-a-space-potato-nasa-unveils-astonishing-details-of-most-distant-object-ever-visited-arrokoth\",\n",
    "        True,\n",
    "    ],\n",
    "    \"Obituary for methematician involved in Moon landing\": [\n",
    "        \"https://www.theguardian.com/science/2020/feb/24/katherine-johnson-nasa-mathematician-hidden-figures-dies-101\",\n",
    "        False,\n",
    "    ],\n",
    "    \"Obituary of mathematician involved in Moon landing\": [\n",
    "        \"https://www.theguardian.com/science/2020/feb/24/katherine-johnson-obituary\",\n",
    "        False,\n",
    "    ],\n",
    "}"
   ]
  },
  {
   "cell_type": "code",
   "execution_count": null,
   "metadata": {},
   "outputs": [],
   "source": [
    "df_unseen_evaluate = (\n",
    "    pd.DataFrame.from_dict(d_unseen_evaluate, orient=\"index\")\n",
    "    .reset_index()\n",
    "    .rename(columns={\"index\": \"summary\", 0: \"url\", 1: \"Suitable\"})\n",
    "    .assign(best=df_topics_new[\"best\"])\n",
    ")\n",
    "df_unseen_evaluate[\"best\"] = df_unseen_evaluate[\"best\"].str.split(\"_\", expand=True)[0]\n",
    "df_unseen_evaluate = df_unseen_evaluate.fillna(\"Not Read\")\n",
    "df_unseen_evaluate"
   ]
  },
  {
   "cell_type": "code",
   "execution_count": null,
   "metadata": {},
   "outputs": [],
   "source": [
    "altair_plot_horiz_bar_chart(\n",
    "    (\n",
    "        df_unseen_evaluate[\"Suitable\"]\n",
    "        .value_counts()\n",
    "        .sort_values(ascending=False)\n",
    "        .reset_index()\n",
    "        .rename(columns={\"index\": \"Match\", \"Suitable\": \"count\"})\n",
    "    ),\n",
    "    \"Evaluation of Assigned Topics versus Article text\",\n",
    "    \"count\",\n",
    "    \"Match\",\n",
    "    xtitle=\"Number of Articles\",\n",
    "    labelFontSize=14,\n",
    "    titleFontSize=14,\n",
    "    plot_titleFontSize=16,\n",
    "    text_var=\"count\",\n",
    "    tooltip=[\"Match\", \"count\"],\n",
    "    dx=70,\n",
    "    offset=0,\n",
    "    horiz_label_limit=450,\n",
    "    sort_y=None,\n",
    "    fig_size=(200, 450),  # (height, width)\n",
    ")"
   ]
  },
  {
   "cell_type": "markdown",
   "metadata": {},
   "source": [
    "**Observatoins**\n",
    "1. The topics are generally reasonable. Approximately 70% of the manually read unseen articles matched the assigned topic. As with the training data, there are some news articles that fall under the *worst articles* within a given topic."
   ]
  },
  {
   "cell_type": "markdown",
   "metadata": {},
   "source": [
    "As a reminder, the named topics (with 35 topics) are shown below"
   ]
  },
  {
   "cell_type": "code",
   "execution_count": null,
   "metadata": {},
   "outputs": [],
   "source": [
    "display(df_named_topics)"
   ]
  },
  {
   "cell_type": "markdown",
   "metadata": {},
   "source": [
    "**Observations**\n",
    "1. The link on row 17 points to an article discussing imaging of the solar system, which is a closer fit to the worst articles of topic 31 (Hubble Telescope). With this exception, the other unseen news articles are an adequate fit to the predicted topic."
   ]
  },
  {
   "cell_type": "markdown",
   "metadata": {},
   "source": [
    "The top terms (weights) for each of the topics in the unseen data are shown below, in the same way as has been done earlier in this analysis"
   ]
  },
  {
   "cell_type": "code",
   "execution_count": null,
   "metadata": {},
   "outputs": [],
   "source": [
    "topic_word = pd.DataFrame(\n",
    "    pipe.named_steps[\"nmf\"].components_.round(3),\n",
    "    index=[k for k in range(n_topics_wanted)],\n",
    "    columns=pipe.named_steps[\"vectorizer\"].get_feature_names(),\n",
    ")\n",
    "display(topic_word)"
   ]
  },
  {
   "cell_type": "code",
   "execution_count": null,
   "metadata": {},
   "outputs": [],
   "source": [
    "topic_word = pd.DataFrame(\n",
    "    pipe.named_steps[\"nmf\"].components_.round(3),\n",
    "    index=[k for k in range(n_topics_wanted)],\n",
    "    columns=pipe.named_steps[\"vectorizer\"].get_feature_names(),\n",
    ")\n",
    "print(f\"Number of rows = {topic_word.shape[0]}\")\n",
    "# display(topic_word.sample(10, axis=1))\n",
    "\n",
    "df_topic_word_factors = (\n",
    "    topic_word.groupby(topic_word.index)\n",
    "    .apply(lambda x: x.iloc[0].nlargest(n_top_words))\n",
    "    .reset_index()\n",
    "    .rename(columns={\"level_0\": \"topic_num\", \"level_1\": \"term\", 0: \"weight\"})\n",
    ")\n",
    "display(df_topic_word_factors.head())"
   ]
  },
  {
   "cell_type": "code",
   "execution_count": null,
   "metadata": {},
   "outputs": [],
   "source": [
    "altair_plot_grid_by_column(\n",
    "    df_topic_word_factors.merge(\n",
    "        df_named_topics[\n",
    "            df_named_topics[\"best\"].isin(df_topics_new[\"best\"].unique().tolist())\n",
    "        ].reset_index()[[\"topic_num\", \"best\"]],\n",
    "        on=\"topic_num\",\n",
    "    ),\n",
    "    xvar=\"weight\",\n",
    "    yvar=\"term\",\n",
    "    col2grid=\"best\",\n",
    "    space_between_plots=5,\n",
    "    row_size=3,\n",
    "    fig_size=(150, 200),\n",
    ")"
   ]
  },
  {
   "cell_type": "markdown",
   "metadata": {},
   "source": [
    "Next are the number of occurrences of each topic in the unseen data"
   ]
  },
  {
   "cell_type": "code",
   "execution_count": null,
   "metadata": {},
   "outputs": [],
   "source": [
    "altair_plot_horiz_bar_chart(\n",
    "    df_topics_new[\"best\"]\n",
    "    .value_counts()\n",
    "    .sort_values(ascending=False)\n",
    "    .reset_index()\n",
    "    .rename(columns={\"best\": \"count\", \"index\": \"topic\"}),\n",
    "    \"Topic Occurrences\",\n",
    "    \"count\",\n",
    "    \"topic\",\n",
    "    xtitle=\"Occurrences\",\n",
    "    labelFontSize=14,\n",
    "    titleFontSize=16,\n",
    "    plot_titleFontSize=16,\n",
    "    text_var=\"count\",\n",
    "    tooltip=[\"topic\", \"count\"],\n",
    "    dx=350,\n",
    "    offset=0,\n",
    "    horiz_label_limit=450,\n",
    "    sort_y=None,\n",
    "    fig_size=(500, 400),  # (height, width)\n",
    ")"
   ]
  },
  {
   "cell_type": "markdown",
   "metadata": {},
   "source": [
    "Below are the number of occurrences by week of the month against day of the week"
   ]
  },
  {
   "cell_type": "code",
   "execution_count": null,
   "metadata": {},
   "outputs": [],
   "source": [
    "altair_datetime_heatmap(\n",
    "    df_topics_new.groupby([\"weekday\", \"week_of_month\"])[\"url\"]\n",
    "    .count()\n",
    "    .reset_index()\n",
    "    .rename(columns={\"url\": \"count\"}),\n",
    "    \"week_of_month:N\",\n",
    "    \"weekday:N\",\n",
    "    \"weekday\",\n",
    "    \"Articles by Weekday vs Week of Month\",\n",
    "    [\n",
    "        {\n",
    "            \"title\": \"Weekday\",\n",
    "            \"field\": \"weekday\",\n",
    "            \"type\": \"nominal\",\n",
    "        },\n",
    "        {\n",
    "            \"title\": \"Week of Month\",\n",
    "            \"field\": \"week_of_month\",\n",
    "            \"type\": \"quantitative\",\n",
    "        },\n",
    "        {\n",
    "            \"title\": \"Number of News Articles\",\n",
    "            \"field\": \"count\",\n",
    "            \"type\": \"quantitative\",\n",
    "        },\n",
    "    ],\n",
    "    \"yelloworangered\",\n",
    "    \"\",\n",
    "    \"count:Q\",\n",
    "    \"log\",\n",
    "    axis_tick_font_size=12,\n",
    "    axis_title_font_size=14,\n",
    "    title_font_size=14,\n",
    "    legend_fig_padding=10,  # default is 18\n",
    "    y_axis_title_alignment=\"left\",\n",
    "    fwidth=350,\n",
    "    fheight=200,\n",
    "    file_path=\"\",\n",
    "    save_to_html=False,\n",
    "    sort_x=pd.Series(df_topics_new[\"week_of_month\"].unique())\n",
    "    .sort_values(ascending=True)\n",
    "    .values.tolist(),\n",
    "    sort_y=[\n",
    "        \"Sunday\",\n",
    "        \"Monday\",\n",
    "        \"Tuesday\",\n",
    "        \"Wednesday\",\n",
    "        \"Thursday\",\n",
    "        \"Friday\",\n",
    "        \"Saturday\",\n",
    "    ],\n",
    "    dx=80,\n",
    "    offset=5,\n",
    "    plot_titleFontSize=16,\n",
    ")"
   ]
  },
  {
   "cell_type": "markdown",
   "metadata": {},
   "source": [
    "Below is the number of news articles by weekday"
   ]
  },
  {
   "cell_type": "code",
   "execution_count": null,
   "metadata": {},
   "outputs": [],
   "source": [
    "altair_datetime_heatmap(\n",
    "    df_topics_new.groupby([\"best\", \"weekday\"])[\"url\"]\n",
    "    .count()\n",
    "    .reset_index()\n",
    "    .rename(columns={\"url\": \"count\"}),\n",
    "    \"weekday:N\",\n",
    "    \"best:N\",\n",
    "    \"weekday\",\n",
    "    \"Articles by Weekday\",\n",
    "    [\n",
    "        {\n",
    "            \"title\": \"Weekday\",\n",
    "            \"field\": \"weekday\",\n",
    "            \"type\": \"nominal\",\n",
    "        },\n",
    "        {\n",
    "            \"title\": \"Topic\",\n",
    "            \"field\": \"best\",\n",
    "            \"type\": \"nominal\",\n",
    "        },\n",
    "        {\n",
    "            \"title\": \"Number of News Articles\",\n",
    "            \"field\": \"count\",\n",
    "            \"type\": \"quantitative\",\n",
    "        },\n",
    "    ],\n",
    "    \"yelloworangered\",\n",
    "    \"\",\n",
    "    \"count:Q\",\n",
    "    \"log\",\n",
    "    axis_tick_font_size=12,\n",
    "    axis_title_font_size=14,\n",
    "    title_font_size=14,\n",
    "    legend_fig_padding=10,  # default is 18\n",
    "    y_axis_title_alignment=\"left\",\n",
    "    fwidth=450,\n",
    "    fheight=350,\n",
    "    file_path=\"\",\n",
    "    save_to_html=False,\n",
    "    sort_x=[\n",
    "        \"Sunday\",\n",
    "        \"Monday\",\n",
    "        \"Tuesday\",\n",
    "        \"Wednesday\",\n",
    "        \"Thursday\",\n",
    "        \"Friday\",\n",
    "        \"Saturday\",\n",
    "    ],\n",
    "    dx=300,\n",
    "    offset=5,\n",
    "    plot_titleFontSize=16,\n",
    ")"
   ]
  },
  {
   "cell_type": "markdown",
   "metadata": {},
   "source": [
    "<a id=\"comparison-to-word-vectors-for-unseen-data\"></a>\n",
    "\n",
    "### 8.1. [Comparison to Word Vectors for Unseen Data](#comparison-to-word-vectors-for-unseen-data)"
   ]
  },
  {
   "cell_type": "markdown",
   "metadata": {},
   "source": [
    "As before, we'll assess cosine similarity for these unseen articles, using Spacy's pre-trained [medium sized](https://spacy.io/models#conventions) [word vector model](https://spacy.io/models)"
   ]
  },
  {
   "cell_type": "code",
   "execution_count": null,
   "metadata": {},
   "outputs": [],
   "source": [
    "%%time\n",
    "vectors = [nlp(sentence).vector for sentence in df_new[\"text\"]]\n",
    "similarities = cosine_similarity(vectors)\n",
    "dfcs = pd.DataFrame(similarities).assign(topic_num=df_topics[\"topic_num\"])"
   ]
  },
  {
   "cell_type": "markdown",
   "metadata": {},
   "source": [
    "Plotting a heatmap of the document-document cosine similarity, we get the following"
   ]
  },
  {
   "cell_type": "code",
   "execution_count": null,
   "metadata": {},
   "outputs": [],
   "source": [
    "dfcs_unstacked = (\n",
    "    dfcs.select_dtypes(\"float32\")\n",
    "    .unstack()\n",
    "    .reset_index()\n",
    "    .rename(columns={\"level_0\": \"doc1\", \"level_1\": \"doc2\", 0: \"cos_sim\"})\n",
    ")\n",
    "dfcs_topics = (\n",
    "    dfcs.merge(df_named_topics.reset_index()[[\"topic_num\", \"best\"]], on=\"topic_num\")\n",
    "    .reset_index()\n",
    "    .rename(columns={\"index\": \"doc1\"})[[\"doc1\", \"best\"]]\n",
    ")\n",
    "dfcs_merged = dfcs_unstacked.merge(dfcs_topics, on=\"doc1\")"
   ]
  },
  {
   "cell_type": "code",
   "execution_count": null,
   "metadata": {},
   "outputs": [],
   "source": [
    "altair_plot_triangular_heatmap(\n",
    "    data=dfcs_merged[[\"best\", \"cos_sim\", \"doc1\", \"doc2\"]],\n",
    "    ptitle=f\"Found {df_topics_new['topic'].nunique()} unique topics in unseen data\",\n",
    "    xvar=\"doc1\",\n",
    "    yvar=\"doc2\",\n",
    "    zvar=\"cos_sim\",\n",
    "    xtitle=\"News Article 1\",\n",
    "    ytitle=\"News Article 2\",\n",
    "    tooltip=[\n",
    "        alt.Tooltip(\"doc1:N\", title=\"News Article 1\"),\n",
    "        alt.Tooltip(\"doc2:N\", title=\"News Article 2\"),\n",
    "        alt.Tooltip(\"best:N\", title=\"Topic\"),\n",
    "        alt.Tooltip(\"cos_sim:Q\", title=\"Cosine Similarity\", format=\".3f\"),\n",
    "    ],\n",
    "    axis_tick_font_size=14,\n",
    "    axis_title_font_size=14,\n",
    "    plot_titleFontSize=16,\n",
    "    dx=45,\n",
    "    offset=0,\n",
    "    show_triangle=\"lower\",\n",
    "    fig_size=(650, 650),\n",
    ")"
   ]
  },
  {
   "cell_type": "markdown",
   "metadata": {},
   "source": [
    "**Observations**\n",
    "1. An article (index 16) on SpaceX launching 60 new satellites is found to have a weak (cosine) similarity to all the other articles across a range of topics. Yet, the other articles within the same topic (indices 10-15) are not a similarly poor fit."
   ]
  },
  {
   "cell_type": "markdown",
   "metadata": {},
   "source": [
    "Lastly, we'll show a boxplot of the cosine-similarities by topic, where only articles belonging to a given topic are compared to eachother"
   ]
  },
  {
   "cell_type": "code",
   "execution_count": null,
   "metadata": {},
   "outputs": [],
   "source": [
    "dfcs_all = []\n",
    "for topic in dfcs[\"topic_num\"].unique():\n",
    "    dfcs_named_topics = dfcs.loc[dfcs[\"topic_num\"] == topic]\n",
    "    # display(dfcs_named_topics[dfcs_named_topics.index])\n",
    "    dfcs_unstacked = (\n",
    "        dfcs_named_topics[dfcs_named_topics.index]\n",
    "        .unstack()\n",
    "        .reset_index()\n",
    "        .rename(columns={\"level_0\": \"doc1\", \"level_1\": \"doc2\", 0: \"cos_sim\"})\n",
    "    )\n",
    "    # display(dfcs_unstacked)\n",
    "    dfcs_reshaped = dfcs_unstacked.merge(\n",
    "        dfcs_named_topics[dfcs_named_topics.index.tolist() + [\"topic_num\"]]\n",
    "        .reset_index()[[\"index\", \"topic_num\"]]\n",
    "        .rename(columns={\"index\": \"doc1\"}),\n",
    "        on=\"doc1\",\n",
    "    ).merge(df_named_topics.reset_index()[[\"best\", \"topic_num\"]], on=\"topic_num\")[\n",
    "        [\"doc1\", \"doc2\", \"cos_sim\", \"best\"]\n",
    "    ]\n",
    "    # display(dfcs_reshaped)\n",
    "    dfcs_all.append(dfcs_reshaped)\n",
    "# display(dfcs[[\"topic_num\", \"best\"]].head(2))\n",
    "dfcs_merged = pd.concat(dfcs_all).reset_index(drop=True)\n",
    "display(dfcs_merged.head())"
   ]
  },
  {
   "cell_type": "code",
   "execution_count": null,
   "metadata": {},
   "outputs": [],
   "source": [
    "altair_boxplot_sorted(\n",
    "    dfcs_merged,\n",
    "    \"best\",\n",
    "    \"cos_sim\",\n",
    "    \"median(cos_sim)\",\n",
    "    \"Cosine Similarity (sorted by median)\",\n",
    "    14,\n",
    "    14,\n",
    "    16,\n",
    "    dx=350,\n",
    "    offset=0,\n",
    "    x_tick_label_angle=0,\n",
    "    horiz_bar_chart=True,\n",
    "    axis_range=[0, 1],\n",
    "    fig_size=(350, 400),\n",
    ")"
   ]
  },
  {
   "cell_type": "markdown",
   "metadata": {},
   "source": [
    "**Notes**\n",
    "1. Topics containing a single document do not display boxes on the box plot."
   ]
  },
  {
   "cell_type": "markdown",
   "metadata": {},
   "source": [
    "**Observations**\n",
    "1. From the boxplot, the news articles per topic are similar to eachother in cosine-similarity.\n",
    "2. From the heatmap, cosine similarities are comparable to eachother. From reading the individual articles (there are only a small number), we can see that (when multiple articles appear per topic) these are qualitatively comparable to the best articles in each topic identified earlier. In part, this could explain the high inter-article similarities for a given group. The heatmap isn't too informative."
   ]
  },
  {
   "cell_type": "markdown",
   "metadata": {},
   "source": [
    "<a id=\"conclusion\"></a>\n",
    "\n",
    "## 9. [Conclusion](#conclusion)"
   ]
  },
  {
   "cell_type": "markdown",
   "metadata": {},
   "source": [
    "Selecting a suitable number of topics is critical to topic modeling. One approach to guiding the choice of number of topics is to use Gensim's topic coherence pipeline to qualitatively evaluate topics from a trained topic model. The topic coherence score can be used to estimate a useful range of number of topics. Once found, there could be several approaches to pick one or multiple numbers of topics from this list for final topic modeling.\n",
    "\n",
    "Here, we looked through news articles from the Guardian newspaper where the topic coherence score was approximately constant across a range of number of topics that we tried. Picking the low and high extremes of this range, and training a separate topic model for each of these end points, allowed for a comparison between high-level topics and embedded sub-topics like the overall topic on Mars missions vs Beagle 2 (the lost lander from the Mars Express mission). Similarly, we pulled out the Pluto missions as a standalone topic separate from an blanket Planetary Research topic. The greater granularity did allowed for improved topic (Frobenius norm) residuals, which indicated this approach was a better approximation of how good the topic was.\n",
    "\n",
    "With a larger number of topics there is always a risk that there will be atleast one topic that does not occur very frequently. If this is a niche but genuinely independent topic, then this could justify keeping it as a standalone topic - here, this was the case for the topic on the Philae mission which was separated from the overall Rosetta orbiter mission to comet 67P. A hypothesis test of the residuals also confirmed that these are separate topics. But, if we were not interested specifically in the Philae aspect of the mission, it would also have not been a problem to keep these together as was the case with the higher level topic groupings.\n",
    "\n",
    "It really depends on the specific reason why we are modeling the topics. Here, the end goal is unsupervised learning, so we don't have ground truth labels to compare the topic groupings to. Both the higher and more granular groupings are logical. But for a supervised learning problem it could mean that one approach (separated or conflated topics) is preferred.i.e. the higher granularity might not be needed.\n",
    "\n",
    "An effective but time-consuming approach to assess if the topic is a reasonable choice for the constituent news articles is to go through news articles manually. If the articles that fall under a topic are a poor match to eachother, then this points to an incoherent topic. The best (most tightly focused) topics here, in terms of their residual (Frobenius norm), are the ones reporting on mission updates (eg. Saturn imaging, Pluto, Mars, etc.). Earth-based scientific findings (Higgs particle, gravitational waves) were next. The worst topics (highest residuals) were the ones that focused on *general space science*, as the overall focus of articles was qualitatively weaker than for topics focused on the space missions."
   ]
  },
  {
   "cell_type": "markdown",
   "metadata": {},
   "source": [
    "<a id=\"looking-forward\"></a>\n",
    "\n",
    "## 10. [Looking Forward](#looking-forward)"
   ]
  },
  {
   "cell_type": "markdown",
   "metadata": {},
   "source": [
    "1. Expanding this analysis to include a third choice of number of topics, between the two extrema chosen here (based on topic coherence), allows for a check of a more focused selection of topics by combining some of the poorer ones together.\n",
    "2. Since we were performing the first version of topic modeling here, hyperparameters were not tuned. A process centered around using the residual (Frobenius norm) to assess topic quality be used to tune hyper-parameters for TFIDF and NMF steps of the overall pipeline. More stopwords should be added to the custom list of stopwords used here.\n",
    "3. Data were acquired until the end of 2019. Extending this for another year could be useful to determine the new topics that emerged due to global events during the year.\n",
    "4. The focus here was on using NMF for topic modeling. While NMF relies on matrix factorization, the other approach - Latent Dirichlet Allocation (LDA) - is a probabilistic one. It returns the probabilities of topics within each news article. A comparison between NMF's topics and those from LDA could provide further insights into (a) the topic groupings and (b) the number of topics in the corpus. Distributed LDA training [approaches may be beneficial for large datasets](https://www.ics.uci.edu/~asuncion/pubs/JMLR_09.pdf)."
   ]
  }
 ],
 "metadata": {
  "kernelspec": {
   "display_name": "Python 3",
   "language": "python",
   "name": "python3"
  },
  "language_info": {
   "codemirror_mode": {
    "name": "ipython",
    "version": 3
   },
   "file_extension": ".py",
   "mimetype": "text/x-python",
   "name": "python",
   "nbconvert_exporter": "python",
   "pygments_lexer": "ipython3",
   "version": "3.8.5"
  }
 },
 "nbformat": 4,
 "nbformat_minor": 4
}
