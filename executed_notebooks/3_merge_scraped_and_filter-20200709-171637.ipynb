{
 "cells": [
  {
   "cell_type": "markdown",
   "metadata": {
    "papermill": {
     "duration": 0.036661,
     "end_time": "2020-07-09T21:16:38.747695",
     "exception": false,
     "start_time": "2020-07-09T21:16:38.711034",
     "status": "completed"
    },
    "tags": []
   },
   "source": [
    "# [Merge and filter data](#merge-and-filter-data)"
   ]
  },
  {
   "cell_type": "code",
   "execution_count": 1,
   "metadata": {
    "execution": {
     "iopub.execute_input": "2020-07-09T21:16:38.811664Z",
     "iopub.status.busy": "2020-07-09T21:16:38.810982Z",
     "iopub.status.idle": "2020-07-09T21:16:38.911454Z",
     "shell.execute_reply": "2020-07-09T21:16:38.910700Z"
    },
    "papermill": {
     "duration": 0.135315,
     "end_time": "2020-07-09T21:16:38.911588",
     "exception": false,
     "start_time": "2020-07-09T21:16:38.776273",
     "status": "completed"
    },
    "tags": []
   },
   "outputs": [],
   "source": [
    "%load_ext lab_black\n",
    "%load_ext autoreload\n",
    "%autoreload 2"
   ]
  },
  {
   "cell_type": "code",
   "execution_count": 2,
   "metadata": {
    "execution": {
     "iopub.execute_input": "2020-07-09T21:16:38.974475Z",
     "iopub.status.busy": "2020-07-09T21:16:38.973747Z",
     "iopub.status.idle": "2020-07-09T21:16:39.413260Z",
     "shell.execute_reply": "2020-07-09T21:16:39.412533Z"
    },
    "papermill": {
     "duration": 0.472388,
     "end_time": "2020-07-09T21:16:39.413402",
     "exception": false,
     "start_time": "2020-07-09T21:16:38.941014",
     "status": "completed"
    },
    "tags": []
   },
   "outputs": [],
   "source": [
    "import os\n",
    "from azure.storage.blob import BlobServiceClient\n",
    "from glob import glob\n",
    "from io import StringIO\n",
    "from IPython.display import display\n",
    "\n",
    "import pandas as pd"
   ]
  },
  {
   "cell_type": "code",
   "execution_count": 3,
   "metadata": {
    "execution": {
     "iopub.execute_input": "2020-07-09T21:16:39.478087Z",
     "iopub.status.busy": "2020-07-09T21:16:39.477374Z",
     "iopub.status.idle": "2020-07-09T21:16:39.495651Z",
     "shell.execute_reply": "2020-07-09T21:16:39.496398Z"
    },
    "papermill": {
     "duration": 0.051698,
     "end_time": "2020-07-09T21:16:39.496556",
     "exception": false,
     "start_time": "2020-07-09T21:16:39.444858",
     "status": "completed"
    },
    "tags": []
   },
   "outputs": [],
   "source": [
    "pd.set_option(\"display.max_rows\", 500)\n",
    "pd.set_option(\"display.max_columns\", 500)\n",
    "pd.set_option(\"display.width\", 1000)"
   ]
  },
  {
   "cell_type": "markdown",
   "metadata": {
    "papermill": {
     "duration": 0.028647,
     "end_time": "2020-07-09T21:16:39.555287",
     "exception": false,
     "start_time": "2020-07-09T21:16:39.526640",
     "status": "completed"
    },
    "tags": []
   },
   "source": [
    "<a id=\"toc\"></a>\n",
    "\n",
    "## [Table of Contents](#table-of-contents)\n",
    "0. [About](#about)\n",
    "1. [User Inputs](#user-inputs)\n",
    "2. [Merge and filter Hubble data](#merge-and-filter-hubble-data)\n",
    "3. [Merge and filter NYTimes data](#merge-and-filter-nytimes-data)\n",
    "4. [Merge and filter Guardian data](#merge-and-filter-guardian-data)\n",
    "5. [Merge and filter Space.com data](#merge-and-filter-space.com-data)"
   ]
  },
  {
   "cell_type": "markdown",
   "metadata": {
    "papermill": {
     "duration": 0.028697,
     "end_time": "2020-07-09T21:16:39.612442",
     "exception": false,
     "start_time": "2020-07-09T21:16:39.583745",
     "status": "completed"
    },
    "tags": []
   },
   "source": [
    "<a id=\"about\"></a>\n",
    "\n",
    "## 0. [About](#about)"
   ]
  },
  {
   "cell_type": "markdown",
   "metadata": {
    "papermill": {
     "duration": 0.028487,
     "end_time": "2020-07-09T21:16:39.670368",
     "exception": false,
     "start_time": "2020-07-09T21:16:39.641881",
     "status": "completed"
    },
    "tags": []
   },
   "source": [
    "In this notebook, we will merge scraped listings data (including metadata), from various news publications and stored in `data/raw`, into a separate `data/processed/<publication_name>_processed.csv` file per news publication and filter out any articles that are less than 500 words in length"
   ]
  },
  {
   "cell_type": "markdown",
   "metadata": {
    "papermill": {
     "duration": 0.029199,
     "end_time": "2020-07-09T21:16:39.728057",
     "exception": false,
     "start_time": "2020-07-09T21:16:39.698858",
     "status": "completed"
    },
    "tags": []
   },
   "source": [
    "<a id=\"user-inputs\"></a>\n",
    "\n",
    "## 1. [User Inputs](#user-inputs)"
   ]
  },
  {
   "cell_type": "markdown",
   "metadata": {
    "papermill": {
     "duration": 0.02841,
     "end_time": "2020-07-09T21:16:39.785249",
     "exception": false,
     "start_time": "2020-07-09T21:16:39.756839",
     "status": "completed"
    },
    "tags": []
   },
   "source": [
    "We'll define below the variables to be used throughout the code."
   ]
  },
  {
   "cell_type": "code",
   "execution_count": 4,
   "metadata": {
    "execution": {
     "iopub.execute_input": "2020-07-09T21:16:39.850115Z",
     "iopub.status.busy": "2020-07-09T21:16:39.848892Z",
     "iopub.status.idle": "2020-07-09T21:16:39.885382Z",
     "shell.execute_reply": "2020-07-09T21:16:39.884685Z"
    },
    "papermill": {
     "duration": 0.072101,
     "end_time": "2020-07-09T21:16:39.885492",
     "exception": false,
     "start_time": "2020-07-09T21:16:39.813391",
     "status": "completed"
    },
    "tags": [
     "parameters"
    ]
   },
   "outputs": [],
   "source": [
    "# General inputs\n",
    "PROJ_ROOT_DIR = os.getcwd()\n",
    "data_dir = os.path.join(PROJ_ROOT_DIR, \"data\", \"raw\")\n",
    "processed_data_dir = os.path.join(PROJ_ROOT_DIR, \"data\", \"processed\")\n",
    "az_storage_container_name = \"myconedesx7\"\n",
    "cloud_data = True\n",
    "\n",
    "# Hubble Filenames\n",
    "# # Local files\n",
    "hubble_filename = \"hubble_urls.csv\"\n",
    "hubble_text = \"hubble.csv\"\n",
    "# # Cloud-based files\n",
    "hubble_inputs = {\n",
    "    \"blobedesz23\": \"urls\",\n",
    "    \"blobedesz22\": \"text\",\n",
    "}\n",
    "hubble_processed_filename = \"hubble_processed.csv\"\n",
    "\n",
    "# NY Times Filenames\n",
    "# # Local files\n",
    "nytimes_filename = \"nytimes_urls__*.csv\"\n",
    "nytimes_text_filenames = [\n",
    "    \"nytimes.csv\",\n",
    "    # # use below if you scrape only certain articles' text at once\n",
    "    # # and then want to combine all tries together\n",
    "    # \"nytimes_1.csv\",\n",
    "    # \"nytimes_3.csv\",\n",
    "    # \"nytimes_2.csv\"\n",
    "]\n",
    "# # Cloud-based files\n",
    "nytimes_inputs = {\n",
    "    \"blobedesz27\": \"urls_1950_1989\",\n",
    "    \"blobedesz28\": \"urls_1990_1999\",\n",
    "    \"blobedesz29\": \"urls_2000_2019\",\n",
    "    \"blobedesz24\": \"text1\",\n",
    "    \"blobedesz25\": \"text2\",\n",
    "    \"blobedesz26\": \"text3\",\n",
    "}\n",
    "nytimes_processed_filename = \"nytimes_processed.csv\"\n",
    "\n",
    "# Space.com Filenames\n",
    "# # Local files\n",
    "space_filename = \"space_com_urls.csv\"\n",
    "space_text_filenames = [\n",
    "    \"space.csv\",\n",
    "    # # use below if you scrape only certain articles' text at once\n",
    "    # # and then want to combine all tries together\n",
    "    # \"space_1.csv\",\n",
    "    # \"space_2.csv\",\n",
    "    # \"space_3.csv\",\n",
    "    # \"space_4.csv\",\n",
    "    # \"space_5.csv\",\n",
    "]\n",
    "# # Cloud-based files\n",
    "space_inputs = {\n",
    "    \"blobedesz35\": \"urls\",\n",
    "    \"blobedesz30\": \"text1\",\n",
    "    \"blobedesz31\": \"text2\",\n",
    "    \"blobedesz32\": \"text3\",\n",
    "    \"blobedesz33\": \"text4\",\n",
    "    \"blobedesz34\": \"text5\",\n",
    "}\n",
    "space_processed_filename = \"space_processed.csv\"\n",
    "\n",
    "# Guardian Filenames\n",
    "# # Local files\n",
    "guardian_filename = \"guardian_urls.csv\"\n",
    "guardian_text_filenames = [\n",
    "    \"guardian.csv\"\n",
    "    # # use below if you scrape only certain articles' text at once\n",
    "    # # and then want to combine all tries together\n",
    "    # \"guardian_1.csv\",\n",
    "    # \"guardian_2.csv\"\n",
    "]\n",
    "# # Cloud-based files\n",
    "guardian_inputs = {\n",
    "    \"blobedesz21\": \"urls\",\n",
    "    \"blobedesz19\": \"text1\",\n",
    "    \"blobedesz20\": \"text2\",\n",
    "}\n",
    "guardian_processed_filename = \"guardian_processed.csv\""
   ]
  },
  {
   "cell_type": "code",
   "execution_count": 5,
   "metadata": {
    "execution": {
     "iopub.execute_input": "2020-07-09T21:16:39.947888Z",
     "iopub.status.busy": "2020-07-09T21:16:39.947205Z",
     "iopub.status.idle": "2020-07-09T21:16:39.973155Z",
     "shell.execute_reply": "2020-07-09T21:16:39.973674Z"
    },
    "papermill": {
     "duration": 0.059785,
     "end_time": "2020-07-09T21:16:39.973802",
     "exception": false,
     "start_time": "2020-07-09T21:16:39.914017",
     "status": "completed"
    },
    "tags": [
     "injected-parameters"
    ]
   },
   "outputs": [],
   "source": [
    "# Parameters\n",
    "data_dir = \"/home/elstand/Downloads/nlp-space-news-topic-modeling/data/raw\"\n",
    "processed_data_dir = (\n",
    "    \"/home/elstand/Downloads/nlp-space-news-topic-modeling/data/processed\"\n",
    ")\n",
    "az_storage_container_name = \"myconedesx7\"\n",
    "cloud_data = True\n",
    "hubble_inputs = {\"blobedesz23\": \"urls\", \"blobedesz22\": \"text\"}\n",
    "hubble_processed_filename = \"hubble_processed.csv\"\n",
    "nytimes_inputs = {\n",
    "    \"blobedesz27\": \"urls_1950_1989\",\n",
    "    \"blobedesz28\": \"urls_1990_1999\",\n",
    "    \"blobedesz29\": \"urls_2000_2019\",\n",
    "    \"blobedesz24\": \"text1\",\n",
    "    \"blobedesz25\": \"text2\",\n",
    "    \"blobedesz26\": \"text3\",\n",
    "}\n",
    "nytimes_processed_filename = \"nytimes_processed.csv\"\n",
    "space_inputs = {\n",
    "    \"blobedesz35\": \"urls\",\n",
    "    \"blobedesz30\": \"text1\",\n",
    "    \"blobedesz31\": \"text2\",\n",
    "    \"blobedesz32\": \"text3\",\n",
    "    \"blobedesz33\": \"text4\",\n",
    "    \"blobedesz34\": \"text5\",\n",
    "}\n",
    "space_processed_filename = \"space_processed.csv\"\n",
    "guardian_inputs = {\n",
    "    \"blobedesz21\": \"urls\",\n",
    "    \"blobedesz19\": \"text1\",\n",
    "    \"blobedesz20\": \"text2\",\n",
    "}\n",
    "guardian_processed_filename = \"guardian_processed.csv\"\n"
   ]
  },
  {
   "cell_type": "code",
   "execution_count": 6,
   "metadata": {
    "execution": {
     "iopub.execute_input": "2020-07-09T21:16:40.035576Z",
     "iopub.status.busy": "2020-07-09T21:16:40.034876Z",
     "iopub.status.idle": "2020-07-09T21:16:40.052473Z",
     "shell.execute_reply": "2020-07-09T21:16:40.053164Z"
    },
    "papermill": {
     "duration": 0.050577,
     "end_time": "2020-07-09T21:16:40.053328",
     "exception": false,
     "start_time": "2020-07-09T21:16:40.002751",
     "status": "completed"
    },
    "tags": []
   },
   "outputs": [],
   "source": [
    "conn_str = (\n",
    "    \"DefaultEndpointsProtocol=https;\"\n",
    "    f\"AccountName={os.getenv('AZURE_STORAGE_ACCOUNT')};\"\n",
    "    f\"AccountKey={os.getenv('AZURE_STORAGE_KEY')};\"\n",
    "    f\"EndpointSuffix={os.getenv('ENDPOINT_SUFFIX')}\"\n",
    ")\n",
    "blob_service_client = BlobServiceClient.from_connection_string(conn_str=conn_str)"
   ]
  },
  {
   "cell_type": "markdown",
   "metadata": {
    "papermill": {
     "duration": 0.029776,
     "end_time": "2020-07-09T21:16:40.114328",
     "exception": false,
     "start_time": "2020-07-09T21:16:40.084552",
     "status": "completed"
    },
    "tags": []
   },
   "source": [
    "<a id=\"merge-and-filter-hubble-data\"></a>\n",
    "\n",
    "## 2. [Merge and filter Hubble data](#merge-and-filter-hubble-data)"
   ]
  },
  {
   "cell_type": "markdown",
   "metadata": {
    "papermill": {
     "duration": 0.030026,
     "end_time": "2020-07-09T21:16:40.174895",
     "exception": false,
     "start_time": "2020-07-09T21:16:40.144869",
     "status": "completed"
    },
    "tags": []
   },
   "source": [
    "We'll start by loading the scraped text and listings urls from the Hubble website into separate `DataFrame`s."
   ]
  },
  {
   "cell_type": "code",
   "execution_count": 7,
   "metadata": {
    "execution": {
     "iopub.execute_input": "2020-07-09T21:16:40.237432Z",
     "iopub.status.busy": "2020-07-09T21:16:40.236708Z",
     "iopub.status.idle": "2020-07-09T21:16:42.926387Z",
     "shell.execute_reply": "2020-07-09T21:16:42.925669Z"
    },
    "papermill": {
     "duration": 2.722381,
     "end_time": "2020-07-09T21:16:42.926499",
     "exception": false,
     "start_time": "2020-07-09T21:16:40.204118",
     "status": "completed"
    },
    "tags": []
   },
   "outputs": [],
   "source": [
    "if not cloud_data:\n",
    "    df_hubble_listings = pd.read_csv(os.path.join(data_dir, hubble_filename))\n",
    "    df_hubble_text = pd.read_csv(os.path.join(processed_data_dir, hubble_text))\n",
    "else:\n",
    "    hubble_dict = {}\n",
    "    for az_blob_name, file_type in hubble_inputs.items():\n",
    "        blob_client = blob_service_client.get_blob_client(\n",
    "            container=az_storage_container_name, blob=az_blob_name\n",
    "        )\n",
    "        blobstring = blob_client.download_blob().content_as_text()\n",
    "        hubble_dict[file_type] = pd.read_csv(StringIO(blobstring))\n",
    "    df_hubble_text = pd.concat([v for k,v in hubble_dict.items() if \"text\" in k])\n",
    "    df_hubble_listings = pd.concat([v for k,v in hubble_dict.items() if k == \"urls\"])"
   ]
  },
  {
   "cell_type": "markdown",
   "metadata": {
    "papermill": {
     "duration": 0.029089,
     "end_time": "2020-07-09T21:16:42.984608",
     "exception": false,
     "start_time": "2020-07-09T21:16:42.955519",
     "status": "completed"
    },
    "tags": []
   },
   "source": [
    "We'll then rename columns"
   ]
  },
  {
   "cell_type": "code",
   "execution_count": 8,
   "metadata": {
    "execution": {
     "iopub.execute_input": "2020-07-09T21:16:43.048361Z",
     "iopub.status.busy": "2020-07-09T21:16:43.047293Z",
     "iopub.status.idle": "2020-07-09T21:16:43.093029Z",
     "shell.execute_reply": "2020-07-09T21:16:43.092163Z"
    },
    "papermill": {
     "duration": 0.078836,
     "end_time": "2020-07-09T21:16:43.093157",
     "exception": false,
     "start_time": "2020-07-09T21:16:43.014321",
     "status": "completed"
    },
    "tags": []
   },
   "outputs": [
    {
     "data": {
      "text/html": [
       "<div>\n",
       "<style scoped>\n",
       "    .dataframe tbody tr th:only-of-type {\n",
       "        vertical-align: middle;\n",
       "    }\n",
       "\n",
       "    .dataframe tbody tr th {\n",
       "        vertical-align: top;\n",
       "    }\n",
       "\n",
       "    .dataframe thead th {\n",
       "        text-align: right;\n",
       "    }\n",
       "</style>\n",
       "<table border=\"1\" class=\"dataframe\">\n",
       "  <thead>\n",
       "    <tr style=\"text-align: right;\">\n",
       "      <th></th>\n",
       "      <th>name</th>\n",
       "      <th>news_id</th>\n",
       "      <th>url</th>\n",
       "      <th>publication</th>\n",
       "      <th>publication_date</th>\n",
       "      <th>abstract</th>\n",
       "    </tr>\n",
       "  </thead>\n",
       "  <tbody>\n",
       "    <tr>\n",
       "      <th>0</th>\n",
       "      <td>NASA's Hubble Captures a Dozen Galaxy Doppelga...</td>\n",
       "      <td>2019-58</td>\n",
       "      <td>https://hubblesite.org/contents/news-releases/...</td>\n",
       "      <td>hubble</td>\n",
       "      <td>2019-11-07T14:00:00.000-05:00</td>\n",
       "      <td>\\r\\nThe “funhouse mirror” has delighted carniv...</td>\n",
       "    </tr>\n",
       "    <tr>\n",
       "      <th>1</th>\n",
       "      <td>Hubble Captures Galaxies' Ghostly Gaze</td>\n",
       "      <td>2019-51</td>\n",
       "      <td>https://hubblesite.org/contents/news-releases/...</td>\n",
       "      <td>hubble</td>\n",
       "      <td>2019-10-28T10:00:00.000-04:00</td>\n",
       "      <td>The universe is a bubbling cauldron of matter ...</td>\n",
       "    </tr>\n",
       "  </tbody>\n",
       "</table>\n",
       "</div>"
      ],
      "text/plain": [
       "                                                name  news_id                                                url publication               publication_date                                           abstract\n",
       "0  NASA's Hubble Captures a Dozen Galaxy Doppelga...  2019-58  https://hubblesite.org/contents/news-releases/...      hubble  2019-11-07T14:00:00.000-05:00  \\r\\nThe “funhouse mirror” has delighted carniv...\n",
       "1             Hubble Captures Galaxies' Ghostly Gaze  2019-51  https://hubblesite.org/contents/news-releases/...      hubble  2019-10-28T10:00:00.000-04:00  The universe is a bubbling cauldron of matter ..."
      ]
     },
     "metadata": {},
     "output_type": "display_data"
    },
    {
     "data": {
      "text/html": [
       "<div>\n",
       "<style scoped>\n",
       "    .dataframe tbody tr th:only-of-type {\n",
       "        vertical-align: middle;\n",
       "    }\n",
       "\n",
       "    .dataframe tbody tr th {\n",
       "        vertical-align: top;\n",
       "    }\n",
       "\n",
       "    .dataframe thead th {\n",
       "        text-align: right;\n",
       "    }\n",
       "</style>\n",
       "<table border=\"1\" class=\"dataframe\">\n",
       "  <thead>\n",
       "    <tr style=\"text-align: right;\">\n",
       "      <th></th>\n",
       "      <th>url</th>\n",
       "      <th>text</th>\n",
       "      <th>publication</th>\n",
       "      <th>year</th>\n",
       "      <th>month</th>\n",
       "      <th>day</th>\n",
       "      <th>dayofweek</th>\n",
       "      <th>dayofyear</th>\n",
       "      <th>weekofyear</th>\n",
       "      <th>quarter</th>\n",
       "    </tr>\n",
       "  </thead>\n",
       "  <tbody>\n",
       "    <tr>\n",
       "      <th>0</th>\n",
       "      <td>https://hubblesite.org/contents/news-releases/...</td>\n",
       "      <td>This NASA Hubble Space Telescope photo reveals...</td>\n",
       "      <td>hubble</td>\n",
       "      <td>NaN</td>\n",
       "      <td>NaN</td>\n",
       "      <td>NaN</td>\n",
       "      <td>NaN</td>\n",
       "      <td>NaN</td>\n",
       "      <td>NaN</td>\n",
       "      <td>NaN</td>\n",
       "    </tr>\n",
       "    <tr>\n",
       "      <th>1</th>\n",
       "      <td>https://hubblesite.org/contents/news-releases/...</td>\n",
       "      <td>When astronomers peer deep into space, they do...</td>\n",
       "      <td>hubble</td>\n",
       "      <td>NaN</td>\n",
       "      <td>NaN</td>\n",
       "      <td>NaN</td>\n",
       "      <td>NaN</td>\n",
       "      <td>NaN</td>\n",
       "      <td>NaN</td>\n",
       "      <td>NaN</td>\n",
       "    </tr>\n",
       "  </tbody>\n",
       "</table>\n",
       "</div>"
      ],
      "text/plain": [
       "                                                 url                                               text publication  year  month  day  dayofweek  dayofyear  weekofyear  quarter\n",
       "0  https://hubblesite.org/contents/news-releases/...  This NASA Hubble Space Telescope photo reveals...      hubble   NaN    NaN  NaN        NaN        NaN         NaN      NaN\n",
       "1  https://hubblesite.org/contents/news-releases/...  When astronomers peer deep into space, they do...      hubble   NaN    NaN  NaN        NaN        NaN         NaN      NaN"
      ]
     },
     "metadata": {},
     "output_type": "display_data"
    }
   ],
   "source": [
    "df_hubble_listings.rename(\n",
    "    columns={\"publication\": \"publication_date\", \"mission\": \"publication\"}, inplace=True\n",
    ")\n",
    "df_hubble_text.drop([\"publication_date\"], axis=1, inplace=True)\n",
    "display(df_hubble_listings.head(2))\n",
    "display(df_hubble_text.head(2))"
   ]
  },
  {
   "cell_type": "markdown",
   "metadata": {
    "papermill": {
     "duration": 0.03149,
     "end_time": "2020-07-09T21:16:43.158370",
     "exception": false,
     "start_time": "2020-07-09T21:16:43.126880",
     "status": "completed"
    },
    "tags": []
   },
   "source": [
    "Next, we'll set an index for the `DataFrame`s so that we can join each `DataFrame` on its index"
   ]
  },
  {
   "cell_type": "code",
   "execution_count": 9,
   "metadata": {
    "execution": {
     "iopub.execute_input": "2020-07-09T21:16:43.223076Z",
     "iopub.status.busy": "2020-07-09T21:16:43.222408Z",
     "iopub.status.idle": "2020-07-09T21:16:43.265774Z",
     "shell.execute_reply": "2020-07-09T21:16:43.266332Z"
    },
    "papermill": {
     "duration": 0.077617,
     "end_time": "2020-07-09T21:16:43.266461",
     "exception": false,
     "start_time": "2020-07-09T21:16:43.188844",
     "status": "completed"
    },
    "tags": []
   },
   "outputs": [
    {
     "name": "stdout",
     "output_type": "stream",
     "text": [
      "(1195, 8)\n"
     ]
    },
    {
     "data": {
      "text/html": [
       "<div>\n",
       "<style scoped>\n",
       "    .dataframe tbody tr th:only-of-type {\n",
       "        vertical-align: middle;\n",
       "    }\n",
       "\n",
       "    .dataframe tbody tr th {\n",
       "        vertical-align: top;\n",
       "    }\n",
       "\n",
       "    .dataframe thead th {\n",
       "        text-align: right;\n",
       "    }\n",
       "</style>\n",
       "<table border=\"1\" class=\"dataframe\">\n",
       "  <thead>\n",
       "    <tr style=\"text-align: right;\">\n",
       "      <th></th>\n",
       "      <th></th>\n",
       "      <th>text</th>\n",
       "      <th>year</th>\n",
       "      <th>month</th>\n",
       "      <th>day</th>\n",
       "      <th>dayofweek</th>\n",
       "      <th>dayofyear</th>\n",
       "      <th>weekofyear</th>\n",
       "      <th>quarter</th>\n",
       "    </tr>\n",
       "    <tr>\n",
       "      <th>url</th>\n",
       "      <th>publication</th>\n",
       "      <th></th>\n",
       "      <th></th>\n",
       "      <th></th>\n",
       "      <th></th>\n",
       "      <th></th>\n",
       "      <th></th>\n",
       "      <th></th>\n",
       "      <th></th>\n",
       "    </tr>\n",
       "  </thead>\n",
       "  <tbody>\n",
       "    <tr>\n",
       "      <th>https://hubblesite.org/contents/news-releases/2019/news-2019-58</th>\n",
       "      <th>hubble</th>\n",
       "      <td>This NASA Hubble Space Telescope photo reveals...</td>\n",
       "      <td>NaN</td>\n",
       "      <td>NaN</td>\n",
       "      <td>NaN</td>\n",
       "      <td>NaN</td>\n",
       "      <td>NaN</td>\n",
       "      <td>NaN</td>\n",
       "      <td>NaN</td>\n",
       "    </tr>\n",
       "    <tr>\n",
       "      <th>https://hubblesite.org/contents/news-releases/2019/news-2019-51</th>\n",
       "      <th>hubble</th>\n",
       "      <td>When astronomers peer deep into space, they do...</td>\n",
       "      <td>NaN</td>\n",
       "      <td>NaN</td>\n",
       "      <td>NaN</td>\n",
       "      <td>NaN</td>\n",
       "      <td>NaN</td>\n",
       "      <td>NaN</td>\n",
       "      <td>NaN</td>\n",
       "    </tr>\n",
       "  </tbody>\n",
       "</table>\n",
       "</div>"
      ],
      "text/plain": [
       "                                                                                                             text  year  month  day  dayofweek  dayofyear  weekofyear  quarter\n",
       "url                                                publication                                                                                                                \n",
       "https://hubblesite.org/contents/news-releases/2... hubble       This NASA Hubble Space Telescope photo reveals...   NaN    NaN  NaN        NaN        NaN         NaN      NaN\n",
       "https://hubblesite.org/contents/news-releases/2... hubble       When astronomers peer deep into space, they do...   NaN    NaN  NaN        NaN        NaN         NaN      NaN"
      ]
     },
     "metadata": {},
     "output_type": "display_data"
    },
    {
     "name": "stdout",
     "output_type": "stream",
     "text": [
      "(1195, 4)\n"
     ]
    },
    {
     "data": {
      "text/html": [
       "<div>\n",
       "<style scoped>\n",
       "    .dataframe tbody tr th:only-of-type {\n",
       "        vertical-align: middle;\n",
       "    }\n",
       "\n",
       "    .dataframe tbody tr th {\n",
       "        vertical-align: top;\n",
       "    }\n",
       "\n",
       "    .dataframe thead th {\n",
       "        text-align: right;\n",
       "    }\n",
       "</style>\n",
       "<table border=\"1\" class=\"dataframe\">\n",
       "  <thead>\n",
       "    <tr style=\"text-align: right;\">\n",
       "      <th></th>\n",
       "      <th></th>\n",
       "      <th>name</th>\n",
       "      <th>news_id</th>\n",
       "      <th>publication_date</th>\n",
       "      <th>abstract</th>\n",
       "    </tr>\n",
       "    <tr>\n",
       "      <th>url</th>\n",
       "      <th>publication</th>\n",
       "      <th></th>\n",
       "      <th></th>\n",
       "      <th></th>\n",
       "      <th></th>\n",
       "    </tr>\n",
       "  </thead>\n",
       "  <tbody>\n",
       "    <tr>\n",
       "      <th>https://hubblesite.org/contents/news-releases/2019/news-2019-58</th>\n",
       "      <th>hubble</th>\n",
       "      <td>NASA's Hubble Captures a Dozen Galaxy Doppelga...</td>\n",
       "      <td>2019-58</td>\n",
       "      <td>2019-11-07T14:00:00.000-05:00</td>\n",
       "      <td>\\r\\nThe “funhouse mirror” has delighted carniv...</td>\n",
       "    </tr>\n",
       "    <tr>\n",
       "      <th>https://hubblesite.org/contents/news-releases/2019/news-2019-51</th>\n",
       "      <th>hubble</th>\n",
       "      <td>Hubble Captures Galaxies' Ghostly Gaze</td>\n",
       "      <td>2019-51</td>\n",
       "      <td>2019-10-28T10:00:00.000-04:00</td>\n",
       "      <td>The universe is a bubbling cauldron of matter ...</td>\n",
       "    </tr>\n",
       "  </tbody>\n",
       "</table>\n",
       "</div>"
      ],
      "text/plain": [
       "                                                                                                             name  news_id               publication_date                                           abstract\n",
       "url                                                publication                                                                                                                                              \n",
       "https://hubblesite.org/contents/news-releases/2... hubble       NASA's Hubble Captures a Dozen Galaxy Doppelga...  2019-58  2019-11-07T14:00:00.000-05:00  \\r\\nThe “funhouse mirror” has delighted carniv...\n",
       "https://hubblesite.org/contents/news-releases/2... hubble                  Hubble Captures Galaxies' Ghostly Gaze  2019-51  2019-10-28T10:00:00.000-04:00  The universe is a bubbling cauldron of matter ..."
      ]
     },
     "metadata": {},
     "output_type": "display_data"
    }
   ],
   "source": [
    "df_hubble_text = df_hubble_text.set_index([\"url\", \"publication\"])\n",
    "df_hubble_listings = df_hubble_listings.set_index([\"url\", \"publication\"])\n",
    "print(df_hubble_text.shape)\n",
    "display(df_hubble_text.head(2))\n",
    "print(df_hubble_listings.shape)\n",
    "display(df_hubble_listings.head(2))"
   ]
  },
  {
   "cell_type": "markdown",
   "metadata": {
    "papermill": {
     "duration": 0.03194,
     "end_time": "2020-07-09T21:16:43.329902",
     "exception": false,
     "start_time": "2020-07-09T21:16:43.297962",
     "status": "completed"
    },
    "tags": []
   },
   "source": [
    "Next, we'll merge the `DataFrame`s on the index and reset the index so that these index columns appear in the merged `DataFrame`"
   ]
  },
  {
   "cell_type": "code",
   "execution_count": 10,
   "metadata": {
    "execution": {
     "iopub.execute_input": "2020-07-09T21:16:43.396943Z",
     "iopub.status.busy": "2020-07-09T21:16:43.396224Z",
     "iopub.status.idle": "2020-07-09T21:16:43.436169Z",
     "shell.execute_reply": "2020-07-09T21:16:43.436688Z"
    },
    "papermill": {
     "duration": 0.075118,
     "end_time": "2020-07-09T21:16:43.436820",
     "exception": false,
     "start_time": "2020-07-09T21:16:43.361702",
     "status": "completed"
    },
    "tags": []
   },
   "outputs": [
    {
     "name": "stdout",
     "output_type": "stream",
     "text": [
      "(1174, 14)\n"
     ]
    },
    {
     "data": {
      "text/html": [
       "<div>\n",
       "<style scoped>\n",
       "    .dataframe tbody tr th:only-of-type {\n",
       "        vertical-align: middle;\n",
       "    }\n",
       "\n",
       "    .dataframe tbody tr th {\n",
       "        vertical-align: top;\n",
       "    }\n",
       "\n",
       "    .dataframe thead th {\n",
       "        text-align: right;\n",
       "    }\n",
       "</style>\n",
       "<table border=\"1\" class=\"dataframe\">\n",
       "  <thead>\n",
       "    <tr style=\"text-align: right;\">\n",
       "      <th></th>\n",
       "      <th>url</th>\n",
       "      <th>publication</th>\n",
       "      <th>text</th>\n",
       "      <th>year</th>\n",
       "      <th>month</th>\n",
       "      <th>day</th>\n",
       "      <th>dayofweek</th>\n",
       "      <th>dayofyear</th>\n",
       "      <th>weekofyear</th>\n",
       "      <th>quarter</th>\n",
       "      <th>name</th>\n",
       "      <th>news_id</th>\n",
       "      <th>publication_date</th>\n",
       "      <th>abstract</th>\n",
       "    </tr>\n",
       "  </thead>\n",
       "  <tbody>\n",
       "    <tr>\n",
       "      <th>0</th>\n",
       "      <td>https://hubblesite.org/contents/news-releases/...</td>\n",
       "      <td>hubble</td>\n",
       "      <td>Capitalizing on the unparalleled sharpness and...</td>\n",
       "      <td>NaN</td>\n",
       "      <td>NaN</td>\n",
       "      <td>NaN</td>\n",
       "      <td>NaN</td>\n",
       "      <td>NaN</td>\n",
       "      <td>NaN</td>\n",
       "      <td>NaN</td>\n",
       "      <td>Astronomers Release Most Complete Ultraviolet-...</td>\n",
       "      <td>2018-27</td>\n",
       "      <td>2018-05-17T13:00:00.000-04:00</td>\n",
       "      <td>Much of the light in the universe comes from s...</td>\n",
       "    </tr>\n",
       "    <tr>\n",
       "      <th>1</th>\n",
       "      <td>https://hubblesite.org/contents/news-releases/...</td>\n",
       "      <td>hubble</td>\n",
       "      <td>If civilizations exist around other stars they...</td>\n",
       "      <td>NaN</td>\n",
       "      <td>NaN</td>\n",
       "      <td>NaN</td>\n",
       "      <td>NaN</td>\n",
       "      <td>NaN</td>\n",
       "      <td>NaN</td>\n",
       "      <td>NaN</td>\n",
       "      <td>Extraterrestrial Civilizations: Coming of Age ...</td>\n",
       "      <td>1998-43</td>\n",
       "      <td>1998-12-10T09:00:00.000-05:00</td>\n",
       "      <td>If civilizations exist around other stars they...</td>\n",
       "    </tr>\n",
       "  </tbody>\n",
       "</table>\n",
       "</div>"
      ],
      "text/plain": [
       "                                                 url publication                                               text  year  month  day  dayofweek  dayofyear  weekofyear  quarter                                               name  news_id               publication_date                                           abstract\n",
       "0  https://hubblesite.org/contents/news-releases/...      hubble  Capitalizing on the unparalleled sharpness and...   NaN    NaN  NaN        NaN        NaN         NaN      NaN  Astronomers Release Most Complete Ultraviolet-...  2018-27  2018-05-17T13:00:00.000-04:00  Much of the light in the universe comes from s...\n",
       "1  https://hubblesite.org/contents/news-releases/...      hubble  If civilizations exist around other stars they...   NaN    NaN  NaN        NaN        NaN         NaN      NaN  Extraterrestrial Civilizations: Coming of Age ...  1998-43  1998-12-10T09:00:00.000-05:00  If civilizations exist around other stars they..."
      ]
     },
     "metadata": {},
     "output_type": "display_data"
    }
   ],
   "source": [
    "df_hubble = df_hubble_text.merge(\n",
    "    df_hubble_listings, left_index=True, right_index=True, how=\"inner\",\n",
    ").reset_index(drop=False)\n",
    "print(df_hubble.shape)\n",
    "display(df_hubble.head(2))"
   ]
  },
  {
   "cell_type": "markdown",
   "metadata": {
    "papermill": {
     "duration": 0.032935,
     "end_time": "2020-07-09T21:16:43.502447",
     "exception": false,
     "start_time": "2020-07-09T21:16:43.469512",
     "status": "completed"
    },
    "tags": []
   },
   "source": [
    "Next, we'll append `datetime` attributes as columns to the merged `DataFrame`"
   ]
  },
  {
   "cell_type": "code",
   "execution_count": 11,
   "metadata": {
    "execution": {
     "iopub.execute_input": "2020-07-09T21:16:43.571579Z",
     "iopub.status.busy": "2020-07-09T21:16:43.570924Z",
     "iopub.status.idle": "2020-07-09T21:16:43.614854Z",
     "shell.execute_reply": "2020-07-09T21:16:43.614053Z"
    },
    "papermill": {
     "duration": 0.079524,
     "end_time": "2020-07-09T21:16:43.614967",
     "exception": false,
     "start_time": "2020-07-09T21:16:43.535443",
     "status": "completed"
    },
    "tags": []
   },
   "outputs": [],
   "source": [
    "L = [\"year\", \"month\", \"day\", \"dayofweek\", \"dayofyear\", \"weekofyear\", \"quarter\"]\n",
    "df_hubble.drop(L, axis=1, inplace=True)\n",
    "df_hubble[\"publication_date\"] = pd.to_datetime(df_hubble[\"publication_date\"], utc=True)"
   ]
  },
  {
   "cell_type": "code",
   "execution_count": 12,
   "metadata": {
    "execution": {
     "iopub.execute_input": "2020-07-09T21:16:43.685559Z",
     "iopub.status.busy": "2020-07-09T21:16:43.684887Z",
     "iopub.status.idle": "2020-07-09T21:16:43.728101Z",
     "shell.execute_reply": "2020-07-09T21:16:43.727107Z"
    },
    "papermill": {
     "duration": 0.080412,
     "end_time": "2020-07-09T21:16:43.728262",
     "exception": false,
     "start_time": "2020-07-09T21:16:43.647850",
     "status": "completed"
    },
    "tags": []
   },
   "outputs": [
    {
     "name": "stdout",
     "output_type": "stream",
     "text": [
      "(1174, 15)\n"
     ]
    },
    {
     "data": {
      "text/html": [
       "<div>\n",
       "<style scoped>\n",
       "    .dataframe tbody tr th:only-of-type {\n",
       "        vertical-align: middle;\n",
       "    }\n",
       "\n",
       "    .dataframe tbody tr th {\n",
       "        vertical-align: top;\n",
       "    }\n",
       "\n",
       "    .dataframe thead th {\n",
       "        text-align: right;\n",
       "    }\n",
       "</style>\n",
       "<table border=\"1\" class=\"dataframe\">\n",
       "  <thead>\n",
       "    <tr style=\"text-align: right;\">\n",
       "      <th></th>\n",
       "      <th>url</th>\n",
       "      <th>publication</th>\n",
       "      <th>text</th>\n",
       "      <th>name</th>\n",
       "      <th>news_id</th>\n",
       "      <th>publication_date</th>\n",
       "      <th>abstract</th>\n",
       "      <th>year</th>\n",
       "      <th>month</th>\n",
       "      <th>day</th>\n",
       "      <th>dayofweek</th>\n",
       "      <th>dayofyear</th>\n",
       "      <th>weekofyear</th>\n",
       "      <th>quarter</th>\n",
       "      <th>decade</th>\n",
       "    </tr>\n",
       "  </thead>\n",
       "  <tbody>\n",
       "    <tr>\n",
       "      <th>0</th>\n",
       "      <td>https://hubblesite.org/contents/news-releases/...</td>\n",
       "      <td>hubble</td>\n",
       "      <td>Capitalizing on the unparalleled sharpness and...</td>\n",
       "      <td>Astronomers Release Most Complete Ultraviolet-...</td>\n",
       "      <td>2018-27</td>\n",
       "      <td>2018-05-17 17:00:00+00:00</td>\n",
       "      <td>Much of the light in the universe comes from s...</td>\n",
       "      <td>2018</td>\n",
       "      <td>5</td>\n",
       "      <td>17</td>\n",
       "      <td>3</td>\n",
       "      <td>137</td>\n",
       "      <td>20</td>\n",
       "      <td>2</td>\n",
       "      <td>2010</td>\n",
       "    </tr>\n",
       "    <tr>\n",
       "      <th>1</th>\n",
       "      <td>https://hubblesite.org/contents/news-releases/...</td>\n",
       "      <td>hubble</td>\n",
       "      <td>If civilizations exist around other stars they...</td>\n",
       "      <td>Extraterrestrial Civilizations: Coming of Age ...</td>\n",
       "      <td>1998-43</td>\n",
       "      <td>1998-12-10 14:00:00+00:00</td>\n",
       "      <td>If civilizations exist around other stars they...</td>\n",
       "      <td>1998</td>\n",
       "      <td>12</td>\n",
       "      <td>10</td>\n",
       "      <td>3</td>\n",
       "      <td>344</td>\n",
       "      <td>50</td>\n",
       "      <td>4</td>\n",
       "      <td>1990</td>\n",
       "    </tr>\n",
       "    <tr>\n",
       "      <th>2</th>\n",
       "      <td>https://hubblesite.org/contents/news-releases/...</td>\n",
       "      <td>hubble</td>\n",
       "      <td>Astronomers have long puzzled over why a small...</td>\n",
       "      <td>Hubble Resolves Puzzle about Loner Starburst G...</td>\n",
       "      <td>2008-38</td>\n",
       "      <td>2008-11-20 14:00:00+00:00</td>\n",
       "      <td>Astronomers have long puzzled over why a small...</td>\n",
       "      <td>2008</td>\n",
       "      <td>11</td>\n",
       "      <td>20</td>\n",
       "      <td>3</td>\n",
       "      <td>325</td>\n",
       "      <td>47</td>\n",
       "      <td>4</td>\n",
       "      <td>2000</td>\n",
       "    </tr>\n",
       "  </tbody>\n",
       "</table>\n",
       "</div>"
      ],
      "text/plain": [
       "                                                 url publication                                               text                                               name  news_id          publication_date                                           abstract  year  month  day  dayofweek  dayofyear  weekofyear  quarter  decade\n",
       "0  https://hubblesite.org/contents/news-releases/...      hubble  Capitalizing on the unparalleled sharpness and...  Astronomers Release Most Complete Ultraviolet-...  2018-27 2018-05-17 17:00:00+00:00  Much of the light in the universe comes from s...  2018      5   17          3        137          20        2    2010\n",
       "1  https://hubblesite.org/contents/news-releases/...      hubble  If civilizations exist around other stars they...  Extraterrestrial Civilizations: Coming of Age ...  1998-43 1998-12-10 14:00:00+00:00  If civilizations exist around other stars they...  1998     12   10          3        344          50        4    1990\n",
       "2  https://hubblesite.org/contents/news-releases/...      hubble  Astronomers have long puzzled over why a small...  Hubble Resolves Puzzle about Loner Starburst G...  2008-38 2008-11-20 14:00:00+00:00  Astronomers have long puzzled over why a small...  2008     11   20          3        325          47        4    2000"
      ]
     },
     "execution_count": 12,
     "metadata": {},
     "output_type": "execute_result"
    }
   ],
   "source": [
    "df_hubble = df_hubble.join(\n",
    "    pd.concat(\n",
    "        (getattr(df_hubble[\"publication_date\"].dt, i).rename(i) for i in L), axis=1\n",
    "    )\n",
    ")\n",
    "df_hubble[\"decade\"] = df_hubble[\"year\"] // 10 * 10\n",
    "print(df_hubble.shape)\n",
    "df_hubble.head(3)"
   ]
  },
  {
   "cell_type": "markdown",
   "metadata": {
    "papermill": {
     "duration": 0.032662,
     "end_time": "2020-07-09T21:16:43.794954",
     "exception": false,
     "start_time": "2020-07-09T21:16:43.762292",
     "status": "completed"
    },
    "tags": []
   },
   "source": [
    "Next, we'll filter out news articles of less than 500 characters"
   ]
  },
  {
   "cell_type": "code",
   "execution_count": 13,
   "metadata": {
    "execution": {
     "iopub.execute_input": "2020-07-09T21:16:43.865916Z",
     "iopub.status.busy": "2020-07-09T21:16:43.864953Z",
     "iopub.status.idle": "2020-07-09T21:16:43.884182Z",
     "shell.execute_reply": "2020-07-09T21:16:43.883482Z"
    },
    "papermill": {
     "duration": 0.056727,
     "end_time": "2020-07-09T21:16:43.884293",
     "exception": false,
     "start_time": "2020-07-09T21:16:43.827566",
     "status": "completed"
    },
    "tags": []
   },
   "outputs": [],
   "source": [
    "df_hubble = df_hubble[(df_hubble[\"text\"].str.len() > 500)]"
   ]
  },
  {
   "cell_type": "markdown",
   "metadata": {
    "papermill": {
     "duration": 0.034343,
     "end_time": "2020-07-09T21:16:43.953016",
     "exception": false,
     "start_time": "2020-07-09T21:16:43.918673",
     "status": "completed"
    },
    "tags": []
   },
   "source": [
    "Next, we'll drop unwanted columns from the merged `DataFrame`"
   ]
  },
  {
   "cell_type": "code",
   "execution_count": 14,
   "metadata": {
    "execution": {
     "iopub.execute_input": "2020-07-09T21:16:44.025891Z",
     "iopub.status.busy": "2020-07-09T21:16:44.025133Z",
     "iopub.status.idle": "2020-07-09T21:16:44.045667Z",
     "shell.execute_reply": "2020-07-09T21:16:44.044954Z"
    },
    "papermill": {
     "duration": 0.058492,
     "end_time": "2020-07-09T21:16:44.045779",
     "exception": false,
     "start_time": "2020-07-09T21:16:43.987287",
     "status": "completed"
    },
    "tags": []
   },
   "outputs": [
    {
     "name": "stdout",
     "output_type": "stream",
     "text": [
      "(1054, 6)\n"
     ]
    }
   ],
   "source": [
    "unwanted_hubble_cols = [\n",
    "    \"url\",\n",
    "    \"publication\",\n",
    "    \"news_id\",\n",
    "    \"publication_date\",\n",
    "    \"day\",\n",
    "    \"dayofweek\",\n",
    "    \"dayofyear\",\n",
    "    \"weekofyear\",\n",
    "    \"quarter\",\n",
    "]\n",
    "df_hubble.drop(unwanted_hubble_cols, axis=1, inplace=True)\n",
    "print(df_hubble.shape)"
   ]
  },
  {
   "cell_type": "markdown",
   "metadata": {
    "papermill": {
     "duration": 0.081814,
     "end_time": "2020-07-09T21:16:44.160973",
     "exception": false,
     "start_time": "2020-07-09T21:16:44.079159",
     "status": "completed"
    },
    "tags": []
   },
   "source": [
    "Finally, we'll export the merged `DataFrame` to a `.csv` file"
   ]
  },
  {
   "cell_type": "code",
   "execution_count": 15,
   "metadata": {
    "execution": {
     "iopub.execute_input": "2020-07-09T21:16:44.233731Z",
     "iopub.status.busy": "2020-07-09T21:16:44.232990Z",
     "iopub.status.idle": "2020-07-09T21:16:44.374679Z",
     "shell.execute_reply": "2020-07-09T21:16:44.374022Z"
    },
    "papermill": {
     "duration": 0.180219,
     "end_time": "2020-07-09T21:16:44.374790",
     "exception": false,
     "start_time": "2020-07-09T21:16:44.194571",
     "status": "completed"
    },
    "tags": []
   },
   "outputs": [
    {
     "name": "stdout",
     "output_type": "stream",
     "text": [
      "Memory footprint of DataFrame: 0.06 MB\n"
     ]
    }
   ],
   "source": [
    "print(\n",
    "    f\"Memory footprint of DataFrame: {(df_hubble.memory_usage().sum() / 1000 / 1000):.2f} MB\"\n",
    ")\n",
    "df_hubble.to_csv(\n",
    "    os.path.join(processed_data_dir, hubble_processed_filename), index=False\n",
    ")"
   ]
  },
  {
   "cell_type": "code",
   "execution_count": 16,
   "metadata": {
    "execution": {
     "iopub.execute_input": "2020-07-09T21:16:44.446810Z",
     "iopub.status.busy": "2020-07-09T21:16:44.446097Z",
     "iopub.status.idle": "2020-07-09T21:16:44.508273Z",
     "shell.execute_reply": "2020-07-09T21:16:44.508873Z"
    },
    "papermill": {
     "duration": 0.099845,
     "end_time": "2020-07-09T21:16:44.509014",
     "exception": false,
     "start_time": "2020-07-09T21:16:44.409169",
     "status": "completed"
    },
    "tags": []
   },
   "outputs": [
    {
     "name": "stdout",
     "output_type": "stream",
     "text": [
      "Memory footprint of DataFrame: 0.05 MB\n"
     ]
    }
   ],
   "source": [
    "df_hubble_loaded = pd.read_csv(\n",
    "    os.path.join(processed_data_dir, hubble_processed_filename)\n",
    ")\n",
    "print(\n",
    "    f\"Memory footprint of DataFrame: {(df_hubble_loaded.memory_usage().sum() / 1000 / 1000):.2f} MB\"\n",
    ")"
   ]
  },
  {
   "cell_type": "markdown",
   "metadata": {
    "papermill": {
     "duration": 0.035601,
     "end_time": "2020-07-09T21:16:44.579412",
     "exception": false,
     "start_time": "2020-07-09T21:16:44.543811",
     "status": "completed"
    },
    "tags": []
   },
   "source": [
    "<a id=\"merge-and-filter-nytimes-data\"></a>\n",
    "\n",
    "## 3. [Merge and filter NYTimes data](#merge-and-filter-nytimes-data)"
   ]
  },
  {
   "cell_type": "markdown",
   "metadata": {
    "papermill": {
     "duration": 0.034356,
     "end_time": "2020-07-09T21:16:44.648468",
     "exception": false,
     "start_time": "2020-07-09T21:16:44.614112",
     "status": "completed"
    },
    "tags": []
   },
   "source": [
    "We'll start by loading the scraped text and listings urls from the New York Times website into separate `DataFrame`s."
   ]
  },
  {
   "cell_type": "code",
   "execution_count": 17,
   "metadata": {
    "execution": {
     "iopub.execute_input": "2020-07-09T21:16:44.722667Z",
     "iopub.status.busy": "2020-07-09T21:16:44.721909Z",
     "iopub.status.idle": "2020-07-09T21:16:48.591878Z",
     "shell.execute_reply": "2020-07-09T21:16:48.591062Z"
    },
    "papermill": {
     "duration": 3.909305,
     "end_time": "2020-07-09T21:16:48.591993",
     "exception": false,
     "start_time": "2020-07-09T21:16:44.682688",
     "status": "completed"
    },
    "tags": []
   },
   "outputs": [],
   "source": [
    "if not cloud_data:\n",
    "    df_nytimes_listings = pd.concat(\n",
    "        [pd.read_csv(os.path.join(data_dir, f)) for f in glob(os.path.join(data_dir, nytimes_filename))]\n",
    "    )\n",
    "    df_nytimes_text = pd.concat([pd.read_csv(os.path.join(data_dir, f)) for f in nytimes_text_filenames])\n",
    "else:\n",
    "    nytimes_dict = {}\n",
    "    for az_blob_name, file_type in nytimes_inputs.items():\n",
    "        blob_client = blob_service_client.get_blob_client(\n",
    "            container=az_storage_container_name, blob=az_blob_name\n",
    "        )\n",
    "        blobstring = blob_client.download_blob().content_as_text()\n",
    "        nytimes_dict[file_type] = pd.read_csv(StringIO(blobstring))\n",
    "    df_nytimes_text = pd.concat([v for k,v in nytimes_dict.items() if \"text\" in k])\n",
    "    df_nytimes_listings = pd.concat([v for k,v in nytimes_dict.items() if \"urls\" in k])"
   ]
  },
  {
   "cell_type": "markdown",
   "metadata": {
    "papermill": {
     "duration": 0.033927,
     "end_time": "2020-07-09T21:16:48.661257",
     "exception": false,
     "start_time": "2020-07-09T21:16:48.627330",
     "status": "completed"
    },
    "tags": []
   },
   "source": [
    "We'll then rename columns"
   ]
  },
  {
   "cell_type": "code",
   "execution_count": 18,
   "metadata": {
    "execution": {
     "iopub.execute_input": "2020-07-09T21:16:48.734549Z",
     "iopub.status.busy": "2020-07-09T21:16:48.733799Z",
     "iopub.status.idle": "2020-07-09T21:16:48.776458Z",
     "shell.execute_reply": "2020-07-09T21:16:48.775817Z"
    },
    "papermill": {
     "duration": 0.081592,
     "end_time": "2020-07-09T21:16:48.776576",
     "exception": false,
     "start_time": "2020-07-09T21:16:48.694984",
     "status": "completed"
    },
    "tags": []
   },
   "outputs": [
    {
     "data": {
      "text/html": [
       "<div>\n",
       "<style scoped>\n",
       "    .dataframe tbody tr th:only-of-type {\n",
       "        vertical-align: middle;\n",
       "    }\n",
       "\n",
       "    .dataframe tbody tr th {\n",
       "        vertical-align: top;\n",
       "    }\n",
       "\n",
       "    .dataframe thead th {\n",
       "        text-align: right;\n",
       "    }\n",
       "</style>\n",
       "<table border=\"1\" class=\"dataframe\">\n",
       "  <thead>\n",
       "    <tr style=\"text-align: right;\">\n",
       "      <th></th>\n",
       "      <th>url</th>\n",
       "      <th>lead_paragraph</th>\n",
       "      <th>abstract</th>\n",
       "      <th>snippet</th>\n",
       "      <th>publication</th>\n",
       "      <th>document_type</th>\n",
       "      <th>news_desk</th>\n",
       "      <th>section_name</th>\n",
       "      <th>type_of_material</th>\n",
       "      <th>subsection_name</th>\n",
       "      <th>word_count</th>\n",
       "      <th>page</th>\n",
       "    </tr>\n",
       "  </thead>\n",
       "  <tbody>\n",
       "    <tr>\n",
       "      <th>0</th>\n",
       "      <td>https://www.nytimes.com/1981/01/06/science/abo...</td>\n",
       "      <td>SCHOOL closings have turned into a nationwide ...</td>\n",
       "      <td>SCHOOL closings have turned into a nationwid...</td>\n",
       "      <td>NaN</td>\n",
       "      <td>The New York Times</td>\n",
       "      <td>article</td>\n",
       "      <td>Science Desk</td>\n",
       "      <td>Science</td>\n",
       "      <td>News</td>\n",
       "      <td>NaN</td>\n",
       "      <td>816</td>\n",
       "      <td>1</td>\n",
       "    </tr>\n",
       "    <tr>\n",
       "      <th>1</th>\n",
       "      <td>https://www.nytimes.com/1981/01/13/science/sci...</td>\n",
       "      <td>Flight controllers have lost all but minimal c...</td>\n",
       "      <td>Flight controllers have lost all but minimal...</td>\n",
       "      <td>NaN</td>\n",
       "      <td>The New York Times</td>\n",
       "      <td>article</td>\n",
       "      <td>Science Desk</td>\n",
       "      <td>Science</td>\n",
       "      <td>News</td>\n",
       "      <td>NaN</td>\n",
       "      <td>105</td>\n",
       "      <td>1</td>\n",
       "    </tr>\n",
       "  </tbody>\n",
       "</table>\n",
       "</div>"
      ],
      "text/plain": [
       "                                                 url                                     lead_paragraph                                           abstract snippet         publication document_type     news_desk section_name type_of_material subsection_name  word_count  page\n",
       "0  https://www.nytimes.com/1981/01/06/science/abo...  SCHOOL closings have turned into a nationwide ...    SCHOOL closings have turned into a nationwid...     NaN  The New York Times       article  Science Desk      Science             News             NaN         816     1\n",
       "1  https://www.nytimes.com/1981/01/13/science/sci...  Flight controllers have lost all but minimal c...    Flight controllers have lost all but minimal...     NaN  The New York Times       article  Science Desk      Science             News             NaN         105     1"
      ]
     },
     "metadata": {},
     "output_type": "display_data"
    },
    {
     "data": {
      "text/html": [
       "<div>\n",
       "<style scoped>\n",
       "    .dataframe tbody tr th:only-of-type {\n",
       "        vertical-align: middle;\n",
       "    }\n",
       "\n",
       "    .dataframe tbody tr th {\n",
       "        vertical-align: top;\n",
       "    }\n",
       "\n",
       "    .dataframe thead th {\n",
       "        text-align: right;\n",
       "    }\n",
       "</style>\n",
       "<table border=\"1\" class=\"dataframe\">\n",
       "  <thead>\n",
       "    <tr style=\"text-align: right;\">\n",
       "      <th></th>\n",
       "      <th>url</th>\n",
       "      <th>text</th>\n",
       "      <th>publication_date</th>\n",
       "      <th>publication</th>\n",
       "      <th>year</th>\n",
       "      <th>month</th>\n",
       "      <th>day</th>\n",
       "      <th>dayofweek</th>\n",
       "      <th>dayofyear</th>\n",
       "      <th>weekofyear</th>\n",
       "      <th>quarter</th>\n",
       "    </tr>\n",
       "  </thead>\n",
       "  <tbody>\n",
       "    <tr>\n",
       "      <th>0</th>\n",
       "      <td>https://www.nytimes.com/1981/01/06/science/abo...</td>\n",
       "      <td>SCHOOL closings have turned into a nationwide ...</td>\n",
       "      <td>1981-01-06 05:00:00+00:00</td>\n",
       "      <td>The New York Times</td>\n",
       "      <td>1981</td>\n",
       "      <td>1</td>\n",
       "      <td>6</td>\n",
       "      <td>1</td>\n",
       "      <td>6</td>\n",
       "      <td>2</td>\n",
       "      <td>1</td>\n",
       "    </tr>\n",
       "    <tr>\n",
       "      <th>1</th>\n",
       "      <td>https://www.nytimes.com/1981/01/13/science/sci...</td>\n",
       "      <td>Flight controllers have lost all but minimal c...</td>\n",
       "      <td>1981-01-13 05:00:00+00:00</td>\n",
       "      <td>The New York Times</td>\n",
       "      <td>1981</td>\n",
       "      <td>1</td>\n",
       "      <td>13</td>\n",
       "      <td>1</td>\n",
       "      <td>13</td>\n",
       "      <td>3</td>\n",
       "      <td>1</td>\n",
       "    </tr>\n",
       "  </tbody>\n",
       "</table>\n",
       "</div>"
      ],
      "text/plain": [
       "                                                 url                                               text           publication_date         publication  year  month  day  dayofweek  dayofyear  weekofyear  quarter\n",
       "0  https://www.nytimes.com/1981/01/06/science/abo...  SCHOOL closings have turned into a nationwide ...  1981-01-06 05:00:00+00:00  The New York Times  1981      1    6          1          6           2        1\n",
       "1  https://www.nytimes.com/1981/01/13/science/sci...  Flight controllers have lost all but minimal c...  1981-01-13 05:00:00+00:00  The New York Times  1981      1   13          1         13           3        1"
      ]
     },
     "metadata": {},
     "output_type": "display_data"
    }
   ],
   "source": [
    "df_nytimes_listings.rename(\n",
    "    columns={\"web_url\": \"url\", \"source\": \"publication\"}, inplace=True\n",
    ")\n",
    "df_nytimes_text[\"publication\"] = df_nytimes_text[\"publication\"].str.replace(\n",
    "    \"nytimes\", \"The New York Times\"\n",
    ")\n",
    "display(df_nytimes_listings.head(2))\n",
    "display(df_nytimes_text.head(2))"
   ]
  },
  {
   "cell_type": "markdown",
   "metadata": {
    "papermill": {
     "duration": 0.036185,
     "end_time": "2020-07-09T21:16:48.848740",
     "exception": false,
     "start_time": "2020-07-09T21:16:48.812555",
     "status": "completed"
    },
    "tags": []
   },
   "source": [
    "Next, we'll set an index for the `DataFrame`s so that we can join each  `DataFrame` on its index"
   ]
  },
  {
   "cell_type": "code",
   "execution_count": 19,
   "metadata": {
    "execution": {
     "iopub.execute_input": "2020-07-09T21:16:48.923747Z",
     "iopub.status.busy": "2020-07-09T21:16:48.923042Z",
     "iopub.status.idle": "2020-07-09T21:16:48.976977Z",
     "shell.execute_reply": "2020-07-09T21:16:48.977489Z"
    },
    "papermill": {
     "duration": 0.093179,
     "end_time": "2020-07-09T21:16:48.977621",
     "exception": false,
     "start_time": "2020-07-09T21:16:48.884442",
     "status": "completed"
    },
    "tags": []
   },
   "outputs": [
    {
     "name": "stdout",
     "output_type": "stream",
     "text": [
      "(4018, 9)\n"
     ]
    },
    {
     "data": {
      "text/html": [
       "<div>\n",
       "<style scoped>\n",
       "    .dataframe tbody tr th:only-of-type {\n",
       "        vertical-align: middle;\n",
       "    }\n",
       "\n",
       "    .dataframe tbody tr th {\n",
       "        vertical-align: top;\n",
       "    }\n",
       "\n",
       "    .dataframe thead th {\n",
       "        text-align: right;\n",
       "    }\n",
       "</style>\n",
       "<table border=\"1\" class=\"dataframe\">\n",
       "  <thead>\n",
       "    <tr style=\"text-align: right;\">\n",
       "      <th></th>\n",
       "      <th></th>\n",
       "      <th>text</th>\n",
       "      <th>publication_date</th>\n",
       "      <th>year</th>\n",
       "      <th>month</th>\n",
       "      <th>day</th>\n",
       "      <th>dayofweek</th>\n",
       "      <th>dayofyear</th>\n",
       "      <th>weekofyear</th>\n",
       "      <th>quarter</th>\n",
       "    </tr>\n",
       "    <tr>\n",
       "      <th>url</th>\n",
       "      <th>publication</th>\n",
       "      <th></th>\n",
       "      <th></th>\n",
       "      <th></th>\n",
       "      <th></th>\n",
       "      <th></th>\n",
       "      <th></th>\n",
       "      <th></th>\n",
       "      <th></th>\n",
       "      <th></th>\n",
       "    </tr>\n",
       "  </thead>\n",
       "  <tbody>\n",
       "    <tr>\n",
       "      <th>https://www.nytimes.com/1981/01/06/science/about-education-old-schools-are-a-new-resource.html</th>\n",
       "      <th>The New York Times</th>\n",
       "      <td>SCHOOL closings have turned into a nationwide ...</td>\n",
       "      <td>1981-01-06 05:00:00+00:00</td>\n",
       "      <td>1981</td>\n",
       "      <td>1</td>\n",
       "      <td>6</td>\n",
       "      <td>1</td>\n",
       "      <td>6</td>\n",
       "      <td>2</td>\n",
       "      <td>1</td>\n",
       "    </tr>\n",
       "    <tr>\n",
       "      <th>https://www.nytimes.com/1981/01/13/science/science-watch-spacecraft-controls-fail.html</th>\n",
       "      <th>The New York Times</th>\n",
       "      <td>Flight controllers have lost all but minimal c...</td>\n",
       "      <td>1981-01-13 05:00:00+00:00</td>\n",
       "      <td>1981</td>\n",
       "      <td>1</td>\n",
       "      <td>13</td>\n",
       "      <td>1</td>\n",
       "      <td>13</td>\n",
       "      <td>3</td>\n",
       "      <td>1</td>\n",
       "    </tr>\n",
       "  </tbody>\n",
       "</table>\n",
       "</div>"
      ],
      "text/plain": [
       "                                                                                                                    text           publication_date  year  month  day  dayofweek  dayofyear  weekofyear  quarter\n",
       "url                                                publication                                                                                                                                                  \n",
       "https://www.nytimes.com/1981/01/06/science/abou... The New York Times  SCHOOL closings have turned into a nationwide ...  1981-01-06 05:00:00+00:00  1981      1    6          1          6           2        1\n",
       "https://www.nytimes.com/1981/01/13/science/scie... The New York Times  Flight controllers have lost all but minimal c...  1981-01-13 05:00:00+00:00  1981      1   13          1         13           3        1"
      ]
     },
     "metadata": {},
     "output_type": "display_data"
    },
    {
     "name": "stdout",
     "output_type": "stream",
     "text": [
      "(4036, 10)\n"
     ]
    },
    {
     "data": {
      "text/html": [
       "<div>\n",
       "<style scoped>\n",
       "    .dataframe tbody tr th:only-of-type {\n",
       "        vertical-align: middle;\n",
       "    }\n",
       "\n",
       "    .dataframe tbody tr th {\n",
       "        vertical-align: top;\n",
       "    }\n",
       "\n",
       "    .dataframe thead th {\n",
       "        text-align: right;\n",
       "    }\n",
       "</style>\n",
       "<table border=\"1\" class=\"dataframe\">\n",
       "  <thead>\n",
       "    <tr style=\"text-align: right;\">\n",
       "      <th></th>\n",
       "      <th></th>\n",
       "      <th>lead_paragraph</th>\n",
       "      <th>abstract</th>\n",
       "      <th>snippet</th>\n",
       "      <th>document_type</th>\n",
       "      <th>news_desk</th>\n",
       "      <th>section_name</th>\n",
       "      <th>type_of_material</th>\n",
       "      <th>subsection_name</th>\n",
       "      <th>word_count</th>\n",
       "      <th>page</th>\n",
       "    </tr>\n",
       "    <tr>\n",
       "      <th>url</th>\n",
       "      <th>publication</th>\n",
       "      <th></th>\n",
       "      <th></th>\n",
       "      <th></th>\n",
       "      <th></th>\n",
       "      <th></th>\n",
       "      <th></th>\n",
       "      <th></th>\n",
       "      <th></th>\n",
       "      <th></th>\n",
       "      <th></th>\n",
       "    </tr>\n",
       "  </thead>\n",
       "  <tbody>\n",
       "    <tr>\n",
       "      <th>https://www.nytimes.com/1981/01/06/science/about-education-old-schools-are-a-new-resource.html</th>\n",
       "      <th>The New York Times</th>\n",
       "      <td>SCHOOL closings have turned into a nationwide ...</td>\n",
       "      <td>SCHOOL closings have turned into a nationwid...</td>\n",
       "      <td>NaN</td>\n",
       "      <td>article</td>\n",
       "      <td>Science Desk</td>\n",
       "      <td>Science</td>\n",
       "      <td>News</td>\n",
       "      <td>NaN</td>\n",
       "      <td>816</td>\n",
       "      <td>1</td>\n",
       "    </tr>\n",
       "    <tr>\n",
       "      <th>https://www.nytimes.com/1981/01/13/science/science-watch-spacecraft-controls-fail.html</th>\n",
       "      <th>The New York Times</th>\n",
       "      <td>Flight controllers have lost all but minimal c...</td>\n",
       "      <td>Flight controllers have lost all but minimal...</td>\n",
       "      <td>NaN</td>\n",
       "      <td>article</td>\n",
       "      <td>Science Desk</td>\n",
       "      <td>Science</td>\n",
       "      <td>News</td>\n",
       "      <td>NaN</td>\n",
       "      <td>105</td>\n",
       "      <td>1</td>\n",
       "    </tr>\n",
       "  </tbody>\n",
       "</table>\n",
       "</div>"
      ],
      "text/plain": [
       "                                                                                                          lead_paragraph                                           abstract snippet document_type     news_desk section_name type_of_material subsection_name  word_count  page\n",
       "url                                                publication                                                                                                                                                                                                                 \n",
       "https://www.nytimes.com/1981/01/06/science/abou... The New York Times  SCHOOL closings have turned into a nationwide ...    SCHOOL closings have turned into a nationwid...     NaN       article  Science Desk      Science             News             NaN         816     1\n",
       "https://www.nytimes.com/1981/01/13/science/scie... The New York Times  Flight controllers have lost all but minimal c...    Flight controllers have lost all but minimal...     NaN       article  Science Desk      Science             News             NaN         105     1"
      ]
     },
     "metadata": {},
     "output_type": "display_data"
    }
   ],
   "source": [
    "df_nytimes_text = df_nytimes_text.set_index([\"url\", \"publication\"])\n",
    "df_nytimes_listings = df_nytimes_listings.set_index([\"url\", \"publication\"])\n",
    "print(df_nytimes_text.shape)\n",
    "display(df_nytimes_text.head(2))\n",
    "print(df_nytimes_listings.shape)\n",
    "display(df_nytimes_listings.head(2))"
   ]
  },
  {
   "cell_type": "markdown",
   "metadata": {
    "papermill": {
     "duration": 0.037568,
     "end_time": "2020-07-09T21:16:49.051976",
     "exception": false,
     "start_time": "2020-07-09T21:16:49.014408",
     "status": "completed"
    },
    "tags": []
   },
   "source": [
    "Next, we'll merge the `DataFrame`s on the index and reset the index so that these index columns appear in the merged `DataFrame`"
   ]
  },
  {
   "cell_type": "code",
   "execution_count": 20,
   "metadata": {
    "execution": {
     "iopub.execute_input": "2020-07-09T21:16:49.131401Z",
     "iopub.status.busy": "2020-07-09T21:16:49.130693Z",
     "iopub.status.idle": "2020-07-09T21:16:49.183656Z",
     "shell.execute_reply": "2020-07-09T21:16:49.184206Z"
    },
    "papermill": {
     "duration": 0.094414,
     "end_time": "2020-07-09T21:16:49.184336",
     "exception": false,
     "start_time": "2020-07-09T21:16:49.089922",
     "status": "completed"
    },
    "tags": []
   },
   "outputs": [
    {
     "name": "stdout",
     "output_type": "stream",
     "text": [
      "(4036, 21)\n"
     ]
    },
    {
     "data": {
      "text/html": [
       "<div>\n",
       "<style scoped>\n",
       "    .dataframe tbody tr th:only-of-type {\n",
       "        vertical-align: middle;\n",
       "    }\n",
       "\n",
       "    .dataframe tbody tr th {\n",
       "        vertical-align: top;\n",
       "    }\n",
       "\n",
       "    .dataframe thead th {\n",
       "        text-align: right;\n",
       "    }\n",
       "</style>\n",
       "<table border=\"1\" class=\"dataframe\">\n",
       "  <thead>\n",
       "    <tr style=\"text-align: right;\">\n",
       "      <th></th>\n",
       "      <th>url</th>\n",
       "      <th>publication</th>\n",
       "      <th>text</th>\n",
       "      <th>publication_date</th>\n",
       "      <th>year</th>\n",
       "      <th>month</th>\n",
       "      <th>day</th>\n",
       "      <th>dayofweek</th>\n",
       "      <th>dayofyear</th>\n",
       "      <th>weekofyear</th>\n",
       "      <th>quarter</th>\n",
       "      <th>lead_paragraph</th>\n",
       "      <th>abstract</th>\n",
       "      <th>snippet</th>\n",
       "      <th>document_type</th>\n",
       "      <th>news_desk</th>\n",
       "      <th>section_name</th>\n",
       "      <th>type_of_material</th>\n",
       "      <th>subsection_name</th>\n",
       "      <th>word_count</th>\n",
       "      <th>page</th>\n",
       "    </tr>\n",
       "  </thead>\n",
       "  <tbody>\n",
       "    <tr>\n",
       "      <th>0</th>\n",
       "      <td>https://www.nytimes.com/1981/01/06/science/abo...</td>\n",
       "      <td>The New York Times</td>\n",
       "      <td>SCHOOL closings have turned into a nationwide ...</td>\n",
       "      <td>1981-01-06 05:00:00+00:00</td>\n",
       "      <td>1981</td>\n",
       "      <td>1</td>\n",
       "      <td>6</td>\n",
       "      <td>1</td>\n",
       "      <td>6</td>\n",
       "      <td>2</td>\n",
       "      <td>1</td>\n",
       "      <td>SCHOOL closings have turned into a nationwide ...</td>\n",
       "      <td>SCHOOL closings have turned into a nationwid...</td>\n",
       "      <td>NaN</td>\n",
       "      <td>article</td>\n",
       "      <td>Science Desk</td>\n",
       "      <td>Science</td>\n",
       "      <td>News</td>\n",
       "      <td>NaN</td>\n",
       "      <td>816</td>\n",
       "      <td>1</td>\n",
       "    </tr>\n",
       "    <tr>\n",
       "      <th>1</th>\n",
       "      <td>https://www.nytimes.com/1981/01/13/science/sci...</td>\n",
       "      <td>The New York Times</td>\n",
       "      <td>Flight controllers have lost all but minimal c...</td>\n",
       "      <td>1981-01-13 05:00:00+00:00</td>\n",
       "      <td>1981</td>\n",
       "      <td>1</td>\n",
       "      <td>13</td>\n",
       "      <td>1</td>\n",
       "      <td>13</td>\n",
       "      <td>3</td>\n",
       "      <td>1</td>\n",
       "      <td>Flight controllers have lost all but minimal c...</td>\n",
       "      <td>Flight controllers have lost all but minimal...</td>\n",
       "      <td>NaN</td>\n",
       "      <td>article</td>\n",
       "      <td>Science Desk</td>\n",
       "      <td>Science</td>\n",
       "      <td>News</td>\n",
       "      <td>NaN</td>\n",
       "      <td>105</td>\n",
       "      <td>1</td>\n",
       "    </tr>\n",
       "  </tbody>\n",
       "</table>\n",
       "</div>"
      ],
      "text/plain": [
       "                                                 url         publication                                               text           publication_date  year  month  day  dayofweek  dayofyear  weekofyear  quarter                                     lead_paragraph                                           abstract snippet document_type     news_desk section_name type_of_material subsection_name  word_count  page\n",
       "0  https://www.nytimes.com/1981/01/06/science/abo...  The New York Times  SCHOOL closings have turned into a nationwide ...  1981-01-06 05:00:00+00:00  1981      1    6          1          6           2        1  SCHOOL closings have turned into a nationwide ...    SCHOOL closings have turned into a nationwid...     NaN       article  Science Desk      Science             News             NaN         816     1\n",
       "1  https://www.nytimes.com/1981/01/13/science/sci...  The New York Times  Flight controllers have lost all but minimal c...  1981-01-13 05:00:00+00:00  1981      1   13          1         13           3        1  Flight controllers have lost all but minimal c...    Flight controllers have lost all but minimal...     NaN       article  Science Desk      Science             News             NaN         105     1"
      ]
     },
     "metadata": {},
     "output_type": "display_data"
    }
   ],
   "source": [
    "df_nytimes = df_nytimes_text.merge(\n",
    "    df_nytimes_listings, left_index=True, right_index=True, how=\"inner\",\n",
    ").reset_index(drop=False)\n",
    "print(df_nytimes.shape)\n",
    "display(df_nytimes.head(2))"
   ]
  },
  {
   "cell_type": "markdown",
   "metadata": {
    "papermill": {
     "duration": 0.038917,
     "end_time": "2020-07-09T21:16:49.260920",
     "exception": false,
     "start_time": "2020-07-09T21:16:49.222003",
     "status": "completed"
    },
    "tags": []
   },
   "source": [
    "Next, we'll append `datetime` attributes as columns to the merged `DataFrame`"
   ]
  },
  {
   "cell_type": "code",
   "execution_count": 21,
   "metadata": {
    "execution": {
     "iopub.execute_input": "2020-07-09T21:16:49.344040Z",
     "iopub.status.busy": "2020-07-09T21:16:49.343402Z",
     "iopub.status.idle": "2020-07-09T21:16:49.359047Z",
     "shell.execute_reply": "2020-07-09T21:16:49.359664Z"
    },
    "papermill": {
     "duration": 0.058862,
     "end_time": "2020-07-09T21:16:49.359817",
     "exception": false,
     "start_time": "2020-07-09T21:16:49.300955",
     "status": "completed"
    },
    "tags": []
   },
   "outputs": [],
   "source": [
    "df_nytimes_text[\"decade\"] = df_nytimes_text[\"year\"] // 10 * 10"
   ]
  },
  {
   "cell_type": "markdown",
   "metadata": {
    "papermill": {
     "duration": 0.038037,
     "end_time": "2020-07-09T21:16:49.436559",
     "exception": false,
     "start_time": "2020-07-09T21:16:49.398522",
     "status": "completed"
    },
    "tags": []
   },
   "source": [
    "Next, we'll filter out news articles of less than 500 characters and exclude unwanted articles (i.e. we'll remove articles from the subsection `Environment`)"
   ]
  },
  {
   "cell_type": "code",
   "execution_count": 22,
   "metadata": {
    "execution": {
     "iopub.execute_input": "2020-07-09T21:16:49.515884Z",
     "iopub.status.busy": "2020-07-09T21:16:49.515143Z",
     "iopub.status.idle": "2020-07-09T21:16:49.539406Z",
     "shell.execute_reply": "2020-07-09T21:16:49.540067Z"
    },
    "papermill": {
     "duration": 0.065691,
     "end_time": "2020-07-09T21:16:49.540220",
     "exception": false,
     "start_time": "2020-07-09T21:16:49.474529",
     "status": "completed"
    },
    "tags": []
   },
   "outputs": [],
   "source": [
    "df_nytimes = df_nytimes[\n",
    "    (df_nytimes[\"type_of_material\"] == \"News\")\n",
    "    & (df_nytimes[\"subsection_name\"] != \"Environment\")\n",
    "    & (df_nytimes[\"text\"].str.len() > 500)\n",
    "]"
   ]
  },
  {
   "cell_type": "markdown",
   "metadata": {
    "papermill": {
     "duration": 0.039089,
     "end_time": "2020-07-09T21:16:49.617218",
     "exception": false,
     "start_time": "2020-07-09T21:16:49.578129",
     "status": "completed"
    },
    "tags": []
   },
   "source": [
    "Next, we'll drop unwanted columns from the merged `DataFrame`"
   ]
  },
  {
   "cell_type": "code",
   "execution_count": 23,
   "metadata": {
    "execution": {
     "iopub.execute_input": "2020-07-09T21:16:49.697972Z",
     "iopub.status.busy": "2020-07-09T21:16:49.696872Z",
     "iopub.status.idle": "2020-07-09T21:16:49.726405Z",
     "shell.execute_reply": "2020-07-09T21:16:49.726899Z"
    },
    "papermill": {
     "duration": 0.07175,
     "end_time": "2020-07-09T21:16:49.727026",
     "exception": false,
     "start_time": "2020-07-09T21:16:49.655276",
     "status": "completed"
    },
    "tags": []
   },
   "outputs": [
    {
     "name": "stdout",
     "output_type": "stream",
     "text": [
      "(3483, 8)\n"
     ]
    },
    {
     "data": {
      "text/html": [
       "<div>\n",
       "<style scoped>\n",
       "    .dataframe tbody tr th:only-of-type {\n",
       "        vertical-align: middle;\n",
       "    }\n",
       "\n",
       "    .dataframe tbody tr th {\n",
       "        vertical-align: top;\n",
       "    }\n",
       "\n",
       "    .dataframe thead th {\n",
       "        text-align: right;\n",
       "    }\n",
       "</style>\n",
       "<table border=\"1\" class=\"dataframe\">\n",
       "  <thead>\n",
       "    <tr style=\"text-align: right;\">\n",
       "      <th></th>\n",
       "      <th>publication</th>\n",
       "      <th>text</th>\n",
       "      <th>year</th>\n",
       "      <th>month</th>\n",
       "      <th>abstract</th>\n",
       "      <th>snippet</th>\n",
       "      <th>subsection_name</th>\n",
       "      <th>word_count</th>\n",
       "    </tr>\n",
       "  </thead>\n",
       "  <tbody>\n",
       "    <tr>\n",
       "      <th>0</th>\n",
       "      <td>The New York Times</td>\n",
       "      <td>SCHOOL closings have turned into a nationwide ...</td>\n",
       "      <td>1981</td>\n",
       "      <td>1</td>\n",
       "      <td>SCHOOL closings have turned into a nationwid...</td>\n",
       "      <td>NaN</td>\n",
       "      <td>NaN</td>\n",
       "      <td>816</td>\n",
       "    </tr>\n",
       "    <tr>\n",
       "      <th>1</th>\n",
       "      <td>The New York Times</td>\n",
       "      <td>Flight controllers have lost all but minimal c...</td>\n",
       "      <td>1981</td>\n",
       "      <td>1</td>\n",
       "      <td>Flight controllers have lost all but minimal...</td>\n",
       "      <td>NaN</td>\n",
       "      <td>NaN</td>\n",
       "      <td>105</td>\n",
       "    </tr>\n",
       "  </tbody>\n",
       "</table>\n",
       "</div>"
      ],
      "text/plain": [
       "          publication                                               text  year  month                                           abstract snippet subsection_name  word_count\n",
       "0  The New York Times  SCHOOL closings have turned into a nationwide ...  1981      1    SCHOOL closings have turned into a nationwid...     NaN             NaN         816\n",
       "1  The New York Times  Flight controllers have lost all but minimal c...  1981      1    Flight controllers have lost all but minimal...     NaN             NaN         105"
      ]
     },
     "execution_count": 23,
     "metadata": {},
     "output_type": "execute_result"
    }
   ],
   "source": [
    "unwanted_nytimes_cols = [\n",
    "    \"url\",\n",
    "    \"section_name\",\n",
    "    \"page\",\n",
    "    \"news_desk\",\n",
    "    \"document_type\",\n",
    "    \"type_of_material\",\n",
    "    \"publication_date\",\n",
    "    \"day\",\n",
    "    \"dayofweek\",\n",
    "    \"dayofyear\",\n",
    "    \"weekofyear\",\n",
    "    \"quarter\",\n",
    "    \"lead_paragraph\",\n",
    "]\n",
    "df_nytimes.drop(unwanted_nytimes_cols, axis=1, inplace=True)\n",
    "print(df_nytimes.shape)\n",
    "df_nytimes.head(2)"
   ]
  },
  {
   "cell_type": "markdown",
   "metadata": {
    "papermill": {
     "duration": 0.0394,
     "end_time": "2020-07-09T21:16:49.804846",
     "exception": false,
     "start_time": "2020-07-09T21:16:49.765446",
     "status": "completed"
    },
    "tags": []
   },
   "source": [
    "Finally, we'll export the merged `DataFrame` to a `.csv` file"
   ]
  },
  {
   "cell_type": "code",
   "execution_count": 24,
   "metadata": {
    "execution": {
     "iopub.execute_input": "2020-07-09T21:16:49.886242Z",
     "iopub.status.busy": "2020-07-09T21:16:49.885532Z",
     "iopub.status.idle": "2020-07-09T21:16:50.445970Z",
     "shell.execute_reply": "2020-07-09T21:16:50.445291Z"
    },
    "papermill": {
     "duration": 0.602338,
     "end_time": "2020-07-09T21:16:50.446106",
     "exception": false,
     "start_time": "2020-07-09T21:16:49.843768",
     "status": "completed"
    },
    "tags": []
   },
   "outputs": [
    {
     "name": "stdout",
     "output_type": "stream",
     "text": [
      "Memory footprint of DataFrame: 0.25 MB\n"
     ]
    }
   ],
   "source": [
    "print(\n",
    "    f\"Memory footprint of DataFrame: {(df_nytimes.memory_usage().sum() / 1000 / 1000):.2f} MB\"\n",
    ")\n",
    "df_nytimes.to_csv(\n",
    "    os.path.join(processed_data_dir, nytimes_processed_filename), index=False\n",
    ")"
   ]
  },
  {
   "cell_type": "code",
   "execution_count": 25,
   "metadata": {
    "execution": {
     "iopub.execute_input": "2020-07-09T21:16:50.531039Z",
     "iopub.status.busy": "2020-07-09T21:16:50.530392Z",
     "iopub.status.idle": "2020-07-09T21:16:50.743496Z",
     "shell.execute_reply": "2020-07-09T21:16:50.744037Z"
    },
    "papermill": {
     "duration": 0.256863,
     "end_time": "2020-07-09T21:16:50.744175",
     "exception": false,
     "start_time": "2020-07-09T21:16:50.487312",
     "status": "completed"
    },
    "tags": []
   },
   "outputs": [
    {
     "name": "stdout",
     "output_type": "stream",
     "text": [
      "Memory footprint of DataFrame: 0.22 MB\n"
     ]
    }
   ],
   "source": [
    "df_nytimes_loaded = pd.read_csv(\n",
    "    os.path.join(processed_data_dir, nytimes_processed_filename)\n",
    ")\n",
    "print(\n",
    "    f\"Memory footprint of DataFrame: {(df_nytimes_loaded.memory_usage().sum() / 1000 / 1000):.2f} MB\"\n",
    ")"
   ]
  },
  {
   "cell_type": "markdown",
   "metadata": {
    "papermill": {
     "duration": 0.039476,
     "end_time": "2020-07-09T21:16:50.823058",
     "exception": false,
     "start_time": "2020-07-09T21:16:50.783582",
     "status": "completed"
    },
    "tags": []
   },
   "source": [
    "<a id=\"merge-and-filter-guardian-data\"></a>\n",
    "\n",
    "## 4. [Merge and filter Guardian data](#merge-and-filter-guardian-data)"
   ]
  },
  {
   "cell_type": "markdown",
   "metadata": {
    "papermill": {
     "duration": 0.038222,
     "end_time": "2020-07-09T21:16:50.900806",
     "exception": false,
     "start_time": "2020-07-09T21:16:50.862584",
     "status": "completed"
    },
    "tags": []
   },
   "source": [
    "We'll start by loading the scraped text and listings urls from the Guardian website into separate `DataFrame`s."
   ]
  },
  {
   "cell_type": "code",
   "execution_count": 26,
   "metadata": {
    "execution": {
     "iopub.execute_input": "2020-07-09T21:16:50.984701Z",
     "iopub.status.busy": "2020-07-09T21:16:50.984044Z",
     "iopub.status.idle": "2020-07-09T21:16:53.729561Z",
     "shell.execute_reply": "2020-07-09T21:16:53.728776Z"
    },
    "papermill": {
     "duration": 2.789965,
     "end_time": "2020-07-09T21:16:53.729674",
     "exception": false,
     "start_time": "2020-07-09T21:16:50.939709",
     "status": "completed"
    },
    "tags": []
   },
   "outputs": [],
   "source": [
    "if not cloud_data:\n",
    "    df_guardian_listings = pd.read_csv(os.path.join(data_dir, guardian_filename))\n",
    "    df_guardian_text = pd.concat(\n",
    "        [pd.read_csv(os.path.join(data_dir, f)) for f in guardian_text_filenames]\n",
    "    )\n",
    "else:\n",
    "    guardian_dict = {}\n",
    "    for az_blob_name, file_type in guardian_inputs.items():\n",
    "        blob_client = blob_service_client.get_blob_client(\n",
    "            container=az_storage_container_name, blob=az_blob_name\n",
    "        )\n",
    "        blobstring = blob_client.download_blob().content_as_text()\n",
    "        guardian_dict[file_type] = pd.read_csv(StringIO(blobstring))\n",
    "    df_guardian_text = pd.concat([v for k,v in guardian_dict.items() if \"text\" in k])\n",
    "    df_guardian_listings = pd.concat([v for k,v in guardian_dict.items() if k == \"urls\"])"
   ]
  },
  {
   "cell_type": "markdown",
   "metadata": {
    "papermill": {
     "duration": 0.040216,
     "end_time": "2020-07-09T21:16:53.809528",
     "exception": false,
     "start_time": "2020-07-09T21:16:53.769312",
     "status": "completed"
    },
    "tags": []
   },
   "source": [
    "We'll then rename columns"
   ]
  },
  {
   "cell_type": "code",
   "execution_count": 27,
   "metadata": {
    "execution": {
     "iopub.execute_input": "2020-07-09T21:16:53.892420Z",
     "iopub.status.busy": "2020-07-09T21:16:53.891373Z",
     "iopub.status.idle": "2020-07-09T21:16:53.933426Z",
     "shell.execute_reply": "2020-07-09T21:16:53.933911Z"
    },
    "papermill": {
     "duration": 0.085297,
     "end_time": "2020-07-09T21:16:53.934039",
     "exception": false,
     "start_time": "2020-07-09T21:16:53.848742",
     "status": "completed"
    },
    "tags": []
   },
   "outputs": [
    {
     "data": {
      "text/html": [
       "<div>\n",
       "<style scoped>\n",
       "    .dataframe tbody tr th:only-of-type {\n",
       "        vertical-align: middle;\n",
       "    }\n",
       "\n",
       "    .dataframe tbody tr th {\n",
       "        vertical-align: top;\n",
       "    }\n",
       "\n",
       "    .dataframe thead th {\n",
       "        text-align: right;\n",
       "    }\n",
       "</style>\n",
       "<table border=\"1\" class=\"dataframe\">\n",
       "  <thead>\n",
       "    <tr style=\"text-align: right;\">\n",
       "      <th></th>\n",
       "      <th>url</th>\n",
       "      <th>id</th>\n",
       "      <th>publication_date</th>\n",
       "      <th>apiUrl</th>\n",
       "      <th>webTitle</th>\n",
       "      <th>document_type</th>\n",
       "      <th>sectionId</th>\n",
       "      <th>sectionName</th>\n",
       "      <th>type</th>\n",
       "      <th>isHosted</th>\n",
       "      <th>pillarId</th>\n",
       "      <th>pillarName</th>\n",
       "      <th>page</th>\n",
       "    </tr>\n",
       "  </thead>\n",
       "  <tbody>\n",
       "    <tr>\n",
       "      <th>0</th>\n",
       "      <td>https://www.theguardian.com/science/1957/nov/0...</td>\n",
       "      <td>science/1957/nov/04/spaceexploration.archive</td>\n",
       "      <td>1957-11-04T15:38:49Z</td>\n",
       "      <td>https://content.guardianapis.com/science/1957/...</td>\n",
       "      <td>Space Travel Comes True</td>\n",
       "      <td>NaN</td>\n",
       "      <td>science</td>\n",
       "      <td>Science</td>\n",
       "      <td>article</td>\n",
       "      <td>False</td>\n",
       "      <td>pillar/news</td>\n",
       "      <td>News</td>\n",
       "      <td>1</td>\n",
       "    </tr>\n",
       "    <tr>\n",
       "      <th>1</th>\n",
       "      <td>https://www.theguardian.com/science/1962/feb/2...</td>\n",
       "      <td>science/1962/feb/21/spaceexploration.archive</td>\n",
       "      <td>1962-02-21T12:50:18Z</td>\n",
       "      <td>https://content.guardianapis.com/science/1962/...</td>\n",
       "      <td>Home and dry after three orbits</td>\n",
       "      <td>NaN</td>\n",
       "      <td>science</td>\n",
       "      <td>Science</td>\n",
       "      <td>article</td>\n",
       "      <td>False</td>\n",
       "      <td>pillar/news</td>\n",
       "      <td>News</td>\n",
       "      <td>1</td>\n",
       "    </tr>\n",
       "  </tbody>\n",
       "</table>\n",
       "</div>"
      ],
      "text/plain": [
       "                                                 url                                            id      publication_date                                             apiUrl                         webTitle  document_type sectionId sectionName     type  isHosted     pillarId pillarName  page\n",
       "0  https://www.theguardian.com/science/1957/nov/0...  science/1957/nov/04/spaceexploration.archive  1957-11-04T15:38:49Z  https://content.guardianapis.com/science/1957/...          Space Travel Comes True            NaN   science     Science  article     False  pillar/news       News     1\n",
       "1  https://www.theguardian.com/science/1962/feb/2...  science/1962/feb/21/spaceexploration.archive  1962-02-21T12:50:18Z  https://content.guardianapis.com/science/1962/...  Home and dry after three orbits            NaN   science     Science  article     False  pillar/news       News     1"
      ]
     },
     "metadata": {},
     "output_type": "display_data"
    },
    {
     "data": {
      "text/html": [
       "<div>\n",
       "<style scoped>\n",
       "    .dataframe tbody tr th:only-of-type {\n",
       "        vertical-align: middle;\n",
       "    }\n",
       "\n",
       "    .dataframe tbody tr th {\n",
       "        vertical-align: top;\n",
       "    }\n",
       "\n",
       "    .dataframe thead th {\n",
       "        text-align: right;\n",
       "    }\n",
       "</style>\n",
       "<table border=\"1\" class=\"dataframe\">\n",
       "  <thead>\n",
       "    <tr style=\"text-align: right;\">\n",
       "      <th></th>\n",
       "      <th>url</th>\n",
       "      <th>text</th>\n",
       "      <th>publication</th>\n",
       "      <th>year</th>\n",
       "      <th>month</th>\n",
       "      <th>day</th>\n",
       "      <th>dayofweek</th>\n",
       "      <th>dayofyear</th>\n",
       "      <th>weekofyear</th>\n",
       "      <th>quarter</th>\n",
       "    </tr>\n",
       "  </thead>\n",
       "  <tbody>\n",
       "    <tr>\n",
       "      <th>0</th>\n",
       "      <td>https://www.theguardian.com/science/1957/nov/0...</td>\n",
       "      <td>The second Russian satellite has demonstrated ...</td>\n",
       "      <td>guardian</td>\n",
       "      <td>NaN</td>\n",
       "      <td>NaN</td>\n",
       "      <td>NaN</td>\n",
       "      <td>NaN</td>\n",
       "      <td>NaN</td>\n",
       "      <td>NaN</td>\n",
       "      <td>NaN</td>\n",
       "    </tr>\n",
       "    <tr>\n",
       "      <th>1</th>\n",
       "      <td>https://www.theguardian.com/science/1962/feb/2...</td>\n",
       "      <td>Col. Glenn reported \"hale and hearty\"Picked up...</td>\n",
       "      <td>guardian</td>\n",
       "      <td>NaN</td>\n",
       "      <td>NaN</td>\n",
       "      <td>NaN</td>\n",
       "      <td>NaN</td>\n",
       "      <td>NaN</td>\n",
       "      <td>NaN</td>\n",
       "      <td>NaN</td>\n",
       "    </tr>\n",
       "  </tbody>\n",
       "</table>\n",
       "</div>"
      ],
      "text/plain": [
       "                                                 url                                               text publication  year  month  day  dayofweek  dayofyear  weekofyear  quarter\n",
       "0  https://www.theguardian.com/science/1957/nov/0...  The second Russian satellite has demonstrated ...    guardian   NaN    NaN  NaN        NaN        NaN         NaN      NaN\n",
       "1  https://www.theguardian.com/science/1962/feb/2...  Col. Glenn reported \"hale and hearty\"Picked up...    guardian   NaN    NaN  NaN        NaN        NaN         NaN      NaN"
      ]
     },
     "metadata": {},
     "output_type": "display_data"
    }
   ],
   "source": [
    "df_guardian_listings.rename(\n",
    "    columns={\"webUrl\": \"url\", \"webPublicationDate\": \"publication_date\"}, inplace=True\n",
    ")\n",
    "df_guardian_text.drop([\"publication_date\"], axis=1, inplace=True)\n",
    "display(df_guardian_listings.head(2))\n",
    "display(df_guardian_text.head(2))"
   ]
  },
  {
   "cell_type": "markdown",
   "metadata": {
    "papermill": {
     "duration": 0.040873,
     "end_time": "2020-07-09T21:16:54.014876",
     "exception": false,
     "start_time": "2020-07-09T21:16:53.974003",
     "status": "completed"
    },
    "tags": []
   },
   "source": [
    "Next, we'll set an index for the `DataFrame`s so that we can join each `DataFrame` on its index"
   ]
  },
  {
   "cell_type": "code",
   "execution_count": 28,
   "metadata": {
    "execution": {
     "iopub.execute_input": "2020-07-09T21:16:54.098644Z",
     "iopub.status.busy": "2020-07-09T21:16:54.097996Z",
     "iopub.status.idle": "2020-07-09T21:16:54.138346Z",
     "shell.execute_reply": "2020-07-09T21:16:54.138833Z"
    },
    "papermill": {
     "duration": 0.084204,
     "end_time": "2020-07-09T21:16:54.138959",
     "exception": false,
     "start_time": "2020-07-09T21:16:54.054755",
     "status": "completed"
    },
    "tags": []
   },
   "outputs": [
    {
     "name": "stdout",
     "output_type": "stream",
     "text": [
      "(4199, 9)\n"
     ]
    },
    {
     "data": {
      "text/html": [
       "<div>\n",
       "<style scoped>\n",
       "    .dataframe tbody tr th:only-of-type {\n",
       "        vertical-align: middle;\n",
       "    }\n",
       "\n",
       "    .dataframe tbody tr th {\n",
       "        vertical-align: top;\n",
       "    }\n",
       "\n",
       "    .dataframe thead th {\n",
       "        text-align: right;\n",
       "    }\n",
       "</style>\n",
       "<table border=\"1\" class=\"dataframe\">\n",
       "  <thead>\n",
       "    <tr style=\"text-align: right;\">\n",
       "      <th></th>\n",
       "      <th>text</th>\n",
       "      <th>publication</th>\n",
       "      <th>year</th>\n",
       "      <th>month</th>\n",
       "      <th>day</th>\n",
       "      <th>dayofweek</th>\n",
       "      <th>dayofyear</th>\n",
       "      <th>weekofyear</th>\n",
       "      <th>quarter</th>\n",
       "    </tr>\n",
       "    <tr>\n",
       "      <th>url</th>\n",
       "      <th></th>\n",
       "      <th></th>\n",
       "      <th></th>\n",
       "      <th></th>\n",
       "      <th></th>\n",
       "      <th></th>\n",
       "      <th></th>\n",
       "      <th></th>\n",
       "      <th></th>\n",
       "    </tr>\n",
       "  </thead>\n",
       "  <tbody>\n",
       "    <tr>\n",
       "      <th>https://www.theguardian.com/science/1957/nov/04/spaceexploration.archive</th>\n",
       "      <td>The second Russian satellite has demonstrated ...</td>\n",
       "      <td>guardian</td>\n",
       "      <td>NaN</td>\n",
       "      <td>NaN</td>\n",
       "      <td>NaN</td>\n",
       "      <td>NaN</td>\n",
       "      <td>NaN</td>\n",
       "      <td>NaN</td>\n",
       "      <td>NaN</td>\n",
       "    </tr>\n",
       "    <tr>\n",
       "      <th>https://www.theguardian.com/science/1962/feb/21/spaceexploration.archive</th>\n",
       "      <td>Col. Glenn reported \"hale and hearty\"Picked up...</td>\n",
       "      <td>guardian</td>\n",
       "      <td>NaN</td>\n",
       "      <td>NaN</td>\n",
       "      <td>NaN</td>\n",
       "      <td>NaN</td>\n",
       "      <td>NaN</td>\n",
       "      <td>NaN</td>\n",
       "      <td>NaN</td>\n",
       "    </tr>\n",
       "  </tbody>\n",
       "</table>\n",
       "</div>"
      ],
      "text/plain": [
       "                                                                                                 text publication  year  month  day  dayofweek  dayofyear  weekofyear  quarter\n",
       "url                                                                                                                                                                           \n",
       "https://www.theguardian.com/science/1957/nov/04...  The second Russian satellite has demonstrated ...    guardian   NaN    NaN  NaN        NaN        NaN         NaN      NaN\n",
       "https://www.theguardian.com/science/1962/feb/21...  Col. Glenn reported \"hale and hearty\"Picked up...    guardian   NaN    NaN  NaN        NaN        NaN         NaN      NaN"
      ]
     },
     "metadata": {},
     "output_type": "display_data"
    },
    {
     "name": "stdout",
     "output_type": "stream",
     "text": [
      "(4199, 12)\n"
     ]
    },
    {
     "data": {
      "text/html": [
       "<div>\n",
       "<style scoped>\n",
       "    .dataframe tbody tr th:only-of-type {\n",
       "        vertical-align: middle;\n",
       "    }\n",
       "\n",
       "    .dataframe tbody tr th {\n",
       "        vertical-align: top;\n",
       "    }\n",
       "\n",
       "    .dataframe thead th {\n",
       "        text-align: right;\n",
       "    }\n",
       "</style>\n",
       "<table border=\"1\" class=\"dataframe\">\n",
       "  <thead>\n",
       "    <tr style=\"text-align: right;\">\n",
       "      <th></th>\n",
       "      <th>id</th>\n",
       "      <th>publication_date</th>\n",
       "      <th>apiUrl</th>\n",
       "      <th>webTitle</th>\n",
       "      <th>document_type</th>\n",
       "      <th>sectionId</th>\n",
       "      <th>sectionName</th>\n",
       "      <th>type</th>\n",
       "      <th>isHosted</th>\n",
       "      <th>pillarId</th>\n",
       "      <th>pillarName</th>\n",
       "      <th>page</th>\n",
       "    </tr>\n",
       "    <tr>\n",
       "      <th>url</th>\n",
       "      <th></th>\n",
       "      <th></th>\n",
       "      <th></th>\n",
       "      <th></th>\n",
       "      <th></th>\n",
       "      <th></th>\n",
       "      <th></th>\n",
       "      <th></th>\n",
       "      <th></th>\n",
       "      <th></th>\n",
       "      <th></th>\n",
       "      <th></th>\n",
       "    </tr>\n",
       "  </thead>\n",
       "  <tbody>\n",
       "    <tr>\n",
       "      <th>https://www.theguardian.com/science/1957/nov/04/spaceexploration.archive</th>\n",
       "      <td>science/1957/nov/04/spaceexploration.archive</td>\n",
       "      <td>1957-11-04T15:38:49Z</td>\n",
       "      <td>https://content.guardianapis.com/science/1957/...</td>\n",
       "      <td>Space Travel Comes True</td>\n",
       "      <td>NaN</td>\n",
       "      <td>science</td>\n",
       "      <td>Science</td>\n",
       "      <td>article</td>\n",
       "      <td>False</td>\n",
       "      <td>pillar/news</td>\n",
       "      <td>News</td>\n",
       "      <td>1</td>\n",
       "    </tr>\n",
       "    <tr>\n",
       "      <th>https://www.theguardian.com/science/1962/feb/21/spaceexploration.archive</th>\n",
       "      <td>science/1962/feb/21/spaceexploration.archive</td>\n",
       "      <td>1962-02-21T12:50:18Z</td>\n",
       "      <td>https://content.guardianapis.com/science/1962/...</td>\n",
       "      <td>Home and dry after three orbits</td>\n",
       "      <td>NaN</td>\n",
       "      <td>science</td>\n",
       "      <td>Science</td>\n",
       "      <td>article</td>\n",
       "      <td>False</td>\n",
       "      <td>pillar/news</td>\n",
       "      <td>News</td>\n",
       "      <td>1</td>\n",
       "    </tr>\n",
       "  </tbody>\n",
       "</table>\n",
       "</div>"
      ],
      "text/plain": [
       "                                                                                              id      publication_date                                             apiUrl                         webTitle  document_type sectionId sectionName     type  isHosted     pillarId pillarName  page\n",
       "url                                                                                                                                                                                                                                                                                             \n",
       "https://www.theguardian.com/science/1957/nov/04...  science/1957/nov/04/spaceexploration.archive  1957-11-04T15:38:49Z  https://content.guardianapis.com/science/1957/...          Space Travel Comes True            NaN   science     Science  article     False  pillar/news       News     1\n",
       "https://www.theguardian.com/science/1962/feb/21...  science/1962/feb/21/spaceexploration.archive  1962-02-21T12:50:18Z  https://content.guardianapis.com/science/1962/...  Home and dry after three orbits            NaN   science     Science  article     False  pillar/news       News     1"
      ]
     },
     "metadata": {},
     "output_type": "display_data"
    }
   ],
   "source": [
    "df_guardian_text = df_guardian_text.set_index([\"url\"])\n",
    "df_guardian_listings = df_guardian_listings.set_index([\"url\"])\n",
    "print(df_guardian_text.shape)\n",
    "display(df_guardian_text.head(2))\n",
    "print(df_guardian_listings.shape)\n",
    "display(df_guardian_listings.head(2))"
   ]
  },
  {
   "cell_type": "markdown",
   "metadata": {
    "papermill": {
     "duration": 0.042597,
     "end_time": "2020-07-09T21:16:54.223780",
     "exception": false,
     "start_time": "2020-07-09T21:16:54.181183",
     "status": "completed"
    },
    "tags": []
   },
   "source": [
    "Next, we'll merge the `DataFrame`s on the index and reset the index so that these index columns appear in the merged `DataFrame`"
   ]
  },
  {
   "cell_type": "code",
   "execution_count": 29,
   "metadata": {
    "execution": {
     "iopub.execute_input": "2020-07-09T21:16:54.311175Z",
     "iopub.status.busy": "2020-07-09T21:16:54.310381Z",
     "iopub.status.idle": "2020-07-09T21:16:54.353853Z",
     "shell.execute_reply": "2020-07-09T21:16:54.354370Z"
    },
    "papermill": {
     "duration": 0.088687,
     "end_time": "2020-07-09T21:16:54.354502",
     "exception": false,
     "start_time": "2020-07-09T21:16:54.265815",
     "status": "completed"
    },
    "tags": []
   },
   "outputs": [
    {
     "name": "stdout",
     "output_type": "stream",
     "text": [
      "(4199, 22)\n"
     ]
    },
    {
     "data": {
      "text/html": [
       "<div>\n",
       "<style scoped>\n",
       "    .dataframe tbody tr th:only-of-type {\n",
       "        vertical-align: middle;\n",
       "    }\n",
       "\n",
       "    .dataframe tbody tr th {\n",
       "        vertical-align: top;\n",
       "    }\n",
       "\n",
       "    .dataframe thead th {\n",
       "        text-align: right;\n",
       "    }\n",
       "</style>\n",
       "<table border=\"1\" class=\"dataframe\">\n",
       "  <thead>\n",
       "    <tr style=\"text-align: right;\">\n",
       "      <th></th>\n",
       "      <th>url</th>\n",
       "      <th>text</th>\n",
       "      <th>publication</th>\n",
       "      <th>year</th>\n",
       "      <th>month</th>\n",
       "      <th>day</th>\n",
       "      <th>dayofweek</th>\n",
       "      <th>dayofyear</th>\n",
       "      <th>weekofyear</th>\n",
       "      <th>quarter</th>\n",
       "      <th>id</th>\n",
       "      <th>publication_date</th>\n",
       "      <th>apiUrl</th>\n",
       "      <th>webTitle</th>\n",
       "      <th>document_type</th>\n",
       "      <th>sectionId</th>\n",
       "      <th>sectionName</th>\n",
       "      <th>type</th>\n",
       "      <th>isHosted</th>\n",
       "      <th>pillarId</th>\n",
       "      <th>pillarName</th>\n",
       "      <th>page</th>\n",
       "    </tr>\n",
       "  </thead>\n",
       "  <tbody>\n",
       "    <tr>\n",
       "      <th>0</th>\n",
       "      <td>https://www.theguardian.com/science/1957/nov/0...</td>\n",
       "      <td>The second Russian satellite has demonstrated ...</td>\n",
       "      <td>guardian</td>\n",
       "      <td>NaN</td>\n",
       "      <td>NaN</td>\n",
       "      <td>NaN</td>\n",
       "      <td>NaN</td>\n",
       "      <td>NaN</td>\n",
       "      <td>NaN</td>\n",
       "      <td>NaN</td>\n",
       "      <td>science/1957/nov/04/spaceexploration.archive</td>\n",
       "      <td>1957-11-04T15:38:49Z</td>\n",
       "      <td>https://content.guardianapis.com/science/1957/...</td>\n",
       "      <td>Space Travel Comes True</td>\n",
       "      <td>NaN</td>\n",
       "      <td>science</td>\n",
       "      <td>Science</td>\n",
       "      <td>article</td>\n",
       "      <td>False</td>\n",
       "      <td>pillar/news</td>\n",
       "      <td>News</td>\n",
       "      <td>1</td>\n",
       "    </tr>\n",
       "    <tr>\n",
       "      <th>1</th>\n",
       "      <td>https://www.theguardian.com/science/1962/feb/2...</td>\n",
       "      <td>Col. Glenn reported \"hale and hearty\"Picked up...</td>\n",
       "      <td>guardian</td>\n",
       "      <td>NaN</td>\n",
       "      <td>NaN</td>\n",
       "      <td>NaN</td>\n",
       "      <td>NaN</td>\n",
       "      <td>NaN</td>\n",
       "      <td>NaN</td>\n",
       "      <td>NaN</td>\n",
       "      <td>science/1962/feb/21/spaceexploration.archive</td>\n",
       "      <td>1962-02-21T12:50:18Z</td>\n",
       "      <td>https://content.guardianapis.com/science/1962/...</td>\n",
       "      <td>Home and dry after three orbits</td>\n",
       "      <td>NaN</td>\n",
       "      <td>science</td>\n",
       "      <td>Science</td>\n",
       "      <td>article</td>\n",
       "      <td>False</td>\n",
       "      <td>pillar/news</td>\n",
       "      <td>News</td>\n",
       "      <td>1</td>\n",
       "    </tr>\n",
       "  </tbody>\n",
       "</table>\n",
       "</div>"
      ],
      "text/plain": [
       "                                                 url                                               text publication  year  month  day  dayofweek  dayofyear  weekofyear  quarter                                            id      publication_date                                             apiUrl                         webTitle  document_type sectionId sectionName     type  isHosted     pillarId pillarName  page\n",
       "0  https://www.theguardian.com/science/1957/nov/0...  The second Russian satellite has demonstrated ...    guardian   NaN    NaN  NaN        NaN        NaN         NaN      NaN  science/1957/nov/04/spaceexploration.archive  1957-11-04T15:38:49Z  https://content.guardianapis.com/science/1957/...          Space Travel Comes True            NaN   science     Science  article     False  pillar/news       News     1\n",
       "1  https://www.theguardian.com/science/1962/feb/2...  Col. Glenn reported \"hale and hearty\"Picked up...    guardian   NaN    NaN  NaN        NaN        NaN         NaN      NaN  science/1962/feb/21/spaceexploration.archive  1962-02-21T12:50:18Z  https://content.guardianapis.com/science/1962/...  Home and dry after three orbits            NaN   science     Science  article     False  pillar/news       News     1"
      ]
     },
     "metadata": {},
     "output_type": "display_data"
    }
   ],
   "source": [
    "df_guardian = df_guardian_text.merge(\n",
    "    df_guardian_listings, left_index=True, right_index=True, how=\"inner\",\n",
    ").reset_index(drop=False)\n",
    "print(df_guardian.shape)\n",
    "display(df_guardian.head(2))"
   ]
  },
  {
   "cell_type": "markdown",
   "metadata": {
    "papermill": {
     "duration": 0.043692,
     "end_time": "2020-07-09T21:16:54.440479",
     "exception": false,
     "start_time": "2020-07-09T21:16:54.396787",
     "status": "completed"
    },
    "tags": []
   },
   "source": [
    "Next, we'll append `datetime` attributes as columns to the merged `DataFrame`"
   ]
  },
  {
   "cell_type": "code",
   "execution_count": 30,
   "metadata": {
    "execution": {
     "iopub.execute_input": "2020-07-09T21:16:54.528947Z",
     "iopub.status.busy": "2020-07-09T21:16:54.528139Z",
     "iopub.status.idle": "2020-07-09T21:16:54.554451Z",
     "shell.execute_reply": "2020-07-09T21:16:54.555141Z"
    },
    "papermill": {
     "duration": 0.072462,
     "end_time": "2020-07-09T21:16:54.555295",
     "exception": false,
     "start_time": "2020-07-09T21:16:54.482833",
     "status": "completed"
    },
    "tags": []
   },
   "outputs": [],
   "source": [
    "L = [\"year\", \"month\", \"day\", \"dayofweek\", \"dayofyear\", \"weekofyear\", \"quarter\"]\n",
    "df_guardian.drop(L, axis=1, inplace=True)\n",
    "df_guardian[\"publication_date\"] = pd.to_datetime(\n",
    "    df_guardian[\"publication_date\"], utc=True\n",
    ")"
   ]
  },
  {
   "cell_type": "code",
   "execution_count": 31,
   "metadata": {
    "execution": {
     "iopub.execute_input": "2020-07-09T21:16:54.646966Z",
     "iopub.status.busy": "2020-07-09T21:16:54.646319Z",
     "iopub.status.idle": "2020-07-09T21:16:54.691452Z",
     "shell.execute_reply": "2020-07-09T21:16:54.690621Z"
    },
    "papermill": {
     "duration": 0.092309,
     "end_time": "2020-07-09T21:16:54.691567",
     "exception": false,
     "start_time": "2020-07-09T21:16:54.599258",
     "status": "completed"
    },
    "tags": []
   },
   "outputs": [
    {
     "name": "stdout",
     "output_type": "stream",
     "text": [
      "(4199, 23)\n"
     ]
    },
    {
     "data": {
      "text/html": [
       "<div>\n",
       "<style scoped>\n",
       "    .dataframe tbody tr th:only-of-type {\n",
       "        vertical-align: middle;\n",
       "    }\n",
       "\n",
       "    .dataframe tbody tr th {\n",
       "        vertical-align: top;\n",
       "    }\n",
       "\n",
       "    .dataframe thead th {\n",
       "        text-align: right;\n",
       "    }\n",
       "</style>\n",
       "<table border=\"1\" class=\"dataframe\">\n",
       "  <thead>\n",
       "    <tr style=\"text-align: right;\">\n",
       "      <th></th>\n",
       "      <th>url</th>\n",
       "      <th>text</th>\n",
       "      <th>publication</th>\n",
       "      <th>id</th>\n",
       "      <th>publication_date</th>\n",
       "      <th>apiUrl</th>\n",
       "      <th>webTitle</th>\n",
       "      <th>document_type</th>\n",
       "      <th>sectionId</th>\n",
       "      <th>sectionName</th>\n",
       "      <th>type</th>\n",
       "      <th>isHosted</th>\n",
       "      <th>pillarId</th>\n",
       "      <th>pillarName</th>\n",
       "      <th>page</th>\n",
       "      <th>year</th>\n",
       "      <th>month</th>\n",
       "      <th>day</th>\n",
       "      <th>dayofweek</th>\n",
       "      <th>dayofyear</th>\n",
       "      <th>weekofyear</th>\n",
       "      <th>quarter</th>\n",
       "      <th>decade</th>\n",
       "    </tr>\n",
       "  </thead>\n",
       "  <tbody>\n",
       "    <tr>\n",
       "      <th>0</th>\n",
       "      <td>https://www.theguardian.com/science/1957/nov/0...</td>\n",
       "      <td>The second Russian satellite has demonstrated ...</td>\n",
       "      <td>guardian</td>\n",
       "      <td>science/1957/nov/04/spaceexploration.archive</td>\n",
       "      <td>1957-11-04 15:38:49+00:00</td>\n",
       "      <td>https://content.guardianapis.com/science/1957/...</td>\n",
       "      <td>Space Travel Comes True</td>\n",
       "      <td>NaN</td>\n",
       "      <td>science</td>\n",
       "      <td>Science</td>\n",
       "      <td>article</td>\n",
       "      <td>False</td>\n",
       "      <td>pillar/news</td>\n",
       "      <td>News</td>\n",
       "      <td>1</td>\n",
       "      <td>1957</td>\n",
       "      <td>11</td>\n",
       "      <td>4</td>\n",
       "      <td>0</td>\n",
       "      <td>308</td>\n",
       "      <td>45</td>\n",
       "      <td>4</td>\n",
       "      <td>1950</td>\n",
       "    </tr>\n",
       "    <tr>\n",
       "      <th>1</th>\n",
       "      <td>https://www.theguardian.com/science/1962/feb/2...</td>\n",
       "      <td>Col. Glenn reported \"hale and hearty\"Picked up...</td>\n",
       "      <td>guardian</td>\n",
       "      <td>science/1962/feb/21/spaceexploration.archive</td>\n",
       "      <td>1962-02-21 12:50:18+00:00</td>\n",
       "      <td>https://content.guardianapis.com/science/1962/...</td>\n",
       "      <td>Home and dry after three orbits</td>\n",
       "      <td>NaN</td>\n",
       "      <td>science</td>\n",
       "      <td>Science</td>\n",
       "      <td>article</td>\n",
       "      <td>False</td>\n",
       "      <td>pillar/news</td>\n",
       "      <td>News</td>\n",
       "      <td>1</td>\n",
       "      <td>1962</td>\n",
       "      <td>2</td>\n",
       "      <td>21</td>\n",
       "      <td>2</td>\n",
       "      <td>52</td>\n",
       "      <td>8</td>\n",
       "      <td>1</td>\n",
       "      <td>1960</td>\n",
       "    </tr>\n",
       "    <tr>\n",
       "      <th>2</th>\n",
       "      <td>https://www.theguardian.com/science/1967/jan/2...</td>\n",
       "      <td>The entire three-man crew of the Apollo One sp...</td>\n",
       "      <td>guardian</td>\n",
       "      <td>science/1967/jan/27/spaceexploration.columbia</td>\n",
       "      <td>1967-01-27 13:44:28+00:00</td>\n",
       "      <td>https://content.guardianapis.com/science/1967/...</td>\n",
       "      <td>US spacemen die as rocket catches fire</td>\n",
       "      <td>NaN</td>\n",
       "      <td>science</td>\n",
       "      <td>Science</td>\n",
       "      <td>article</td>\n",
       "      <td>False</td>\n",
       "      <td>pillar/news</td>\n",
       "      <td>News</td>\n",
       "      <td>1</td>\n",
       "      <td>1967</td>\n",
       "      <td>1</td>\n",
       "      <td>27</td>\n",
       "      <td>4</td>\n",
       "      <td>27</td>\n",
       "      <td>4</td>\n",
       "      <td>1</td>\n",
       "      <td>1960</td>\n",
       "    </tr>\n",
       "  </tbody>\n",
       "</table>\n",
       "</div>"
      ],
      "text/plain": [
       "                                                 url                                               text publication                                             id          publication_date                                             apiUrl                                webTitle  document_type sectionId sectionName     type  isHosted     pillarId pillarName  page  year  month  day  dayofweek  dayofyear  weekofyear  quarter  decade\n",
       "0  https://www.theguardian.com/science/1957/nov/0...  The second Russian satellite has demonstrated ...    guardian   science/1957/nov/04/spaceexploration.archive 1957-11-04 15:38:49+00:00  https://content.guardianapis.com/science/1957/...                 Space Travel Comes True            NaN   science     Science  article     False  pillar/news       News     1  1957     11    4          0        308          45        4    1950\n",
       "1  https://www.theguardian.com/science/1962/feb/2...  Col. Glenn reported \"hale and hearty\"Picked up...    guardian   science/1962/feb/21/spaceexploration.archive 1962-02-21 12:50:18+00:00  https://content.guardianapis.com/science/1962/...         Home and dry after three orbits            NaN   science     Science  article     False  pillar/news       News     1  1962      2   21          2         52           8        1    1960\n",
       "2  https://www.theguardian.com/science/1967/jan/2...  The entire three-man crew of the Apollo One sp...    guardian  science/1967/jan/27/spaceexploration.columbia 1967-01-27 13:44:28+00:00  https://content.guardianapis.com/science/1967/...  US spacemen die as rocket catches fire            NaN   science     Science  article     False  pillar/news       News     1  1967      1   27          4         27           4        1    1960"
      ]
     },
     "execution_count": 31,
     "metadata": {},
     "output_type": "execute_result"
    }
   ],
   "source": [
    "df_guardian = df_guardian.join(\n",
    "    pd.concat(\n",
    "        (getattr(df_guardian[\"publication_date\"].dt, i).rename(i) for i in L), axis=1\n",
    "    )\n",
    ")\n",
    "df_guardian[\"decade\"] = df_guardian[\"year\"] // 10 * 10\n",
    "print(df_guardian.shape)\n",
    "df_guardian.head(3)"
   ]
  },
  {
   "cell_type": "markdown",
   "metadata": {
    "papermill": {
     "duration": 0.044125,
     "end_time": "2020-07-09T21:16:54.778958",
     "exception": false,
     "start_time": "2020-07-09T21:16:54.734833",
     "status": "completed"
    },
    "tags": []
   },
   "source": [
    "Next, we'll filter out news articles of less than 500 characters"
   ]
  },
  {
   "cell_type": "code",
   "execution_count": 32,
   "metadata": {
    "execution": {
     "iopub.execute_input": "2020-07-09T21:16:54.869315Z",
     "iopub.status.busy": "2020-07-09T21:16:54.868261Z",
     "iopub.status.idle": "2020-07-09T21:16:54.890744Z",
     "shell.execute_reply": "2020-07-09T21:16:54.891273Z"
    },
    "papermill": {
     "duration": 0.069382,
     "end_time": "2020-07-09T21:16:54.891407",
     "exception": false,
     "start_time": "2020-07-09T21:16:54.822025",
     "status": "completed"
    },
    "tags": []
   },
   "outputs": [],
   "source": [
    "df_guardian = df_guardian[df_guardian[\"text\"].str.len() > 500]"
   ]
  },
  {
   "cell_type": "markdown",
   "metadata": {
    "papermill": {
     "duration": 0.043859,
     "end_time": "2020-07-09T21:16:54.980208",
     "exception": false,
     "start_time": "2020-07-09T21:16:54.936349",
     "status": "completed"
    },
    "tags": []
   },
   "source": [
    "Next, we'll drop unwanted columns from the merged `DataFrame`"
   ]
  },
  {
   "cell_type": "code",
   "execution_count": 33,
   "metadata": {
    "execution": {
     "iopub.execute_input": "2020-07-09T21:16:55.070919Z",
     "iopub.status.busy": "2020-07-09T21:16:55.070107Z",
     "iopub.status.idle": "2020-07-09T21:16:55.090859Z",
     "shell.execute_reply": "2020-07-09T21:16:55.091350Z"
    },
    "papermill": {
     "duration": 0.068057,
     "end_time": "2020-07-09T21:16:55.091476",
     "exception": false,
     "start_time": "2020-07-09T21:16:55.023419",
     "status": "completed"
    },
    "tags": []
   },
   "outputs": [
    {
     "name": "stdout",
     "output_type": "stream",
     "text": [
      "(4148, 8)\n"
     ]
    }
   ],
   "source": [
    "unwanted_guardian_cols = [\n",
    "    \"url\",\n",
    "    \"id\",\n",
    "    \"sectionId\",\n",
    "    \"sectionName\",\n",
    "    \"type\",\n",
    "    \"isHosted\",\n",
    "    \"pillarId\",\n",
    "    \"pillarName\",\n",
    "    \"page\",\n",
    "    \"publication_date\",\n",
    "    \"day\",\n",
    "    \"dayofweek\",\n",
    "    \"dayofyear\",\n",
    "    \"weekofyear\",\n",
    "    \"quarter\",\n",
    "]\n",
    "df_guardian.drop(unwanted_guardian_cols, axis=1, inplace=True)\n",
    "print(df_guardian.shape)"
   ]
  },
  {
   "cell_type": "markdown",
   "metadata": {
    "papermill": {
     "duration": 0.044582,
     "end_time": "2020-07-09T21:16:55.179589",
     "exception": false,
     "start_time": "2020-07-09T21:16:55.135007",
     "status": "completed"
    },
    "tags": []
   },
   "source": [
    "Finally, we'll export the merged `DataFrame` to a `.csv` file"
   ]
  },
  {
   "cell_type": "code",
   "execution_count": 34,
   "metadata": {
    "execution": {
     "iopub.execute_input": "2020-07-09T21:16:55.269951Z",
     "iopub.status.busy": "2020-07-09T21:16:55.269302Z",
     "iopub.status.idle": "2020-07-09T21:16:55.763168Z",
     "shell.execute_reply": "2020-07-09T21:16:55.763720Z"
    },
    "papermill": {
     "duration": 0.540584,
     "end_time": "2020-07-09T21:16:55.763863",
     "exception": false,
     "start_time": "2020-07-09T21:16:55.223279",
     "status": "completed"
    },
    "tags": []
   },
   "outputs": [
    {
     "name": "stdout",
     "output_type": "stream",
     "text": [
      "Memory footprint of DataFrame: 0.30 MB\n"
     ]
    }
   ],
   "source": [
    "print(\n",
    "    f\"Memory footprint of DataFrame: {(df_guardian.memory_usage().sum() / 1000 / 1000):.2f} MB\"\n",
    ")\n",
    "df_guardian.to_csv(\n",
    "    os.path.join(processed_data_dir, guardian_processed_filename), index=False\n",
    ")"
   ]
  },
  {
   "cell_type": "code",
   "execution_count": 35,
   "metadata": {
    "execution": {
     "iopub.execute_input": "2020-07-09T21:16:55.858760Z",
     "iopub.status.busy": "2020-07-09T21:16:55.858115Z",
     "iopub.status.idle": "2020-07-09T21:16:56.028065Z",
     "shell.execute_reply": "2020-07-09T21:16:56.027465Z"
    },
    "papermill": {
     "duration": 0.21928,
     "end_time": "2020-07-09T21:16:56.028168",
     "exception": false,
     "start_time": "2020-07-09T21:16:55.808888",
     "status": "completed"
    },
    "tags": []
   },
   "outputs": [
    {
     "name": "stdout",
     "output_type": "stream",
     "text": [
      "Memory footprint of DataFrame: 0.27 MB\n"
     ]
    }
   ],
   "source": [
    "df_guardian_loaded = pd.read_csv(\n",
    "    os.path.join(processed_data_dir, guardian_processed_filename)\n",
    ")\n",
    "print(\n",
    "    f\"Memory footprint of DataFrame: {(df_guardian_loaded.memory_usage().sum() / 1000 / 1000):.2f} MB\"\n",
    ")"
   ]
  },
  {
   "cell_type": "markdown",
   "metadata": {
    "papermill": {
     "duration": 0.044769,
     "end_time": "2020-07-09T21:16:56.117098",
     "exception": false,
     "start_time": "2020-07-09T21:16:56.072329",
     "status": "completed"
    },
    "tags": []
   },
   "source": [
    "<a id=\"merge-and-filter-space.com-data\"></a>\n",
    "\n",
    "## 5. [Merge and filter Space.com data](#merge-and-filter-space.com-data)"
   ]
  },
  {
   "cell_type": "markdown",
   "metadata": {
    "papermill": {
     "duration": 0.044335,
     "end_time": "2020-07-09T21:16:56.205616",
     "exception": false,
     "start_time": "2020-07-09T21:16:56.161281",
     "status": "completed"
    },
    "tags": []
   },
   "source": [
    "We'll start by loading the scraped text and listings urls from the Space.com website into separate `DataFrame`s."
   ]
  },
  {
   "cell_type": "code",
   "execution_count": 36,
   "metadata": {
    "execution": {
     "iopub.execute_input": "2020-07-09T21:16:56.300154Z",
     "iopub.status.busy": "2020-07-09T21:16:56.299497Z",
     "iopub.status.idle": "2020-07-09T21:17:17.088502Z",
     "shell.execute_reply": "2020-07-09T21:17:17.087818Z"
    },
    "papermill": {
     "duration": 20.838682,
     "end_time": "2020-07-09T21:17:17.088615",
     "exception": false,
     "start_time": "2020-07-09T21:16:56.249933",
     "status": "completed"
    },
    "tags": []
   },
   "outputs": [
    {
     "data": {
      "text/html": [
       "<div>\n",
       "<style scoped>\n",
       "    .dataframe tbody tr th:only-of-type {\n",
       "        vertical-align: middle;\n",
       "    }\n",
       "\n",
       "    .dataframe tbody tr th {\n",
       "        vertical-align: top;\n",
       "    }\n",
       "\n",
       "    .dataframe thead th {\n",
       "        text-align: right;\n",
       "    }\n",
       "</style>\n",
       "<table border=\"1\" class=\"dataframe\">\n",
       "  <thead>\n",
       "    <tr style=\"text-align: right;\">\n",
       "      <th></th>\n",
       "      <th>url</th>\n",
       "      <th>archive_url</th>\n",
       "    </tr>\n",
       "  </thead>\n",
       "  <tbody>\n",
       "    <tr>\n",
       "      <th>0</th>\n",
       "      <td>https://www.space.com/1926-frozen-ethane-pluto...</td>\n",
       "      <td>https://www.space.com/archive/1999/07</td>\n",
       "    </tr>\n",
       "    <tr>\n",
       "      <th>1</th>\n",
       "      <td>https://www.space.com/3156-milky-tourist-guide...</td>\n",
       "      <td>https://www.space.com/archive/2000/01</td>\n",
       "    </tr>\n",
       "  </tbody>\n",
       "</table>\n",
       "</div>"
      ],
      "text/plain": [
       "                                                 url                            archive_url\n",
       "0  https://www.space.com/1926-frozen-ethane-pluto...  https://www.space.com/archive/1999/07\n",
       "1  https://www.space.com/3156-milky-tourist-guide...  https://www.space.com/archive/2000/01"
      ]
     },
     "metadata": {},
     "output_type": "display_data"
    },
    {
     "data": {
      "text/html": [
       "<div>\n",
       "<style scoped>\n",
       "    .dataframe tbody tr th:only-of-type {\n",
       "        vertical-align: middle;\n",
       "    }\n",
       "\n",
       "    .dataframe tbody tr th {\n",
       "        vertical-align: top;\n",
       "    }\n",
       "\n",
       "    .dataframe thead th {\n",
       "        text-align: right;\n",
       "    }\n",
       "</style>\n",
       "<table border=\"1\" class=\"dataframe\">\n",
       "  <thead>\n",
       "    <tr style=\"text-align: right;\">\n",
       "      <th></th>\n",
       "      <th>url</th>\n",
       "      <th>text</th>\n",
       "      <th>publication_date</th>\n",
       "      <th>publication</th>\n",
       "      <th>year</th>\n",
       "      <th>month</th>\n",
       "      <th>day</th>\n",
       "      <th>dayofweek</th>\n",
       "      <th>dayofyear</th>\n",
       "      <th>weekofyear</th>\n",
       "      <th>quarter</th>\n",
       "    </tr>\n",
       "  </thead>\n",
       "  <tbody>\n",
       "    <tr>\n",
       "      <th>0</th>\n",
       "      <td>https://www.space.com/3156-milky-tourist-guide...</td>\n",
       "      <td>What a difference a couple of years make. Buzz...</td>\n",
       "      <td>2000-01-05 12:28:00+00:00</td>\n",
       "      <td>space</td>\n",
       "      <td>2000.0</td>\n",
       "      <td>1.0</td>\n",
       "      <td>5.0</td>\n",
       "      <td>2.0</td>\n",
       "      <td>5.0</td>\n",
       "      <td>1.0</td>\n",
       "      <td>1.0</td>\n",
       "    </tr>\n",
       "    <tr>\n",
       "      <th>1</th>\n",
       "      <td>https://www.space.com/8193-caused-apollo-13-ac...</td>\n",
       "      <td>CAPE CANAVERAL, Fla. All you had to do was hea...</td>\n",
       "      <td>2000-04-13 10:27:00+00:00</td>\n",
       "      <td>space</td>\n",
       "      <td>2000.0</td>\n",
       "      <td>4.0</td>\n",
       "      <td>13.0</td>\n",
       "      <td>3.0</td>\n",
       "      <td>104.0</td>\n",
       "      <td>15.0</td>\n",
       "      <td>2.0</td>\n",
       "    </tr>\n",
       "  </tbody>\n",
       "</table>\n",
       "</div>"
      ],
      "text/plain": [
       "                                                 url                                               text           publication_date publication    year  month   day  dayofweek  dayofyear  weekofyear  quarter\n",
       "0  https://www.space.com/3156-milky-tourist-guide...  What a difference a couple of years make. Buzz...  2000-01-05 12:28:00+00:00       space  2000.0    1.0   5.0        2.0        5.0         1.0      1.0\n",
       "1  https://www.space.com/8193-caused-apollo-13-ac...  CAPE CANAVERAL, Fla. All you had to do was hea...  2000-04-13 10:27:00+00:00       space  2000.0    4.0  13.0        3.0      104.0        15.0      2.0"
      ]
     },
     "metadata": {},
     "output_type": "display_data"
    }
   ],
   "source": [
    "if not cloud_data:\n",
    "    df_space_listings = pd.read_csv(os.path.join(data_dir, space_filename))\n",
    "    df_space_text = pd.concat([pd.read_csv(os.path.join(data_dir, f)) for f in space_text_filenames])\n",
    "else:\n",
    "    space_dict = {}\n",
    "    for az_blob_name, file_type in space_inputs.items():\n",
    "        blob_client = blob_service_client.get_blob_client(\n",
    "            container=az_storage_container_name, blob=az_blob_name\n",
    "        )\n",
    "        blobstring = blob_client.download_blob().content_as_text()\n",
    "        space_dict[file_type] = pd.read_csv(StringIO(blobstring))\n",
    "    df_space_text = pd.concat([v for k,v in space_dict.items() if \"text\" in k])\n",
    "    df_space_listings = pd.concat([v for k,v in space_dict.items() if k == \"urls\"])\n",
    "# df_space_text.drop([\"publication_date\"], axis=1, inplace=True)\n",
    "display(df_space_listings.head(2))\n",
    "display(df_space_text.head(2))"
   ]
  },
  {
   "cell_type": "markdown",
   "metadata": {
    "papermill": {
     "duration": 0.046559,
     "end_time": "2020-07-09T21:17:17.180643",
     "exception": false,
     "start_time": "2020-07-09T21:17:17.134084",
     "status": "completed"
    },
    "tags": []
   },
   "source": [
    "Next, we'll set an index for the `DataFrame`s so that we can join each on the index"
   ]
  },
  {
   "cell_type": "code",
   "execution_count": 37,
   "metadata": {
    "execution": {
     "iopub.execute_input": "2020-07-09T21:17:17.275908Z",
     "iopub.status.busy": "2020-07-09T21:17:17.274623Z",
     "iopub.status.idle": "2020-07-09T21:17:17.319036Z",
     "shell.execute_reply": "2020-07-09T21:17:17.319588Z"
    },
    "papermill": {
     "duration": 0.093515,
     "end_time": "2020-07-09T21:17:17.319719",
     "exception": false,
     "start_time": "2020-07-09T21:17:17.226204",
     "status": "completed"
    },
    "tags": []
   },
   "outputs": [
    {
     "name": "stdout",
     "output_type": "stream",
     "text": [
      "(36741, 10)\n"
     ]
    },
    {
     "data": {
      "text/html": [
       "<div>\n",
       "<style scoped>\n",
       "    .dataframe tbody tr th:only-of-type {\n",
       "        vertical-align: middle;\n",
       "    }\n",
       "\n",
       "    .dataframe tbody tr th {\n",
       "        vertical-align: top;\n",
       "    }\n",
       "\n",
       "    .dataframe thead th {\n",
       "        text-align: right;\n",
       "    }\n",
       "</style>\n",
       "<table border=\"1\" class=\"dataframe\">\n",
       "  <thead>\n",
       "    <tr style=\"text-align: right;\">\n",
       "      <th></th>\n",
       "      <th>text</th>\n",
       "      <th>publication_date</th>\n",
       "      <th>publication</th>\n",
       "      <th>year</th>\n",
       "      <th>month</th>\n",
       "      <th>day</th>\n",
       "      <th>dayofweek</th>\n",
       "      <th>dayofyear</th>\n",
       "      <th>weekofyear</th>\n",
       "      <th>quarter</th>\n",
       "    </tr>\n",
       "    <tr>\n",
       "      <th>url</th>\n",
       "      <th></th>\n",
       "      <th></th>\n",
       "      <th></th>\n",
       "      <th></th>\n",
       "      <th></th>\n",
       "      <th></th>\n",
       "      <th></th>\n",
       "      <th></th>\n",
       "      <th></th>\n",
       "      <th></th>\n",
       "    </tr>\n",
       "  </thead>\n",
       "  <tbody>\n",
       "    <tr>\n",
       "      <th>https://www.space.com/3156-milky-tourist-guide.html</th>\n",
       "      <td>What a difference a couple of years make. Buzz...</td>\n",
       "      <td>2000-01-05 12:28:00+00:00</td>\n",
       "      <td>space</td>\n",
       "      <td>2000.0</td>\n",
       "      <td>1.0</td>\n",
       "      <td>5.0</td>\n",
       "      <td>2.0</td>\n",
       "      <td>5.0</td>\n",
       "      <td>1.0</td>\n",
       "      <td>1.0</td>\n",
       "    </tr>\n",
       "    <tr>\n",
       "      <th>https://www.space.com/8193-caused-apollo-13-accident.html</th>\n",
       "      <td>CAPE CANAVERAL, Fla. All you had to do was hea...</td>\n",
       "      <td>2000-04-13 10:27:00+00:00</td>\n",
       "      <td>space</td>\n",
       "      <td>2000.0</td>\n",
       "      <td>4.0</td>\n",
       "      <td>13.0</td>\n",
       "      <td>3.0</td>\n",
       "      <td>104.0</td>\n",
       "      <td>15.0</td>\n",
       "      <td>2.0</td>\n",
       "    </tr>\n",
       "  </tbody>\n",
       "</table>\n",
       "</div>"
      ],
      "text/plain": [
       "                                                                                                 text           publication_date publication    year  month   day  dayofweek  dayofyear  weekofyear  quarter\n",
       "url                                                                                                                                                                                                         \n",
       "https://www.space.com/3156-milky-tourist-guide....  What a difference a couple of years make. Buzz...  2000-01-05 12:28:00+00:00       space  2000.0    1.0   5.0        2.0        5.0         1.0      1.0\n",
       "https://www.space.com/8193-caused-apollo-13-acc...  CAPE CANAVERAL, Fla. All you had to do was hea...  2000-04-13 10:27:00+00:00       space  2000.0    4.0  13.0        3.0      104.0        15.0      2.0"
      ]
     },
     "metadata": {},
     "output_type": "display_data"
    },
    {
     "name": "stdout",
     "output_type": "stream",
     "text": [
      "(40195, 1)\n"
     ]
    },
    {
     "data": {
      "text/html": [
       "<div>\n",
       "<style scoped>\n",
       "    .dataframe tbody tr th:only-of-type {\n",
       "        vertical-align: middle;\n",
       "    }\n",
       "\n",
       "    .dataframe tbody tr th {\n",
       "        vertical-align: top;\n",
       "    }\n",
       "\n",
       "    .dataframe thead th {\n",
       "        text-align: right;\n",
       "    }\n",
       "</style>\n",
       "<table border=\"1\" class=\"dataframe\">\n",
       "  <thead>\n",
       "    <tr style=\"text-align: right;\">\n",
       "      <th></th>\n",
       "      <th>archive_url</th>\n",
       "    </tr>\n",
       "    <tr>\n",
       "      <th>url</th>\n",
       "      <th></th>\n",
       "    </tr>\n",
       "  </thead>\n",
       "  <tbody>\n",
       "    <tr>\n",
       "      <th>https://www.space.com/1926-frozen-ethane-pluto.html</th>\n",
       "      <td>https://www.space.com/archive/1999/07</td>\n",
       "    </tr>\n",
       "    <tr>\n",
       "      <th>https://www.space.com/3156-milky-tourist-guide.html</th>\n",
       "      <td>https://www.space.com/archive/2000/01</td>\n",
       "    </tr>\n",
       "  </tbody>\n",
       "</table>\n",
       "</div>"
      ],
      "text/plain": [
       "                                                                              archive_url\n",
       "url                                                                                      \n",
       "https://www.space.com/1926-frozen-ethane-pluto....  https://www.space.com/archive/1999/07\n",
       "https://www.space.com/3156-milky-tourist-guide....  https://www.space.com/archive/2000/01"
      ]
     },
     "metadata": {},
     "output_type": "display_data"
    }
   ],
   "source": [
    "df_space_text = df_space_text.set_index([\"url\"])\n",
    "df_space_listings = df_space_listings.set_index([\"url\"])\n",
    "print(df_space_text.shape)\n",
    "display(df_space_text.head(2))\n",
    "print(df_space_listings.shape)\n",
    "display(df_space_listings.head(2))"
   ]
  },
  {
   "cell_type": "markdown",
   "metadata": {
    "papermill": {
     "duration": 0.047558,
     "end_time": "2020-07-09T21:17:17.413295",
     "exception": false,
     "start_time": "2020-07-09T21:17:17.365737",
     "status": "completed"
    },
    "tags": []
   },
   "source": [
    "Next, we'll merge the `DataFrame`s on the index and reset the index so that these index columns appear in the merged `DataFrame`"
   ]
  },
  {
   "cell_type": "code",
   "execution_count": 38,
   "metadata": {
    "execution": {
     "iopub.execute_input": "2020-07-09T21:17:17.511044Z",
     "iopub.status.busy": "2020-07-09T21:17:17.510294Z",
     "iopub.status.idle": "2020-07-09T21:17:17.636854Z",
     "shell.execute_reply": "2020-07-09T21:17:17.637455Z"
    },
    "papermill": {
     "duration": 0.177619,
     "end_time": "2020-07-09T21:17:17.637593",
     "exception": false,
     "start_time": "2020-07-09T21:17:17.459974",
     "status": "completed"
    },
    "tags": []
   },
   "outputs": [
    {
     "name": "stdout",
     "output_type": "stream",
     "text": [
      "(36767, 12)\n"
     ]
    },
    {
     "data": {
      "text/html": [
       "<div>\n",
       "<style scoped>\n",
       "    .dataframe tbody tr th:only-of-type {\n",
       "        vertical-align: middle;\n",
       "    }\n",
       "\n",
       "    .dataframe tbody tr th {\n",
       "        vertical-align: top;\n",
       "    }\n",
       "\n",
       "    .dataframe thead th {\n",
       "        text-align: right;\n",
       "    }\n",
       "</style>\n",
       "<table border=\"1\" class=\"dataframe\">\n",
       "  <thead>\n",
       "    <tr style=\"text-align: right;\">\n",
       "      <th></th>\n",
       "      <th>url</th>\n",
       "      <th>text</th>\n",
       "      <th>publication_date</th>\n",
       "      <th>publication</th>\n",
       "      <th>year</th>\n",
       "      <th>month</th>\n",
       "      <th>day</th>\n",
       "      <th>dayofweek</th>\n",
       "      <th>dayofyear</th>\n",
       "      <th>weekofyear</th>\n",
       "      <th>quarter</th>\n",
       "      <th>archive_url</th>\n",
       "    </tr>\n",
       "  </thead>\n",
       "  <tbody>\n",
       "    <tr>\n",
       "      <th>0</th>\n",
       "      <td>https://www.space.com/10-wallpaper-4.html</td>\n",
       "      <td>This stunning space wallpaper reveals astronau...</td>\n",
       "      <td>2010-10-21 17:00:00+00:00</td>\n",
       "      <td>space</td>\n",
       "      <td>2010.0</td>\n",
       "      <td>10.0</td>\n",
       "      <td>21.0</td>\n",
       "      <td>3.0</td>\n",
       "      <td>294.0</td>\n",
       "      <td>42.0</td>\n",
       "      <td>4.0</td>\n",
       "      <td>https://www.space.com/archive/2010/10</td>\n",
       "    </tr>\n",
       "    <tr>\n",
       "      <th>1</th>\n",
       "      <td>https://www.space.com/100-nasa-drill-team-brea...</td>\n",
       "      <td>Over the course of the past decade, NASA space...</td>\n",
       "      <td>2010-11-18 19:49:00+00:00</td>\n",
       "      <td>space</td>\n",
       "      <td>2010.0</td>\n",
       "      <td>11.0</td>\n",
       "      <td>18.0</td>\n",
       "      <td>3.0</td>\n",
       "      <td>322.0</td>\n",
       "      <td>46.0</td>\n",
       "      <td>4.0</td>\n",
       "      <td>https://www.space.com/archive/2010/11</td>\n",
       "    </tr>\n",
       "  </tbody>\n",
       "</table>\n",
       "</div>"
      ],
      "text/plain": [
       "                                                 url                                               text           publication_date publication    year  month   day  dayofweek  dayofyear  weekofyear  quarter                            archive_url\n",
       "0          https://www.space.com/10-wallpaper-4.html  This stunning space wallpaper reveals astronau...  2010-10-21 17:00:00+00:00       space  2010.0   10.0  21.0        3.0      294.0        42.0      4.0  https://www.space.com/archive/2010/10\n",
       "1  https://www.space.com/100-nasa-drill-team-brea...  Over the course of the past decade, NASA space...  2010-11-18 19:49:00+00:00       space  2010.0   11.0  18.0        3.0      322.0        46.0      4.0  https://www.space.com/archive/2010/11"
      ]
     },
     "metadata": {},
     "output_type": "display_data"
    }
   ],
   "source": [
    "df_space = df_space_text.merge(\n",
    "    df_space_listings, left_index=True, right_index=True, how=\"inner\",\n",
    ").reset_index(drop=False)\n",
    "print(df_space.shape)\n",
    "display(df_space.head(2))"
   ]
  },
  {
   "cell_type": "markdown",
   "metadata": {
    "papermill": {
     "duration": 0.04809,
     "end_time": "2020-07-09T21:17:17.733579",
     "exception": false,
     "start_time": "2020-07-09T21:17:17.685489",
     "status": "completed"
    },
    "tags": []
   },
   "source": [
    "Next, we'll append `datetime` attributes as columns to the merged `DataFrame`"
   ]
  },
  {
   "cell_type": "code",
   "execution_count": 39,
   "metadata": {
    "execution": {
     "iopub.execute_input": "2020-07-09T21:17:17.833156Z",
     "iopub.status.busy": "2020-07-09T21:17:17.832105Z",
     "iopub.status.idle": "2020-07-09T21:17:17.850626Z",
     "shell.execute_reply": "2020-07-09T21:17:17.851171Z"
    },
    "papermill": {
     "duration": 0.070106,
     "end_time": "2020-07-09T21:17:17.851312",
     "exception": false,
     "start_time": "2020-07-09T21:17:17.781206",
     "status": "completed"
    },
    "tags": []
   },
   "outputs": [],
   "source": [
    "df_space[\"decade\"] = df_space[\"year\"] // 10 * 10"
   ]
  },
  {
   "cell_type": "markdown",
   "metadata": {
    "papermill": {
     "duration": 0.048225,
     "end_time": "2020-07-09T21:17:17.946363",
     "exception": false,
     "start_time": "2020-07-09T21:17:17.898138",
     "status": "completed"
    },
    "tags": []
   },
   "source": [
    "Next, we'll filter out news articles of less than 500 characters"
   ]
  },
  {
   "cell_type": "code",
   "execution_count": 40,
   "metadata": {
    "execution": {
     "iopub.execute_input": "2020-07-09T21:17:18.044532Z",
     "iopub.status.busy": "2020-07-09T21:17:18.043894Z",
     "iopub.status.idle": "2020-07-09T21:17:18.104488Z",
     "shell.execute_reply": "2020-07-09T21:17:18.105028Z"
    },
    "papermill": {
     "duration": 0.11178,
     "end_time": "2020-07-09T21:17:18.105166",
     "exception": false,
     "start_time": "2020-07-09T21:17:17.993386",
     "status": "completed"
    },
    "tags": []
   },
   "outputs": [],
   "source": [
    "df_space = df_space[df_space[\"text\"].str.len() > 500]"
   ]
  },
  {
   "cell_type": "markdown",
   "metadata": {
    "papermill": {
     "duration": 0.048742,
     "end_time": "2020-07-09T21:17:18.203042",
     "exception": false,
     "start_time": "2020-07-09T21:17:18.154300",
     "status": "completed"
    },
    "tags": []
   },
   "source": [
    "Next, we'll drop unwanted columns from the merged `DataFrame`"
   ]
  },
  {
   "cell_type": "code",
   "execution_count": 41,
   "metadata": {
    "execution": {
     "iopub.execute_input": "2020-07-09T21:17:18.302725Z",
     "iopub.status.busy": "2020-07-09T21:17:18.302059Z",
     "iopub.status.idle": "2020-07-09T21:17:18.333516Z",
     "shell.execute_reply": "2020-07-09T21:17:18.334204Z"
    },
    "papermill": {
     "duration": 0.083068,
     "end_time": "2020-07-09T21:17:18.334351",
     "exception": false,
     "start_time": "2020-07-09T21:17:18.251283",
     "status": "completed"
    },
    "tags": []
   },
   "outputs": [
    {
     "name": "stdout",
     "output_type": "stream",
     "text": [
      "(36082, 4)\n"
     ]
    },
    {
     "data": {
      "text/html": [
       "<div>\n",
       "<style scoped>\n",
       "    .dataframe tbody tr th:only-of-type {\n",
       "        vertical-align: middle;\n",
       "    }\n",
       "\n",
       "    .dataframe tbody tr th {\n",
       "        vertical-align: top;\n",
       "    }\n",
       "\n",
       "    .dataframe thead th {\n",
       "        text-align: right;\n",
       "    }\n",
       "</style>\n",
       "<table border=\"1\" class=\"dataframe\">\n",
       "  <thead>\n",
       "    <tr style=\"text-align: right;\">\n",
       "      <th></th>\n",
       "      <th>text</th>\n",
       "      <th>year</th>\n",
       "      <th>month</th>\n",
       "      <th>decade</th>\n",
       "    </tr>\n",
       "  </thead>\n",
       "  <tbody>\n",
       "    <tr>\n",
       "      <th>1</th>\n",
       "      <td>Over the course of the past decade, NASA space...</td>\n",
       "      <td>2010.0</td>\n",
       "      <td>11.0</td>\n",
       "      <td>2010.0</td>\n",
       "    </tr>\n",
       "    <tr>\n",
       "      <th>2</th>\n",
       "      <td>European space scientists are expected to adop...</td>\n",
       "      <td>2005.0</td>\n",
       "      <td>4.0</td>\n",
       "      <td>2000.0</td>\n",
       "    </tr>\n",
       "  </tbody>\n",
       "</table>\n",
       "</div>"
      ],
      "text/plain": [
       "                                                text    year  month  decade\n",
       "1  Over the course of the past decade, NASA space...  2010.0   11.0  2010.0\n",
       "2  European space scientists are expected to adop...  2005.0    4.0  2000.0"
      ]
     },
     "execution_count": 41,
     "metadata": {},
     "output_type": "execute_result"
    }
   ],
   "source": [
    "unwanted_space_cols = [\n",
    "    \"url\",\n",
    "    \"publication_date\",\n",
    "    \"publication\",\n",
    "    \"archive_url\",\n",
    "    \"day\",\n",
    "    \"dayofweek\",\n",
    "    \"dayofyear\",\n",
    "    \"weekofyear\",\n",
    "    \"quarter\",\n",
    "]\n",
    "df_space.drop(unwanted_space_cols, axis=1, inplace=True)\n",
    "print(df_space.shape)\n",
    "df_space.head(2)"
   ]
  },
  {
   "cell_type": "markdown",
   "metadata": {
    "papermill": {
     "duration": 0.048778,
     "end_time": "2020-07-09T21:17:18.431635",
     "exception": false,
     "start_time": "2020-07-09T21:17:18.382857",
     "status": "completed"
    },
    "tags": []
   },
   "source": [
    "Finally, we'll export the merged `DataFrame` to a `.csv` file"
   ]
  },
  {
   "cell_type": "code",
   "execution_count": 42,
   "metadata": {
    "execution": {
     "iopub.execute_input": "2020-07-09T21:17:18.531860Z",
     "iopub.status.busy": "2020-07-09T21:17:18.530927Z",
     "iopub.status.idle": "2020-07-09T21:17:22.191946Z",
     "shell.execute_reply": "2020-07-09T21:17:22.191354Z"
    },
    "papermill": {
     "duration": 3.712386,
     "end_time": "2020-07-09T21:17:22.192048",
     "exception": false,
     "start_time": "2020-07-09T21:17:18.479662",
     "status": "completed"
    },
    "tags": []
   },
   "outputs": [
    {
     "name": "stdout",
     "output_type": "stream",
     "text": [
      "Memory footprint of DataFrame: 1.44 MB\n"
     ]
    }
   ],
   "source": [
    "print(\n",
    "    f\"Memory footprint of DataFrame: {(df_space.memory_usage().sum() / 1000 / 1000):.2f} MB\"\n",
    ")\n",
    "df_space.to_csv(os.path.join(processed_data_dir, space_processed_filename), index=False)"
   ]
  },
  {
   "cell_type": "code",
   "execution_count": 43,
   "metadata": {
    "execution": {
     "iopub.execute_input": "2020-07-09T21:17:22.293728Z",
     "iopub.status.busy": "2020-07-09T21:17:22.293088Z",
     "iopub.status.idle": "2020-07-09T21:17:23.579129Z",
     "shell.execute_reply": "2020-07-09T21:17:23.578522Z"
    },
    "papermill": {
     "duration": 1.338658,
     "end_time": "2020-07-09T21:17:23.579253",
     "exception": false,
     "start_time": "2020-07-09T21:17:22.240595",
     "status": "completed"
    },
    "tags": []
   },
   "outputs": [
    {
     "name": "stdout",
     "output_type": "stream",
     "text": [
      "Memory footprint of DataFrame: 1.15 MB\n"
     ]
    }
   ],
   "source": [
    "df_space_loaded = pd.read_csv(\n",
    "    os.path.join(processed_data_dir, space_processed_filename)\n",
    ")\n",
    "print(\n",
    "    f\"Memory footprint of DataFrame: {(df_space_loaded.memory_usage().sum() / 1000 / 1000):.2f} MB\"\n",
    ")"
   ]
  }
 ],
 "metadata": {
  "kernelspec": {
   "display_name": "Python 3",
   "language": "python",
   "name": "python3"
  },
  "language_info": {
   "codemirror_mode": {
    "name": "ipython",
    "version": 3
   },
   "file_extension": ".py",
   "mimetype": "text/x-python",
   "name": "python",
   "nbconvert_exporter": "python",
   "pygments_lexer": "ipython3",
   "version": "3.8.3"
  },
  "papermill": {
   "duration": 46.235631,
   "end_time": "2020-07-09T21:17:24.038649",
   "environment_variables": {},
   "exception": null,
   "input_path": "/home/elstand/Downloads/nlp-space-news-topic-modeling/3_merge_scraped_and_filter.ipynb",
   "output_path": "/home/elstand/Downloads/nlp-space-news-topic-modeling/executed_notebooks/3_merge_scraped_and_filter-20200709-171637.ipynb",
   "parameters": {
    "az_storage_container_name": "myconedesx7",
    "cloud_data": true,
    "data_dir": "/home/elstand/Downloads/nlp-space-news-topic-modeling/data/raw",
    "guardian_inputs": {
     "blobedesz19": "text1",
     "blobedesz20": "text2",
     "blobedesz21": "urls"
    },
    "guardian_processed_filename": "guardian_processed.csv",
    "hubble_inputs": {
     "blobedesz22": "text",
     "blobedesz23": "urls"
    },
    "hubble_processed_filename": "hubble_processed.csv",
    "nytimes_inputs": {
     "blobedesz24": "text1",
     "blobedesz25": "text2",
     "blobedesz26": "text3",
     "blobedesz27": "urls_1950_1989",
     "blobedesz28": "urls_1990_1999",
     "blobedesz29": "urls_2000_2019"
    },
    "nytimes_processed_filename": "nytimes_processed.csv",
    "processed_data_dir": "/home/elstand/Downloads/nlp-space-news-topic-modeling/data/processed",
    "space_inputs": {
     "blobedesz30": "text1",
     "blobedesz31": "text2",
     "blobedesz32": "text3",
     "blobedesz33": "text4",
     "blobedesz34": "text5",
     "blobedesz35": "urls"
    },
    "space_processed_filename": "space_processed.csv"
   },
   "start_time": "2020-07-09T21:16:37.803018",
   "version": "2.1.2"
  }
 },
 "nbformat": 4,
 "nbformat_minor": 4
}