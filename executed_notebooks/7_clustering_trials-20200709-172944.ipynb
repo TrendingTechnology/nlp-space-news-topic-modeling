{
 "cells": [
  {
   "cell_type": "markdown",
   "metadata": {
    "papermill": {
     "duration": 0.031146,
     "end_time": "2020-07-09T21:29:45.568979",
     "exception": false,
     "start_time": "2020-07-09T21:29:45.537833",
     "status": "completed"
    },
    "tags": []
   },
   "source": [
    "# [Clustering trials](#clustering-trials)"
   ]
  },
  {
   "cell_type": "code",
   "execution_count": 1,
   "metadata": {
    "execution": {
     "iopub.execute_input": "2020-07-09T21:29:45.626268Z",
     "iopub.status.busy": "2020-07-09T21:29:45.625195Z",
     "iopub.status.idle": "2020-07-09T21:29:45.722828Z",
     "shell.execute_reply": "2020-07-09T21:29:45.722015Z"
    },
    "papermill": {
     "duration": 0.127757,
     "end_time": "2020-07-09T21:29:45.722943",
     "exception": false,
     "start_time": "2020-07-09T21:29:45.595186",
     "status": "completed"
    },
    "tags": []
   },
   "outputs": [],
   "source": [
    "%load_ext lab_black\n",
    "%load_ext autoreload\n",
    "%autoreload 2"
   ]
  },
  {
   "cell_type": "code",
   "execution_count": 2,
   "metadata": {
    "execution": {
     "iopub.execute_input": "2020-07-09T21:29:45.776889Z",
     "iopub.status.busy": "2020-07-09T21:29:45.775842Z",
     "iopub.status.idle": "2020-07-09T21:29:47.192114Z",
     "shell.execute_reply": "2020-07-09T21:29:47.191558Z"
    },
    "papermill": {
     "duration": 1.445019,
     "end_time": "2020-07-09T21:29:47.192222",
     "exception": false,
     "start_time": "2020-07-09T21:29:45.747203",
     "status": "completed"
    },
    "tags": []
   },
   "outputs": [
    {
     "name": "stderr",
     "output_type": "stream",
     "text": [
      "/home/elstand/Downloads/nlp-space-news-topic-modeling/.tox/ci/lib/python3.8/site-packages/sklearn/utils/deprecation.py:143: FutureWarning: The sklearn.feature_extraction.stop_words module is  deprecated in version 0.22 and will be removed in version 0.24. The corresponding classes / functions should instead be imported from sklearn.feature_extraction.text. Anything that cannot be imported from sklearn.feature_extraction.text is now part of the private API.\n",
      "  warnings.warn(message, FutureWarning)\n"
     ]
    }
   ],
   "source": [
    "import os\n",
    "import re\n",
    "import string\n",
    "from time import time\n",
    "from IPython.display import display\n",
    "\n",
    "import altair as alt\n",
    "import matplotlib.pyplot as plt\n",
    "import nltk\n",
    "import numpy as np\n",
    "import pandas as pd\n",
    "import seaborn as sns\n",
    "import spacy\n",
    "from nltk.corpus import stopwords\n",
    "from sklearn.cluster import KMeans, MiniBatchKMeans\n",
    "from sklearn.decomposition import TruncatedSVD\n",
    "from sklearn.feature_extraction import stop_words\n",
    "from sklearn.feature_extraction.text import TfidfVectorizer\n",
    "from sklearn.metrics import silhouette_score\n",
    "from sklearn.pipeline import Pipeline\n",
    "from spacy.lang.en.stop_words import STOP_WORDS"
   ]
  },
  {
   "cell_type": "code",
   "execution_count": 3,
   "metadata": {
    "execution": {
     "iopub.execute_input": "2020-07-09T21:29:47.246906Z",
     "iopub.status.busy": "2020-07-09T21:29:47.245878Z",
     "iopub.status.idle": "2020-07-09T21:29:47.625922Z",
     "shell.execute_reply": "2020-07-09T21:29:47.625055Z"
    },
    "papermill": {
     "duration": 0.408708,
     "end_time": "2020-07-09T21:29:47.626052",
     "exception": false,
     "start_time": "2020-07-09T21:29:47.217344",
     "status": "completed"
    },
    "tags": []
   },
   "outputs": [],
   "source": [
    "%aimport src.pipe_helpers\n",
    "from src.pipe_helpers import TextCleaner\n",
    "\n",
    "%aimport src.visualization_helpers\n",
    "from src.visualization_helpers import altair_datetime_heatmap"
   ]
  },
  {
   "cell_type": "code",
   "execution_count": 4,
   "metadata": {
    "execution": {
     "iopub.execute_input": "2020-07-09T21:29:47.680709Z",
     "iopub.status.busy": "2020-07-09T21:29:47.679704Z",
     "iopub.status.idle": "2020-07-09T21:29:47.711717Z",
     "shell.execute_reply": "2020-07-09T21:29:47.711100Z"
    },
    "papermill": {
     "duration": 0.061353,
     "end_time": "2020-07-09T21:29:47.711836",
     "exception": false,
     "start_time": "2020-07-09T21:29:47.650483",
     "status": "completed"
    },
    "tags": []
   },
   "outputs": [],
   "source": [
    "SMALL_SIZE = 26\n",
    "MEDIUM_SIZE = 28\n",
    "BIGGER_SIZE = 30\n",
    "plt.rc(\"font\", size=SMALL_SIZE)  # controls default text sizes\n",
    "plt.rc(\"axes\", titlesize=SMALL_SIZE)  # fontsize of the axes title\n",
    "plt.rc(\"axes\", labelsize=MEDIUM_SIZE)  # fontsize of the x and y labels\n",
    "plt.rc(\"xtick\", labelsize=SMALL_SIZE)  # fontsize of the tick labels\n",
    "plt.rc(\"ytick\", labelsize=SMALL_SIZE)  # fontsize of the tick labels\n",
    "plt.rc(\"legend\", fontsize=SMALL_SIZE)  # legend fontsize\n",
    "plt.rc(\"figure\", titlesize=BIGGER_SIZE)  # fontsize of the figure title\n",
    "plt.rcParams[\"axes.facecolor\"] = \"white\"\n",
    "sns.set_style(\"darkgrid\", {\"legend.frameon\": False})\n",
    "sns.set_context(\"talk\", font_scale=0.95, rc={\"lines.linewidth\": 2.5})"
   ]
  },
  {
   "cell_type": "code",
   "execution_count": 5,
   "metadata": {
    "execution": {
     "iopub.execute_input": "2020-07-09T21:29:47.768018Z",
     "iopub.status.busy": "2020-07-09T21:29:47.766932Z",
     "iopub.status.idle": "2020-07-09T21:29:47.792521Z",
     "shell.execute_reply": "2020-07-09T21:29:47.793163Z"
    },
    "papermill": {
     "duration": 0.054614,
     "end_time": "2020-07-09T21:29:47.793313",
     "exception": false,
     "start_time": "2020-07-09T21:29:47.738699",
     "status": "completed"
    },
    "tags": []
   },
   "outputs": [],
   "source": [
    "pd.set_option(\"display.max_rows\", 500)\n",
    "pd.set_option(\"display.max_columns\", 500)\n",
    "pd.set_option(\"display.width\", 1000)\n",
    "%matplotlib inline"
   ]
  },
  {
   "cell_type": "markdown",
   "metadata": {
    "papermill": {
     "duration": 0.024658,
     "end_time": "2020-07-09T21:29:47.845911",
     "exception": false,
     "start_time": "2020-07-09T21:29:47.821253",
     "status": "completed"
    },
    "tags": []
   },
   "source": [
    "<a id=\"toc\"></a>\n",
    "\n",
    "## [Table of Contents](#table-of-contents)\n",
    "0. [About](#about)\n",
    "1. [User Inputs](#user-inputs)\n",
    "2. [Load joined data](#load-joined-data)\n",
    "3. [Create clustering pipeline](#create-clustering-pipeline)\n",
    "4. [Clustering](#clustering)\n",
    "   - 4.1. [Analysis](#analysis)\n",
    "   - 4.2. [Exploring clustering topics combined with source data](#exploring-clustering-topics-combined-with-source-data)\n",
    "5. [LSA before clustering](#lsa-before-clustering)\n",
    "   - 5.1. [Analysis](#analysis)\n",
    "   - 5.2. [Exploring LSA-clustering topics combined with source data](#exploring-lsa-clustering-topics-combined-with-source-data)\n",
    "6. [Conclusions](#conclusions)"
   ]
  },
  {
   "cell_type": "markdown",
   "metadata": {
    "papermill": {
     "duration": 0.024111,
     "end_time": "2020-07-09T21:29:47.894354",
     "exception": false,
     "start_time": "2020-07-09T21:29:47.870243",
     "status": "completed"
    },
    "tags": []
   },
   "source": [
    "<a id=\"about\"></a>\n",
    "\n",
    "## 0. [About](#about)"
   ]
  },
  {
   "cell_type": "markdown",
   "metadata": {
    "papermill": {
     "duration": 0.025159,
     "end_time": "2020-07-09T21:29:47.943749",
     "exception": false,
     "start_time": "2020-07-09T21:29:47.918590",
     "status": "completed"
    },
    "tags": []
   },
   "source": [
    "In this notebook, we will conduct experiments with the [`KMeans` clustering algorithm](https://en.wikipedia.org/wiki/K-means_clustering) to extract clusters from on the joined news listings data in `data/processed/*_processed.csv`.\n",
    "\n",
    "The articles can be clustered by their topic, using a [bag of words model](https://en.wikipedia.org/wiki/Bag-of-words_model). Feature extraction will be done using [TFIDF vectorization](https://en.wikipedia.org/wiki/Tf%E2%80%93idf). We can compare the determined clusters to the extracted topics found using NLP approaches in earlier notebooks."
   ]
  },
  {
   "cell_type": "markdown",
   "metadata": {
    "papermill": {
     "duration": 0.024293,
     "end_time": "2020-07-09T21:29:47.992504",
     "exception": false,
     "start_time": "2020-07-09T21:29:47.968211",
     "status": "completed"
    },
    "tags": []
   },
   "source": [
    "<a id=\"user-inputs\"></a>\n",
    "\n",
    "## 1. [User Inputs](#user-inputs)"
   ]
  },
  {
   "cell_type": "markdown",
   "metadata": {
    "papermill": {
     "duration": 0.024049,
     "end_time": "2020-07-09T21:29:48.041467",
     "exception": false,
     "start_time": "2020-07-09T21:29:48.017418",
     "status": "completed"
    },
    "tags": []
   },
   "source": [
    "We'll define below the variables and helper functions that are to be used throughout the code."
   ]
  },
  {
   "cell_type": "code",
   "execution_count": 6,
   "metadata": {
    "execution": {
     "iopub.execute_input": "2020-07-09T21:29:48.093750Z",
     "iopub.status.busy": "2020-07-09T21:29:48.093115Z",
     "iopub.status.idle": "2020-07-09T21:29:48.116839Z",
     "shell.execute_reply": "2020-07-09T21:29:48.116143Z"
    },
    "papermill": {
     "duration": 0.051198,
     "end_time": "2020-07-09T21:29:48.116956",
     "exception": false,
     "start_time": "2020-07-09T21:29:48.065758",
     "status": "completed"
    },
    "tags": []
   },
   "outputs": [],
   "source": [
    "PROJ_ROOT_DIR = os.path.abspath(os.getcwd())\n",
    "processed_data_dir = os.path.join(PROJ_ROOT_DIR, \"data\", \"processed\")"
   ]
  },
  {
   "cell_type": "code",
   "execution_count": 7,
   "metadata": {
    "execution": {
     "iopub.execute_input": "2020-07-09T21:29:48.175725Z",
     "iopub.status.busy": "2020-07-09T21:29:48.174592Z",
     "iopub.status.idle": "2020-07-09T21:29:48.213460Z",
     "shell.execute_reply": "2020-07-09T21:29:48.212899Z"
    },
    "papermill": {
     "duration": 0.069586,
     "end_time": "2020-07-09T21:29:48.213569",
     "exception": false,
     "start_time": "2020-07-09T21:29:48.143983",
     "status": "completed"
    },
    "tags": [
     "parameters"
    ]
   },
   "outputs": [],
   "source": [
    "# Dataset\n",
    "publication_name = \"guardian\"\n",
    "\n",
    "# Data locations\n",
    "data_dir_path = os.path.join(processed_data_dir, f\"{publication_name}_processed.csv\")\n",
    "cloud_run = True\n",
    "\n",
    "# Custom stop words to include\n",
    "manual_stop_words = [\"nt\", \"ll\", \"ve\"]\n",
    "\n",
    "# Cluster naming\n",
    "mapping_dict = {\n",
    "    \"guardian\": {\n",
    "        0: \"Gravity and Black Holes - Hawking\",\n",
    "        1: \"Shuttle Missions and Crashes\",\n",
    "        2: \"Global Warming\",\n",
    "        3: \"Academia 2\",\n",
    "        4: \"Studying Comets and Meteors\",\n",
    "        5: \"Rocket Launches - Testing\",\n",
    "        6: \"Discover of Sub-Atomic particles\",\n",
    "        7: \"Academia 1\",\n",
    "        8: \"Planetary Research\",\n",
    "        9: \"Imaging Stars - Astronomy\",\n",
    "        10: \"Objects crashing into Earth\",\n",
    "        11: \"Rocket Launches - Moon Landing\",\n",
    "        12: \"Sky Watching\",\n",
    "        13: \"ISS - USA and Russian segment\",\n",
    "        14: \"Mars Exploration\",\n",
    "    }\n",
    "}\n",
    "mapping_dict_lsa = {\n",
    "    \"guardian\": {\n",
    "        0: \"Academia 1\",\n",
    "        1: \"Space Funding Bodies\",\n",
    "        2: \"Studying Comets and Meteors\",\n",
    "        3: \"Academia 2\",\n",
    "        4: \"ISS - USA and Russian segment\",\n",
    "        5: \"Shuttle Missions and Crashes\",\n",
    "        6: \"Mars Exploration\",\n",
    "        7: \"Planetary Research\",\n",
    "        8: \"Imaging Stars - Astronomy\",\n",
    "        9: \"Discover of Sub-Atomic particles\",\n",
    "        10: \"Sky Watching\",\n",
    "        11: \"Rocket Launches - Moon Landing\",\n",
    "        12: \"Gravity and Black Holes - Hawking\",\n",
    "        13: \"Rocket Launches - Testing\",\n",
    "        14: \"Objects crashing into Earth\",\n",
    "    }\n",
    "}\n",
    "\n",
    "# General inputs\n",
    "minibatch = False\n",
    "kmeans_random_state = 42"
   ]
  },
  {
   "cell_type": "code",
   "execution_count": 8,
   "metadata": {
    "execution": {
     "iopub.execute_input": "2020-07-09T21:29:48.268359Z",
     "iopub.status.busy": "2020-07-09T21:29:48.267685Z",
     "iopub.status.idle": "2020-07-09T21:29:48.308280Z",
     "shell.execute_reply": "2020-07-09T21:29:48.307289Z"
    },
    "papermill": {
     "duration": 0.070366,
     "end_time": "2020-07-09T21:29:48.308407",
     "exception": false,
     "start_time": "2020-07-09T21:29:48.238041",
     "status": "completed"
    },
    "tags": [
     "injected-parameters"
    ]
   },
   "outputs": [],
   "source": [
    "# Parameters\n",
    "publication_name = \"guardian\"\n",
    "data_dir_path = \"/home/elstand/Downloads/nlp-space-news-topic-modeling/data/processed/guardian_processed.csv\"\n",
    "cloud_run = True\n",
    "manual_stop_words = [\"nt\", \"ll\", \"ve\"]\n",
    "mapping_dict = {\n",
    "    \"guardian\": {\n",
    "        \"0\": \"Gravity and Black Holes - Hawking\",\n",
    "        \"1\": \"Shuttle Missions and Crashes\",\n",
    "        \"2\": \"Global Warming\",\n",
    "        \"3\": \"Academia 2\",\n",
    "        \"4\": \"Studying Comets and Meteors\",\n",
    "        \"5\": \"Rocket Launches - Testing\",\n",
    "        \"6\": \"Discover of Sub-Atomic particles\",\n",
    "        \"7\": \"Academia 1\",\n",
    "        \"8\": \"Planetary Research\",\n",
    "        \"9\": \"Imaging Stars - Astronomy\",\n",
    "        \"10\": \"Objects crashing into Earth\",\n",
    "        \"11\": \"Rocket Launches - Moon Landing\",\n",
    "        \"12\": \"Sky Watching\",\n",
    "        \"13\": \"ISS - USA and Russian segment\",\n",
    "        \"14\": \"Mars Exploration\",\n",
    "    }\n",
    "}\n",
    "mapping_dict_lsa = {\n",
    "    \"guardian\": {\n",
    "        \"0\": \"Academia 1\",\n",
    "        \"1\": \"Space Funding Bodies\",\n",
    "        \"2\": \"Studying Comets and Meteors\",\n",
    "        \"3\": \"Academia 2\",\n",
    "        \"4\": \"ISS - USA and Russian segment\",\n",
    "        \"5\": \"Shuttle Missions and Crashes\",\n",
    "        \"6\": \"Mars Exploration\",\n",
    "        \"7\": \"Planetary Research\",\n",
    "        \"8\": \"Imaging Stars - Astronomy\",\n",
    "        \"9\": \"Discover of Sub-Atomic particles\",\n",
    "        \"10\": \"Sky Watching\",\n",
    "        \"11\": \"Rocket Launches - Moon Landing\",\n",
    "        \"12\": \"Gravity and Black Holes - Hawking\",\n",
    "        \"13\": \"Rocket Launches - Testing\",\n",
    "        \"14\": \"Objects crashing into Earth\",\n",
    "    }\n",
    "}\n",
    "minibatch = False\n",
    "kmeans_random_state = 42\n"
   ]
  },
  {
   "cell_type": "code",
   "execution_count": 9,
   "metadata": {
    "execution": {
     "iopub.execute_input": "2020-07-09T21:29:48.363022Z",
     "iopub.status.busy": "2020-07-09T21:29:48.361934Z",
     "iopub.status.idle": "2020-07-09T21:29:48.387666Z",
     "shell.execute_reply": "2020-07-09T21:29:48.386922Z"
    },
    "papermill": {
     "duration": 0.054431,
     "end_time": "2020-07-09T21:29:48.387786",
     "exception": false,
     "start_time": "2020-07-09T21:29:48.333355",
     "status": "completed"
    },
    "tags": []
   },
   "outputs": [],
   "source": [
    "mapping_dict[publication_name] = {int(k): v for k, v in mapping_dict[publication_name].items() if type(k) != int}\n",
    "mapping_dict_lsa[publication_name] = {int(k): v for k, v in mapping_dict_lsa[publication_name].items() if type(k) != int}"
   ]
  },
  {
   "cell_type": "code",
   "execution_count": 10,
   "metadata": {
    "execution": {
     "iopub.execute_input": "2020-07-09T21:29:48.442807Z",
     "iopub.status.busy": "2020-07-09T21:29:48.442071Z",
     "iopub.status.idle": "2020-07-09T21:29:48.719300Z",
     "shell.execute_reply": "2020-07-09T21:29:48.719896Z"
    },
    "papermill": {
     "duration": 0.307408,
     "end_time": "2020-07-09T21:29:48.720043",
     "exception": false,
     "start_time": "2020-07-09T21:29:48.412635",
     "status": "completed"
    },
    "tags": []
   },
   "outputs": [
    {
     "name": "stderr",
     "output_type": "stream",
     "text": [
      "[nltk_data] Downloading package punkt to /home/elstand/nltk_data...\n",
      "[nltk_data]   Package punkt is already up-to-date!\n",
      "[nltk_data] Downloading package wordnet to /home/elstand/nltk_data...\n",
      "[nltk_data]   Package wordnet is already up-to-date!\n",
      "[nltk_data] Downloading package stopwords to\n",
      "[nltk_data]     /home/elstand/nltk_data...\n",
      "[nltk_data]   Package stopwords is already up-to-date!\n",
      "[nltk_data] Downloading package averaged_perceptron_tagger to\n",
      "[nltk_data]     /home/elstand/nltk_data...\n",
      "[nltk_data]   Package averaged_perceptron_tagger is already up-to-\n",
      "[nltk_data]       date!\n"
     ]
    }
   ],
   "source": [
    "# Get stop words from all packages\n",
    "# NLTK\n",
    "nltk_dir = os.path.join(os.path.expanduser(\"~\"), \"nltk_data\")\n",
    "if not os.path.isdir(nltk_dir) or cloud_run:\n",
    "    nltk.download(\"punkt\")\n",
    "    nltk.download(\"wordnet\")\n",
    "    nltk.download(\"stopwords\")\n",
    "    nltk.download(\"averaged_perceptron_tagger\")\n",
    "nltk_stop_words = set(stopwords.words(\"english\"))\n",
    "# Spacy and sklearn\n",
    "spacy_stop_words = STOP_WORDS\n",
    "sklearn_stop_words = stop_words.ENGLISH_STOP_WORDS\n",
    "\n",
    "# Assemble manual list of stop words\n",
    "spacy_not_in_sklearn = set(spacy_stop_words) - set(sklearn_stop_words)\n",
    "nltk_not_in_sklearn = set(nltk_stop_words) - set(sklearn_stop_words)\n",
    "all_stop_words = set(\n",
    "    list(set(sklearn_stop_words))\n",
    "    + list(spacy_not_in_sklearn)\n",
    "    + list(nltk_not_in_sklearn)\n",
    ")\n",
    "\n",
    "# Manually add to stop words\n",
    "for manual_stop_word in manual_stop_words:\n",
    "    all_stop_words.add(manual_stop_word)"
   ]
  },
  {
   "cell_type": "code",
   "execution_count": 11,
   "metadata": {
    "execution": {
     "iopub.execute_input": "2020-07-09T21:29:48.775039Z",
     "iopub.status.busy": "2020-07-09T21:29:48.774403Z",
     "iopub.status.idle": "2020-07-09T21:29:48.798201Z",
     "shell.execute_reply": "2020-07-09T21:29:48.798877Z"
    },
    "papermill": {
     "duration": 0.053131,
     "end_time": "2020-07-09T21:29:48.799033",
     "exception": false,
     "start_time": "2020-07-09T21:29:48.745902",
     "status": "completed"
    },
    "tags": []
   },
   "outputs": [],
   "source": [
    "def preprocessing(line):\n",
    "    line = line.lower()\n",
    "    line = re.sub(r\"[{}]\".format(string.punctuation), \" \", line)\n",
    "    return line"
   ]
  },
  {
   "cell_type": "markdown",
   "metadata": {
    "papermill": {
     "duration": 0.024891,
     "end_time": "2020-07-09T21:29:48.849410",
     "exception": false,
     "start_time": "2020-07-09T21:29:48.824519",
     "status": "completed"
    },
    "tags": []
   },
   "source": [
    "<a id=\"load-joined-data\"></a>\n",
    "\n",
    "## 2. [Load joined data](#load-joined-data)"
   ]
  },
  {
   "cell_type": "markdown",
   "metadata": {
    "papermill": {
     "duration": 0.025332,
     "end_time": "2020-07-09T21:29:48.899910",
     "exception": false,
     "start_time": "2020-07-09T21:29:48.874578",
     "status": "completed"
    },
    "tags": []
   },
   "source": [
    "As with the previous notebooks, we'll start by loading the joined data from from a publication, stored at `data/processed/<publication-name>_processed.csv`, into a `DataFrame`"
   ]
  },
  {
   "cell_type": "code",
   "execution_count": 12,
   "metadata": {
    "execution": {
     "iopub.execute_input": "2020-07-09T21:29:48.955422Z",
     "iopub.status.busy": "2020-07-09T21:29:48.954403Z",
     "iopub.status.idle": "2020-07-09T21:29:49.156246Z",
     "shell.execute_reply": "2020-07-09T21:29:49.156753Z"
    },
    "papermill": {
     "duration": 0.231892,
     "end_time": "2020-07-09T21:29:49.156885",
     "exception": false,
     "start_time": "2020-07-09T21:29:48.924993",
     "status": "completed"
    },
    "tags": []
   },
   "outputs": [
    {
     "data": {
      "text/html": [
       "<div>\n",
       "<style scoped>\n",
       "    .dataframe tbody tr th:only-of-type {\n",
       "        vertical-align: middle;\n",
       "    }\n",
       "\n",
       "    .dataframe tbody tr th {\n",
       "        vertical-align: top;\n",
       "    }\n",
       "\n",
       "    .dataframe thead th {\n",
       "        text-align: right;\n",
       "    }\n",
       "</style>\n",
       "<table border=\"1\" class=\"dataframe\">\n",
       "  <thead>\n",
       "    <tr style=\"text-align: right;\">\n",
       "      <th></th>\n",
       "      <th>text</th>\n",
       "      <th>year</th>\n",
       "    </tr>\n",
       "  </thead>\n",
       "  <tbody>\n",
       "    <tr>\n",
       "      <th>0</th>\n",
       "      <td>The second Russian satellite has demonstrated ...</td>\n",
       "      <td>1957</td>\n",
       "    </tr>\n",
       "    <tr>\n",
       "      <th>1</th>\n",
       "      <td>Col. Glenn reported \"hale and hearty\"Picked up...</td>\n",
       "      <td>1962</td>\n",
       "    </tr>\n",
       "    <tr>\n",
       "      <th>2</th>\n",
       "      <td>The entire three-man crew of the Apollo One sp...</td>\n",
       "      <td>1967</td>\n",
       "    </tr>\n",
       "    <tr>\n",
       "      <th>3</th>\n",
       "      <td>Russia's celebratory gesture in manned space f...</td>\n",
       "      <td>1967</td>\n",
       "    </tr>\n",
       "    <tr>\n",
       "      <th>4</th>\n",
       "      <td>Men are on the moon. At 3 39 a.m. this morning...</td>\n",
       "      <td>1969</td>\n",
       "    </tr>\n",
       "  </tbody>\n",
       "</table>\n",
       "</div>"
      ],
      "text/plain": [
       "                                                text  year\n",
       "0  The second Russian satellite has demonstrated ...  1957\n",
       "1  Col. Glenn reported \"hale and hearty\"Picked up...  1962\n",
       "2  The entire three-man crew of the Apollo One sp...  1967\n",
       "3  Russia's celebratory gesture in manned space f...  1967\n",
       "4  Men are on the moon. At 3 39 a.m. this morning...  1969"
      ]
     },
     "metadata": {},
     "output_type": "display_data"
    }
   ],
   "source": [
    "df = pd.read_csv(data_dir_path)\n",
    "df = df[[\"text\", \"year\"]]\n",
    "display(df.head())"
   ]
  },
  {
   "cell_type": "code",
   "execution_count": 13,
   "metadata": {
    "execution": {
     "iopub.execute_input": "2020-07-09T21:29:49.212260Z",
     "iopub.status.busy": "2020-07-09T21:29:49.211636Z",
     "iopub.status.idle": "2020-07-09T21:29:49.233359Z",
     "shell.execute_reply": "2020-07-09T21:29:49.232561Z"
    },
    "papermill": {
     "duration": 0.050468,
     "end_time": "2020-07-09T21:29:49.233483",
     "exception": false,
     "start_time": "2020-07-09T21:29:49.183015",
     "status": "completed"
    },
    "tags": []
   },
   "outputs": [],
   "source": [
    "corpus_raw = df.loc[:, \"text\"].values.tolist()"
   ]
  },
  {
   "cell_type": "markdown",
   "metadata": {
    "papermill": {
     "duration": 0.025464,
     "end_time": "2020-07-09T21:29:49.290326",
     "exception": false,
     "start_time": "2020-07-09T21:29:49.264862",
     "status": "completed"
    },
    "tags": []
   },
   "source": [
    "<a id=\"create-clustering-pipeline\"></a>\n",
    "\n",
    "## 3. [Create clustering pipeline](#create-clustering-pipeline)"
   ]
  },
  {
   "cell_type": "markdown",
   "metadata": {
    "papermill": {
     "duration": 0.025945,
     "end_time": "2020-07-09T21:29:49.342112",
     "exception": false,
     "start_time": "2020-07-09T21:29:49.316167",
     "status": "completed"
    },
    "tags": []
   },
   "source": [
    "Next, we'll define the a clustering pipeline using the [`KMeans` clustering algorithm](https://en.wikipedia.org/wiki/K-means_clustering)"
   ]
  },
  {
   "cell_type": "code",
   "execution_count": 14,
   "metadata": {
    "execution": {
     "iopub.execute_input": "2020-07-09T21:29:49.399684Z",
     "iopub.status.busy": "2020-07-09T21:29:49.398713Z",
     "iopub.status.idle": "2020-07-09T21:29:49.435763Z",
     "shell.execute_reply": "2020-07-09T21:29:49.435229Z"
    },
    "papermill": {
     "duration": 0.068158,
     "end_time": "2020-07-09T21:29:49.435882",
     "exception": false,
     "start_time": "2020-07-09T21:29:49.367724",
     "status": "completed"
    },
    "tags": []
   },
   "outputs": [],
   "source": [
    "if minibatch:\n",
    "    km = MiniBatchKMeans(\n",
    "        n_clusters=len(mapping_dict[publication_name]),\n",
    "        init=\"k-means++\",\n",
    "        n_init=10,\n",
    "        init_size=3000,\n",
    "        batch_size=3000,\n",
    "        verbose=False,\n",
    "        random_state=kmeans_random_state,\n",
    "    )\n",
    "else:\n",
    "    km = KMeans(\n",
    "        n_clusters=len(mapping_dict[publication_name]),\n",
    "        init=\"k-means++\",\n",
    "        max_iter=500,\n",
    "        n_init=10,\n",
    "        verbose=False,\n",
    "        random_state=kmeans_random_state,\n",
    "    )\n",
    "vectorizer = TfidfVectorizer(\n",
    "    tokenizer=None,\n",
    "    preprocessor=preprocessing,\n",
    "    stop_words=all_stop_words,  # \"all_stop_words\" or \"english\"\n",
    "    lowercase=True,\n",
    "    ngram_range=(1, 1),\n",
    "    max_df=1.0,\n",
    "    min_df=1,\n",
    "    max_features=None,\n",
    "    binary=False,\n",
    "    strip_accents=\"ascii\",\n",
    "    token_pattern=\"[a-z][a-z]+\",\n",
    ")\n",
    "pipe = Pipeline(\n",
    "    steps=[\n",
    "        (\"cleaner\", TextCleaner(split=False)),\n",
    "        (\"vectorizer\", vectorizer),\n",
    "        (\"kmeans\", km),\n",
    "    ]\n",
    ")"
   ]
  },
  {
   "cell_type": "markdown",
   "metadata": {
    "papermill": {
     "duration": 0.026213,
     "end_time": "2020-07-09T21:29:49.488060",
     "exception": false,
     "start_time": "2020-07-09T21:29:49.461847",
     "status": "completed"
    },
    "tags": []
   },
   "source": [
    "<a id=\"clustering\"></a>\n",
    "\n",
    "## 4. [Clustering](#clustering)"
   ]
  },
  {
   "cell_type": "markdown",
   "metadata": {
    "papermill": {
     "duration": 0.02555,
     "end_time": "2020-07-09T21:29:49.539295",
     "exception": false,
     "start_time": "2020-07-09T21:29:49.513745",
     "status": "completed"
    },
    "tags": []
   },
   "source": [
    "<a id=\"analysis\"></a>\n",
    "\n",
    "### 4.1. [Analysis](#analysis)"
   ]
  },
  {
   "cell_type": "markdown",
   "metadata": {
    "papermill": {
     "duration": 0.025951,
     "end_time": "2020-07-09T21:29:49.591031",
     "exception": false,
     "start_time": "2020-07-09T21:29:49.565080",
     "status": "completed"
    },
    "tags": []
   },
   "source": [
    "Next, we'll use the clustering analysis pipeline to cluster the documents in the corpus"
   ]
  },
  {
   "cell_type": "code",
   "execution_count": 15,
   "metadata": {
    "execution": {
     "iopub.execute_input": "2020-07-09T21:29:49.646874Z",
     "iopub.status.busy": "2020-07-09T21:29:49.646243Z",
     "iopub.status.idle": "2020-07-09T21:30:23.120578Z",
     "shell.execute_reply": "2020-07-09T21:30:23.121052Z"
    },
    "papermill": {
     "duration": 33.50455,
     "end_time": "2020-07-09T21:30:23.121175",
     "exception": false,
     "start_time": "2020-07-09T21:29:49.616625",
     "status": "completed"
    },
    "tags": []
   },
   "outputs": [
    {
     "name": "stdout",
     "output_type": "stream",
     "text": [
      "Silhouette Coefficient: 0.015\n",
      "Cell exection time: 0 minutes, 33.42 seconds\n"
     ]
    }
   ],
   "source": [
    "cell_st = time()\n",
    "\n",
    "_ = pipe.fit_transform(corpus_raw)\n",
    "X_vectors = pipe.named_steps[\"vectorizer\"].transform(corpus_raw)\n",
    "silhouette_score_calc = silhouette_score(\n",
    "    X_vectors, pipe.named_steps[\"kmeans\"].labels_, sample_size=df.shape[0]\n",
    ")\n",
    "print(f\"Silhouette Coefficient: {silhouette_score_calc:.3f}\")\n",
    "\n",
    "total_minutes, total_seconds = divmod(time() - cell_st, 60)\n",
    "print(\n",
    "    f\"Cell exection time: {int(total_minutes):d} minutes, {total_seconds:.2f} seconds\"\n",
    ")"
   ]
  },
  {
   "cell_type": "markdown",
   "metadata": {
    "papermill": {
     "duration": 0.026387,
     "end_time": "2020-07-09T21:30:23.173770",
     "exception": false,
     "start_time": "2020-07-09T21:30:23.147383",
     "status": "completed"
    },
    "tags": []
   },
   "source": [
    "Below, are the top 10 terms per cluster created"
   ]
  },
  {
   "cell_type": "code",
   "execution_count": 16,
   "metadata": {
    "execution": {
     "iopub.execute_input": "2020-07-09T21:30:23.230807Z",
     "iopub.status.busy": "2020-07-09T21:30:23.230177Z",
     "iopub.status.idle": "2020-07-09T21:30:23.430778Z",
     "shell.execute_reply": "2020-07-09T21:30:23.430141Z"
    },
    "papermill": {
     "duration": 0.23102,
     "end_time": "2020-07-09T21:30:23.430888",
     "exception": false,
     "start_time": "2020-07-09T21:30:23.199868",
     "status": "completed"
    },
    "tags": []
   },
   "outputs": [
    {
     "name": "stdout",
     "output_type": "stream",
     "text": [
      "Top terms per cluster, using random_state=42:\n"
     ]
    },
    {
     "name": "stdout",
     "output_type": "stream",
     "text": [
      "Cluster 0: stars telescope black galaxies universe galaxy star light hubble gravitational\n",
      "Cluster 1: shuttle space nasa launch station astronauts columbia mission crew said\n",
      "Cluster 2: climate life ice change earth water carbon warming global scientists\n",
      "Cluster 3: brain cells brains memory people memories body human patients neurons\n",
      "Cluster 4: comet rosetta philae comets lander dust mission sun surface solar\n",
      "Cluster 5: space rocket launch satellites satellite spacex flight said company orbit\n",
      "Cluster 6: universe particles particle higgs matter theory physics dark lhc energy\n",
      "Cluster 7: science space people research said new like says time world\n",
      "Cluster 8: solar sun pluto planet earth spacecraft venus cassini planets said\n",
      "Cluster 9: planets planet star stars kepler life astronomers habitable telescope earth\n",
      "Cluster 10: asteroid asteroids earth impact space hit spacecraft rock eros object\n",
      "Cluster 11: moon lunar space apollo armstrong moons mission nasa astronauts surface\n",
      "Cluster 12: eclipse iss shadow evening predictions asterisks moon directions earths sky\n",
      "Cluster 13: station space mir russian crew peake astronaut said astronauts iss\n",
      "Cluster 14: mars martian planet life mission rover water surface lander said\n"
     ]
    }
   ],
   "source": [
    "print(f\"Top terms per cluster, using random_state={kmeans_random_state}:\")\n",
    "order_centroids = pipe.named_steps[\"kmeans\"].cluster_centers_.argsort()[:, ::-1]\n",
    "terms = pipe.named_steps[\"vectorizer\"].get_feature_names()\n",
    "for i in range(len(mapping_dict[publication_name])):\n",
    "    print(f\"Cluster {i:0d}:\", end=\"\")\n",
    "    for ind in order_centroids[i, :10]:\n",
    "        print(f\" {terms[ind]}\", end=\"\")\n",
    "    print()"
   ]
  },
  {
   "cell_type": "markdown",
   "metadata": {
    "papermill": {
     "duration": 0.027409,
     "end_time": "2020-07-09T21:30:23.486095",
     "exception": false,
     "start_time": "2020-07-09T21:30:23.458686",
     "status": "completed"
    },
    "tags": []
   },
   "source": [
    "The clusters are shown below, for the pre-determined choice of `random_state` of `42` specified in the `KMeans` clustering algorithm above"
   ]
  },
  {
   "cell_type": "markdown",
   "metadata": {
    "papermill": {
     "duration": 0.026472,
     "end_time": "2020-07-09T21:30:23.539449",
     "exception": false,
     "start_time": "2020-07-09T21:30:23.512977",
     "status": "completed"
    },
    "tags": []
   },
   "source": [
    "```\n",
    "Top terms per cluster, using random_state=42:\n",
    "Cluster 0: stars telescope black galaxies universe galaxy star light hubble gravitational\n",
    "Cluster 1: shuttle space nasa launch station astronauts columbia mission crew said\n",
    "Cluster 2: climate life ice change earth water carbon warming global scientists\n",
    "Cluster 3: brain cells brains memory people memories body human patients neurons\n",
    "Cluster 4: comet rosetta philae comets lander dust mission sun surface solar\n",
    "Cluster 5: space rocket launch satellites satellite spacex flight said company orbit\n",
    "Cluster 6: universe particles particle higgs matter theory physics dark lhc energy\n",
    "Cluster 7: science space people research said new like says time world\n",
    "Cluster 8: solar sun pluto planet earth spacecraft venus cassini planets said\n",
    "Cluster 9: planets planet star stars kepler life astronomers habitable telescope earth\n",
    "Cluster 10: asteroid asteroids earth impact space hit spacecraft rock eros object\n",
    "Cluster 11: moon lunar space apollo armstrong moons mission nasa astronauts surface\n",
    "Cluster 12: eclipse iss shadow evening predictions asterisks moon directions earths sky\n",
    "Cluster 13: station space mir russian crew peake astronaut said astronauts iss\n",
    "Cluster 14: mars martian planet life mission rover water surface lander said\n",
    "```"
   ]
  },
  {
   "cell_type": "markdown",
   "metadata": {
    "papermill": {
     "duration": 0.026997,
     "end_time": "2020-07-09T21:30:23.593201",
     "exception": false,
     "start_time": "2020-07-09T21:30:23.566204",
     "status": "completed"
    },
    "tags": []
   },
   "source": [
    "**Observations**\n",
    "1. Generally, these divisions/clusters are similar to those found in the NMF (`sklearn`) or CorEx approaches.\n",
    "2. One notable exception is that none of the clusters correspond to the topic `Space Funding Bodies`. Analysis of the number of occurrences of this as the most popular topic, over the decades, is not possible.\n",
    "   - in its place is `Sky Watching`, which is very similar to `Imaging Stars - Astronomy`\n",
    "3. The `Saturn Research` topic appears to have been merged into `Academia` - the research element is a common theme in both and is likely driving this combination."
   ]
  },
  {
   "cell_type": "markdown",
   "metadata": {
    "papermill": {
     "duration": 0.02657,
     "end_time": "2020-07-09T21:30:23.646512",
     "exception": false,
     "start_time": "2020-07-09T21:30:23.619942",
     "status": "completed"
    },
    "tags": []
   },
   "source": [
    "The [distance of each document from its associated cluster center](https://stackoverflow.com/questions/54240144/distance-between-nodes-and-the-centroid-in-a-kmeans-cluster/54247525#54247525) is shown below"
   ]
  },
  {
   "cell_type": "code",
   "execution_count": 17,
   "metadata": {
    "execution": {
     "iopub.execute_input": "2020-07-09T21:30:23.705421Z",
     "iopub.status.busy": "2020-07-09T21:30:23.704346Z",
     "iopub.status.idle": "2020-07-09T21:30:42.221791Z",
     "shell.execute_reply": "2020-07-09T21:30:42.222718Z"
    },
    "papermill": {
     "duration": 18.549617,
     "end_time": "2020-07-09T21:30:42.222892",
     "exception": false,
     "start_time": "2020-07-09T21:30:23.673275",
     "status": "completed"
    },
    "tags": []
   },
   "outputs": [
    {
     "data": {
      "text/html": [
       "<div>\n",
       "<style scoped>\n",
       "    .dataframe tbody tr th:only-of-type {\n",
       "        vertical-align: middle;\n",
       "    }\n",
       "\n",
       "    .dataframe tbody tr th {\n",
       "        vertical-align: top;\n",
       "    }\n",
       "\n",
       "    .dataframe thead th {\n",
       "        text-align: right;\n",
       "    }\n",
       "</style>\n",
       "<table border=\"1\" class=\"dataframe\">\n",
       "  <thead>\n",
       "    <tr style=\"text-align: right;\">\n",
       "      <th></th>\n",
       "      <th>text</th>\n",
       "      <th>year</th>\n",
       "      <th>sqdist</th>\n",
       "    </tr>\n",
       "  </thead>\n",
       "  <tbody>\n",
       "    <tr>\n",
       "      <th>0</th>\n",
       "      <td>The second Russian satellite has demonstrated ...</td>\n",
       "      <td>1957</td>\n",
       "      <td>15.58</td>\n",
       "    </tr>\n",
       "    <tr>\n",
       "      <th>1</th>\n",
       "      <td>Col. Glenn reported \"hale and hearty\"Picked up...</td>\n",
       "      <td>1962</td>\n",
       "      <td>16.08</td>\n",
       "    </tr>\n",
       "    <tr>\n",
       "      <th>2</th>\n",
       "      <td>The entire three-man crew of the Apollo One sp...</td>\n",
       "      <td>1967</td>\n",
       "      <td>15.76</td>\n",
       "    </tr>\n",
       "    <tr>\n",
       "      <th>3</th>\n",
       "      <td>Russia's celebratory gesture in manned space f...</td>\n",
       "      <td>1967</td>\n",
       "      <td>15.86</td>\n",
       "    </tr>\n",
       "    <tr>\n",
       "      <th>4</th>\n",
       "      <td>Men are on the moon. At 3 39 a.m. this morning...</td>\n",
       "      <td>1969</td>\n",
       "      <td>15.62</td>\n",
       "    </tr>\n",
       "    <tr>\n",
       "      <th>5</th>\n",
       "      <td>Men are on the moon. At 3:39 am this morning -...</td>\n",
       "      <td>1969</td>\n",
       "      <td>15.66</td>\n",
       "    </tr>\n",
       "    <tr>\n",
       "      <th>6</th>\n",
       "      <td>The three astronauts in the stricken Apollo 13...</td>\n",
       "      <td>1970</td>\n",
       "      <td>15.67</td>\n",
       "    </tr>\n",
       "    <tr>\n",
       "      <th>7</th>\n",
       "      <td>The outlook for manned space flights looks ble...</td>\n",
       "      <td>1971</td>\n",
       "      <td>15.68</td>\n",
       "    </tr>\n",
       "    <tr>\n",
       "      <th>8</th>\n",
       "      <td>The American space programme has ground to a s...</td>\n",
       "      <td>1986</td>\n",
       "      <td>15.47</td>\n",
       "    </tr>\n",
       "    <tr>\n",
       "      <th>9</th>\n",
       "      <td>Space tragedies either unfold behind the impen...</td>\n",
       "      <td>1986</td>\n",
       "      <td>16.09</td>\n",
       "    </tr>\n",
       "  </tbody>\n",
       "</table>\n",
       "</div>"
      ],
      "text/plain": [
       "                                                text  year  sqdist\n",
       "0  The second Russian satellite has demonstrated ...  1957   15.58\n",
       "1  Col. Glenn reported \"hale and hearty\"Picked up...  1962   16.08\n",
       "2  The entire three-man crew of the Apollo One sp...  1967   15.76\n",
       "3  Russia's celebratory gesture in manned space f...  1967   15.86\n",
       "4  Men are on the moon. At 3 39 a.m. this morning...  1969   15.62\n",
       "5  Men are on the moon. At 3:39 am this morning -...  1969   15.66\n",
       "6  The three astronauts in the stricken Apollo 13...  1970   15.67\n",
       "7  The outlook for manned space flights looks ble...  1971   15.68\n",
       "8  The American space programme has ground to a s...  1986   15.47\n",
       "9  Space tragedies either unfold behind the impen...  1986   16.09"
      ]
     },
     "metadata": {},
     "output_type": "display_data"
    },
    {
     "name": "stdout",
     "output_type": "stream",
     "text": [
      "Cell exection time: 0 minutes, 18.48 seconds\n"
     ]
    }
   ],
   "source": [
    "cell_st = time()\n",
    "\n",
    "X_dist = pipe.named_steps[\"kmeans\"].fit_transform(X_vectors) ** 2\n",
    "df[\"sqdist\"] = pd.Series(X_dist.sum(axis=1).round(2))\n",
    "display(df.head(10))\n",
    "\n",
    "total_minutes, total_seconds = divmod(time() - cell_st, 60)\n",
    "print(\n",
    "    f\"Cell exection time: {int(total_minutes):d} minutes, {total_seconds:.2f} seconds\"\n",
    ")"
   ]
  },
  {
   "cell_type": "markdown",
   "metadata": {
    "papermill": {
     "duration": 0.034027,
     "end_time": "2020-07-09T21:30:42.307773",
     "exception": false,
     "start_time": "2020-07-09T21:30:42.273746",
     "status": "completed"
    },
    "tags": []
   },
   "source": [
    "We'll now [add](https://stackoverflow.com/a/50804098/4057186) the topic name (names assigned to each cluster, based on its component terms) found, to each document the above as a separate column"
   ]
  },
  {
   "cell_type": "code",
   "execution_count": 18,
   "metadata": {
    "execution": {
     "iopub.execute_input": "2020-07-09T21:30:42.368107Z",
     "iopub.status.busy": "2020-07-09T21:30:42.367024Z",
     "iopub.status.idle": "2020-07-09T21:30:42.416801Z",
     "shell.execute_reply": "2020-07-09T21:30:42.416078Z"
    },
    "papermill": {
     "duration": 0.081427,
     "end_time": "2020-07-09T21:30:42.416914",
     "exception": false,
     "start_time": "2020-07-09T21:30:42.335487",
     "status": "completed"
    },
    "tags": []
   },
   "outputs": [
    {
     "data": {
      "text/html": [
       "<div>\n",
       "<style scoped>\n",
       "    .dataframe tbody tr th:only-of-type {\n",
       "        vertical-align: middle;\n",
       "    }\n",
       "\n",
       "    .dataframe tbody tr th {\n",
       "        vertical-align: top;\n",
       "    }\n",
       "\n",
       "    .dataframe thead th {\n",
       "        text-align: right;\n",
       "    }\n",
       "</style>\n",
       "<table border=\"1\" class=\"dataframe\">\n",
       "  <thead>\n",
       "    <tr style=\"text-align: right;\">\n",
       "      <th></th>\n",
       "      <th>text</th>\n",
       "      <th>year</th>\n",
       "      <th>sqdist</th>\n",
       "      <th>most_popular_topic</th>\n",
       "    </tr>\n",
       "  </thead>\n",
       "  <tbody>\n",
       "    <tr>\n",
       "      <th>0</th>\n",
       "      <td>The second Russian satellite has demonstrated ...</td>\n",
       "      <td>1957</td>\n",
       "      <td>15.58</td>\n",
       "      <td>ISS - USA and Russian segment</td>\n",
       "    </tr>\n",
       "    <tr>\n",
       "      <th>1</th>\n",
       "      <td>Col. Glenn reported \"hale and hearty\"Picked up...</td>\n",
       "      <td>1962</td>\n",
       "      <td>16.08</td>\n",
       "      <td>ISS - USA and Russian segment</td>\n",
       "    </tr>\n",
       "    <tr>\n",
       "      <th>2</th>\n",
       "      <td>The entire three-man crew of the Apollo One sp...</td>\n",
       "      <td>1967</td>\n",
       "      <td>15.76</td>\n",
       "      <td>ISS - USA and Russian segment</td>\n",
       "    </tr>\n",
       "    <tr>\n",
       "      <th>3</th>\n",
       "      <td>Russia's celebratory gesture in manned space f...</td>\n",
       "      <td>1967</td>\n",
       "      <td>15.86</td>\n",
       "      <td>Studying Comets and Meteors</td>\n",
       "    </tr>\n",
       "    <tr>\n",
       "      <th>4</th>\n",
       "      <td>Men are on the moon. At 3 39 a.m. this morning...</td>\n",
       "      <td>1969</td>\n",
       "      <td>15.62</td>\n",
       "      <td>Global Warming</td>\n",
       "    </tr>\n",
       "    <tr>\n",
       "      <th>5</th>\n",
       "      <td>Men are on the moon. At 3:39 am this morning -...</td>\n",
       "      <td>1969</td>\n",
       "      <td>15.66</td>\n",
       "      <td>Global Warming</td>\n",
       "    </tr>\n",
       "    <tr>\n",
       "      <th>6</th>\n",
       "      <td>The three astronauts in the stricken Apollo 13...</td>\n",
       "      <td>1970</td>\n",
       "      <td>15.67</td>\n",
       "      <td>Global Warming</td>\n",
       "    </tr>\n",
       "    <tr>\n",
       "      <th>7</th>\n",
       "      <td>The outlook for manned space flights looks ble...</td>\n",
       "      <td>1971</td>\n",
       "      <td>15.68</td>\n",
       "      <td>Studying Comets and Meteors</td>\n",
       "    </tr>\n",
       "    <tr>\n",
       "      <th>8</th>\n",
       "      <td>The American space programme has ground to a s...</td>\n",
       "      <td>1986</td>\n",
       "      <td>15.47</td>\n",
       "      <td>Imaging Stars - Astronomy</td>\n",
       "    </tr>\n",
       "    <tr>\n",
       "      <th>9</th>\n",
       "      <td>Space tragedies either unfold behind the impen...</td>\n",
       "      <td>1986</td>\n",
       "      <td>16.09</td>\n",
       "      <td>Rocket Launches - Moon Landing</td>\n",
       "    </tr>\n",
       "  </tbody>\n",
       "</table>\n",
       "</div>"
      ],
      "text/plain": [
       "                                                text  year  sqdist              most_popular_topic\n",
       "0  The second Russian satellite has demonstrated ...  1957   15.58   ISS - USA and Russian segment\n",
       "1  Col. Glenn reported \"hale and hearty\"Picked up...  1962   16.08   ISS - USA and Russian segment\n",
       "2  The entire three-man crew of the Apollo One sp...  1967   15.76   ISS - USA and Russian segment\n",
       "3  Russia's celebratory gesture in manned space f...  1967   15.86     Studying Comets and Meteors\n",
       "4  Men are on the moon. At 3 39 a.m. this morning...  1969   15.62                  Global Warming\n",
       "5  Men are on the moon. At 3:39 am this morning -...  1969   15.66                  Global Warming\n",
       "6  The three astronauts in the stricken Apollo 13...  1970   15.67                  Global Warming\n",
       "7  The outlook for manned space flights looks ble...  1971   15.68     Studying Comets and Meteors\n",
       "8  The American space programme has ground to a s...  1986   15.47       Imaging Stars - Astronomy\n",
       "9  Space tragedies either unfold behind the impen...  1986   16.09  Rocket Launches - Moon Landing"
      ]
     },
     "metadata": {},
     "output_type": "display_data"
    }
   ],
   "source": [
    "# Get indices of points for each cluster\n",
    "cluster_topic_name_mapper_dict = {\n",
    "    k: np.where(pipe.named_steps[\"kmeans\"].labels_ == k)[0].tolist()\n",
    "    for k in range(pipe.named_steps[\"kmeans\"].n_clusters)\n",
    "}\n",
    "# Replace cluster indices by manually determined names\n",
    "df[\"most_popular_topic\"] = np.nan\n",
    "for k, v in cluster_topic_name_mapper_dict.items():\n",
    "    df.loc[v, \"most_popular_topic\"] = mapping_dict[publication_name][k]\n",
    "display(df.head(10))"
   ]
  },
  {
   "cell_type": "markdown",
   "metadata": {
    "papermill": {
     "duration": 0.028628,
     "end_time": "2020-07-09T21:30:42.476608",
     "exception": false,
     "start_time": "2020-07-09T21:30:42.447980",
     "status": "completed"
    },
    "tags": []
   },
   "source": [
    "<a id=\"exploring-clustering-topics-combined-with-source-data\"></a>\n",
    "\n",
    "### 4.2. [Exploring clustering topics combined with source data](#exploring-clustering-topics-combined-with-source-data)"
   ]
  },
  {
   "cell_type": "markdown",
   "metadata": {
    "papermill": {
     "duration": 0.027991,
     "end_time": "2020-07-09T21:30:42.532965",
     "exception": false,
     "start_time": "2020-07-09T21:30:42.504974",
     "status": "completed"
    },
    "tags": []
   },
   "source": [
    "Here, we will show a heatmap of the most popular topic by year"
   ]
  },
  {
   "cell_type": "code",
   "execution_count": 19,
   "metadata": {
    "execution": {
     "iopub.execute_input": "2020-07-09T21:30:42.594423Z",
     "iopub.status.busy": "2020-07-09T21:30:42.593727Z",
     "iopub.status.idle": "2020-07-09T21:30:42.630616Z",
     "shell.execute_reply": "2020-07-09T21:30:42.629937Z"
    },
    "papermill": {
     "duration": 0.069423,
     "end_time": "2020-07-09T21:30:42.630726",
     "exception": false,
     "start_time": "2020-07-09T21:30:42.561303",
     "status": "completed"
    },
    "tags": []
   },
   "outputs": [
    {
     "data": {
      "text/html": [
       "<div>\n",
       "<style scoped>\n",
       "    .dataframe tbody tr th:only-of-type {\n",
       "        vertical-align: middle;\n",
       "    }\n",
       "\n",
       "    .dataframe tbody tr th {\n",
       "        vertical-align: top;\n",
       "    }\n",
       "\n",
       "    .dataframe thead th {\n",
       "        text-align: right;\n",
       "    }\n",
       "</style>\n",
       "<table border=\"1\" class=\"dataframe\">\n",
       "  <thead>\n",
       "    <tr style=\"text-align: right;\">\n",
       "      <th></th>\n",
       "      <th>most_popular_topic</th>\n",
       "      <th>year</th>\n",
       "      <th>count</th>\n",
       "    </tr>\n",
       "  </thead>\n",
       "  <tbody>\n",
       "    <tr>\n",
       "      <th>285</th>\n",
       "      <td>Studying Comets and Meteors</td>\n",
       "      <td>2000</td>\n",
       "      <td>38</td>\n",
       "    </tr>\n",
       "    <tr>\n",
       "      <th>284</th>\n",
       "      <td>Studying Comets and Meteors</td>\n",
       "      <td>1999</td>\n",
       "      <td>24</td>\n",
       "    </tr>\n",
       "    <tr>\n",
       "      <th>286</th>\n",
       "      <td>Studying Comets and Meteors</td>\n",
       "      <td>2001</td>\n",
       "      <td>16</td>\n",
       "    </tr>\n",
       "    <tr>\n",
       "      <th>288</th>\n",
       "      <td>Studying Comets and Meteors</td>\n",
       "      <td>2003</td>\n",
       "      <td>13</td>\n",
       "    </tr>\n",
       "    <tr>\n",
       "      <th>301</th>\n",
       "      <td>Studying Comets and Meteors</td>\n",
       "      <td>2016</td>\n",
       "      <td>9</td>\n",
       "    </tr>\n",
       "  </tbody>\n",
       "</table>\n",
       "</div>"
      ],
      "text/plain": [
       "              most_popular_topic  year  count\n",
       "285  Studying Comets and Meteors  2000     38\n",
       "284  Studying Comets and Meteors  1999     24\n",
       "286  Studying Comets and Meteors  2001     16\n",
       "288  Studying Comets and Meteors  2003     13\n",
       "301  Studying Comets and Meteors  2016      9"
      ]
     },
     "metadata": {},
     "output_type": "display_data"
    }
   ],
   "source": [
    "topics_by_timeframe = (\n",
    "    df.groupby([\"most_popular_topic\", \"year\"])\n",
    "    .size()\n",
    "    .reset_index()\n",
    "    .sort_values(by=[\"most_popular_topic\", 0, \"year\"], ascending=False)\n",
    "    .rename(columns={0: \"count\"})\n",
    ")\n",
    "display(topics_by_timeframe.head())"
   ]
  },
  {
   "cell_type": "code",
   "execution_count": 20,
   "metadata": {
    "execution": {
     "iopub.execute_input": "2020-07-09T21:30:42.694606Z",
     "iopub.status.busy": "2020-07-09T21:30:42.693900Z",
     "iopub.status.idle": "2020-07-09T21:30:42.769189Z",
     "shell.execute_reply": "2020-07-09T21:30:42.769812Z"
    },
    "papermill": {
     "duration": 0.110044,
     "end_time": "2020-07-09T21:30:42.769960",
     "exception": false,
     "start_time": "2020-07-09T21:30:42.659916",
     "status": "completed"
    },
    "tags": []
   },
   "outputs": [
    {
     "data": {
      "text/html": [
       "\n",
       "<div id=\"altair-viz-d3f4cab7fbf24f88b92888844c274128\"></div>\n",
       "<script type=\"text/javascript\">\n",
       "  (function(spec, embedOpt){\n",
       "    let outputDiv = document.currentScript.previousElementSibling;\n",
       "    if (outputDiv.id !== \"altair-viz-d3f4cab7fbf24f88b92888844c274128\") {\n",
       "      outputDiv = document.getElementById(\"altair-viz-d3f4cab7fbf24f88b92888844c274128\");\n",
       "    }\n",
       "    const paths = {\n",
       "      \"vega\": \"https://cdn.jsdelivr.net/npm//vega@5?noext\",\n",
       "      \"vega-lib\": \"https://cdn.jsdelivr.net/npm//vega-lib?noext\",\n",
       "      \"vega-lite\": \"https://cdn.jsdelivr.net/npm//vega-lite@4.8.1?noext\",\n",
       "      \"vega-embed\": \"https://cdn.jsdelivr.net/npm//vega-embed@6?noext\",\n",
       "    };\n",
       "\n",
       "    function loadScript(lib) {\n",
       "      return new Promise(function(resolve, reject) {\n",
       "        var s = document.createElement('script');\n",
       "        s.src = paths[lib];\n",
       "        s.async = true;\n",
       "        s.onload = () => resolve(paths[lib]);\n",
       "        s.onerror = () => reject(`Error loading script: ${paths[lib]}`);\n",
       "        document.getElementsByTagName(\"head\")[0].appendChild(s);\n",
       "      });\n",
       "    }\n",
       "\n",
       "    function showError(err) {\n",
       "      outputDiv.innerHTML = `<div class=\"error\" style=\"color:red;\">${err}</div>`;\n",
       "      throw err;\n",
       "    }\n",
       "\n",
       "    function displayChart(vegaEmbed) {\n",
       "      vegaEmbed(outputDiv, spec, embedOpt)\n",
       "        .catch(err => showError(`Javascript Error: ${err.message}<br>This usually means there's a typo in your chart specification. See the javascript console for the full traceback.`));\n",
       "    }\n",
       "\n",
       "    if(typeof define === \"function\" && define.amd) {\n",
       "      requirejs.config({paths});\n",
       "      require([\"vega-embed\"], displayChart, err => showError(`Error loading script: ${err.message}`));\n",
       "    } else if (typeof vegaEmbed === \"function\") {\n",
       "      displayChart(vegaEmbed);\n",
       "    } else {\n",
       "      loadScript(\"vega\")\n",
       "        .then(() => loadScript(\"vega-lite\"))\n",
       "        .then(() => loadScript(\"vega-embed\"))\n",
       "        .catch(showError)\n",
       "        .then(() => displayChart(vegaEmbed));\n",
       "    }\n",
       "  })({\"config\": {\"view\": {\"continuousWidth\": 400, \"continuousHeight\": 300}}, \"layer\": [{\"mark\": {\"type\": \"rect\", \"fontSize\": 20}, \"encoding\": {\"color\": {\"type\": \"quantitative\", \"field\": \"count\", \"legend\": {\"labelFontSize\": 12, \"offset\": 10, \"orient\": \"right\", \"title\": \"\", \"titleFontSize\": 16}, \"scale\": {\"scheme\": \"yelloworangered\", \"type\": \"log\"}}, \"tooltip\": [{\"type\": \"ordinal\", \"field\": \"year\", \"title\": \"Year\"}, {\"type\": \"nominal\", \"field\": \"most_popular_topic\", \"title\": \"Most popular topic\"}, {\"type\": \"quantitative\", \"field\": \"count\", \"title\": \"Number of occurrences as main topic\"}], \"x\": {\"type\": \"ordinal\", \"axis\": {\"domainColor\": \"black\", \"domainWidth\": 0, \"labelAngle\": 0, \"labelFontSize\": 12, \"tickOpacity\": 0, \"titleFontSize\": 16}, \"field\": \"year\", \"title\": \"Year\"}, \"y\": {\"type\": \"nominal\", \"axis\": {\"domainColor\": \"black\", \"domainWidth\": 0, \"labelFontSize\": 12, \"tickOpacity\": 0, \"titleAlign\": \"left\", \"titleAngle\": 0, \"titleFontSize\": 16, \"titleX\": -10, \"titleY\": -10}, \"field\": \"most_popular_topic\", \"title\": \"Most popular topic\"}}, \"height\": 450, \"width\": 700}], \"data\": {\"name\": \"data-de1ffb89bb8a961b604c78feb3b4c219\"}, \"$schema\": \"https://vega.github.io/schema/vega-lite/v4.8.1.json\", \"datasets\": {\"data-de1ffb89bb8a961b604c78feb3b4c219\": [{\"most_popular_topic\": \"Studying Comets and Meteors\", \"year\": 2000, \"count\": 38}, {\"most_popular_topic\": \"Studying Comets and Meteors\", \"year\": 1999, \"count\": 24}, {\"most_popular_topic\": \"Studying Comets and Meteors\", \"year\": 2001, \"count\": 16}, {\"most_popular_topic\": \"Studying Comets and Meteors\", \"year\": 2003, \"count\": 13}, {\"most_popular_topic\": \"Studying Comets and Meteors\", \"year\": 2016, \"count\": 9}, {\"most_popular_topic\": \"Studying Comets and Meteors\", \"year\": 2015, \"count\": 9}, {\"most_popular_topic\": \"Studying Comets and Meteors\", \"year\": 2005, \"count\": 5}, {\"most_popular_topic\": \"Studying Comets and Meteors\", \"year\": 2004, \"count\": 5}, {\"most_popular_topic\": \"Studying Comets and Meteors\", \"year\": 2009, \"count\": 4}, {\"most_popular_topic\": \"Studying Comets and Meteors\", \"year\": 2018, \"count\": 3}, {\"most_popular_topic\": \"Studying Comets and Meteors\", \"year\": 2008, \"count\": 3}, {\"most_popular_topic\": \"Studying Comets and Meteors\", \"year\": 2017, \"count\": 2}, {\"most_popular_topic\": \"Studying Comets and Meteors\", \"year\": 2014, \"count\": 2}, {\"most_popular_topic\": \"Studying Comets and Meteors\", \"year\": 2013, \"count\": 2}, {\"most_popular_topic\": \"Studying Comets and Meteors\", \"year\": 2012, \"count\": 2}, {\"most_popular_topic\": \"Studying Comets and Meteors\", \"year\": 2010, \"count\": 2}, {\"most_popular_topic\": \"Studying Comets and Meteors\", \"year\": 2002, \"count\": 2}, {\"most_popular_topic\": \"Studying Comets and Meteors\", \"year\": 2011, \"count\": 1}, {\"most_popular_topic\": \"Studying Comets and Meteors\", \"year\": 2007, \"count\": 1}, {\"most_popular_topic\": \"Studying Comets and Meteors\", \"year\": 2006, \"count\": 1}, {\"most_popular_topic\": \"Studying Comets and Meteors\", \"year\": 1971, \"count\": 1}, {\"most_popular_topic\": \"Studying Comets and Meteors\", \"year\": 1967, \"count\": 1}, {\"most_popular_topic\": \"Sky Watching\", \"year\": 2015, \"count\": 21}, {\"most_popular_topic\": \"Sky Watching\", \"year\": 2004, \"count\": 21}, {\"most_popular_topic\": \"Sky Watching\", \"year\": 2016, \"count\": 20}, {\"most_popular_topic\": \"Sky Watching\", \"year\": 2014, \"count\": 14}, {\"most_popular_topic\": \"Sky Watching\", \"year\": 2018, \"count\": 12}, {\"most_popular_topic\": \"Sky Watching\", \"year\": 2017, \"count\": 11}, {\"most_popular_topic\": \"Sky Watching\", \"year\": 2012, \"count\": 9}, {\"most_popular_topic\": \"Sky Watching\", \"year\": 2019, \"count\": 7}, {\"most_popular_topic\": \"Sky Watching\", \"year\": 2007, \"count\": 6}, {\"most_popular_topic\": \"Sky Watching\", \"year\": 1999, \"count\": 6}, {\"most_popular_topic\": \"Sky Watching\", \"year\": 2013, \"count\": 4}, {\"most_popular_topic\": \"Sky Watching\", \"year\": 2009, \"count\": 3}, {\"most_popular_topic\": \"Sky Watching\", \"year\": 2006, \"count\": 3}, {\"most_popular_topic\": \"Sky Watching\", \"year\": 2011, \"count\": 2}, {\"most_popular_topic\": \"Sky Watching\", \"year\": 2008, \"count\": 2}, {\"most_popular_topic\": \"Sky Watching\", \"year\": 2005, \"count\": 2}, {\"most_popular_topic\": \"Sky Watching\", \"year\": 2003, \"count\": 2}, {\"most_popular_topic\": \"Sky Watching\", \"year\": 2001, \"count\": 2}, {\"most_popular_topic\": \"Sky Watching\", \"year\": 2000, \"count\": 2}, {\"most_popular_topic\": \"Sky Watching\", \"year\": 2010, \"count\": 1}, {\"most_popular_topic\": \"Sky Watching\", \"year\": 2002, \"count\": 1}, {\"most_popular_topic\": \"Shuttle Missions and Crashes\", \"year\": 2014, \"count\": 24}, {\"most_popular_topic\": \"Shuttle Missions and Crashes\", \"year\": 2015, \"count\": 19}, {\"most_popular_topic\": \"Shuttle Missions and Crashes\", \"year\": 2016, \"count\": 11}, {\"most_popular_topic\": \"Shuttle Missions and Crashes\", \"year\": 2005, \"count\": 8}, {\"most_popular_topic\": \"Shuttle Missions and Crashes\", \"year\": 2004, \"count\": 7}, {\"most_popular_topic\": \"Shuttle Missions and Crashes\", \"year\": 2006, \"count\": 6}, {\"most_popular_topic\": \"Shuttle Missions and Crashes\", \"year\": 2013, \"count\": 5}, {\"most_popular_topic\": \"Shuttle Missions and Crashes\", \"year\": 2003, \"count\": 3}, {\"most_popular_topic\": \"Shuttle Missions and Crashes\", \"year\": 2019, \"count\": 2}, {\"most_popular_topic\": \"Shuttle Missions and Crashes\", \"year\": 2010, \"count\": 2}, {\"most_popular_topic\": \"Shuttle Missions and Crashes\", \"year\": 2002, \"count\": 2}, {\"most_popular_topic\": \"Shuttle Missions and Crashes\", \"year\": 2001, \"count\": 2}, {\"most_popular_topic\": \"Shuttle Missions and Crashes\", \"year\": 2017, \"count\": 1}, {\"most_popular_topic\": \"Shuttle Missions and Crashes\", \"year\": 2012, \"count\": 1}, {\"most_popular_topic\": \"Shuttle Missions and Crashes\", \"year\": 1999, \"count\": 1}, {\"most_popular_topic\": \"Rocket Launches - Testing\", \"year\": 2016, \"count\": 27}, {\"most_popular_topic\": \"Rocket Launches - Testing\", \"year\": 2017, \"count\": 18}, {\"most_popular_topic\": \"Rocket Launches - Testing\", \"year\": 2014, \"count\": 15}, {\"most_popular_topic\": \"Rocket Launches - Testing\", \"year\": 2018, \"count\": 14}, {\"most_popular_topic\": \"Rocket Launches - Testing\", \"year\": 2013, \"count\": 14}, {\"most_popular_topic\": \"Rocket Launches - Testing\", \"year\": 2015, \"count\": 13}, {\"most_popular_topic\": \"Rocket Launches - Testing\", \"year\": 2019, \"count\": 10}, {\"most_popular_topic\": \"Rocket Launches - Testing\", \"year\": 2012, \"count\": 10}, {\"most_popular_topic\": \"Rocket Launches - Testing\", \"year\": 2008, \"count\": 10}, {\"most_popular_topic\": \"Rocket Launches - Testing\", \"year\": 2004, \"count\": 10}, {\"most_popular_topic\": \"Rocket Launches - Testing\", \"year\": 2005, \"count\": 9}, {\"most_popular_topic\": \"Rocket Launches - Testing\", \"year\": 2011, \"count\": 8}, {\"most_popular_topic\": \"Rocket Launches - Testing\", \"year\": 2003, \"count\": 7}, {\"most_popular_topic\": \"Rocket Launches - Testing\", \"year\": 2007, \"count\": 5}, {\"most_popular_topic\": \"Rocket Launches - Testing\", \"year\": 2009, \"count\": 4}, {\"most_popular_topic\": \"Rocket Launches - Testing\", \"year\": 2006, \"count\": 4}, {\"most_popular_topic\": \"Rocket Launches - Testing\", \"year\": 2000, \"count\": 4}, {\"most_popular_topic\": \"Rocket Launches - Testing\", \"year\": 1999, \"count\": 3}, {\"most_popular_topic\": \"Rocket Launches - Testing\", \"year\": 2010, \"count\": 2}, {\"most_popular_topic\": \"Rocket Launches - Testing\", \"year\": 2001, \"count\": 2}, {\"most_popular_topic\": \"Rocket Launches - Moon Landing\", \"year\": 2015, \"count\": 101}, {\"most_popular_topic\": \"Rocket Launches - Moon Landing\", \"year\": 2014, \"count\": 96}, {\"most_popular_topic\": \"Rocket Launches - Moon Landing\", \"year\": 2013, \"count\": 95}, {\"most_popular_topic\": \"Rocket Launches - Moon Landing\", \"year\": 2016, \"count\": 83}, {\"most_popular_topic\": \"Rocket Launches - Moon Landing\", \"year\": 2005, \"count\": 79}, {\"most_popular_topic\": \"Rocket Launches - Moon Landing\", \"year\": 2017, \"count\": 66}, {\"most_popular_topic\": \"Rocket Launches - Moon Landing\", \"year\": 2018, \"count\": 64}, {\"most_popular_topic\": \"Rocket Launches - Moon Landing\", \"year\": 2003, \"count\": 60}, {\"most_popular_topic\": \"Rocket Launches - Moon Landing\", \"year\": 2012, \"count\": 55}, {\"most_popular_topic\": \"Rocket Launches - Moon Landing\", \"year\": 2004, \"count\": 54}, {\"most_popular_topic\": \"Rocket Launches - Moon Landing\", \"year\": 2011, \"count\": 51}, {\"most_popular_topic\": \"Rocket Launches - Moon Landing\", \"year\": 2001, \"count\": 47}, {\"most_popular_topic\": \"Rocket Launches - Moon Landing\", \"year\": 2010, \"count\": 45}, {\"most_popular_topic\": \"Rocket Launches - Moon Landing\", \"year\": 2019, \"count\": 42}, {\"most_popular_topic\": \"Rocket Launches - Moon Landing\", \"year\": 2002, \"count\": 42}, {\"most_popular_topic\": \"Rocket Launches - Moon Landing\", \"year\": 2006, \"count\": 41}, {\"most_popular_topic\": \"Rocket Launches - Moon Landing\", \"year\": 2000, \"count\": 41}, {\"most_popular_topic\": \"Rocket Launches - Moon Landing\", \"year\": 2009, \"count\": 38}, {\"most_popular_topic\": \"Rocket Launches - Moon Landing\", \"year\": 1999, \"count\": 37}, {\"most_popular_topic\": \"Rocket Launches - Moon Landing\", \"year\": 2008, \"count\": 35}, {\"most_popular_topic\": \"Rocket Launches - Moon Landing\", \"year\": 2007, \"count\": 26}, {\"most_popular_topic\": \"Rocket Launches - Moon Landing\", \"year\": 1986, \"count\": 1}, {\"most_popular_topic\": \"Planetary Research\", \"year\": 2000, \"count\": 15}, {\"most_popular_topic\": \"Planetary Research\", \"year\": 2013, \"count\": 13}, {\"most_popular_topic\": \"Planetary Research\", \"year\": 2015, \"count\": 11}, {\"most_popular_topic\": \"Planetary Research\", \"year\": 2019, \"count\": 10}, {\"most_popular_topic\": \"Planetary Research\", \"year\": 2016, \"count\": 8}, {\"most_popular_topic\": \"Planetary Research\", \"year\": 2002, \"count\": 8}, {\"most_popular_topic\": \"Planetary Research\", \"year\": 2005, \"count\": 7}, {\"most_popular_topic\": \"Planetary Research\", \"year\": 2001, \"count\": 7}, {\"most_popular_topic\": \"Planetary Research\", \"year\": 2012, \"count\": 5}, {\"most_popular_topic\": \"Planetary Research\", \"year\": 2018, \"count\": 4}, {\"most_popular_topic\": \"Planetary Research\", \"year\": 2017, \"count\": 4}, {\"most_popular_topic\": \"Planetary Research\", \"year\": 2011, \"count\": 4}, {\"most_popular_topic\": \"Planetary Research\", \"year\": 1999, \"count\": 4}, {\"most_popular_topic\": \"Planetary Research\", \"year\": 2008, \"count\": 3}, {\"most_popular_topic\": \"Planetary Research\", \"year\": 2014, \"count\": 2}, {\"most_popular_topic\": \"Planetary Research\", \"year\": 2010, \"count\": 2}, {\"most_popular_topic\": \"Planetary Research\", \"year\": 2007, \"count\": 2}, {\"most_popular_topic\": \"Planetary Research\", \"year\": 2006, \"count\": 2}, {\"most_popular_topic\": \"Planetary Research\", \"year\": 2004, \"count\": 2}, {\"most_popular_topic\": \"Planetary Research\", \"year\": 2003, \"count\": 2}, {\"most_popular_topic\": \"Objects crashing into Earth\", \"year\": 2015, \"count\": 34}, {\"most_popular_topic\": \"Objects crashing into Earth\", \"year\": 2004, \"count\": 30}, {\"most_popular_topic\": \"Objects crashing into Earth\", \"year\": 2017, \"count\": 26}, {\"most_popular_topic\": \"Objects crashing into Earth\", \"year\": 2016, \"count\": 24}, {\"most_popular_topic\": \"Objects crashing into Earth\", \"year\": 2005, \"count\": 19}, {\"most_popular_topic\": \"Objects crashing into Earth\", \"year\": 2006, \"count\": 17}, {\"most_popular_topic\": \"Objects crashing into Earth\", \"year\": 2018, \"count\": 16}, {\"most_popular_topic\": \"Objects crashing into Earth\", \"year\": 2012, \"count\": 16}, {\"most_popular_topic\": \"Objects crashing into Earth\", \"year\": 2011, \"count\": 15}, {\"most_popular_topic\": \"Objects crashing into Earth\", \"year\": 2013, \"count\": 12}, {\"most_popular_topic\": \"Objects crashing into Earth\", \"year\": 2000, \"count\": 12}, {\"most_popular_topic\": \"Objects crashing into Earth\", \"year\": 1999, \"count\": 12}, {\"most_popular_topic\": \"Objects crashing into Earth\", \"year\": 2003, \"count\": 11}, {\"most_popular_topic\": \"Objects crashing into Earth\", \"year\": 2014, \"count\": 10}, {\"most_popular_topic\": \"Objects crashing into Earth\", \"year\": 2007, \"count\": 8}, {\"most_popular_topic\": \"Objects crashing into Earth\", \"year\": 2019, \"count\": 7}, {\"most_popular_topic\": \"Objects crashing into Earth\", \"year\": 2002, \"count\": 6}, {\"most_popular_topic\": \"Objects crashing into Earth\", \"year\": 2010, \"count\": 5}, {\"most_popular_topic\": \"Objects crashing into Earth\", \"year\": 2008, \"count\": 5}, {\"most_popular_topic\": \"Objects crashing into Earth\", \"year\": 2009, \"count\": 4}, {\"most_popular_topic\": \"Objects crashing into Earth\", \"year\": 2001, \"count\": 3}, {\"most_popular_topic\": \"Mars Exploration\", \"year\": 2016, \"count\": 25}, {\"most_popular_topic\": \"Mars Exploration\", \"year\": 2017, \"count\": 20}, {\"most_popular_topic\": \"Mars Exploration\", \"year\": 2013, \"count\": 19}, {\"most_popular_topic\": \"Mars Exploration\", \"year\": 2015, \"count\": 18}, {\"most_popular_topic\": \"Mars Exploration\", \"year\": 2007, \"count\": 17}, {\"most_popular_topic\": \"Mars Exploration\", \"year\": 2018, \"count\": 15}, {\"most_popular_topic\": \"Mars Exploration\", \"year\": 2014, \"count\": 13}, {\"most_popular_topic\": \"Mars Exploration\", \"year\": 2011, \"count\": 13}, {\"most_popular_topic\": \"Mars Exploration\", \"year\": 2008, \"count\": 12}, {\"most_popular_topic\": \"Mars Exploration\", \"year\": 2005, \"count\": 12}, {\"most_popular_topic\": \"Mars Exploration\", \"year\": 1999, \"count\": 11}, {\"most_popular_topic\": \"Mars Exploration\", \"year\": 2010, \"count\": 9}, {\"most_popular_topic\": \"Mars Exploration\", \"year\": 2004, \"count\": 9}, {\"most_popular_topic\": \"Mars Exploration\", \"year\": 2001, \"count\": 9}, {\"most_popular_topic\": \"Mars Exploration\", \"year\": 2012, \"count\": 8}, {\"most_popular_topic\": \"Mars Exploration\", \"year\": 2009, \"count\": 8}, {\"most_popular_topic\": \"Mars Exploration\", \"year\": 2006, \"count\": 7}, {\"most_popular_topic\": \"Mars Exploration\", \"year\": 2003, \"count\": 7}, {\"most_popular_topic\": \"Mars Exploration\", \"year\": 2000, \"count\": 7}, {\"most_popular_topic\": \"Mars Exploration\", \"year\": 2019, \"count\": 5}, {\"most_popular_topic\": \"Mars Exploration\", \"year\": 2002, \"count\": 2}, {\"most_popular_topic\": \"Imaging Stars - Astronomy\", \"year\": 2005, \"count\": 43}, {\"most_popular_topic\": \"Imaging Stars - Astronomy\", \"year\": 2003, \"count\": 29}, {\"most_popular_topic\": \"Imaging Stars - Astronomy\", \"year\": 2000, \"count\": 29}, {\"most_popular_topic\": \"Imaging Stars - Astronomy\", \"year\": 1999, \"count\": 26}, {\"most_popular_topic\": \"Imaging Stars - Astronomy\", \"year\": 2006, \"count\": 24}, {\"most_popular_topic\": \"Imaging Stars - Astronomy\", \"year\": 2011, \"count\": 22}, {\"most_popular_topic\": \"Imaging Stars - Astronomy\", \"year\": 2008, \"count\": 10}, {\"most_popular_topic\": \"Imaging Stars - Astronomy\", \"year\": 2007, \"count\": 9}, {\"most_popular_topic\": \"Imaging Stars - Astronomy\", \"year\": 2009, \"count\": 7}, {\"most_popular_topic\": \"Imaging Stars - Astronomy\", \"year\": 2004, \"count\": 5}, {\"most_popular_topic\": \"Imaging Stars - Astronomy\", \"year\": 2012, \"count\": 4}, {\"most_popular_topic\": \"Imaging Stars - Astronomy\", \"year\": 2001, \"count\": 4}, {\"most_popular_topic\": \"Imaging Stars - Astronomy\", \"year\": 2002, \"count\": 3}, {\"most_popular_topic\": \"Imaging Stars - Astronomy\", \"year\": 1986, \"count\": 3}, {\"most_popular_topic\": \"Imaging Stars - Astronomy\", \"year\": 2010, \"count\": 2}, {\"most_popular_topic\": \"Imaging Stars - Astronomy\", \"year\": 2015, \"count\": 1}, {\"most_popular_topic\": \"Imaging Stars - Astronomy\", \"year\": 2014, \"count\": 1}, {\"most_popular_topic\": \"Imaging Stars - Astronomy\", \"year\": 1988, \"count\": 1}, {\"most_popular_topic\": \"ISS - USA and Russian segment\", \"year\": 2016, \"count\": 44}, {\"most_popular_topic\": \"ISS - USA and Russian segment\", \"year\": 2015, \"count\": 39}, {\"most_popular_topic\": \"ISS - USA and Russian segment\", \"year\": 2008, \"count\": 35}, {\"most_popular_topic\": \"ISS - USA and Russian segment\", \"year\": 2011, \"count\": 31}, {\"most_popular_topic\": \"ISS - USA and Russian segment\", \"year\": 2013, \"count\": 30}, {\"most_popular_topic\": \"ISS - USA and Russian segment\", \"year\": 2007, \"count\": 29}, {\"most_popular_topic\": \"ISS - USA and Russian segment\", \"year\": 2018, \"count\": 28}, {\"most_popular_topic\": \"ISS - USA and Russian segment\", \"year\": 2017, \"count\": 26}, {\"most_popular_topic\": \"ISS - USA and Russian segment\", \"year\": 2003, \"count\": 26}, {\"most_popular_topic\": \"ISS - USA and Russian segment\", \"year\": 2005, \"count\": 24}, {\"most_popular_topic\": \"ISS - USA and Russian segment\", \"year\": 2014, \"count\": 23}, {\"most_popular_topic\": \"ISS - USA and Russian segment\", \"year\": 2009, \"count\": 23}, {\"most_popular_topic\": \"ISS - USA and Russian segment\", \"year\": 2004, \"count\": 21}, {\"most_popular_topic\": \"ISS - USA and Russian segment\", \"year\": 2010, \"count\": 18}, {\"most_popular_topic\": \"ISS - USA and Russian segment\", \"year\": 1999, \"count\": 18}, {\"most_popular_topic\": \"ISS - USA and Russian segment\", \"year\": 2006, \"count\": 17}, {\"most_popular_topic\": \"ISS - USA and Russian segment\", \"year\": 2002, \"count\": 17}, {\"most_popular_topic\": \"ISS - USA and Russian segment\", \"year\": 2000, \"count\": 17}, {\"most_popular_topic\": \"ISS - USA and Russian segment\", \"year\": 2012, \"count\": 16}, {\"most_popular_topic\": \"ISS - USA and Russian segment\", \"year\": 2019, \"count\": 13}, {\"most_popular_topic\": \"ISS - USA and Russian segment\", \"year\": 2001, \"count\": 9}, {\"most_popular_topic\": \"ISS - USA and Russian segment\", \"year\": 1986, \"count\": 1}, {\"most_popular_topic\": \"ISS - USA and Russian segment\", \"year\": 1967, \"count\": 1}, {\"most_popular_topic\": \"ISS - USA and Russian segment\", \"year\": 1962, \"count\": 1}, {\"most_popular_topic\": \"ISS - USA and Russian segment\", \"year\": 1957, \"count\": 1}, {\"most_popular_topic\": \"Gravity and Black Holes - Hawking\", \"year\": 2017, \"count\": 14}, {\"most_popular_topic\": \"Gravity and Black Holes - Hawking\", \"year\": 2013, \"count\": 12}, {\"most_popular_topic\": \"Gravity and Black Holes - Hawking\", \"year\": 2011, \"count\": 11}, {\"most_popular_topic\": \"Gravity and Black Holes - Hawking\", \"year\": 2018, \"count\": 10}, {\"most_popular_topic\": \"Gravity and Black Holes - Hawking\", \"year\": 2016, \"count\": 10}, {\"most_popular_topic\": \"Gravity and Black Holes - Hawking\", \"year\": 2015, \"count\": 8}, {\"most_popular_topic\": \"Gravity and Black Holes - Hawking\", \"year\": 2012, \"count\": 5}, {\"most_popular_topic\": \"Gravity and Black Holes - Hawking\", \"year\": 2009, \"count\": 5}, {\"most_popular_topic\": \"Gravity and Black Holes - Hawking\", \"year\": 2006, \"count\": 5}, {\"most_popular_topic\": \"Gravity and Black Holes - Hawking\", \"year\": 2014, \"count\": 4}, {\"most_popular_topic\": \"Gravity and Black Holes - Hawking\", \"year\": 2010, \"count\": 4}, {\"most_popular_topic\": \"Gravity and Black Holes - Hawking\", \"year\": 2008, \"count\": 4}, {\"most_popular_topic\": \"Gravity and Black Holes - Hawking\", \"year\": 2003, \"count\": 4}, {\"most_popular_topic\": \"Gravity and Black Holes - Hawking\", \"year\": 2002, \"count\": 4}, {\"most_popular_topic\": \"Gravity and Black Holes - Hawking\", \"year\": 2001, \"count\": 4}, {\"most_popular_topic\": \"Gravity and Black Holes - Hawking\", \"year\": 2005, \"count\": 3}, {\"most_popular_topic\": \"Gravity and Black Holes - Hawking\", \"year\": 2004, \"count\": 3}, {\"most_popular_topic\": \"Gravity and Black Holes - Hawking\", \"year\": 2019, \"count\": 2}, {\"most_popular_topic\": \"Gravity and Black Holes - Hawking\", \"year\": 2007, \"count\": 2}, {\"most_popular_topic\": \"Gravity and Black Holes - Hawking\", \"year\": 1999, \"count\": 2}, {\"most_popular_topic\": \"Gravity and Black Holes - Hawking\", \"year\": 2000, \"count\": 1}, {\"most_popular_topic\": \"Global Warming\", \"year\": 2019, \"count\": 34}, {\"most_popular_topic\": \"Global Warming\", \"year\": 2009, \"count\": 19}, {\"most_popular_topic\": \"Global Warming\", \"year\": 2018, \"count\": 17}, {\"most_popular_topic\": \"Global Warming\", \"year\": 2012, \"count\": 14}, {\"most_popular_topic\": \"Global Warming\", \"year\": 1999, \"count\": 14}, {\"most_popular_topic\": \"Global Warming\", \"year\": 2017, \"count\": 11}, {\"most_popular_topic\": \"Global Warming\", \"year\": 2015, \"count\": 11}, {\"most_popular_topic\": \"Global Warming\", \"year\": 2006, \"count\": 11}, {\"most_popular_topic\": \"Global Warming\", \"year\": 2007, \"count\": 9}, {\"most_popular_topic\": \"Global Warming\", \"year\": 2004, \"count\": 9}, {\"most_popular_topic\": \"Global Warming\", \"year\": 2014, \"count\": 8}, {\"most_popular_topic\": \"Global Warming\", \"year\": 2003, \"count\": 8}, {\"most_popular_topic\": \"Global Warming\", \"year\": 2008, \"count\": 7}, {\"most_popular_topic\": \"Global Warming\", \"year\": 2016, \"count\": 6}, {\"most_popular_topic\": \"Global Warming\", \"year\": 2013, \"count\": 6}, {\"most_popular_topic\": \"Global Warming\", \"year\": 2010, \"count\": 6}, {\"most_popular_topic\": \"Global Warming\", \"year\": 2005, \"count\": 6}, {\"most_popular_topic\": \"Global Warming\", \"year\": 2011, \"count\": 5}, {\"most_popular_topic\": \"Global Warming\", \"year\": 2001, \"count\": 5}, {\"most_popular_topic\": \"Global Warming\", \"year\": 2002, \"count\": 4}, {\"most_popular_topic\": \"Global Warming\", \"year\": 1969, \"count\": 2}, {\"most_popular_topic\": \"Global Warming\", \"year\": 2000, \"count\": 1}, {\"most_popular_topic\": \"Global Warming\", \"year\": 1970, \"count\": 1}, {\"most_popular_topic\": \"Discover of Sub-Atomic particles\", \"year\": 2015, \"count\": 17}, {\"most_popular_topic\": \"Discover of Sub-Atomic particles\", \"year\": 2011, \"count\": 16}, {\"most_popular_topic\": \"Discover of Sub-Atomic particles\", \"year\": 2012, \"count\": 14}, {\"most_popular_topic\": \"Discover of Sub-Atomic particles\", \"year\": 2008, \"count\": 12}, {\"most_popular_topic\": \"Discover of Sub-Atomic particles\", \"year\": 2013, \"count\": 10}, {\"most_popular_topic\": \"Discover of Sub-Atomic particles\", \"year\": 2016, \"count\": 7}, {\"most_popular_topic\": \"Discover of Sub-Atomic particles\", \"year\": 2010, \"count\": 6}, {\"most_popular_topic\": \"Discover of Sub-Atomic particles\", \"year\": 2014, \"count\": 5}, {\"most_popular_topic\": \"Discover of Sub-Atomic particles\", \"year\": 2017, \"count\": 4}, {\"most_popular_topic\": \"Discover of Sub-Atomic particles\", \"year\": 2006, \"count\": 4}, {\"most_popular_topic\": \"Discover of Sub-Atomic particles\", \"year\": 2005, \"count\": 3}, {\"most_popular_topic\": \"Discover of Sub-Atomic particles\", \"year\": 2009, \"count\": 2}, {\"most_popular_topic\": \"Discover of Sub-Atomic particles\", \"year\": 2007, \"count\": 2}, {\"most_popular_topic\": \"Discover of Sub-Atomic particles\", \"year\": 2004, \"count\": 2}, {\"most_popular_topic\": \"Discover of Sub-Atomic particles\", \"year\": 2002, \"count\": 2}, {\"most_popular_topic\": \"Discover of Sub-Atomic particles\", \"year\": 2001, \"count\": 1}, {\"most_popular_topic\": \"Discover of Sub-Atomic particles\", \"year\": 2000, \"count\": 1}, {\"most_popular_topic\": \"Academia 2\", \"year\": 2004, \"count\": 34}, {\"most_popular_topic\": \"Academia 2\", \"year\": 2003, \"count\": 33}, {\"most_popular_topic\": \"Academia 2\", \"year\": 2016, \"count\": 22}, {\"most_popular_topic\": \"Academia 2\", \"year\": 1999, \"count\": 22}, {\"most_popular_topic\": \"Academia 2\", \"year\": 2015, \"count\": 20}, {\"most_popular_topic\": \"Academia 2\", \"year\": 2013, \"count\": 20}, {\"most_popular_topic\": \"Academia 2\", \"year\": 2012, \"count\": 17}, {\"most_popular_topic\": \"Academia 2\", \"year\": 2005, \"count\": 17}, {\"most_popular_topic\": \"Academia 2\", \"year\": 2018, \"count\": 15}, {\"most_popular_topic\": \"Academia 2\", \"year\": 2014, \"count\": 15}, {\"most_popular_topic\": \"Academia 2\", \"year\": 2000, \"count\": 14}, {\"most_popular_topic\": \"Academia 2\", \"year\": 2008, \"count\": 13}, {\"most_popular_topic\": \"Academia 2\", \"year\": 2011, \"count\": 8}, {\"most_popular_topic\": \"Academia 2\", \"year\": 2002, \"count\": 8}, {\"most_popular_topic\": \"Academia 2\", \"year\": 2006, \"count\": 7}, {\"most_popular_topic\": \"Academia 2\", \"year\": 2019, \"count\": 6}, {\"most_popular_topic\": \"Academia 2\", \"year\": 2017, \"count\": 6}, {\"most_popular_topic\": \"Academia 2\", \"year\": 2007, \"count\": 6}, {\"most_popular_topic\": \"Academia 2\", \"year\": 2009, \"count\": 5}, {\"most_popular_topic\": \"Academia 2\", \"year\": 2001, \"count\": 5}, {\"most_popular_topic\": \"Academia 1\", \"year\": 2016, \"count\": 37}, {\"most_popular_topic\": \"Academia 1\", \"year\": 2013, \"count\": 33}, {\"most_popular_topic\": \"Academia 1\", \"year\": 2017, \"count\": 29}, {\"most_popular_topic\": \"Academia 1\", \"year\": 2014, \"count\": 29}, {\"most_popular_topic\": \"Academia 1\", \"year\": 2012, \"count\": 24}, {\"most_popular_topic\": \"Academia 1\", \"year\": 2015, \"count\": 23}, {\"most_popular_topic\": \"Academia 1\", \"year\": 2010, \"count\": 15}, {\"most_popular_topic\": \"Academia 1\", \"year\": 2005, \"count\": 13}, {\"most_popular_topic\": \"Academia 1\", \"year\": 2011, \"count\": 11}, {\"most_popular_topic\": \"Academia 1\", \"year\": 2018, \"count\": 10}, {\"most_popular_topic\": \"Academia 1\", \"year\": 2004, \"count\": 8}, {\"most_popular_topic\": \"Academia 1\", \"year\": 2007, \"count\": 6}, {\"most_popular_topic\": \"Academia 1\", \"year\": 2008, \"count\": 5}, {\"most_popular_topic\": \"Academia 1\", \"year\": 2003, \"count\": 3}, {\"most_popular_topic\": \"Academia 1\", \"year\": 2019, \"count\": 2}, {\"most_popular_topic\": \"Academia 1\", \"year\": 2009, \"count\": 2}, {\"most_popular_topic\": \"Academia 1\", \"year\": 1999, \"count\": 2}, {\"most_popular_topic\": \"Academia 1\", \"year\": 2006, \"count\": 1}]}}, {\"mode\": \"vega-lite\"});\n",
       "</script>"
      ],
      "text/plain": [
       "alt.LayerChart(...)"
      ]
     },
     "execution_count": 20,
     "metadata": {},
     "output_type": "execute_result"
    }
   ],
   "source": [
    "altair_datetime_heatmap(\n",
    "    topics_by_timeframe,\n",
    "    x=\"year:O\",\n",
    "    y=\"most_popular_topic:N\",\n",
    "    xtitle=\"Year\",\n",
    "    ytitle=\"Most popular topic\",\n",
    "    tooltip=[\n",
    "        {\"title\": \"Year\", \"field\": \"year\", \"type\": \"ordinal\",},\n",
    "        {\n",
    "            \"title\": \"Most popular topic\",\n",
    "            \"field\": \"most_popular_topic\",\n",
    "            \"type\": \"nominal\",\n",
    "        },\n",
    "        {\n",
    "            \"title\": \"Number of occurrences as main topic\",\n",
    "            \"field\": \"count\",\n",
    "            \"type\": \"quantitative\",\n",
    "        },\n",
    "    ],\n",
    "    cmap=\"yelloworangered\",\n",
    "    legend_title=\"\",\n",
    "    color_by_col=\"count:Q\",\n",
    "    yscale=\"log\",\n",
    "    axis_tick_font_size=12,\n",
    "    axis_title_font_size=16,\n",
    "    title_font_size=20,\n",
    "    legend_fig_padding=10,  # default is 18\n",
    "    y_axis_title_alignment=\"left\",\n",
    "    fwidth=700,\n",
    "    fheight=450,\n",
    "    file_path=os.path.join(PROJ_ROOT_DIR, \"reports\", \"figures\", \"my_heatmap.html\"),\n",
    "    save_to_html=False,\n",
    "    sort_y=[],\n",
    "    sort_x=[],\n",
    ")"
   ]
  },
  {
   "cell_type": "markdown",
   "metadata": {
    "papermill": {
     "duration": 0.030122,
     "end_time": "2020-07-09T21:30:42.832562",
     "exception": false,
     "start_time": "2020-07-09T21:30:42.802440",
     "status": "completed"
    },
    "tags": []
   },
   "source": [
    "<a id=\"lsa-before-clustering\"></a>\n",
    "\n",
    "## 5. [LSA before clustering](#lsa-before-clustering)"
   ]
  },
  {
   "cell_type": "markdown",
   "metadata": {
    "papermill": {
     "duration": 0.029488,
     "end_time": "2020-07-09T21:30:42.891813",
     "exception": false,
     "start_time": "2020-07-09T21:30:42.862325",
     "status": "completed"
    },
    "tags": []
   },
   "source": [
    "Latent Semantic Analysis (LSA) is Signular Value Decomposition (SVD) applied to Natural Language Processing (NLP)."
   ]
  },
  {
   "cell_type": "markdown",
   "metadata": {
    "papermill": {
     "duration": 0.029889,
     "end_time": "2020-07-09T21:30:42.951489",
     "exception": false,
     "start_time": "2020-07-09T21:30:42.921600",
     "status": "completed"
    },
    "tags": []
   },
   "source": [
    "Below is a preliminary attempt at implementing this, before `KMeans` clustering, to obtain topics after TFIDF vectorization of the documents. This will be done using [Truncated SVD](https://en.wikipedia.org/wiki/Singular_value_decomposition) in the `sklearn` Python library."
   ]
  },
  {
   "cell_type": "markdown",
   "metadata": {
    "papermill": {
     "duration": 0.029813,
     "end_time": "2020-07-09T21:30:43.011617",
     "exception": false,
     "start_time": "2020-07-09T21:30:42.981804",
     "status": "completed"
    },
    "tags": []
   },
   "source": [
    "<a id=\"analysis\"></a>\n",
    "\n",
    "### 5.1. [Analysis](#analysis)"
   ]
  },
  {
   "cell_type": "markdown",
   "metadata": {
    "papermill": {
     "duration": 0.029835,
     "end_time": "2020-07-09T21:30:43.071362",
     "exception": false,
     "start_time": "2020-07-09T21:30:43.041527",
     "status": "completed"
    },
    "tags": []
   },
   "source": [
    "We'll instantiate a new pipeline to support LSA before `KMeans` clustering\n",
    "- the only change here is to add a SVD step before the clustering step"
   ]
  },
  {
   "cell_type": "code",
   "execution_count": 21,
   "metadata": {
    "execution": {
     "iopub.execute_input": "2020-07-09T21:30:43.135091Z",
     "iopub.status.busy": "2020-07-09T21:30:43.134451Z",
     "iopub.status.idle": "2020-07-09T21:30:43.159282Z",
     "shell.execute_reply": "2020-07-09T21:30:43.159820Z"
    },
    "papermill": {
     "duration": 0.058949,
     "end_time": "2020-07-09T21:30:43.159958",
     "exception": false,
     "start_time": "2020-07-09T21:30:43.101009",
     "status": "completed"
    },
    "tags": []
   },
   "outputs": [],
   "source": [
    "pipe_trunc_svd = Pipeline(\n",
    "    steps=[\n",
    "        (\"cleaner\", TextCleaner(split=False)),\n",
    "        (\"vectorizer\", vectorizer),\n",
    "        (\n",
    "            \"svd\",\n",
    "            TruncatedSVD(\n",
    "                len(mapping_dict[publication_name]), random_state=kmeans_random_state\n",
    "            ),\n",
    "        ),\n",
    "        (\"kmeans\", km),\n",
    "    ]\n",
    ")"
   ]
  },
  {
   "cell_type": "markdown",
   "metadata": {
    "papermill": {
     "duration": 0.029784,
     "end_time": "2020-07-09T21:30:43.223405",
     "exception": false,
     "start_time": "2020-07-09T21:30:43.193621",
     "status": "completed"
    },
    "tags": []
   },
   "source": [
    "Next, we'll use the LSA+clustering analysis pipeline to cluster the documents in the corpus"
   ]
  },
  {
   "cell_type": "code",
   "execution_count": 22,
   "metadata": {
    "execution": {
     "iopub.execute_input": "2020-07-09T21:30:43.287522Z",
     "iopub.status.busy": "2020-07-09T21:30:43.286431Z",
     "iopub.status.idle": "2020-07-09T21:30:55.235758Z",
     "shell.execute_reply": "2020-07-09T21:30:55.236972Z"
    },
    "papermill": {
     "duration": 11.983991,
     "end_time": "2020-07-09T21:30:55.237198",
     "exception": false,
     "start_time": "2020-07-09T21:30:43.253207",
     "status": "completed"
    },
    "tags": []
   },
   "outputs": [
    {
     "name": "stdout",
     "output_type": "stream",
     "text": [
      "Cell exection time: 0 minutes, 11.91 seconds\n"
     ]
    }
   ],
   "source": [
    "cell_st = time()\n",
    "\n",
    "_ = pipe_trunc_svd.fit_transform(corpus_raw)\n",
    "\n",
    "total_minutes, total_seconds = divmod(time() - cell_st, 60)\n",
    "print(\n",
    "    f\"Cell exection time: {int(total_minutes):d} minutes, {total_seconds:.2f} seconds\"\n",
    ")"
   ]
  },
  {
   "cell_type": "markdown",
   "metadata": {
    "papermill": {
     "duration": 0.060735,
     "end_time": "2020-07-09T21:30:55.370827",
     "exception": false,
     "start_time": "2020-07-09T21:30:55.310092",
     "status": "completed"
    },
    "tags": []
   },
   "source": [
    "Below, are the top 10 terms per cluster created"
   ]
  },
  {
   "cell_type": "code",
   "execution_count": 23,
   "metadata": {
    "execution": {
     "iopub.execute_input": "2020-07-09T21:30:55.464407Z",
     "iopub.status.busy": "2020-07-09T21:30:55.463379Z",
     "iopub.status.idle": "2020-07-09T21:30:55.845151Z",
     "shell.execute_reply": "2020-07-09T21:30:55.844456Z"
    },
    "papermill": {
     "duration": 0.418884,
     "end_time": "2020-07-09T21:30:55.845273",
     "exception": false,
     "start_time": "2020-07-09T21:30:55.426389",
     "status": "completed"
    },
    "tags": []
   },
   "outputs": [
    {
     "name": "stdout",
     "output_type": "stream",
     "text": [
      "Top terms per cluster, using random_state=42:\n"
     ]
    },
    {
     "name": "stdout",
     "output_type": "stream",
     "text": [
      "Cluster 0: science people research like says new world brain scientists scientific\n",
      "Cluster 1: space said science satellites uk satellite launch nasa station mission\n",
      "Cluster 2: comet rosetta philae comets lander dust mission surface sun solar\n",
      "Cluster 3: space science people says said like life time earth brain\n",
      "Cluster 4: station space mir russian crew iss astronauts said astronaut international\n",
      "Cluster 5: shuttle nasa space launch station astronauts mission columbia crew said\n",
      "Cluster 6: mars martian life planet mission water surface rover lander nasa\n",
      "Cluster 7: pluto planet solar cassini moon spacecraft planets saturn titan moons\n",
      "Cluster 8: planets planet stars star telescope life astronomers solar earth kepler\n",
      "Cluster 9: higgs particle particles matter lhc universe physics dark energy boson\n",
      "Cluster 10: sun solar earth space satellites eclipse satellite planet orbit atmosphere\n",
      "Cluster 11: moon lunar space apollo nasa astronauts mission moons earth surface\n",
      "Cluster 12: universe stars black galaxies telescope gravitational matter dark light waves\n",
      "Cluster 13: space rocket launch spacex flight company musk rockets said virgin\n",
      "Cluster 14: asteroid asteroids earth impact space rock object collision comet said\n"
     ]
    }
   ],
   "source": [
    "original_space_centroids = pipe_trunc_svd.named_steps[\"svd\"].inverse_transform(\n",
    "    pipe_trunc_svd.named_steps[\"kmeans\"].cluster_centers_\n",
    ")\n",
    "print(f\"Top terms per cluster, using random_state={kmeans_random_state}:\")\n",
    "order_centroids = original_space_centroids.argsort()[:, ::-1]\n",
    "terms = pipe_trunc_svd.named_steps[\"vectorizer\"].get_feature_names()\n",
    "for i in range(len(mapping_dict[publication_name])):\n",
    "    print(f\"Cluster {i:0d}:\", end=\"\")\n",
    "    for ind in order_centroids[i, :10]:\n",
    "        print(f\" {terms[ind]}\", end=\"\")\n",
    "    print()"
   ]
  },
  {
   "cell_type": "markdown",
   "metadata": {
    "papermill": {
     "duration": 0.031292,
     "end_time": "2020-07-09T21:30:55.907717",
     "exception": false,
     "start_time": "2020-07-09T21:30:55.876425",
     "status": "completed"
    },
    "tags": []
   },
   "source": [
    "The clusters are shown below, for the pre-determined choice of `random_state` of `42` specified in both the truncated SVD and `KMeans` clustering algorithm above"
   ]
  },
  {
   "cell_type": "markdown",
   "metadata": {
    "papermill": {
     "duration": 0.030599,
     "end_time": "2020-07-09T21:30:55.968961",
     "exception": false,
     "start_time": "2020-07-09T21:30:55.938362",
     "status": "completed"
    },
    "tags": []
   },
   "source": [
    "```\n",
    "Top terms per cluster, using random_state=42:\n",
    "Cluster 0: science people research like says new world brain scientists scientific\n",
    "Cluster 1: space said science satellites uk satellite launch nasa station mission\n",
    "Cluster 2: comet rosetta philae comets lander dust mission surface sun solar\n",
    "Cluster 3: space science people says said like life time earth brain\n",
    "Cluster 4: station space mir russian crew iss astronauts said astronaut international\n",
    "Cluster 5: shuttle nasa space launch station astronauts mission columbia crew said\n",
    "Cluster 6: mars martian life planet mission water surface rover lander nasa\n",
    "Cluster 7: pluto planet solar cassini moon spacecraft planets saturn titan moons\n",
    "Cluster 8: planets planet stars star telescope life astronomers solar earth kepler\n",
    "Cluster 9: higgs particle particles matter lhc universe physics dark energy boson\n",
    "Cluster 10: sun solar earth space satellites eclipse satellite planet orbit atmosphere\n",
    "Cluster 11: moon lunar space apollo nasa astronauts mission moons earth surface\n",
    "Cluster 12: universe stars black galaxies telescope gravitational matter dark light waves\n",
    "Cluster 13: space rocket launch spacex flight company musk rockets said virgin\n",
    "Cluster 14: asteroid asteroids earth impact space rock object collision comet said\n",
    "```"
   ]
  },
  {
   "cell_type": "markdown",
   "metadata": {
    "papermill": {
     "duration": 0.031231,
     "end_time": "2020-07-09T21:30:56.031815",
     "exception": false,
     "start_time": "2020-07-09T21:30:56.000584",
     "status": "completed"
    },
    "tags": []
   },
   "source": [
    "**Observations**\n",
    "1. The `Space Funding Bodies` topic reappears, but is not as strongly defined (in terms of its component terms) as in NMF/CorEx approaches.\n",
    "2. Two clusters may be combined\n",
    "   - `Academia 1,2`\n",
    "     - the Saturn Research topic might been replaced by one of these\n",
    "   - `Sky watching` and `Imaging Stars - Astronomy`\n",
    "     - possibly one of these has replaced `Global Warming` from the NMF/CorEx approaches"
   ]
  },
  {
   "cell_type": "markdown",
   "metadata": {
    "papermill": {
     "duration": 0.030357,
     "end_time": "2020-07-09T21:30:56.093517",
     "exception": false,
     "start_time": "2020-07-09T21:30:56.063160",
     "status": "completed"
    },
    "tags": []
   },
   "source": [
    "The percent variance explained by the truncated SVD is calculated below"
   ]
  },
  {
   "cell_type": "code",
   "execution_count": 24,
   "metadata": {
    "execution": {
     "iopub.execute_input": "2020-07-09T21:30:56.159945Z",
     "iopub.status.busy": "2020-07-09T21:30:56.158910Z",
     "iopub.status.idle": "2020-07-09T21:30:56.181402Z",
     "shell.execute_reply": "2020-07-09T21:30:56.180845Z"
    },
    "papermill": {
     "duration": 0.057117,
     "end_time": "2020-07-09T21:30:56.181512",
     "exception": false,
     "start_time": "2020-07-09T21:30:56.124395",
     "status": "completed"
    },
    "tags": []
   },
   "outputs": [
    {
     "name": "stdout",
     "output_type": "stream",
     "text": [
      "Explained variance of the SVD step: 6%\n"
     ]
    }
   ],
   "source": [
    "explained_variance = pipe_trunc_svd.named_steps[\"svd\"].explained_variance_ratio_.sum()\n",
    "print(f\"Explained variance of the SVD step: {int(explained_variance * 100)}%\")"
   ]
  },
  {
   "cell_type": "markdown",
   "metadata": {
    "papermill": {
     "duration": 0.031013,
     "end_time": "2020-07-09T21:30:56.243561",
     "exception": false,
     "start_time": "2020-07-09T21:30:56.212548",
     "status": "completed"
    },
    "tags": []
   },
   "source": [
    "**Observations**\n",
    "1. Since the SVD only accounts for 6% of the variance, hyperparameter optimization of all steps in the pipeline should be pursued.\n",
    "   - it is reassuring that the majority of topics reappear despite this (possibly excessively) strong degree of dimensionality reduction"
   ]
  },
  {
   "cell_type": "markdown",
   "metadata": {
    "papermill": {
     "duration": 0.031523,
     "end_time": "2020-07-09T21:30:56.306136",
     "exception": false,
     "start_time": "2020-07-09T21:30:56.274613",
     "status": "completed"
    },
    "tags": []
   },
   "source": [
    "The distance of each document from its associated cluster center is shown below"
   ]
  },
  {
   "cell_type": "code",
   "execution_count": 25,
   "metadata": {
    "execution": {
     "iopub.execute_input": "2020-07-09T21:30:56.372318Z",
     "iopub.status.busy": "2020-07-09T21:30:56.371683Z",
     "iopub.status.idle": "2020-07-09T21:31:14.995753Z",
     "shell.execute_reply": "2020-07-09T21:31:14.996561Z"
    },
    "papermill": {
     "duration": 18.65964,
     "end_time": "2020-07-09T21:31:14.996725",
     "exception": false,
     "start_time": "2020-07-09T21:30:56.337085",
     "status": "completed"
    },
    "tags": []
   },
   "outputs": [
    {
     "name": "stdout",
     "output_type": "stream",
     "text": [
      "Cell exection time: 0 minutes, 18.59 seconds\n"
     ]
    }
   ],
   "source": [
    "cell_st = time()\n",
    "\n",
    "X_dist = pipe.named_steps[\"kmeans\"].fit_transform(X_vectors) ** 2\n",
    "df[\"sqdist\"] = pd.Series(X_dist.sum(axis=1).round(2))\n",
    "\n",
    "total_minutes, total_seconds = divmod(time() - cell_st, 60)\n",
    "print(\n",
    "    f\"Cell exection time: {int(total_minutes):d} minutes, {total_seconds:.2f} seconds\"\n",
    ")"
   ]
  },
  {
   "cell_type": "markdown",
   "metadata": {
    "papermill": {
     "duration": 0.037541,
     "end_time": "2020-07-09T21:31:15.094880",
     "exception": false,
     "start_time": "2020-07-09T21:31:15.057339",
     "status": "completed"
    },
    "tags": []
   },
   "source": [
    "<a id=\"exploring-lsa-clustering-topics-combined-with-source-data\"></a>\n",
    "\n",
    "### 5.2. [Exploring LSA-clustering topics combined with source data](#exploring-lsa-clustering-topics-combined-with-source-data)"
   ]
  },
  {
   "cell_type": "markdown",
   "metadata": {
    "papermill": {
     "duration": 0.031029,
     "end_time": "2020-07-09T21:31:15.157310",
     "exception": false,
     "start_time": "2020-07-09T21:31:15.126281",
     "status": "completed"
    },
    "tags": []
   },
   "source": [
    "Below, we add a topic name (names assigned to each cluster, based on its component terms), to each document above as a separate column"
   ]
  },
  {
   "cell_type": "code",
   "execution_count": 26,
   "metadata": {
    "execution": {
     "iopub.execute_input": "2020-07-09T21:31:15.225217Z",
     "iopub.status.busy": "2020-07-09T21:31:15.224190Z",
     "iopub.status.idle": "2020-07-09T21:31:15.273912Z",
     "shell.execute_reply": "2020-07-09T21:31:15.273145Z"
    },
    "papermill": {
     "duration": 0.085258,
     "end_time": "2020-07-09T21:31:15.274037",
     "exception": false,
     "start_time": "2020-07-09T21:31:15.188779",
     "status": "completed"
    },
    "tags": []
   },
   "outputs": [
    {
     "data": {
      "text/html": [
       "<div>\n",
       "<style scoped>\n",
       "    .dataframe tbody tr th:only-of-type {\n",
       "        vertical-align: middle;\n",
       "    }\n",
       "\n",
       "    .dataframe tbody tr th {\n",
       "        vertical-align: top;\n",
       "    }\n",
       "\n",
       "    .dataframe thead th {\n",
       "        text-align: right;\n",
       "    }\n",
       "</style>\n",
       "<table border=\"1\" class=\"dataframe\">\n",
       "  <thead>\n",
       "    <tr style=\"text-align: right;\">\n",
       "      <th></th>\n",
       "      <th>text</th>\n",
       "      <th>year</th>\n",
       "      <th>sqdist</th>\n",
       "      <th>most_popular_topic</th>\n",
       "    </tr>\n",
       "  </thead>\n",
       "  <tbody>\n",
       "    <tr>\n",
       "      <th>0</th>\n",
       "      <td>The second Russian satellite has demonstrated ...</td>\n",
       "      <td>1957</td>\n",
       "      <td>15.58</td>\n",
       "      <td>Rocket Launches - Testing</td>\n",
       "    </tr>\n",
       "    <tr>\n",
       "      <th>1</th>\n",
       "      <td>Col. Glenn reported \"hale and hearty\"Picked up...</td>\n",
       "      <td>1962</td>\n",
       "      <td>16.08</td>\n",
       "      <td>Rocket Launches - Testing</td>\n",
       "    </tr>\n",
       "    <tr>\n",
       "      <th>2</th>\n",
       "      <td>The entire three-man crew of the Apollo One sp...</td>\n",
       "      <td>1967</td>\n",
       "      <td>15.76</td>\n",
       "      <td>Rocket Launches - Testing</td>\n",
       "    </tr>\n",
       "    <tr>\n",
       "      <th>3</th>\n",
       "      <td>Russia's celebratory gesture in manned space f...</td>\n",
       "      <td>1967</td>\n",
       "      <td>15.86</td>\n",
       "      <td>ISS - USA and Russian segment</td>\n",
       "    </tr>\n",
       "    <tr>\n",
       "      <th>4</th>\n",
       "      <td>Men are on the moon. At 3 39 a.m. this morning...</td>\n",
       "      <td>1969</td>\n",
       "      <td>15.62</td>\n",
       "      <td>Studying Comets and Meteors</td>\n",
       "    </tr>\n",
       "    <tr>\n",
       "      <th>5</th>\n",
       "      <td>Men are on the moon. At 3:39 am this morning -...</td>\n",
       "      <td>1969</td>\n",
       "      <td>15.66</td>\n",
       "      <td>Studying Comets and Meteors</td>\n",
       "    </tr>\n",
       "    <tr>\n",
       "      <th>6</th>\n",
       "      <td>The three astronauts in the stricken Apollo 13...</td>\n",
       "      <td>1970</td>\n",
       "      <td>15.67</td>\n",
       "      <td>Studying Comets and Meteors</td>\n",
       "    </tr>\n",
       "    <tr>\n",
       "      <th>7</th>\n",
       "      <td>The outlook for manned space flights looks ble...</td>\n",
       "      <td>1971</td>\n",
       "      <td>15.68</td>\n",
       "      <td>ISS - USA and Russian segment</td>\n",
       "    </tr>\n",
       "    <tr>\n",
       "      <th>8</th>\n",
       "      <td>The American space programme has ground to a s...</td>\n",
       "      <td>1986</td>\n",
       "      <td>15.47</td>\n",
       "      <td>Discover of Sub-Atomic particles</td>\n",
       "    </tr>\n",
       "    <tr>\n",
       "      <th>9</th>\n",
       "      <td>Space tragedies either unfold behind the impen...</td>\n",
       "      <td>1986</td>\n",
       "      <td>16.09</td>\n",
       "      <td>Rocket Launches - Moon Landing</td>\n",
       "    </tr>\n",
       "  </tbody>\n",
       "</table>\n",
       "</div>"
      ],
      "text/plain": [
       "                                                text  year  sqdist                most_popular_topic\n",
       "0  The second Russian satellite has demonstrated ...  1957   15.58         Rocket Launches - Testing\n",
       "1  Col. Glenn reported \"hale and hearty\"Picked up...  1962   16.08         Rocket Launches - Testing\n",
       "2  The entire three-man crew of the Apollo One sp...  1967   15.76         Rocket Launches - Testing\n",
       "3  Russia's celebratory gesture in manned space f...  1967   15.86     ISS - USA and Russian segment\n",
       "4  Men are on the moon. At 3 39 a.m. this morning...  1969   15.62       Studying Comets and Meteors\n",
       "5  Men are on the moon. At 3:39 am this morning -...  1969   15.66       Studying Comets and Meteors\n",
       "6  The three astronauts in the stricken Apollo 13...  1970   15.67       Studying Comets and Meteors\n",
       "7  The outlook for manned space flights looks ble...  1971   15.68     ISS - USA and Russian segment\n",
       "8  The American space programme has ground to a s...  1986   15.47  Discover of Sub-Atomic particles\n",
       "9  Space tragedies either unfold behind the impen...  1986   16.09    Rocket Launches - Moon Landing"
      ]
     },
     "metadata": {},
     "output_type": "display_data"
    }
   ],
   "source": [
    "# Get indices of points for each cluster\n",
    "cluster_topic_name_mapper_dict = {\n",
    "    k: np.where(pipe.named_steps[\"kmeans\"].labels_ == k)[0].tolist()\n",
    "    for k in range(pipe.named_steps[\"kmeans\"].n_clusters)\n",
    "}\n",
    "# Replace cluster indices by manually determined names\n",
    "df[\"most_popular_topic\"] = np.nan\n",
    "for k, v in cluster_topic_name_mapper_dict.items():\n",
    "    df.loc[v, \"most_popular_topic\"] = mapping_dict_lsa[publication_name][k]\n",
    "display(df.head(10))"
   ]
  },
  {
   "cell_type": "markdown",
   "metadata": {
    "papermill": {
     "duration": 0.031858,
     "end_time": "2020-07-09T21:31:15.338456",
     "exception": false,
     "start_time": "2020-07-09T21:31:15.306598",
     "status": "completed"
    },
    "tags": []
   },
   "source": [
    "As before, we will show a heatmap of the most popular topic by year"
   ]
  },
  {
   "cell_type": "code",
   "execution_count": 27,
   "metadata": {
    "execution": {
     "iopub.execute_input": "2020-07-09T21:31:15.407427Z",
     "iopub.status.busy": "2020-07-09T21:31:15.406400Z",
     "iopub.status.idle": "2020-07-09T21:31:15.444495Z",
     "shell.execute_reply": "2020-07-09T21:31:15.445130Z"
    },
    "papermill": {
     "duration": 0.074762,
     "end_time": "2020-07-09T21:31:15.445286",
     "exception": false,
     "start_time": "2020-07-09T21:31:15.370524",
     "status": "completed"
    },
    "tags": []
   },
   "outputs": [
    {
     "data": {
      "text/html": [
       "<div>\n",
       "<style scoped>\n",
       "    .dataframe tbody tr th:only-of-type {\n",
       "        vertical-align: middle;\n",
       "    }\n",
       "\n",
       "    .dataframe tbody tr th {\n",
       "        vertical-align: top;\n",
       "    }\n",
       "\n",
       "    .dataframe thead th {\n",
       "        text-align: right;\n",
       "    }\n",
       "</style>\n",
       "<table border=\"1\" class=\"dataframe\">\n",
       "  <thead>\n",
       "    <tr style=\"text-align: right;\">\n",
       "      <th></th>\n",
       "      <th>most_popular_topic</th>\n",
       "      <th>year</th>\n",
       "      <th>count</th>\n",
       "    </tr>\n",
       "  </thead>\n",
       "  <tbody>\n",
       "    <tr>\n",
       "      <th>303</th>\n",
       "      <td>Studying Comets and Meteors</td>\n",
       "      <td>2019</td>\n",
       "      <td>34</td>\n",
       "    </tr>\n",
       "    <tr>\n",
       "      <th>293</th>\n",
       "      <td>Studying Comets and Meteors</td>\n",
       "      <td>2009</td>\n",
       "      <td>19</td>\n",
       "    </tr>\n",
       "    <tr>\n",
       "      <th>302</th>\n",
       "      <td>Studying Comets and Meteors</td>\n",
       "      <td>2018</td>\n",
       "      <td>17</td>\n",
       "    </tr>\n",
       "    <tr>\n",
       "      <th>296</th>\n",
       "      <td>Studying Comets and Meteors</td>\n",
       "      <td>2012</td>\n",
       "      <td>14</td>\n",
       "    </tr>\n",
       "    <tr>\n",
       "      <th>283</th>\n",
       "      <td>Studying Comets and Meteors</td>\n",
       "      <td>1999</td>\n",
       "      <td>14</td>\n",
       "    </tr>\n",
       "  </tbody>\n",
       "</table>\n",
       "</div>"
      ],
      "text/plain": [
       "              most_popular_topic  year  count\n",
       "303  Studying Comets and Meteors  2019     34\n",
       "293  Studying Comets and Meteors  2009     19\n",
       "302  Studying Comets and Meteors  2018     17\n",
       "296  Studying Comets and Meteors  2012     14\n",
       "283  Studying Comets and Meteors  1999     14"
      ]
     },
     "metadata": {},
     "output_type": "display_data"
    }
   ],
   "source": [
    "topics_by_timeframe = (\n",
    "    df.groupby([\"most_popular_topic\", \"year\"])\n",
    "    .size()\n",
    "    .reset_index()\n",
    "    .sort_values(by=[\"most_popular_topic\", 0, \"year\"], ascending=False)\n",
    "    .rename(columns={0: \"count\"})\n",
    ")\n",
    "display(topics_by_timeframe.head())"
   ]
  },
  {
   "cell_type": "code",
   "execution_count": 28,
   "metadata": {
    "execution": {
     "iopub.execute_input": "2020-07-09T21:31:15.518308Z",
     "iopub.status.busy": "2020-07-09T21:31:15.517246Z",
     "iopub.status.idle": "2020-07-09T21:31:15.581214Z",
     "shell.execute_reply": "2020-07-09T21:31:15.580506Z"
    },
    "papermill": {
     "duration": 0.102674,
     "end_time": "2020-07-09T21:31:15.581336",
     "exception": false,
     "start_time": "2020-07-09T21:31:15.478662",
     "status": "completed"
    },
    "tags": []
   },
   "outputs": [
    {
     "data": {
      "text/html": [
       "\n",
       "<div id=\"altair-viz-68b888388d414e12a6f311148e0ddc0a\"></div>\n",
       "<script type=\"text/javascript\">\n",
       "  (function(spec, embedOpt){\n",
       "    let outputDiv = document.currentScript.previousElementSibling;\n",
       "    if (outputDiv.id !== \"altair-viz-68b888388d414e12a6f311148e0ddc0a\") {\n",
       "      outputDiv = document.getElementById(\"altair-viz-68b888388d414e12a6f311148e0ddc0a\");\n",
       "    }\n",
       "    const paths = {\n",
       "      \"vega\": \"https://cdn.jsdelivr.net/npm//vega@5?noext\",\n",
       "      \"vega-lib\": \"https://cdn.jsdelivr.net/npm//vega-lib?noext\",\n",
       "      \"vega-lite\": \"https://cdn.jsdelivr.net/npm//vega-lite@4.8.1?noext\",\n",
       "      \"vega-embed\": \"https://cdn.jsdelivr.net/npm//vega-embed@6?noext\",\n",
       "    };\n",
       "\n",
       "    function loadScript(lib) {\n",
       "      return new Promise(function(resolve, reject) {\n",
       "        var s = document.createElement('script');\n",
       "        s.src = paths[lib];\n",
       "        s.async = true;\n",
       "        s.onload = () => resolve(paths[lib]);\n",
       "        s.onerror = () => reject(`Error loading script: ${paths[lib]}`);\n",
       "        document.getElementsByTagName(\"head\")[0].appendChild(s);\n",
       "      });\n",
       "    }\n",
       "\n",
       "    function showError(err) {\n",
       "      outputDiv.innerHTML = `<div class=\"error\" style=\"color:red;\">${err}</div>`;\n",
       "      throw err;\n",
       "    }\n",
       "\n",
       "    function displayChart(vegaEmbed) {\n",
       "      vegaEmbed(outputDiv, spec, embedOpt)\n",
       "        .catch(err => showError(`Javascript Error: ${err.message}<br>This usually means there's a typo in your chart specification. See the javascript console for the full traceback.`));\n",
       "    }\n",
       "\n",
       "    if(typeof define === \"function\" && define.amd) {\n",
       "      requirejs.config({paths});\n",
       "      require([\"vega-embed\"], displayChart, err => showError(`Error loading script: ${err.message}`));\n",
       "    } else if (typeof vegaEmbed === \"function\") {\n",
       "      displayChart(vegaEmbed);\n",
       "    } else {\n",
       "      loadScript(\"vega\")\n",
       "        .then(() => loadScript(\"vega-lite\"))\n",
       "        .then(() => loadScript(\"vega-embed\"))\n",
       "        .catch(showError)\n",
       "        .then(() => displayChart(vegaEmbed));\n",
       "    }\n",
       "  })({\"config\": {\"view\": {\"continuousWidth\": 400, \"continuousHeight\": 300}}, \"layer\": [{\"mark\": {\"type\": \"rect\", \"fontSize\": 20}, \"encoding\": {\"color\": {\"type\": \"quantitative\", \"field\": \"count\", \"legend\": {\"labelFontSize\": 12, \"offset\": 10, \"orient\": \"right\", \"title\": \"\", \"titleFontSize\": 16}, \"scale\": {\"scheme\": \"yelloworangered\", \"type\": \"log\"}}, \"tooltip\": [{\"type\": \"ordinal\", \"field\": \"year\", \"title\": \"Year\"}, {\"type\": \"nominal\", \"field\": \"most_popular_topic\", \"title\": \"Most popular topic\"}, {\"type\": \"quantitative\", \"field\": \"count\", \"title\": \"Number of occurrences as main topic\"}], \"x\": {\"type\": \"ordinal\", \"axis\": {\"domainColor\": \"black\", \"domainWidth\": 0, \"labelAngle\": 0, \"labelFontSize\": 12, \"tickOpacity\": 0, \"titleFontSize\": 16}, \"field\": \"year\", \"title\": \"Year\"}, \"y\": {\"type\": \"nominal\", \"axis\": {\"domainColor\": \"black\", \"domainWidth\": 0, \"labelFontSize\": 12, \"tickOpacity\": 0, \"titleAlign\": \"left\", \"titleAngle\": 0, \"titleFontSize\": 16, \"titleX\": -10, \"titleY\": -10}, \"field\": \"most_popular_topic\", \"title\": \"Most popular topic\"}}, \"height\": 450, \"width\": 700}], \"data\": {\"name\": \"data-51442219c5c5a42e3cd411834bca425a\"}, \"$schema\": \"https://vega.github.io/schema/vega-lite/v4.8.1.json\", \"datasets\": {\"data-51442219c5c5a42e3cd411834bca425a\": [{\"most_popular_topic\": \"Studying Comets and Meteors\", \"year\": 2019, \"count\": 34}, {\"most_popular_topic\": \"Studying Comets and Meteors\", \"year\": 2009, \"count\": 19}, {\"most_popular_topic\": \"Studying Comets and Meteors\", \"year\": 2018, \"count\": 17}, {\"most_popular_topic\": \"Studying Comets and Meteors\", \"year\": 2012, \"count\": 14}, {\"most_popular_topic\": \"Studying Comets and Meteors\", \"year\": 1999, \"count\": 14}, {\"most_popular_topic\": \"Studying Comets and Meteors\", \"year\": 2017, \"count\": 11}, {\"most_popular_topic\": \"Studying Comets and Meteors\", \"year\": 2015, \"count\": 11}, {\"most_popular_topic\": \"Studying Comets and Meteors\", \"year\": 2006, \"count\": 11}, {\"most_popular_topic\": \"Studying Comets and Meteors\", \"year\": 2007, \"count\": 9}, {\"most_popular_topic\": \"Studying Comets and Meteors\", \"year\": 2004, \"count\": 9}, {\"most_popular_topic\": \"Studying Comets and Meteors\", \"year\": 2014, \"count\": 8}, {\"most_popular_topic\": \"Studying Comets and Meteors\", \"year\": 2003, \"count\": 8}, {\"most_popular_topic\": \"Studying Comets and Meteors\", \"year\": 2008, \"count\": 7}, {\"most_popular_topic\": \"Studying Comets and Meteors\", \"year\": 2016, \"count\": 6}, {\"most_popular_topic\": \"Studying Comets and Meteors\", \"year\": 2013, \"count\": 6}, {\"most_popular_topic\": \"Studying Comets and Meteors\", \"year\": 2010, \"count\": 6}, {\"most_popular_topic\": \"Studying Comets and Meteors\", \"year\": 2005, \"count\": 6}, {\"most_popular_topic\": \"Studying Comets and Meteors\", \"year\": 2011, \"count\": 5}, {\"most_popular_topic\": \"Studying Comets and Meteors\", \"year\": 2001, \"count\": 5}, {\"most_popular_topic\": \"Studying Comets and Meteors\", \"year\": 2002, \"count\": 4}, {\"most_popular_topic\": \"Studying Comets and Meteors\", \"year\": 1969, \"count\": 2}, {\"most_popular_topic\": \"Studying Comets and Meteors\", \"year\": 2000, \"count\": 1}, {\"most_popular_topic\": \"Studying Comets and Meteors\", \"year\": 1970, \"count\": 1}, {\"most_popular_topic\": \"Space Funding Bodies\", \"year\": 2014, \"count\": 24}, {\"most_popular_topic\": \"Space Funding Bodies\", \"year\": 2015, \"count\": 19}, {\"most_popular_topic\": \"Space Funding Bodies\", \"year\": 2016, \"count\": 11}, {\"most_popular_topic\": \"Space Funding Bodies\", \"year\": 2005, \"count\": 8}, {\"most_popular_topic\": \"Space Funding Bodies\", \"year\": 2004, \"count\": 7}, {\"most_popular_topic\": \"Space Funding Bodies\", \"year\": 2006, \"count\": 6}, {\"most_popular_topic\": \"Space Funding Bodies\", \"year\": 2013, \"count\": 5}, {\"most_popular_topic\": \"Space Funding Bodies\", \"year\": 2003, \"count\": 3}, {\"most_popular_topic\": \"Space Funding Bodies\", \"year\": 2019, \"count\": 2}, {\"most_popular_topic\": \"Space Funding Bodies\", \"year\": 2010, \"count\": 2}, {\"most_popular_topic\": \"Space Funding Bodies\", \"year\": 2002, \"count\": 2}, {\"most_popular_topic\": \"Space Funding Bodies\", \"year\": 2001, \"count\": 2}, {\"most_popular_topic\": \"Space Funding Bodies\", \"year\": 2017, \"count\": 1}, {\"most_popular_topic\": \"Space Funding Bodies\", \"year\": 2012, \"count\": 1}, {\"most_popular_topic\": \"Space Funding Bodies\", \"year\": 1999, \"count\": 1}, {\"most_popular_topic\": \"Sky Watching\", \"year\": 2015, \"count\": 34}, {\"most_popular_topic\": \"Sky Watching\", \"year\": 2004, \"count\": 30}, {\"most_popular_topic\": \"Sky Watching\", \"year\": 2017, \"count\": 26}, {\"most_popular_topic\": \"Sky Watching\", \"year\": 2016, \"count\": 24}, {\"most_popular_topic\": \"Sky Watching\", \"year\": 2005, \"count\": 19}, {\"most_popular_topic\": \"Sky Watching\", \"year\": 2006, \"count\": 17}, {\"most_popular_topic\": \"Sky Watching\", \"year\": 2018, \"count\": 16}, {\"most_popular_topic\": \"Sky Watching\", \"year\": 2012, \"count\": 16}, {\"most_popular_topic\": \"Sky Watching\", \"year\": 2011, \"count\": 15}, {\"most_popular_topic\": \"Sky Watching\", \"year\": 2013, \"count\": 12}, {\"most_popular_topic\": \"Sky Watching\", \"year\": 2000, \"count\": 12}, {\"most_popular_topic\": \"Sky Watching\", \"year\": 1999, \"count\": 12}, {\"most_popular_topic\": \"Sky Watching\", \"year\": 2003, \"count\": 11}, {\"most_popular_topic\": \"Sky Watching\", \"year\": 2014, \"count\": 10}, {\"most_popular_topic\": \"Sky Watching\", \"year\": 2007, \"count\": 8}, {\"most_popular_topic\": \"Sky Watching\", \"year\": 2019, \"count\": 7}, {\"most_popular_topic\": \"Sky Watching\", \"year\": 2002, \"count\": 6}, {\"most_popular_topic\": \"Sky Watching\", \"year\": 2010, \"count\": 5}, {\"most_popular_topic\": \"Sky Watching\", \"year\": 2008, \"count\": 5}, {\"most_popular_topic\": \"Sky Watching\", \"year\": 2009, \"count\": 4}, {\"most_popular_topic\": \"Sky Watching\", \"year\": 2001, \"count\": 3}, {\"most_popular_topic\": \"Shuttle Missions and Crashes\", \"year\": 2016, \"count\": 27}, {\"most_popular_topic\": \"Shuttle Missions and Crashes\", \"year\": 2017, \"count\": 18}, {\"most_popular_topic\": \"Shuttle Missions and Crashes\", \"year\": 2014, \"count\": 15}, {\"most_popular_topic\": \"Shuttle Missions and Crashes\", \"year\": 2018, \"count\": 14}, {\"most_popular_topic\": \"Shuttle Missions and Crashes\", \"year\": 2013, \"count\": 14}, {\"most_popular_topic\": \"Shuttle Missions and Crashes\", \"year\": 2015, \"count\": 13}, {\"most_popular_topic\": \"Shuttle Missions and Crashes\", \"year\": 2019, \"count\": 10}, {\"most_popular_topic\": \"Shuttle Missions and Crashes\", \"year\": 2012, \"count\": 10}, {\"most_popular_topic\": \"Shuttle Missions and Crashes\", \"year\": 2008, \"count\": 10}, {\"most_popular_topic\": \"Shuttle Missions and Crashes\", \"year\": 2004, \"count\": 10}, {\"most_popular_topic\": \"Shuttle Missions and Crashes\", \"year\": 2005, \"count\": 9}, {\"most_popular_topic\": \"Shuttle Missions and Crashes\", \"year\": 2011, \"count\": 8}, {\"most_popular_topic\": \"Shuttle Missions and Crashes\", \"year\": 2003, \"count\": 7}, {\"most_popular_topic\": \"Shuttle Missions and Crashes\", \"year\": 2007, \"count\": 5}, {\"most_popular_topic\": \"Shuttle Missions and Crashes\", \"year\": 2009, \"count\": 4}, {\"most_popular_topic\": \"Shuttle Missions and Crashes\", \"year\": 2006, \"count\": 4}, {\"most_popular_topic\": \"Shuttle Missions and Crashes\", \"year\": 2000, \"count\": 4}, {\"most_popular_topic\": \"Shuttle Missions and Crashes\", \"year\": 1999, \"count\": 3}, {\"most_popular_topic\": \"Shuttle Missions and Crashes\", \"year\": 2010, \"count\": 2}, {\"most_popular_topic\": \"Shuttle Missions and Crashes\", \"year\": 2001, \"count\": 2}, {\"most_popular_topic\": \"Rocket Launches - Testing\", \"year\": 2016, \"count\": 44}, {\"most_popular_topic\": \"Rocket Launches - Testing\", \"year\": 2015, \"count\": 39}, {\"most_popular_topic\": \"Rocket Launches - Testing\", \"year\": 2008, \"count\": 35}, {\"most_popular_topic\": \"Rocket Launches - Testing\", \"year\": 2011, \"count\": 31}, {\"most_popular_topic\": \"Rocket Launches - Testing\", \"year\": 2013, \"count\": 30}, {\"most_popular_topic\": \"Rocket Launches - Testing\", \"year\": 2007, \"count\": 29}, {\"most_popular_topic\": \"Rocket Launches - Testing\", \"year\": 2018, \"count\": 28}, {\"most_popular_topic\": \"Rocket Launches - Testing\", \"year\": 2017, \"count\": 26}, {\"most_popular_topic\": \"Rocket Launches - Testing\", \"year\": 2003, \"count\": 26}, {\"most_popular_topic\": \"Rocket Launches - Testing\", \"year\": 2005, \"count\": 24}, {\"most_popular_topic\": \"Rocket Launches - Testing\", \"year\": 2014, \"count\": 23}, {\"most_popular_topic\": \"Rocket Launches - Testing\", \"year\": 2009, \"count\": 23}, {\"most_popular_topic\": \"Rocket Launches - Testing\", \"year\": 2004, \"count\": 21}, {\"most_popular_topic\": \"Rocket Launches - Testing\", \"year\": 2010, \"count\": 18}, {\"most_popular_topic\": \"Rocket Launches - Testing\", \"year\": 1999, \"count\": 18}, {\"most_popular_topic\": \"Rocket Launches - Testing\", \"year\": 2006, \"count\": 17}, {\"most_popular_topic\": \"Rocket Launches - Testing\", \"year\": 2002, \"count\": 17}, {\"most_popular_topic\": \"Rocket Launches - Testing\", \"year\": 2000, \"count\": 17}, {\"most_popular_topic\": \"Rocket Launches - Testing\", \"year\": 2012, \"count\": 16}, {\"most_popular_topic\": \"Rocket Launches - Testing\", \"year\": 2019, \"count\": 13}, {\"most_popular_topic\": \"Rocket Launches - Testing\", \"year\": 2001, \"count\": 9}, {\"most_popular_topic\": \"Rocket Launches - Testing\", \"year\": 1986, \"count\": 1}, {\"most_popular_topic\": \"Rocket Launches - Testing\", \"year\": 1967, \"count\": 1}, {\"most_popular_topic\": \"Rocket Launches - Testing\", \"year\": 1962, \"count\": 1}, {\"most_popular_topic\": \"Rocket Launches - Testing\", \"year\": 1957, \"count\": 1}, {\"most_popular_topic\": \"Rocket Launches - Moon Landing\", \"year\": 2015, \"count\": 101}, {\"most_popular_topic\": \"Rocket Launches - Moon Landing\", \"year\": 2014, \"count\": 96}, {\"most_popular_topic\": \"Rocket Launches - Moon Landing\", \"year\": 2013, \"count\": 95}, {\"most_popular_topic\": \"Rocket Launches - Moon Landing\", \"year\": 2016, \"count\": 83}, {\"most_popular_topic\": \"Rocket Launches - Moon Landing\", \"year\": 2005, \"count\": 79}, {\"most_popular_topic\": \"Rocket Launches - Moon Landing\", \"year\": 2017, \"count\": 66}, {\"most_popular_topic\": \"Rocket Launches - Moon Landing\", \"year\": 2018, \"count\": 64}, {\"most_popular_topic\": \"Rocket Launches - Moon Landing\", \"year\": 2003, \"count\": 60}, {\"most_popular_topic\": \"Rocket Launches - Moon Landing\", \"year\": 2012, \"count\": 55}, {\"most_popular_topic\": \"Rocket Launches - Moon Landing\", \"year\": 2004, \"count\": 54}, {\"most_popular_topic\": \"Rocket Launches - Moon Landing\", \"year\": 2011, \"count\": 51}, {\"most_popular_topic\": \"Rocket Launches - Moon Landing\", \"year\": 2001, \"count\": 47}, {\"most_popular_topic\": \"Rocket Launches - Moon Landing\", \"year\": 2010, \"count\": 45}, {\"most_popular_topic\": \"Rocket Launches - Moon Landing\", \"year\": 2019, \"count\": 42}, {\"most_popular_topic\": \"Rocket Launches - Moon Landing\", \"year\": 2002, \"count\": 42}, {\"most_popular_topic\": \"Rocket Launches - Moon Landing\", \"year\": 2006, \"count\": 41}, {\"most_popular_topic\": \"Rocket Launches - Moon Landing\", \"year\": 2000, \"count\": 41}, {\"most_popular_topic\": \"Rocket Launches - Moon Landing\", \"year\": 2009, \"count\": 38}, {\"most_popular_topic\": \"Rocket Launches - Moon Landing\", \"year\": 1999, \"count\": 37}, {\"most_popular_topic\": \"Rocket Launches - Moon Landing\", \"year\": 2008, \"count\": 35}, {\"most_popular_topic\": \"Rocket Launches - Moon Landing\", \"year\": 2007, \"count\": 26}, {\"most_popular_topic\": \"Rocket Launches - Moon Landing\", \"year\": 1986, \"count\": 1}, {\"most_popular_topic\": \"Planetary Research\", \"year\": 2016, \"count\": 37}, {\"most_popular_topic\": \"Planetary Research\", \"year\": 2013, \"count\": 33}, {\"most_popular_topic\": \"Planetary Research\", \"year\": 2017, \"count\": 29}, {\"most_popular_topic\": \"Planetary Research\", \"year\": 2014, \"count\": 29}, {\"most_popular_topic\": \"Planetary Research\", \"year\": 2012, \"count\": 24}, {\"most_popular_topic\": \"Planetary Research\", \"year\": 2015, \"count\": 23}, {\"most_popular_topic\": \"Planetary Research\", \"year\": 2010, \"count\": 15}, {\"most_popular_topic\": \"Planetary Research\", \"year\": 2005, \"count\": 13}, {\"most_popular_topic\": \"Planetary Research\", \"year\": 2011, \"count\": 11}, {\"most_popular_topic\": \"Planetary Research\", \"year\": 2018, \"count\": 10}, {\"most_popular_topic\": \"Planetary Research\", \"year\": 2004, \"count\": 8}, {\"most_popular_topic\": \"Planetary Research\", \"year\": 2007, \"count\": 6}, {\"most_popular_topic\": \"Planetary Research\", \"year\": 2008, \"count\": 5}, {\"most_popular_topic\": \"Planetary Research\", \"year\": 2003, \"count\": 3}, {\"most_popular_topic\": \"Planetary Research\", \"year\": 2019, \"count\": 2}, {\"most_popular_topic\": \"Planetary Research\", \"year\": 2009, \"count\": 2}, {\"most_popular_topic\": \"Planetary Research\", \"year\": 1999, \"count\": 2}, {\"most_popular_topic\": \"Planetary Research\", \"year\": 2006, \"count\": 1}, {\"most_popular_topic\": \"Objects crashing into Earth\", \"year\": 2016, \"count\": 25}, {\"most_popular_topic\": \"Objects crashing into Earth\", \"year\": 2017, \"count\": 20}, {\"most_popular_topic\": \"Objects crashing into Earth\", \"year\": 2013, \"count\": 19}, {\"most_popular_topic\": \"Objects crashing into Earth\", \"year\": 2015, \"count\": 18}, {\"most_popular_topic\": \"Objects crashing into Earth\", \"year\": 2007, \"count\": 17}, {\"most_popular_topic\": \"Objects crashing into Earth\", \"year\": 2018, \"count\": 15}, {\"most_popular_topic\": \"Objects crashing into Earth\", \"year\": 2014, \"count\": 13}, {\"most_popular_topic\": \"Objects crashing into Earth\", \"year\": 2011, \"count\": 13}, {\"most_popular_topic\": \"Objects crashing into Earth\", \"year\": 2008, \"count\": 12}, {\"most_popular_topic\": \"Objects crashing into Earth\", \"year\": 2005, \"count\": 12}, {\"most_popular_topic\": \"Objects crashing into Earth\", \"year\": 1999, \"count\": 11}, {\"most_popular_topic\": \"Objects crashing into Earth\", \"year\": 2010, \"count\": 9}, {\"most_popular_topic\": \"Objects crashing into Earth\", \"year\": 2004, \"count\": 9}, {\"most_popular_topic\": \"Objects crashing into Earth\", \"year\": 2001, \"count\": 9}, {\"most_popular_topic\": \"Objects crashing into Earth\", \"year\": 2012, \"count\": 8}, {\"most_popular_topic\": \"Objects crashing into Earth\", \"year\": 2009, \"count\": 8}, {\"most_popular_topic\": \"Objects crashing into Earth\", \"year\": 2006, \"count\": 7}, {\"most_popular_topic\": \"Objects crashing into Earth\", \"year\": 2003, \"count\": 7}, {\"most_popular_topic\": \"Objects crashing into Earth\", \"year\": 2000, \"count\": 7}, {\"most_popular_topic\": \"Objects crashing into Earth\", \"year\": 2019, \"count\": 5}, {\"most_popular_topic\": \"Objects crashing into Earth\", \"year\": 2002, \"count\": 2}, {\"most_popular_topic\": \"Mars Exploration\", \"year\": 2015, \"count\": 17}, {\"most_popular_topic\": \"Mars Exploration\", \"year\": 2011, \"count\": 16}, {\"most_popular_topic\": \"Mars Exploration\", \"year\": 2012, \"count\": 14}, {\"most_popular_topic\": \"Mars Exploration\", \"year\": 2008, \"count\": 12}, {\"most_popular_topic\": \"Mars Exploration\", \"year\": 2013, \"count\": 10}, {\"most_popular_topic\": \"Mars Exploration\", \"year\": 2016, \"count\": 7}, {\"most_popular_topic\": \"Mars Exploration\", \"year\": 2010, \"count\": 6}, {\"most_popular_topic\": \"Mars Exploration\", \"year\": 2014, \"count\": 5}, {\"most_popular_topic\": \"Mars Exploration\", \"year\": 2017, \"count\": 4}, {\"most_popular_topic\": \"Mars Exploration\", \"year\": 2006, \"count\": 4}, {\"most_popular_topic\": \"Mars Exploration\", \"year\": 2005, \"count\": 3}, {\"most_popular_topic\": \"Mars Exploration\", \"year\": 2009, \"count\": 2}, {\"most_popular_topic\": \"Mars Exploration\", \"year\": 2007, \"count\": 2}, {\"most_popular_topic\": \"Mars Exploration\", \"year\": 2004, \"count\": 2}, {\"most_popular_topic\": \"Mars Exploration\", \"year\": 2002, \"count\": 2}, {\"most_popular_topic\": \"Mars Exploration\", \"year\": 2001, \"count\": 1}, {\"most_popular_topic\": \"Mars Exploration\", \"year\": 2000, \"count\": 1}, {\"most_popular_topic\": \"Imaging Stars - Astronomy\", \"year\": 2000, \"count\": 15}, {\"most_popular_topic\": \"Imaging Stars - Astronomy\", \"year\": 2013, \"count\": 13}, {\"most_popular_topic\": \"Imaging Stars - Astronomy\", \"year\": 2015, \"count\": 11}, {\"most_popular_topic\": \"Imaging Stars - Astronomy\", \"year\": 2019, \"count\": 10}, {\"most_popular_topic\": \"Imaging Stars - Astronomy\", \"year\": 2016, \"count\": 8}, {\"most_popular_topic\": \"Imaging Stars - Astronomy\", \"year\": 2002, \"count\": 8}, {\"most_popular_topic\": \"Imaging Stars - Astronomy\", \"year\": 2005, \"count\": 7}, {\"most_popular_topic\": \"Imaging Stars - Astronomy\", \"year\": 2001, \"count\": 7}, {\"most_popular_topic\": \"Imaging Stars - Astronomy\", \"year\": 2012, \"count\": 5}, {\"most_popular_topic\": \"Imaging Stars - Astronomy\", \"year\": 2018, \"count\": 4}, {\"most_popular_topic\": \"Imaging Stars - Astronomy\", \"year\": 2017, \"count\": 4}, {\"most_popular_topic\": \"Imaging Stars - Astronomy\", \"year\": 2011, \"count\": 4}, {\"most_popular_topic\": \"Imaging Stars - Astronomy\", \"year\": 1999, \"count\": 4}, {\"most_popular_topic\": \"Imaging Stars - Astronomy\", \"year\": 2008, \"count\": 3}, {\"most_popular_topic\": \"Imaging Stars - Astronomy\", \"year\": 2014, \"count\": 2}, {\"most_popular_topic\": \"Imaging Stars - Astronomy\", \"year\": 2010, \"count\": 2}, {\"most_popular_topic\": \"Imaging Stars - Astronomy\", \"year\": 2007, \"count\": 2}, {\"most_popular_topic\": \"Imaging Stars - Astronomy\", \"year\": 2006, \"count\": 2}, {\"most_popular_topic\": \"Imaging Stars - Astronomy\", \"year\": 2004, \"count\": 2}, {\"most_popular_topic\": \"Imaging Stars - Astronomy\", \"year\": 2003, \"count\": 2}, {\"most_popular_topic\": \"ISS - USA and Russian segment\", \"year\": 2000, \"count\": 38}, {\"most_popular_topic\": \"ISS - USA and Russian segment\", \"year\": 1999, \"count\": 24}, {\"most_popular_topic\": \"ISS - USA and Russian segment\", \"year\": 2001, \"count\": 16}, {\"most_popular_topic\": \"ISS - USA and Russian segment\", \"year\": 2003, \"count\": 13}, {\"most_popular_topic\": \"ISS - USA and Russian segment\", \"year\": 2016, \"count\": 9}, {\"most_popular_topic\": \"ISS - USA and Russian segment\", \"year\": 2015, \"count\": 9}, {\"most_popular_topic\": \"ISS - USA and Russian segment\", \"year\": 2005, \"count\": 5}, {\"most_popular_topic\": \"ISS - USA and Russian segment\", \"year\": 2004, \"count\": 5}, {\"most_popular_topic\": \"ISS - USA and Russian segment\", \"year\": 2009, \"count\": 4}, {\"most_popular_topic\": \"ISS - USA and Russian segment\", \"year\": 2018, \"count\": 3}, {\"most_popular_topic\": \"ISS - USA and Russian segment\", \"year\": 2008, \"count\": 3}, {\"most_popular_topic\": \"ISS - USA and Russian segment\", \"year\": 2017, \"count\": 2}, {\"most_popular_topic\": \"ISS - USA and Russian segment\", \"year\": 2014, \"count\": 2}, {\"most_popular_topic\": \"ISS - USA and Russian segment\", \"year\": 2013, \"count\": 2}, {\"most_popular_topic\": \"ISS - USA and Russian segment\", \"year\": 2012, \"count\": 2}, {\"most_popular_topic\": \"ISS - USA and Russian segment\", \"year\": 2010, \"count\": 2}, {\"most_popular_topic\": \"ISS - USA and Russian segment\", \"year\": 2002, \"count\": 2}, {\"most_popular_topic\": \"ISS - USA and Russian segment\", \"year\": 2011, \"count\": 1}, {\"most_popular_topic\": \"ISS - USA and Russian segment\", \"year\": 2007, \"count\": 1}, {\"most_popular_topic\": \"ISS - USA and Russian segment\", \"year\": 2006, \"count\": 1}, {\"most_popular_topic\": \"ISS - USA and Russian segment\", \"year\": 1971, \"count\": 1}, {\"most_popular_topic\": \"ISS - USA and Russian segment\", \"year\": 1967, \"count\": 1}, {\"most_popular_topic\": \"Gravity and Black Holes - Hawking\", \"year\": 2015, \"count\": 21}, {\"most_popular_topic\": \"Gravity and Black Holes - Hawking\", \"year\": 2004, \"count\": 21}, {\"most_popular_topic\": \"Gravity and Black Holes - Hawking\", \"year\": 2016, \"count\": 20}, {\"most_popular_topic\": \"Gravity and Black Holes - Hawking\", \"year\": 2014, \"count\": 14}, {\"most_popular_topic\": \"Gravity and Black Holes - Hawking\", \"year\": 2018, \"count\": 12}, {\"most_popular_topic\": \"Gravity and Black Holes - Hawking\", \"year\": 2017, \"count\": 11}, {\"most_popular_topic\": \"Gravity and Black Holes - Hawking\", \"year\": 2012, \"count\": 9}, {\"most_popular_topic\": \"Gravity and Black Holes - Hawking\", \"year\": 2019, \"count\": 7}, {\"most_popular_topic\": \"Gravity and Black Holes - Hawking\", \"year\": 2007, \"count\": 6}, {\"most_popular_topic\": \"Gravity and Black Holes - Hawking\", \"year\": 1999, \"count\": 6}, {\"most_popular_topic\": \"Gravity and Black Holes - Hawking\", \"year\": 2013, \"count\": 4}, {\"most_popular_topic\": \"Gravity and Black Holes - Hawking\", \"year\": 2009, \"count\": 3}, {\"most_popular_topic\": \"Gravity and Black Holes - Hawking\", \"year\": 2006, \"count\": 3}, {\"most_popular_topic\": \"Gravity and Black Holes - Hawking\", \"year\": 2011, \"count\": 2}, {\"most_popular_topic\": \"Gravity and Black Holes - Hawking\", \"year\": 2008, \"count\": 2}, {\"most_popular_topic\": \"Gravity and Black Holes - Hawking\", \"year\": 2005, \"count\": 2}, {\"most_popular_topic\": \"Gravity and Black Holes - Hawking\", \"year\": 2003, \"count\": 2}, {\"most_popular_topic\": \"Gravity and Black Holes - Hawking\", \"year\": 2001, \"count\": 2}, {\"most_popular_topic\": \"Gravity and Black Holes - Hawking\", \"year\": 2000, \"count\": 2}, {\"most_popular_topic\": \"Gravity and Black Holes - Hawking\", \"year\": 2010, \"count\": 1}, {\"most_popular_topic\": \"Gravity and Black Holes - Hawking\", \"year\": 2002, \"count\": 1}, {\"most_popular_topic\": \"Discover of Sub-Atomic particles\", \"year\": 2005, \"count\": 43}, {\"most_popular_topic\": \"Discover of Sub-Atomic particles\", \"year\": 2003, \"count\": 29}, {\"most_popular_topic\": \"Discover of Sub-Atomic particles\", \"year\": 2000, \"count\": 29}, {\"most_popular_topic\": \"Discover of Sub-Atomic particles\", \"year\": 1999, \"count\": 26}, {\"most_popular_topic\": \"Discover of Sub-Atomic particles\", \"year\": 2006, \"count\": 24}, {\"most_popular_topic\": \"Discover of Sub-Atomic particles\", \"year\": 2011, \"count\": 22}, {\"most_popular_topic\": \"Discover of Sub-Atomic particles\", \"year\": 2008, \"count\": 10}, {\"most_popular_topic\": \"Discover of Sub-Atomic particles\", \"year\": 2007, \"count\": 9}, {\"most_popular_topic\": \"Discover of Sub-Atomic particles\", \"year\": 2009, \"count\": 7}, {\"most_popular_topic\": \"Discover of Sub-Atomic particles\", \"year\": 2004, \"count\": 5}, {\"most_popular_topic\": \"Discover of Sub-Atomic particles\", \"year\": 2012, \"count\": 4}, {\"most_popular_topic\": \"Discover of Sub-Atomic particles\", \"year\": 2001, \"count\": 4}, {\"most_popular_topic\": \"Discover of Sub-Atomic particles\", \"year\": 2002, \"count\": 3}, {\"most_popular_topic\": \"Discover of Sub-Atomic particles\", \"year\": 1986, \"count\": 3}, {\"most_popular_topic\": \"Discover of Sub-Atomic particles\", \"year\": 2010, \"count\": 2}, {\"most_popular_topic\": \"Discover of Sub-Atomic particles\", \"year\": 2015, \"count\": 1}, {\"most_popular_topic\": \"Discover of Sub-Atomic particles\", \"year\": 2014, \"count\": 1}, {\"most_popular_topic\": \"Discover of Sub-Atomic particles\", \"year\": 1988, \"count\": 1}, {\"most_popular_topic\": \"Academia 2\", \"year\": 2004, \"count\": 34}, {\"most_popular_topic\": \"Academia 2\", \"year\": 2003, \"count\": 33}, {\"most_popular_topic\": \"Academia 2\", \"year\": 2016, \"count\": 22}, {\"most_popular_topic\": \"Academia 2\", \"year\": 1999, \"count\": 22}, {\"most_popular_topic\": \"Academia 2\", \"year\": 2015, \"count\": 20}, {\"most_popular_topic\": \"Academia 2\", \"year\": 2013, \"count\": 20}, {\"most_popular_topic\": \"Academia 2\", \"year\": 2012, \"count\": 17}, {\"most_popular_topic\": \"Academia 2\", \"year\": 2005, \"count\": 17}, {\"most_popular_topic\": \"Academia 2\", \"year\": 2018, \"count\": 15}, {\"most_popular_topic\": \"Academia 2\", \"year\": 2014, \"count\": 15}, {\"most_popular_topic\": \"Academia 2\", \"year\": 2000, \"count\": 14}, {\"most_popular_topic\": \"Academia 2\", \"year\": 2008, \"count\": 13}, {\"most_popular_topic\": \"Academia 2\", \"year\": 2011, \"count\": 8}, {\"most_popular_topic\": \"Academia 2\", \"year\": 2002, \"count\": 8}, {\"most_popular_topic\": \"Academia 2\", \"year\": 2006, \"count\": 7}, {\"most_popular_topic\": \"Academia 2\", \"year\": 2019, \"count\": 6}, {\"most_popular_topic\": \"Academia 2\", \"year\": 2017, \"count\": 6}, {\"most_popular_topic\": \"Academia 2\", \"year\": 2007, \"count\": 6}, {\"most_popular_topic\": \"Academia 2\", \"year\": 2009, \"count\": 5}, {\"most_popular_topic\": \"Academia 2\", \"year\": 2001, \"count\": 5}, {\"most_popular_topic\": \"Academia 1\", \"year\": 2017, \"count\": 14}, {\"most_popular_topic\": \"Academia 1\", \"year\": 2013, \"count\": 12}, {\"most_popular_topic\": \"Academia 1\", \"year\": 2011, \"count\": 11}, {\"most_popular_topic\": \"Academia 1\", \"year\": 2018, \"count\": 10}, {\"most_popular_topic\": \"Academia 1\", \"year\": 2016, \"count\": 10}, {\"most_popular_topic\": \"Academia 1\", \"year\": 2015, \"count\": 8}, {\"most_popular_topic\": \"Academia 1\", \"year\": 2012, \"count\": 5}, {\"most_popular_topic\": \"Academia 1\", \"year\": 2009, \"count\": 5}, {\"most_popular_topic\": \"Academia 1\", \"year\": 2006, \"count\": 5}, {\"most_popular_topic\": \"Academia 1\", \"year\": 2014, \"count\": 4}, {\"most_popular_topic\": \"Academia 1\", \"year\": 2010, \"count\": 4}, {\"most_popular_topic\": \"Academia 1\", \"year\": 2008, \"count\": 4}, {\"most_popular_topic\": \"Academia 1\", \"year\": 2003, \"count\": 4}, {\"most_popular_topic\": \"Academia 1\", \"year\": 2002, \"count\": 4}, {\"most_popular_topic\": \"Academia 1\", \"year\": 2001, \"count\": 4}, {\"most_popular_topic\": \"Academia 1\", \"year\": 2005, \"count\": 3}, {\"most_popular_topic\": \"Academia 1\", \"year\": 2004, \"count\": 3}, {\"most_popular_topic\": \"Academia 1\", \"year\": 2019, \"count\": 2}, {\"most_popular_topic\": \"Academia 1\", \"year\": 2007, \"count\": 2}, {\"most_popular_topic\": \"Academia 1\", \"year\": 1999, \"count\": 2}, {\"most_popular_topic\": \"Academia 1\", \"year\": 2000, \"count\": 1}]}}, {\"mode\": \"vega-lite\"});\n",
       "</script>"
      ],
      "text/plain": [
       "alt.LayerChart(...)"
      ]
     },
     "execution_count": 28,
     "metadata": {},
     "output_type": "execute_result"
    }
   ],
   "source": [
    "altair_datetime_heatmap(\n",
    "    topics_by_timeframe,\n",
    "    x=\"year:O\",\n",
    "    y=\"most_popular_topic:N\",\n",
    "    xtitle=\"Year\",\n",
    "    ytitle=\"Most popular topic\",\n",
    "    tooltip=[\n",
    "        {\"title\": \"Year\", \"field\": \"year\", \"type\": \"ordinal\",},\n",
    "        {\n",
    "            \"title\": \"Most popular topic\",\n",
    "            \"field\": \"most_popular_topic\",\n",
    "            \"type\": \"nominal\",\n",
    "        },\n",
    "        {\n",
    "            \"title\": \"Number of occurrences as main topic\",\n",
    "            \"field\": \"count\",\n",
    "            \"type\": \"quantitative\",\n",
    "        },\n",
    "    ],\n",
    "    cmap=\"yelloworangered\",\n",
    "    legend_title=\"\",\n",
    "    color_by_col=\"count:Q\",\n",
    "    yscale=\"log\",\n",
    "    axis_tick_font_size=12,\n",
    "    axis_title_font_size=16,\n",
    "    title_font_size=20,\n",
    "    legend_fig_padding=10,  # default is 18\n",
    "    y_axis_title_alignment=\"left\",\n",
    "    fwidth=700,\n",
    "    fheight=450,\n",
    "    file_path=os.path.join(PROJ_ROOT_DIR, \"reports\", \"figures\", \"my_heatmap.html\"),\n",
    "    save_to_html=False,\n",
    "    sort_y=[],\n",
    "    sort_x=[],\n",
    ")"
   ]
  },
  {
   "cell_type": "markdown",
   "metadata": {
    "papermill": {
     "duration": 0.033698,
     "end_time": "2020-07-09T21:31:15.648785",
     "exception": false,
     "start_time": "2020-07-09T21:31:15.615087",
     "status": "completed"
    },
    "tags": []
   },
   "source": [
    "Next, we will show a bar chart of the number of occurrences of the `\"Space Funding Bodies\"` as the most popular topic, relative to the year 1980"
   ]
  },
  {
   "cell_type": "code",
   "execution_count": 29,
   "metadata": {
    "execution": {
     "iopub.execute_input": "2020-07-09T21:31:15.719398Z",
     "iopub.status.busy": "2020-07-09T21:31:15.718725Z",
     "iopub.status.idle": "2020-07-09T21:31:15.745481Z",
     "shell.execute_reply": "2020-07-09T21:31:15.744938Z"
    },
    "papermill": {
     "duration": 0.06362,
     "end_time": "2020-07-09T21:31:15.745588",
     "exception": false,
     "start_time": "2020-07-09T21:31:15.681968",
     "status": "completed"
    },
    "tags": []
   },
   "outputs": [],
   "source": [
    "funds = (\n",
    "    topics_by_timeframe[\n",
    "        topics_by_timeframe[\"most_popular_topic\"] == \"Space Funding Bodies\"\n",
    "    ]\n",
    "    .set_index(\"year\")[\"count\"]\n",
    "    .sort_index()\n",
    ")\n",
    "funds / funds.loc[funds.index.min()]\n",
    "funds = funds / funds.loc[funds.index.min()]"
   ]
  },
  {
   "cell_type": "code",
   "execution_count": 30,
   "metadata": {
    "execution": {
     "iopub.execute_input": "2020-07-09T21:31:15.818102Z",
     "iopub.status.busy": "2020-07-09T21:31:15.817121Z",
     "iopub.status.idle": "2020-07-09T21:31:16.155644Z",
     "shell.execute_reply": "2020-07-09T21:31:16.156306Z"
    },
    "papermill": {
     "duration": 0.377265,
     "end_time": "2020-07-09T21:31:16.156444",
     "exception": false,
     "start_time": "2020-07-09T21:31:15.779179",
     "status": "completed"
    },
    "tags": []
   },
   "outputs": [
    {
     "data": {
      "image/png": "[encoded data removed]",
      "text/plain": [
       "<Figure size 1080x360 with 1 Axes>"
      ]
     },
     "metadata": {
      "needs_background": "light"
     },
     "output_type": "display_data"
    }
   ],
   "source": [
    "fig, ax = plt.subplots(figsize=(15, 5))\n",
    "funds.plot(kind=\"bar\", ax=ax, rot=45, align=\"edge\", width=0.8)\n",
    "ax.set_title(\n",
    "    \"Cyclic variation in funding as main topic in article\",\n",
    "    fontsize=18,\n",
    "    fontweight=\"bold\",\n",
    ")\n",
    "ax.set_xlabel(None)\n",
    "h = plt.ylabel(\"Funding\\n(rel. to 1981)\", labelpad=65, fontweight=\"bold\")\n",
    "h.set_rotation(0)"
   ]
  },
  {
   "cell_type": "markdown",
   "metadata": {
    "papermill": {
     "duration": 0.034771,
     "end_time": "2020-07-09T21:31:16.229406",
     "exception": false,
     "start_time": "2020-07-09T21:31:16.194635",
     "status": "completed"
    },
    "tags": []
   },
   "source": [
    "**Observations**\n",
    "1. The chart generally agrees with trends seen in other approaches - peaks in articles published occur in 2005 and a broader peak in news publications under this topic centered around the year 2014. The previously seen peak in 2007 does not appear here.\n",
    "2. Although this topic was deemed present as one of the clusters, it is clear (from the weaker peak intensities and smaller number of years with documents) that this cluster is distinct from the topic found in the NMF/CorEx aproaches from the smaller number of years containing published articles assigned to this topic\n",
    "   - as mentioned earlier, tuning hyperparametes of the TFIDF vectorizer, clustering model and truncated SVD is warranted"
   ]
  },
  {
   "cell_type": "markdown",
   "metadata": {
    "papermill": {
     "duration": 0.034135,
     "end_time": "2020-07-09T21:31:16.297988",
     "exception": false,
     "start_time": "2020-07-09T21:31:16.263853",
     "status": "completed"
    },
    "tags": []
   },
   "source": [
    "<a id=\"conclusions\"></a>\n",
    "\n",
    "## 6. [Conclusions](#conclusions)"
   ]
  },
  {
   "cell_type": "markdown",
   "metadata": {
    "papermill": {
     "duration": 0.034847,
     "end_time": "2020-07-09T21:31:16.367548",
     "exception": false,
     "start_time": "2020-07-09T21:31:16.332701",
     "status": "completed"
    },
    "tags": []
   },
   "source": [
    "**Limitations and Future Work**\n",
    "1. Two out of fifteen topics found using the NLP (NMF) and CorEx approaches are likely being merged here in terms of clusters. The terms in the other topics appear to lie in clusters here that are distinctly separated from eachother. The optimal number of clusters should be investigated in order to explore `KMeans`' performance as a smaller or larger number of clusters are allowed. This could be compared to the pre-determined choice of 15 clusters used here in and also to the NLP approaches in earlier notebooks.\n",
    "2. When compared to the NMF/CorEx approaches, since the only changes were replacement of an NLP step by clustering or LSA+clustering step, this would suggest that hyperparameters of the newly added steps need tuning. This should be pursued in combination with optimizing hyperparameters of each other step in the pipeline - TFIDF vectorization and (optionally) LSA - as their values for clustering analysis may not necessarily be the same as those used in NLP approaches.\n",
    "4. LSA is helpful to facilitate dimensionality reduction of the TFIDF feature matrix, but could require tuning in order to extract clearly separable clusters that match topics found using NLP techniques (NMF/CorEx). This should be explored in combination with the `max_features` input argument of the TFIDF vectorizer."
   ]
  }
 ],
 "metadata": {
  "kernelspec": {
   "display_name": "Python 3",
   "language": "python",
   "name": "python3"
  },
  "language_info": {
   "codemirror_mode": {
    "name": "ipython",
    "version": 3
   },
   "file_extension": ".py",
   "mimetype": "text/x-python",
   "name": "python",
   "nbconvert_exporter": "python",
   "pygments_lexer": "ipython3",
   "version": "3.8.3"
  },
  "papermill": {
   "duration": 92.022202,
   "end_time": "2020-07-09T21:31:16.911400",
   "environment_variables": {},
   "exception": null,
   "input_path": "/home/elstand/Downloads/nlp-space-news-topic-modeling/7_clustering_trials.ipynb",
   "output_path": "/home/elstand/Downloads/nlp-space-news-topic-modeling/executed_notebooks/7_clustering_trials-20200709-172944.ipynb",
   "parameters": {
    "cloud_run": true,
    "data_dir_path": "/home/elstand/Downloads/nlp-space-news-topic-modeling/data/processed/guardian_processed.csv",
    "kmeans_random_state": 42,
    "manual_stop_words": [
     "nt",
     "ll",
     "ve"
    ],
    "mapping_dict": {
     "guardian": {
      "0": "Gravity and Black Holes - Hawking",
      "1": "Shuttle Missions and Crashes",
      "2": "Global Warming",
      "3": "Academia 2",
      "4": "Studying Comets and Meteors",
      "5": "Rocket Launches - Testing",
      "6": "Discover of Sub-Atomic particles",
      "7": "Academia 1",
      "8": "Planetary Research",
      "9": "Imaging Stars - Astronomy",
      "10": "Objects crashing into Earth",
      "11": "Rocket Launches - Moon Landing",
      "12": "Sky Watching",
      "13": "ISS - USA and Russian segment",
      "14": "Mars Exploration"
     }
    },
    "mapping_dict_lsa": {
     "guardian": {
      "0": "Academia 1",
      "1": "Space Funding Bodies",
      "2": "Studying Comets and Meteors",
      "3": "Academia 2",
      "4": "ISS - USA and Russian segment",
      "5": "Shuttle Missions and Crashes",
      "6": "Mars Exploration",
      "7": "Planetary Research",
      "8": "Imaging Stars - Astronomy",
      "9": "Discover of Sub-Atomic particles",
      "10": "Sky Watching",
      "11": "Rocket Launches - Moon Landing",
      "12": "Gravity and Black Holes - Hawking",
      "13": "Rocket Launches - Testing",
      "14": "Objects crashing into Earth"
     }
    },
    "minibatch": false,
    "publication_name": "guardian"
   },
   "start_time": "2020-07-09T21:29:44.889198",
   "version": "2.1.2"
  }
 },
 "nbformat": 4,
 "nbformat_minor": 4
}